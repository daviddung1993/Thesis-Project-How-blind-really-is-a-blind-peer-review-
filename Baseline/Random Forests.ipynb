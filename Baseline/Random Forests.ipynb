{
 "cells": [
  {
   "cell_type": "code",
   "execution_count": 1,
   "metadata": {
    "collapsed": true
   },
   "outputs": [],
   "source": [
    "import numpy as np\n",
    "import sklearn\n",
    "from sklearn.linear_model import LogisticRegression\n",
    "import mysql.connector\n",
    "import pandas as pd\n",
    "from collections import Counter\n",
    "from imblearn.over_sampling import RandomOverSampler\n",
    "#from imblearn.under_sampling import RandomUnderSampler\n",
    "from imblearn.under_sampling import RandomUnderSampler\n",
    "from imblearn.over_sampling import SMOTENC\n",
    "from sklearn.metrics import confusion_matrix\n",
    "import seaborn as sn\n",
    "import matplotlib.pyplot as plt\n",
    "import numpy as np\n",
    "from sklearn.preprocessing import StandardScaler\n",
    "from imblearn.over_sampling import SMOTE\n",
    "from sklearn.ensemble import RandomForestClassifier\n",
    "from scipy.stats import ttest_ind\n",
    "from sklearn.metrics import precision_score, recall_score, roc_auc_score, f1_score,"
   ]
  },
  {
   "cell_type": "code",
   "execution_count": 2,
   "outputs": [],
   "source": [
    "cnx = mysql.connector.connect(user='david', password='daviddung1993',\n",
    "                              host='127.0.0.1',\n",
    "                              database='computervision')\n",
    "cursor = cnx.cursor()\n",
    "headers = {\"x-api-key\": \"M7HSjQNeTfai6l7JUiDZB8XYc85BHnHt3R0NXSEd\"}\n",
    "#pg = ProxyGenerator()"
   ],
   "metadata": {
    "collapsed": false
   }
  },
  {
   "cell_type": "markdown",
   "source": [
    "# Create training dataset"
   ],
   "metadata": {
    "collapsed": false
   }
  },
  {
   "cell_type": "code",
   "execution_count": 20,
   "outputs": [],
   "source": [
    "test_papers = []\n",
    "with open(r'./test_papers.txt', 'r') as fp:\n",
    "    for line in fp:\n",
    "        x = line[:-1]\n",
    "        test_papers.append(x)\n",
    "\n",
    "train_papers = []\n",
    "with open(r'./train_papers.txt', 'r') as fp:\n",
    "    for line in fp:\n",
    "        x = line[:-1]\n",
    "        train_papers.append(x)\n",
    "#in_params_train = ','.join(['%s'] * len(train_papers))"
   ],
   "metadata": {
    "collapsed": false
   }
  },
  {
   "cell_type": "code",
   "execution_count": 21,
   "outputs": [],
   "source": [
    "train_index = len(train_papers)\n",
    "complete_set = train_papers + test_papers\n",
    "in_params = ','.join(['%s'] * len(complete_set))"
   ],
   "metadata": {
    "collapsed": false
   }
  },
  {
   "cell_type": "code",
   "execution_count": 22,
   "outputs": [],
   "source": [
    "cursor.execute(\"select p.PaperID, a.Gender, aff.Country, aff.Name, p.`primary author`, GROUP_CONCAT(a2.Gender), GROUP_CONCAT(aff2.Country), GROUP_CONCAT(aff2.Name), GROUP_CONCAT(p2.`primary author`) from Papers p, Authors a, affiliatedTo af, Affiliations aff, referencedBy b, Papers p2, Authors a2, affiliatedTo af2, Affiliations aff2 where p.PaperID in (%s) and p.`primary author` = a.AuthorID and p.PaperID = b.ReferencedByID and b.ReferenceID = p2.PaperID and p2.`primary author` = a2.AuthorID and a.AuthorID = af.AuthorID and af.affiliatedTo = aff.AffiliationID and a2.AuthorID = af2.AuthorID and af2.affiliatedTo = aff2.AffiliationID  group by p.PaperID, a.Gender, aff.Country, aff.AffiliationID\" % in_params, complete_set)\n",
    "complete_information = pd.DataFrame(cursor.fetchall(), columns=[\"PaperID\", \"Gender\", \"Country\", \"Affiliation\", \"Author\", \"Gender_references\", \"Country_references\", \"Affiliation_references\", \"Author_references\"])\n",
    "cursor.execute(\"select p.PaperID, group_concat(aff.AffiliationID), group_concat(aff.Country), group_concat(a.AuthorID) from Papers p, authoredBy b, Authors a, affiliatedTo af, Affiliations aff where p.PaperID in (%s) and p.PaperID = b.PaperID and b.AuthoredByID = a.AuthorID and a.AuthorID = af.AuthorID and af.affiliatedTo = aff.AffiliationID group by p.PaperID\" % in_params, complete_set)\n",
    "authors_country_affiliation = pd.DataFrame(cursor.fetchall(), columns=[\"PaperID\", \"author_affiliations\", \"author_countries\", \"author_authors\"])\n",
    "#authors_country_affiliation\n",
    "complete_information = pd.merge(authors_country_affiliation, complete_information, on=\"PaperID\")"
   ],
   "metadata": {
    "collapsed": false
   }
  },
  {
   "cell_type": "code",
   "execution_count": 23,
   "outputs": [],
   "source": [
    "train_indexes = complete_information[complete_information[\"PaperID\"].isin(train_papers)].index\n",
    "test_indexes = complete_information[complete_information[\"PaperID\"].isin(test_papers)].index"
   ],
   "metadata": {
    "collapsed": false
   }
  },
  {
   "cell_type": "markdown",
   "source": [
    "# Logistic Regression"
   ],
   "metadata": {
    "collapsed": false
   }
  },
  {
   "cell_type": "markdown",
   "source": [
    "## Gender"
   ],
   "metadata": {
    "collapsed": false
   }
  },
  {
   "cell_type": "code",
   "execution_count": 24,
   "outputs": [],
   "source": [
    "#gender_prediction = pd.DataFrame(columns=[\"target\", \"gender\"])\n",
    "gender_prediction_list = []\n",
    "for idx, information in complete_information.iterrows():\n",
    "    total_gender = information[\"Gender_references\"].split(\",\")\n",
    "    paperID = information[\"PaperID\"]\n",
    "    fem_distribution = np.count_nonzero(np.array(total_gender, dtype=\"int\"))/len(total_gender)\n",
    "    cited_gender = {\"target\": information[\"Gender\"], \"gender\": fem_distribution}\n",
    "    #new_row = pd.DataFrame([list(cited_gender.values())], columns=cited_gender.keys())\n",
    "    #gender_prediction = pd.concat([gender_prediction, new_row], ignore_index=True)\n",
    "    gender_prediction_list.append(cited_gender)\n",
    "gender_prediction = pd.DataFrame(gender_prediction_list)"
   ],
   "metadata": {
    "collapsed": false
   }
  },
  {
   "cell_type": "code",
   "execution_count": 25,
   "outputs": [],
   "source": [
    "target_gender = gender_prediction[\"target\"]\n",
    "input_gender = gender_prediction[\"gender\"]\n",
    "train_targets_gender = target_gender[train_indexes].astype(\"int\")\n",
    "train_inputs_gender = input_gender[train_indexes].to_numpy().reshape(-1,1)\n",
    "test_targets_gender = target_gender[test_indexes].astype(\"int\")\n",
    "test_inputs_gender = input_gender[test_indexes].to_numpy().reshape(-1,1)"
   ],
   "metadata": {
    "collapsed": false
   }
  },
  {
   "cell_type": "code",
   "execution_count": 138,
   "outputs": [],
   "source": [
    "ros_gender = RandomUnderSampler(random_state=42)\n",
    "X_gender_resampled, y_gender_resampled = ros_gender.fit_resample(train_inputs_gender, train_targets_gender)"
   ],
   "metadata": {
    "collapsed": false
   }
  },
  {
   "cell_type": "code",
   "execution_count": 139,
   "outputs": [
    {
     "data": {
      "text/plain": "LogisticRegression()",
      "text/html": "<style>#sk-container-id-32 {color: black;background-color: white;}#sk-container-id-32 pre{padding: 0;}#sk-container-id-32 div.sk-toggleable {background-color: white;}#sk-container-id-32 label.sk-toggleable__label {cursor: pointer;display: block;width: 100%;margin-bottom: 0;padding: 0.3em;box-sizing: border-box;text-align: center;}#sk-container-id-32 label.sk-toggleable__label-arrow:before {content: \"▸\";float: left;margin-right: 0.25em;color: #696969;}#sk-container-id-32 label.sk-toggleable__label-arrow:hover:before {color: black;}#sk-container-id-32 div.sk-estimator:hover label.sk-toggleable__label-arrow:before {color: black;}#sk-container-id-32 div.sk-toggleable__content {max-height: 0;max-width: 0;overflow: hidden;text-align: left;background-color: #f0f8ff;}#sk-container-id-32 div.sk-toggleable__content pre {margin: 0.2em;color: black;border-radius: 0.25em;background-color: #f0f8ff;}#sk-container-id-32 input.sk-toggleable__control:checked~div.sk-toggleable__content {max-height: 200px;max-width: 100%;overflow: auto;}#sk-container-id-32 input.sk-toggleable__control:checked~label.sk-toggleable__label-arrow:before {content: \"▾\";}#sk-container-id-32 div.sk-estimator input.sk-toggleable__control:checked~label.sk-toggleable__label {background-color: #d4ebff;}#sk-container-id-32 div.sk-label input.sk-toggleable__control:checked~label.sk-toggleable__label {background-color: #d4ebff;}#sk-container-id-32 input.sk-hidden--visually {border: 0;clip: rect(1px 1px 1px 1px);clip: rect(1px, 1px, 1px, 1px);height: 1px;margin: -1px;overflow: hidden;padding: 0;position: absolute;width: 1px;}#sk-container-id-32 div.sk-estimator {font-family: monospace;background-color: #f0f8ff;border: 1px dotted black;border-radius: 0.25em;box-sizing: border-box;margin-bottom: 0.5em;}#sk-container-id-32 div.sk-estimator:hover {background-color: #d4ebff;}#sk-container-id-32 div.sk-parallel-item::after {content: \"\";width: 100%;border-bottom: 1px solid gray;flex-grow: 1;}#sk-container-id-32 div.sk-label:hover label.sk-toggleable__label {background-color: #d4ebff;}#sk-container-id-32 div.sk-serial::before {content: \"\";position: absolute;border-left: 1px solid gray;box-sizing: border-box;top: 0;bottom: 0;left: 50%;z-index: 0;}#sk-container-id-32 div.sk-serial {display: flex;flex-direction: column;align-items: center;background-color: white;padding-right: 0.2em;padding-left: 0.2em;position: relative;}#sk-container-id-32 div.sk-item {position: relative;z-index: 1;}#sk-container-id-32 div.sk-parallel {display: flex;align-items: stretch;justify-content: center;background-color: white;position: relative;}#sk-container-id-32 div.sk-item::before, #sk-container-id-32 div.sk-parallel-item::before {content: \"\";position: absolute;border-left: 1px solid gray;box-sizing: border-box;top: 0;bottom: 0;left: 50%;z-index: -1;}#sk-container-id-32 div.sk-parallel-item {display: flex;flex-direction: column;z-index: 1;position: relative;background-color: white;}#sk-container-id-32 div.sk-parallel-item:first-child::after {align-self: flex-end;width: 50%;}#sk-container-id-32 div.sk-parallel-item:last-child::after {align-self: flex-start;width: 50%;}#sk-container-id-32 div.sk-parallel-item:only-child::after {width: 0;}#sk-container-id-32 div.sk-dashed-wrapped {border: 1px dashed gray;margin: 0 0.4em 0.5em 0.4em;box-sizing: border-box;padding-bottom: 0.4em;background-color: white;}#sk-container-id-32 div.sk-label label {font-family: monospace;font-weight: bold;display: inline-block;line-height: 1.2em;}#sk-container-id-32 div.sk-label-container {text-align: center;}#sk-container-id-32 div.sk-container {/* jupyter's `normalize.less` sets `[hidden] { display: none; }` but bootstrap.min.css set `[hidden] { display: none !important; }` so we also need the `!important` here to be able to override the default hidden behavior on the sphinx rendered scikit-learn.org. See: https://github.com/scikit-learn/scikit-learn/issues/21755 */display: inline-block !important;position: relative;}#sk-container-id-32 div.sk-text-repr-fallback {display: none;}</style><div id=\"sk-container-id-32\" class=\"sk-top-container\"><div class=\"sk-text-repr-fallback\"><pre>LogisticRegression()</pre><b>In a Jupyter environment, please rerun this cell to show the HTML representation or trust the notebook. <br />On GitHub, the HTML representation is unable to render, please try loading this page with nbviewer.org.</b></div><div class=\"sk-container\" hidden><div class=\"sk-item\"><div class=\"sk-estimator sk-toggleable\"><input class=\"sk-toggleable__control sk-hidden--visually\" id=\"sk-estimator-id-32\" type=\"checkbox\" checked><label for=\"sk-estimator-id-32\" class=\"sk-toggleable__label sk-toggleable__label-arrow\">LogisticRegression</label><div class=\"sk-toggleable__content\"><pre>LogisticRegression()</pre></div></div></div></div></div>"
     },
     "execution_count": 139,
     "metadata": {},
     "output_type": "execute_result"
    }
   ],
   "source": [
    "lr_gender = LogisticRegression()\n",
    "lr_gender.fit(X_gender_resampled, y_gender_resampled)"
   ],
   "metadata": {
    "collapsed": false
   }
  },
  {
   "cell_type": "code",
   "execution_count": 140,
   "outputs": [
    {
     "data": {
      "text/plain": "RandomForestClassifier()",
      "text/html": "<style>#sk-container-id-33 {color: black;background-color: white;}#sk-container-id-33 pre{padding: 0;}#sk-container-id-33 div.sk-toggleable {background-color: white;}#sk-container-id-33 label.sk-toggleable__label {cursor: pointer;display: block;width: 100%;margin-bottom: 0;padding: 0.3em;box-sizing: border-box;text-align: center;}#sk-container-id-33 label.sk-toggleable__label-arrow:before {content: \"▸\";float: left;margin-right: 0.25em;color: #696969;}#sk-container-id-33 label.sk-toggleable__label-arrow:hover:before {color: black;}#sk-container-id-33 div.sk-estimator:hover label.sk-toggleable__label-arrow:before {color: black;}#sk-container-id-33 div.sk-toggleable__content {max-height: 0;max-width: 0;overflow: hidden;text-align: left;background-color: #f0f8ff;}#sk-container-id-33 div.sk-toggleable__content pre {margin: 0.2em;color: black;border-radius: 0.25em;background-color: #f0f8ff;}#sk-container-id-33 input.sk-toggleable__control:checked~div.sk-toggleable__content {max-height: 200px;max-width: 100%;overflow: auto;}#sk-container-id-33 input.sk-toggleable__control:checked~label.sk-toggleable__label-arrow:before {content: \"▾\";}#sk-container-id-33 div.sk-estimator input.sk-toggleable__control:checked~label.sk-toggleable__label {background-color: #d4ebff;}#sk-container-id-33 div.sk-label input.sk-toggleable__control:checked~label.sk-toggleable__label {background-color: #d4ebff;}#sk-container-id-33 input.sk-hidden--visually {border: 0;clip: rect(1px 1px 1px 1px);clip: rect(1px, 1px, 1px, 1px);height: 1px;margin: -1px;overflow: hidden;padding: 0;position: absolute;width: 1px;}#sk-container-id-33 div.sk-estimator {font-family: monospace;background-color: #f0f8ff;border: 1px dotted black;border-radius: 0.25em;box-sizing: border-box;margin-bottom: 0.5em;}#sk-container-id-33 div.sk-estimator:hover {background-color: #d4ebff;}#sk-container-id-33 div.sk-parallel-item::after {content: \"\";width: 100%;border-bottom: 1px solid gray;flex-grow: 1;}#sk-container-id-33 div.sk-label:hover label.sk-toggleable__label {background-color: #d4ebff;}#sk-container-id-33 div.sk-serial::before {content: \"\";position: absolute;border-left: 1px solid gray;box-sizing: border-box;top: 0;bottom: 0;left: 50%;z-index: 0;}#sk-container-id-33 div.sk-serial {display: flex;flex-direction: column;align-items: center;background-color: white;padding-right: 0.2em;padding-left: 0.2em;position: relative;}#sk-container-id-33 div.sk-item {position: relative;z-index: 1;}#sk-container-id-33 div.sk-parallel {display: flex;align-items: stretch;justify-content: center;background-color: white;position: relative;}#sk-container-id-33 div.sk-item::before, #sk-container-id-33 div.sk-parallel-item::before {content: \"\";position: absolute;border-left: 1px solid gray;box-sizing: border-box;top: 0;bottom: 0;left: 50%;z-index: -1;}#sk-container-id-33 div.sk-parallel-item {display: flex;flex-direction: column;z-index: 1;position: relative;background-color: white;}#sk-container-id-33 div.sk-parallel-item:first-child::after {align-self: flex-end;width: 50%;}#sk-container-id-33 div.sk-parallel-item:last-child::after {align-self: flex-start;width: 50%;}#sk-container-id-33 div.sk-parallel-item:only-child::after {width: 0;}#sk-container-id-33 div.sk-dashed-wrapped {border: 1px dashed gray;margin: 0 0.4em 0.5em 0.4em;box-sizing: border-box;padding-bottom: 0.4em;background-color: white;}#sk-container-id-33 div.sk-label label {font-family: monospace;font-weight: bold;display: inline-block;line-height: 1.2em;}#sk-container-id-33 div.sk-label-container {text-align: center;}#sk-container-id-33 div.sk-container {/* jupyter's `normalize.less` sets `[hidden] { display: none; }` but bootstrap.min.css set `[hidden] { display: none !important; }` so we also need the `!important` here to be able to override the default hidden behavior on the sphinx rendered scikit-learn.org. See: https://github.com/scikit-learn/scikit-learn/issues/21755 */display: inline-block !important;position: relative;}#sk-container-id-33 div.sk-text-repr-fallback {display: none;}</style><div id=\"sk-container-id-33\" class=\"sk-top-container\"><div class=\"sk-text-repr-fallback\"><pre>RandomForestClassifier()</pre><b>In a Jupyter environment, please rerun this cell to show the HTML representation or trust the notebook. <br />On GitHub, the HTML representation is unable to render, please try loading this page with nbviewer.org.</b></div><div class=\"sk-container\" hidden><div class=\"sk-item\"><div class=\"sk-estimator sk-toggleable\"><input class=\"sk-toggleable__control sk-hidden--visually\" id=\"sk-estimator-id-33\" type=\"checkbox\" checked><label for=\"sk-estimator-id-33\" class=\"sk-toggleable__label sk-toggleable__label-arrow\">RandomForestClassifier</label><div class=\"sk-toggleable__content\"><pre>RandomForestClassifier()</pre></div></div></div></div></div>"
     },
     "execution_count": 140,
     "metadata": {},
     "output_type": "execute_result"
    }
   ],
   "source": [
    "rfc_gender = RandomForestClassifier()\n",
    "rfc_gender.fit(train_inputs_gender, train_targets_gender)"
   ],
   "metadata": {
    "collapsed": false
   }
  },
  {
   "cell_type": "code",
   "execution_count": 141,
   "outputs": [],
   "source": [
    "filtered_gender_test_set = pd.concat([input_gender[test_indexes], target_gender[test_indexes]], axis=1)\n",
    "filtered_gender_test_set = filtered_gender_test_set.loc[-((filtered_gender_test_set[\"target\"]==0) & (filtered_gender_test_set[\"gender\"]>0.2))]\n",
    "filtered_input = filtered_gender_test_set[\"gender\"].to_numpy().reshape(-1,1)\n",
    "filtered_target = filtered_gender_test_set[\"target\"].to_numpy().reshape(-1,1)"
   ],
   "metadata": {
    "collapsed": false
   }
  },
  {
   "cell_type": "code",
   "execution_count": 186,
   "outputs": [
    {
     "name": "stderr",
     "output_type": "stream",
     "text": [
      "/home/david/PycharmProjects/bachelor_thesis/venv2/lib/python3.10/site-packages/sklearn/metrics/_classification.py:1344: UndefinedMetricWarning: Precision is ill-defined and being set to 0.0 due to no predicted samples. Use `zero_division` parameter to control this behavior.\n",
      "  _warn_prf(average, modifier, msg_start, len(result))\n"
     ]
    },
    {
     "data": {
      "text/plain": "(0.5795228628230616, 0.8151093439363817, 0.0, 0.0, 0.5, 0.0)"
     },
     "execution_count": 186,
     "metadata": {},
     "output_type": "execute_result"
    }
   ],
   "source": [
    "gender_accuracy_lr = lr_gender.score(test_inputs_gender,test_targets_gender)\n",
    "gender_accuracy_rfc = rfc_gender.score(test_inputs_gender,test_targets_gender)\n",
    "gender_precision = precision_score(rfc_gender.predict(test_inputs_gender), np.zeros(len(test_targets_gender)))\n",
    "gender_recall = recall_score(rfc_gender.predict(test_inputs_gender), np.zeros(len(test_targets_gender)))\n",
    "gender_auc = roc_auc_score(rfc_gender.predict(test_inputs_gender), np.zeros(len(test_targets_gender)))\n",
    "gender_f1 = f1_score(rfc_gender.predict(test_inputs_gender), np.zeros(len(test_targets_gender)))\n",
    "\n",
    "\n",
    "#print(f\"Accuracy: {gender_accuracy}; Precision: {gender_precision}; Recall: {gender_recall}\")\n",
    "gender_accuracy_lr, gender_accuracy_rfc, gender_precision, gender_recall, gender_auc, gender_f1"
   ],
   "metadata": {
    "collapsed": false
   }
  },
  {
   "cell_type": "code",
   "execution_count": 188,
   "outputs": [
    {
     "data": {
      "text/plain": "0.8359840954274353"
     },
     "execution_count": 188,
     "metadata": {},
     "output_type": "execute_result"
    }
   ],
   "source": [
    "1-(np.count_nonzero(test_targets_gender)/len(test_targets_gender))"
   ],
   "metadata": {
    "collapsed": false
   }
  },
  {
   "cell_type": "code",
   "execution_count": 143,
   "outputs": [
    {
     "data": {
      "text/plain": "(array([[2.56750275]]), array([-0.41062565]))"
     },
     "execution_count": 143,
     "metadata": {},
     "output_type": "execute_result"
    }
   ],
   "source": [
    "lr_gender.coef_, lr_gender.intercept_"
   ],
   "metadata": {
    "collapsed": false
   }
  },
  {
   "cell_type": "code",
   "execution_count": 144,
   "outputs": [
    {
     "data": {
      "text/plain": "<Figure size 360x360 with 2 Axes>",
      "image/png": "[encoded data removed]"
     },
     "metadata": {
      "needs_background": "light"
     },
     "output_type": "display_data"
    }
   ],
   "source": [
    "fig, (ax1) = plt.subplots(1, 1, figsize=(5, 5))\n",
    "\n",
    "cm = confusion_matrix(test_targets_gender, lr_gender.predict(test_inputs_gender))\n",
    "sn.heatmap(cm, ax=ax1, annot=True, fmt='g')\n",
    "\n",
    "#ax1.xlabel('Predicted Label')\n",
    "plt.show()"
   ],
   "metadata": {
    "collapsed": false
   }
  },
  {
   "cell_type": "markdown",
   "source": [
    "## Why is the accuracy that low?"
   ],
   "metadata": {
    "collapsed": false
   }
  },
  {
   "cell_type": "code",
   "execution_count": 95,
   "outputs": [],
   "source": [
    "male_distribution = train_inputs_gender[(train_targets_gender == 0)]\n",
    "female_distribution = train_inputs_gender[(train_targets_gender == 1)]\n",
    "male_distribution_test = test_inputs_gender[(test_targets_gender == 0)]\n",
    "female_distribution_test = test_inputs_gender[(test_targets_gender == 1)]"
   ],
   "metadata": {
    "collapsed": false
   }
  },
  {
   "cell_type": "code",
   "execution_count": 96,
   "outputs": [
    {
     "name": "stdout",
     "output_type": "stream",
     "text": [
      "t-statistic: [-6.58947]\n",
      "p-value: [5.414857e-11]\n"
     ]
    }
   ],
   "source": [
    "t_statistic, p_value = ttest_ind(np.array(male_distribution, dtype=\"float32\"), np.array(female_distribution, dtype=\"float32\"), equal_var=True)\n",
    "print(\"t-statistic:\", t_statistic)\n",
    "print(\"p-value:\", p_value)"
   ],
   "metadata": {
    "collapsed": false
   }
  },
  {
   "cell_type": "code",
   "execution_count": 336,
   "outputs": [],
   "source": [
    "#np.mean(male_distribution_test), np.mean(female_distribution_test)"
   ],
   "metadata": {
    "collapsed": false
   }
  },
  {
   "cell_type": "code",
   "execution_count": 105,
   "outputs": [
    {
     "data": {
      "text/plain": "<Figure size 432x288 with 1 Axes>",
      "image/png": "[encoded data removed]"
     },
     "metadata": {
      "needs_background": "light"
     },
     "output_type": "display_data"
    }
   ],
   "source": [
    "plt.Figure(figsize=(20, 10))\n",
    "plt.scatter(male_distribution_test, np.zeros(len(male_distribution_test)))\n",
    "plt.scatter(female_distribution_test, np.ones(len(female_distribution_test)))\n",
    "plt.show()"
   ],
   "metadata": {
    "collapsed": false
   }
  },
  {
   "cell_type": "code",
   "execution_count": 98,
   "outputs": [
    {
     "data": {
      "text/plain": "<Figure size 720x720 with 1 Axes>",
      "image/png": "[encoded data removed]"
     },
     "metadata": {
      "needs_background": "light"
     },
     "output_type": "display_data"
    }
   ],
   "source": [
    "data = [male_distribution_test.flatten(), female_distribution_test.flatten()]\n",
    "fig, ax = plt.subplots(figsize=(10, 10))\n",
    "ax.boxplot(data)\n",
    "ax.set_xticklabels(['Male', 'Female'])\n",
    "plt.show()\n"
   ],
   "metadata": {
    "collapsed": false
   }
  },
  {
   "cell_type": "markdown",
   "source": [
    "## Countries"
   ],
   "metadata": {
    "collapsed": false
   }
  },
  {
   "cell_type": "code",
   "execution_count": 42,
   "outputs": [],
   "source": [
    "all_countries = set()\n",
    "for countries in complete_information[\"Country_references\"]:\n",
    "    all_countries.update(countries.split(\",\"))"
   ],
   "metadata": {
    "collapsed": false
   }
  },
  {
   "cell_type": "code",
   "execution_count": 43,
   "outputs": [],
   "source": [
    "columns = list(all_countries).append(\"target\")\n",
    "country_prediction_list = []\n",
    "for idx, information in complete_information.iterrows():\n",
    "    target = information[\"Country\"]\n",
    "    cited_countries = Counter(information[\"Country_references\"].split(\",\"))\n",
    "    cited_countries[\"target\"] = target\n",
    "    country_prediction_list.append(cited_countries)\n",
    "country_prediction = pd.DataFrame(country_prediction_list)\n",
    "country_prediction = country_prediction.fillna(0)"
   ],
   "metadata": {
    "collapsed": false
   }
  },
  {
   "cell_type": "code",
   "execution_count": 44,
   "outputs": [],
   "source": [
    "target_countries = country_prediction[\"target\"]\n",
    "input_countries = country_prediction.drop([\"target\"], axis=1)\n",
    "input_countries = input_countries.div(input_countries.sum(axis=1), axis=0)"
   ],
   "metadata": {
    "collapsed": false
   }
  },
  {
   "cell_type": "code",
   "execution_count": 45,
   "outputs": [],
   "source": [
    "train_targets = target_countries[train_indexes]\n",
    "train_inputs = input_countries.loc[train_indexes]\n",
    "test_targets = target_countries[test_indexes]\n",
    "test_inputs = input_countries.loc[test_indexes]"
   ],
   "metadata": {
    "collapsed": false
   }
  },
  {
   "cell_type": "code",
   "execution_count": 46,
   "outputs": [],
   "source": [
    "most_represented_countries = [x[0] for x in list(filter(lambda x: x[1] >= 0, dict(Counter(list(train_targets))).items()))]\n",
    "\n",
    "country_target_train_indexes = train_targets[train_targets.isin(most_represented_countries)].index\n",
    "train_targets = train_targets[country_target_train_indexes]\n",
    "train_inputs = train_inputs.loc[country_target_train_indexes]\n",
    "\n",
    "country_target_test_indexes = test_targets[test_targets.isin(most_represented_countries)].index\n",
    "test_targets = test_targets[country_target_test_indexes]\n",
    "test_inputs = test_inputs.loc[country_target_test_indexes]\n"
   ],
   "metadata": {
    "collapsed": false
   }
  },
  {
   "cell_type": "code",
   "execution_count": 47,
   "outputs": [
    {
     "data": {
      "text/plain": "dict_items([('United States', 547), ('Australia', 97), ('Germany', 123), ('Japan', 60), ('Italy', 51), ('South Korea', 82), ('India', 35), ('Romania', 5), ('China', 690), ('Macao', 7), ('Hong Kong', 161), ('Singapore', 69), ('United Kingdom', 105), ('Switzerland', 77), ('Moldova', 2), ('Czechia', 10), ('Spain', 15), ('Turkey', 13), ('Austria', 15), ('Finland', 17), ('Taiwan', 23), ('Netherlands', 11), ('France', 51), ('Canada', 43), ('Portugal', 3), ('United Arab Emirates', 2), ('Denmark', 4), ('Saudi Arabia', 8), ('Russia', 9), ('Brazil', 7), ('Morocco', 3), ('Sweden', 7), ('Vietnam', 2), ('Slovenia', 7), ('Iran', 4), ('Bangladesh', 2), ('Iraq', 2), ('New Zealand', 2), ('Greece', 2), ('Norway', 3), ('Israel', 4), ('Sri Lanka', 2), ('Chile', 3)])"
     },
     "execution_count": 47,
     "metadata": {},
     "output_type": "execute_result"
    }
   ],
   "source": [
    "dict(Counter(list(train_targets))).items()"
   ],
   "metadata": {
    "collapsed": false
   }
  },
  {
   "cell_type": "code",
   "execution_count": 48,
   "outputs": [],
   "source": [
    "undersample_set_countries = {x[0]: 50 for x in list(filter(lambda x: x[1] > 50, dict(Counter(list(train_targets))).items()))}"
   ],
   "metadata": {
    "collapsed": false
   }
  },
  {
   "cell_type": "code",
   "execution_count": 49,
   "outputs": [],
   "source": [
    "#ros = RandomUnderSampler(sampling_strategy=undersample_set_countries)\n",
    "#X_resampled, y_resampled = ros.fit_resample(train_inputs, train_targets)\n",
    "\n",
    "ros = SMOTE(random_state=42, k_neighbors=1)\n",
    "X_resampled, y_resampled = ros.fit_resample(train_inputs, train_targets)"
   ],
   "metadata": {
    "collapsed": false
   }
  },
  {
   "cell_type": "code",
   "execution_count": 263,
   "outputs": [
    {
     "data": {
      "text/plain": "LogisticRegression(max_iter=1000)",
      "text/html": "<style>#sk-container-id-47 {color: black;background-color: white;}#sk-container-id-47 pre{padding: 0;}#sk-container-id-47 div.sk-toggleable {background-color: white;}#sk-container-id-47 label.sk-toggleable__label {cursor: pointer;display: block;width: 100%;margin-bottom: 0;padding: 0.3em;box-sizing: border-box;text-align: center;}#sk-container-id-47 label.sk-toggleable__label-arrow:before {content: \"▸\";float: left;margin-right: 0.25em;color: #696969;}#sk-container-id-47 label.sk-toggleable__label-arrow:hover:before {color: black;}#sk-container-id-47 div.sk-estimator:hover label.sk-toggleable__label-arrow:before {color: black;}#sk-container-id-47 div.sk-toggleable__content {max-height: 0;max-width: 0;overflow: hidden;text-align: left;background-color: #f0f8ff;}#sk-container-id-47 div.sk-toggleable__content pre {margin: 0.2em;color: black;border-radius: 0.25em;background-color: #f0f8ff;}#sk-container-id-47 input.sk-toggleable__control:checked~div.sk-toggleable__content {max-height: 200px;max-width: 100%;overflow: auto;}#sk-container-id-47 input.sk-toggleable__control:checked~label.sk-toggleable__label-arrow:before {content: \"▾\";}#sk-container-id-47 div.sk-estimator input.sk-toggleable__control:checked~label.sk-toggleable__label {background-color: #d4ebff;}#sk-container-id-47 div.sk-label input.sk-toggleable__control:checked~label.sk-toggleable__label {background-color: #d4ebff;}#sk-container-id-47 input.sk-hidden--visually {border: 0;clip: rect(1px 1px 1px 1px);clip: rect(1px, 1px, 1px, 1px);height: 1px;margin: -1px;overflow: hidden;padding: 0;position: absolute;width: 1px;}#sk-container-id-47 div.sk-estimator {font-family: monospace;background-color: #f0f8ff;border: 1px dotted black;border-radius: 0.25em;box-sizing: border-box;margin-bottom: 0.5em;}#sk-container-id-47 div.sk-estimator:hover {background-color: #d4ebff;}#sk-container-id-47 div.sk-parallel-item::after {content: \"\";width: 100%;border-bottom: 1px solid gray;flex-grow: 1;}#sk-container-id-47 div.sk-label:hover label.sk-toggleable__label {background-color: #d4ebff;}#sk-container-id-47 div.sk-serial::before {content: \"\";position: absolute;border-left: 1px solid gray;box-sizing: border-box;top: 0;bottom: 0;left: 50%;z-index: 0;}#sk-container-id-47 div.sk-serial {display: flex;flex-direction: column;align-items: center;background-color: white;padding-right: 0.2em;padding-left: 0.2em;position: relative;}#sk-container-id-47 div.sk-item {position: relative;z-index: 1;}#sk-container-id-47 div.sk-parallel {display: flex;align-items: stretch;justify-content: center;background-color: white;position: relative;}#sk-container-id-47 div.sk-item::before, #sk-container-id-47 div.sk-parallel-item::before {content: \"\";position: absolute;border-left: 1px solid gray;box-sizing: border-box;top: 0;bottom: 0;left: 50%;z-index: -1;}#sk-container-id-47 div.sk-parallel-item {display: flex;flex-direction: column;z-index: 1;position: relative;background-color: white;}#sk-container-id-47 div.sk-parallel-item:first-child::after {align-self: flex-end;width: 50%;}#sk-container-id-47 div.sk-parallel-item:last-child::after {align-self: flex-start;width: 50%;}#sk-container-id-47 div.sk-parallel-item:only-child::after {width: 0;}#sk-container-id-47 div.sk-dashed-wrapped {border: 1px dashed gray;margin: 0 0.4em 0.5em 0.4em;box-sizing: border-box;padding-bottom: 0.4em;background-color: white;}#sk-container-id-47 div.sk-label label {font-family: monospace;font-weight: bold;display: inline-block;line-height: 1.2em;}#sk-container-id-47 div.sk-label-container {text-align: center;}#sk-container-id-47 div.sk-container {/* jupyter's `normalize.less` sets `[hidden] { display: none; }` but bootstrap.min.css set `[hidden] { display: none !important; }` so we also need the `!important` here to be able to override the default hidden behavior on the sphinx rendered scikit-learn.org. See: https://github.com/scikit-learn/scikit-learn/issues/21755 */display: inline-block !important;position: relative;}#sk-container-id-47 div.sk-text-repr-fallback {display: none;}</style><div id=\"sk-container-id-47\" class=\"sk-top-container\"><div class=\"sk-text-repr-fallback\"><pre>LogisticRegression(max_iter=1000)</pre><b>In a Jupyter environment, please rerun this cell to show the HTML representation or trust the notebook. <br />On GitHub, the HTML representation is unable to render, please try loading this page with nbviewer.org.</b></div><div class=\"sk-container\" hidden><div class=\"sk-item\"><div class=\"sk-estimator sk-toggleable\"><input class=\"sk-toggleable__control sk-hidden--visually\" id=\"sk-estimator-id-47\" type=\"checkbox\" checked><label for=\"sk-estimator-id-47\" class=\"sk-toggleable__label sk-toggleable__label-arrow\">LogisticRegression</label><div class=\"sk-toggleable__content\"><pre>LogisticRegression(max_iter=1000)</pre></div></div></div></div></div>"
     },
     "execution_count": 263,
     "metadata": {},
     "output_type": "execute_result"
    }
   ],
   "source": [
    "lr = LogisticRegression(max_iter=1000)\n",
    "lr.fit(train_inputs, train_targets)\n",
    "lr_resampled = LogisticRegression(max_iter=1000)\n",
    "lr_resampled.fit(X_resampled, y_resampled)"
   ],
   "metadata": {
    "collapsed": false
   }
  },
  {
   "cell_type": "code",
   "execution_count": 50,
   "outputs": [
    {
     "data": {
      "text/plain": "RandomForestClassifier(random_state=42)",
      "text/html": "<style>#sk-container-id-1 {color: black;background-color: white;}#sk-container-id-1 pre{padding: 0;}#sk-container-id-1 div.sk-toggleable {background-color: white;}#sk-container-id-1 label.sk-toggleable__label {cursor: pointer;display: block;width: 100%;margin-bottom: 0;padding: 0.3em;box-sizing: border-box;text-align: center;}#sk-container-id-1 label.sk-toggleable__label-arrow:before {content: \"▸\";float: left;margin-right: 0.25em;color: #696969;}#sk-container-id-1 label.sk-toggleable__label-arrow:hover:before {color: black;}#sk-container-id-1 div.sk-estimator:hover label.sk-toggleable__label-arrow:before {color: black;}#sk-container-id-1 div.sk-toggleable__content {max-height: 0;max-width: 0;overflow: hidden;text-align: left;background-color: #f0f8ff;}#sk-container-id-1 div.sk-toggleable__content pre {margin: 0.2em;color: black;border-radius: 0.25em;background-color: #f0f8ff;}#sk-container-id-1 input.sk-toggleable__control:checked~div.sk-toggleable__content {max-height: 200px;max-width: 100%;overflow: auto;}#sk-container-id-1 input.sk-toggleable__control:checked~label.sk-toggleable__label-arrow:before {content: \"▾\";}#sk-container-id-1 div.sk-estimator input.sk-toggleable__control:checked~label.sk-toggleable__label {background-color: #d4ebff;}#sk-container-id-1 div.sk-label input.sk-toggleable__control:checked~label.sk-toggleable__label {background-color: #d4ebff;}#sk-container-id-1 input.sk-hidden--visually {border: 0;clip: rect(1px 1px 1px 1px);clip: rect(1px, 1px, 1px, 1px);height: 1px;margin: -1px;overflow: hidden;padding: 0;position: absolute;width: 1px;}#sk-container-id-1 div.sk-estimator {font-family: monospace;background-color: #f0f8ff;border: 1px dotted black;border-radius: 0.25em;box-sizing: border-box;margin-bottom: 0.5em;}#sk-container-id-1 div.sk-estimator:hover {background-color: #d4ebff;}#sk-container-id-1 div.sk-parallel-item::after {content: \"\";width: 100%;border-bottom: 1px solid gray;flex-grow: 1;}#sk-container-id-1 div.sk-label:hover label.sk-toggleable__label {background-color: #d4ebff;}#sk-container-id-1 div.sk-serial::before {content: \"\";position: absolute;border-left: 1px solid gray;box-sizing: border-box;top: 0;bottom: 0;left: 50%;z-index: 0;}#sk-container-id-1 div.sk-serial {display: flex;flex-direction: column;align-items: center;background-color: white;padding-right: 0.2em;padding-left: 0.2em;position: relative;}#sk-container-id-1 div.sk-item {position: relative;z-index: 1;}#sk-container-id-1 div.sk-parallel {display: flex;align-items: stretch;justify-content: center;background-color: white;position: relative;}#sk-container-id-1 div.sk-item::before, #sk-container-id-1 div.sk-parallel-item::before {content: \"\";position: absolute;border-left: 1px solid gray;box-sizing: border-box;top: 0;bottom: 0;left: 50%;z-index: -1;}#sk-container-id-1 div.sk-parallel-item {display: flex;flex-direction: column;z-index: 1;position: relative;background-color: white;}#sk-container-id-1 div.sk-parallel-item:first-child::after {align-self: flex-end;width: 50%;}#sk-container-id-1 div.sk-parallel-item:last-child::after {align-self: flex-start;width: 50%;}#sk-container-id-1 div.sk-parallel-item:only-child::after {width: 0;}#sk-container-id-1 div.sk-dashed-wrapped {border: 1px dashed gray;margin: 0 0.4em 0.5em 0.4em;box-sizing: border-box;padding-bottom: 0.4em;background-color: white;}#sk-container-id-1 div.sk-label label {font-family: monospace;font-weight: bold;display: inline-block;line-height: 1.2em;}#sk-container-id-1 div.sk-label-container {text-align: center;}#sk-container-id-1 div.sk-container {/* jupyter's `normalize.less` sets `[hidden] { display: none; }` but bootstrap.min.css set `[hidden] { display: none !important; }` so we also need the `!important` here to be able to override the default hidden behavior on the sphinx rendered scikit-learn.org. See: https://github.com/scikit-learn/scikit-learn/issues/21755 */display: inline-block !important;position: relative;}#sk-container-id-1 div.sk-text-repr-fallback {display: none;}</style><div id=\"sk-container-id-1\" class=\"sk-top-container\"><div class=\"sk-text-repr-fallback\"><pre>RandomForestClassifier(random_state=42)</pre><b>In a Jupyter environment, please rerun this cell to show the HTML representation or trust the notebook. <br />On GitHub, the HTML representation is unable to render, please try loading this page with nbviewer.org.</b></div><div class=\"sk-container\" hidden><div class=\"sk-item\"><div class=\"sk-estimator sk-toggleable\"><input class=\"sk-toggleable__control sk-hidden--visually\" id=\"sk-estimator-id-1\" type=\"checkbox\" checked><label for=\"sk-estimator-id-1\" class=\"sk-toggleable__label sk-toggleable__label-arrow\">RandomForestClassifier</label><div class=\"sk-toggleable__content\"><pre>RandomForestClassifier(random_state=42)</pre></div></div></div></div></div>"
     },
     "execution_count": 50,
     "metadata": {},
     "output_type": "execute_result"
    }
   ],
   "source": [
    "rfc_country_resampled = RandomForestClassifier(random_state=42)\n",
    "rfc_country_resampled.fit(X_resampled, y_resampled)\n",
    "rfc_country = RandomForestClassifier(random_state=42)\n",
    "rfc_country.fit(train_inputs, train_targets)"
   ],
   "metadata": {
    "collapsed": false
   }
  },
  {
   "cell_type": "code",
   "execution_count": 265,
   "outputs": [
    {
     "data": {
      "text/plain": "'\\ntotal = 0\\nhit = 0\\nmulti_target =complete_information.loc[test_indexes][\"author_countries\"]\\nfor idx, prediction in enumerate(lr_resampled.predict(test_inputs)):\\n    print(multi_target.iloc[idx])\\n    if prediction in multi_target[\"author_countries\"].iloc[idx].split(\",\"):\\n        hit += 1\\n    total += 1\\n'"
     },
     "execution_count": 265,
     "metadata": {},
     "output_type": "execute_result"
    }
   ],
   "source": [
    "\"\"\"\n",
    "total = 0\n",
    "hit = 0\n",
    "multi_target =complete_information.loc[test_indexes][\"author_countries\"]\n",
    "for idx, prediction in enumerate(lr_resampled.predict(test_inputs)):\n",
    "    print(multi_target.iloc[idx])\n",
    "    if prediction in multi_target[\"author_countries\"].iloc[idx].split(\",\"):\n",
    "        hit += 1\n",
    "    total += 1\n",
    "\"\"\""
   ],
   "metadata": {
    "collapsed": false
   }
  },
  {
   "cell_type": "code",
   "execution_count": 52,
   "outputs": [
    {
     "data": {
      "text/plain": "(0.43737574552683894, 0.44930417495029823)"
     },
     "execution_count": 52,
     "metadata": {},
     "output_type": "execute_result"
    }
   ],
   "source": [
    "#lr.score(test_inputs, test_targets),\n",
    "rfc_country_resampled.score(test_inputs, test_targets), rfc_country.score(test_inputs, test_targets)"
   ],
   "metadata": {
    "collapsed": false
   }
  },
  {
   "cell_type": "code",
   "execution_count": 54,
   "outputs": [
    {
     "name": "stderr",
     "output_type": "stream",
     "text": [
      "/home/david/PycharmProjects/bachelor_thesis/venv2/lib/python3.10/site-packages/sklearn/metrics/_classification.py:1344: UndefinedMetricWarning: Recall is ill-defined and being set to 0.0 in labels with no true samples. Use `zero_division` parameter to control this behavior.\n",
      "  _warn_prf(average, modifier, msg_start, len(result))\n"
     ]
    },
    {
     "data": {
      "text/plain": "(0.24284761212382672, 0.3485508450355169, 0.25908376883394196)"
     },
     "execution_count": 54,
     "metadata": {},
     "output_type": "execute_result"
    }
   ],
   "source": [
    "precision_country = precision_score(rfc_country_resampled.predict(test_inputs), test_targets, average=\"macro\")\n",
    "recall_country = recall_score(rfc_country_resampled.predict(test_inputs), test_targets, average=\"macro\")\n",
    "f1_country = f1_score(rfc_country_resampled.predict(test_inputs), test_targets, average=\"macro\")\n",
    "#auc_country = roc_auc_score(rfc_country.predict(test_inputs), test_targets)\n",
    "precision_country, recall_country, f1_country"
   ],
   "metadata": {
    "collapsed": false
   }
  },
  {
   "cell_type": "code",
   "execution_count": 245,
   "outputs": [
    {
     "data": {
      "text/plain": "2       United States\n6               China\n15              China\n16              China\n18          Hong Kong\n            ...      \n3378            China\n3381        Hong Kong\n3382    United States\n3386    United States\n3387            China\nName: target, Length: 891, dtype: object"
     },
     "execution_count": 245,
     "metadata": {},
     "output_type": "execute_result"
    }
   ],
   "source": [
    "test_targets"
   ],
   "metadata": {
    "collapsed": false
   }
  },
  {
   "cell_type": "code",
   "execution_count": 180,
   "outputs": [
    {
     "data": {
      "text/plain": "<Figure size 1080x360 with 4 Axes>",
      "image/png": "[encoded data removed]"
     },
     "metadata": {
      "needs_background": "light"
     },
     "output_type": "display_data"
    }
   ],
   "source": [
    "fig, (ax1, ax2) = plt.subplots(1, 2, figsize=(15, 5))\n",
    "\n",
    "cm = confusion_matrix(test_targets, rfc_country.predict(test_inputs), labels=most_represented_countries)\n",
    "sn.heatmap(cm, ax=ax1)\n",
    "\n",
    "cm = confusion_matrix(test_targets, rfc_country_resampled.predict(test_inputs), labels=most_represented_countries)\n",
    "sn.heatmap(cm, ax=ax2)\n",
    "\n",
    "#ax1.xlabel('Predicted Label')\n",
    "plt.show()"
   ],
   "metadata": {
    "collapsed": false
   }
  },
  {
   "cell_type": "markdown",
   "source": [
    "## Affiliation"
   ],
   "metadata": {
    "collapsed": false
   }
  },
  {
   "cell_type": "markdown",
   "source": [],
   "metadata": {
    "collapsed": false
   }
  },
  {
   "cell_type": "code",
   "execution_count": 36,
   "outputs": [],
   "source": [
    "all_affiliations = set()\n",
    "for affiliations in complete_information[\"Affiliation_references\"]:\n",
    "    all_affiliations.update(affiliations.split(\",\"))"
   ],
   "metadata": {
    "collapsed": false
   }
  },
  {
   "cell_type": "code",
   "execution_count": 37,
   "outputs": [],
   "source": [
    "columns = list(all_affiliations).append(\"target\")\n",
    "affiliation_prediction_list = []\n",
    "for idx, information in complete_information.iterrows():\n",
    "    target = information[\"Affiliation\"]\n",
    "    cited_affiliations = Counter(information[\"Affiliation_references\"].split(\",\"))\n",
    "    cited_affiliations[\"target\"] = target\n",
    "    affiliation_prediction_list.append(cited_affiliations)\n",
    "affiliation_prediction = pd.DataFrame(affiliation_prediction_list)\n",
    "affiliation_prediction = affiliation_prediction.fillna(0)"
   ],
   "metadata": {
    "collapsed": false
   }
  },
  {
   "cell_type": "code",
   "execution_count": 270,
   "outputs": [],
   "source": [
    "#most_represented_affiliations = [x[0] for x in list(filter(lambda x: x[1] >= 5, dict(Counter(list(affiliation_prediction[\"target\"]))).items()))]\n",
    "#affiliation_prediction = affiliation_prediction[affiliation_prediction[\"target\"].isin(most_represented_affiliations)]\n",
    "target_affiliations = affiliation_prediction[\"target\"]\n",
    "input_affiliations = affiliation_prediction.drop([\"target\"], axis=1)\n",
    "input_affiliations = input_affiliations.div(input_affiliations.sum(axis=1), axis=0)"
   ],
   "metadata": {
    "collapsed": false
   }
  },
  {
   "cell_type": "code",
   "execution_count": 300,
   "outputs": [],
   "source": [
    "train_targets_aff = target_affiliations[train_indexes]\n",
    "train_inputs_aff = input_affiliations.iloc[train_indexes]\n",
    "test_targets_aff = target_affiliations[test_indexes]\n",
    "test_inputs_aff = input_affiliations.iloc[test_indexes]\n",
    "len_train_targets_aff = len(train_targets_aff)"
   ],
   "metadata": {
    "collapsed": false
   }
  },
  {
   "cell_type": "code",
   "execution_count": 303,
   "outputs": [],
   "source": [
    "most_represented_affiliations = [x[0] for x in list(filter(lambda x: x[1] >= 3, dict(Counter(list(train_targets_aff))).items()))]\n",
    "\n",
    "affiliation_target_train_indexes = train_targets_aff[train_targets_aff.isin(most_represented_affiliations)].index\n",
    "train_targets_aff = train_targets_aff[affiliation_target_train_indexes]\n",
    "train_inputs_aff = train_inputs_aff.loc[affiliation_target_train_indexes]\n",
    "\n",
    "affiliation_target_test_indexes = test_targets_aff[test_targets_aff.isin(most_represented_affiliations)].index\n",
    "test_targets_aff = test_targets_aff[affiliation_target_test_indexes]\n",
    "test_inputs_aff = test_inputs_aff.loc[affiliation_target_test_indexes]"
   ],
   "metadata": {
    "collapsed": false
   }
  },
  {
   "cell_type": "code",
   "execution_count": 304,
   "outputs": [
    {
     "data": {
      "text/plain": "0.9060796645702306"
     },
     "execution_count": 304,
     "metadata": {},
     "output_type": "execute_result"
    }
   ],
   "source": [
    "len(train_targets_aff)/len_train_targets_aff"
   ],
   "metadata": {
    "collapsed": false
   }
  },
  {
   "cell_type": "code",
   "execution_count": 305,
   "outputs": [],
   "source": [
    "ros = SMOTE(random_state=42, k_neighbors=1)\n",
    "#ros = RandomOverSampler(random_state=42)\n",
    "train_inputs_aff_resampled, train_targets_aff_resampled = ros.fit_resample(train_inputs_aff, train_targets_aff)"
   ],
   "metadata": {
    "collapsed": false
   }
  },
  {
   "cell_type": "code",
   "execution_count": 274,
   "outputs": [
    {
     "data": {
      "text/plain": "0.1908548707753479"
     },
     "execution_count": 274,
     "metadata": {},
     "output_type": "execute_result"
    }
   ],
   "source": [
    "aff_lr_resampled = LogisticRegression(max_iter=1000)\n",
    "aff_lr_resampled.fit(train_inputs_aff_resampled, train_targets_aff_resampled)\n",
    "aff_lr_resampled.score(test_inputs_aff, test_targets_aff)"
   ],
   "metadata": {
    "collapsed": false
   }
  },
  {
   "cell_type": "code",
   "execution_count": 306,
   "outputs": [
    {
     "data": {
      "text/plain": "0.32947976878612717"
     },
     "execution_count": 306,
     "metadata": {},
     "output_type": "execute_result"
    }
   ],
   "source": [
    "rfc_aff = RandomForestClassifier(random_state=42)\n",
    "rfc_aff.fit(train_inputs_aff_resampled, train_targets_aff_resampled)\n",
    "rfc_aff.score(test_inputs_aff, test_targets_aff)"
   ],
   "metadata": {
    "collapsed": false
   }
  },
  {
   "cell_type": "code",
   "execution_count": 307,
   "outputs": [
    {
     "name": "stderr",
     "output_type": "stream",
     "text": [
      "/home/david/PycharmProjects/bachelor_thesis/venv2/lib/python3.10/site-packages/sklearn/metrics/_classification.py:1344: UndefinedMetricWarning: Recall is ill-defined and being set to 0.0 in labels with no true samples. Use `zero_division` parameter to control this behavior.\n",
      "  _warn_prf(average, modifier, msg_start, len(result))\n"
     ]
    },
    {
     "data": {
      "text/plain": "(0.34795606327311135, 0.30146840289062926, 0.28964798948392356)"
     },
     "execution_count": 307,
     "metadata": {},
     "output_type": "execute_result"
    }
   ],
   "source": [
    "precision_country = precision_score(rfc_aff.predict(test_inputs_aff), test_targets_aff, average=\"macro\")\n",
    "recall_country = recall_score(rfc_aff.predict(test_inputs_aff), test_targets_aff, average=\"macro\")\n",
    "f1_country = f1_score(rfc_aff.predict(test_inputs_aff), test_targets_aff, average=\"macro\")\n",
    "#auc_country = roc_auc_score(rfc_country.predict(test_inputs), test_targets)\n",
    "precision_country, recall_country, f1_country"
   ],
   "metadata": {
    "collapsed": false
   }
  },
  {
   "cell_type": "markdown",
   "source": [
    "## Author"
   ],
   "metadata": {
    "collapsed": false
   }
  },
  {
   "cell_type": "markdown",
   "source": [
    "### Create Dataset"
   ],
   "metadata": {
    "collapsed": false
   }
  },
  {
   "cell_type": "code",
   "execution_count": 30,
   "outputs": [],
   "source": [
    "all_authors = set()\n",
    "for authors in complete_information[\"Author_references\"]:\n",
    "    all_authors.update(authors.split(\",\"))"
   ],
   "metadata": {
    "collapsed": false
   }
  },
  {
   "cell_type": "code",
   "execution_count": 31,
   "outputs": [],
   "source": [
    "columns = list(all_authors).append(\"target\")\n",
    "cited_authors_list = []\n",
    "author_prediction = pd.DataFrame(columns=columns)\n",
    "for idx, information in complete_information.iterrows():\n",
    "    target = information[\"Author\"]\n",
    "    cited_authors = Counter(information[\"Author_references\"].split(\",\"))\n",
    "    cited_authors[\"target\"] = target\n",
    "    cited_authors_list.append(cited_authors)\n",
    "author_prediction = pd.DataFrame(cited_authors_list)\n",
    "author_prediction = author_prediction.fillna(0)"
   ],
   "metadata": {
    "collapsed": false
   }
  },
  {
   "cell_type": "markdown",
   "source": [
    "### Separate input and target"
   ],
   "metadata": {
    "collapsed": false
   }
  },
  {
   "cell_type": "code",
   "execution_count": 9,
   "outputs": [],
   "source": [
    "target_authors = author_prediction[\"target\"]\n",
    "input_authors = author_prediction.drop([\"target\"], axis=1)\n",
    "input_authors = input_authors.div(input_authors.sum(axis=1), axis=0)"
   ],
   "metadata": {
    "collapsed": false
   }
  },
  {
   "cell_type": "markdown",
   "source": [
    "### Separate train and test"
   ],
   "metadata": {
    "collapsed": false
   }
  },
  {
   "cell_type": "code",
   "execution_count": 10,
   "outputs": [],
   "source": [
    "train_targets_authors = target_authors[train_indexes]\n",
    "train_inputs_authors = input_authors.iloc[train_indexes]\n",
    "test_targets_authors = target_authors[test_indexes]\n",
    "test_inputs_authors = input_authors.iloc[test_indexes]"
   ],
   "metadata": {
    "collapsed": false
   }
  },
  {
   "cell_type": "markdown",
   "source": [
    "### Filter targets by their training size"
   ],
   "metadata": {
    "collapsed": false
   }
  },
  {
   "cell_type": "code",
   "execution_count": 11,
   "outputs": [],
   "source": [
    "filtered_authors = [x[0] for x in list(filter(lambda x: x[1] >= 0, dict(Counter(list(train_targets_authors))).items()))]\n",
    "filtered_indexes = train_targets_authors[train_targets_authors.isin(filtered_authors)].index\n",
    "train_targets_authors = train_targets_authors[filtered_indexes]\n",
    "train_inputs_authors = train_inputs_authors.loc[filtered_indexes]\n",
    "\n",
    "filtered_indexes = test_targets_authors[test_targets_authors.isin(filtered_authors)].index\n",
    "test_targets_authors = test_targets_authors[filtered_indexes]\n",
    "test_inputs_authors = test_inputs_authors.loc[filtered_indexes]"
   ],
   "metadata": {
    "collapsed": false
   }
  },
  {
   "cell_type": "code",
   "execution_count": 18,
   "outputs": [
    {
     "data": {
      "text/plain": "1.0"
     },
     "execution_count": 18,
     "metadata": {},
     "output_type": "execute_result"
    }
   ],
   "source": [
    "len(train_targets_authors)/len(target_authors[train_indexes])"
   ],
   "metadata": {
    "collapsed": false
   }
  },
  {
   "cell_type": "code",
   "execution_count": 12,
   "outputs": [],
   "source": [
    "undersample_set_authors = {x[0]: 5 for x in list(filter(lambda x: x[1] > 5, dict(Counter(list(train_targets_authors))).items()))}"
   ],
   "metadata": {
    "collapsed": false
   }
  },
  {
   "cell_type": "code",
   "execution_count": 14,
   "outputs": [],
   "source": [
    "ros = RandomUnderSampler(sampling_strategy=undersample_set_authors, random_state=42)\n",
    "train_inputs_total_resampled, train_targets_total_resampled = ros.fit_resample(train_inputs_authors, train_targets_authors)\n",
    "ros = SMOTE(random_state=0, k_neighbors=1)\n",
    "train_inputs_authors_resampled, train_targets_authors_resampled = ros.fit_resample(train_inputs_total_resampled, train_targets_total_resampled)"
   ],
   "metadata": {
    "collapsed": false
   }
  },
  {
   "cell_type": "code",
   "execution_count": null,
   "outputs": [],
   "source": [
    "lr_authors_resampled = LogisticRegression(max_iter=1000)\n",
    "lr_authors_resampled.fit(train_inputs_authors_resampled, train_targets_authors_resampled)\n",
    "lr_authors_resampled.score(test_inputs_authors, test_targets_authors)"
   ],
   "metadata": {
    "collapsed": false,
    "pycharm": {
     "is_executing": true
    }
   }
  },
  {
   "cell_type": "code",
   "execution_count": 16,
   "outputs": [
    {
     "data": {
      "text/plain": "0.34791252485089463"
     },
     "execution_count": 16,
     "metadata": {},
     "output_type": "execute_result"
    }
   ],
   "source": [
    "rfc_authors = RandomForestClassifier(random_state=42)\n",
    "rfc_authors.fit(train_inputs_authors, train_targets_authors)\n",
    "rfc_authors.score(test_inputs_authors, test_targets_authors)"
   ],
   "metadata": {
    "collapsed": false
   }
  },
  {
   "cell_type": "code",
   "execution_count": 22,
   "outputs": [
    {
     "name": "stderr",
     "output_type": "stream",
     "text": [
      "/home/david/PycharmProjects/bachelor_thesis/venv2/lib/python3.10/site-packages/sklearn/metrics/_classification.py:1344: UndefinedMetricWarning: Recall is ill-defined and being set to 0.0 in labels with no true samples. Use `zero_division` parameter to control this behavior.\n",
      "  _warn_prf(average, modifier, msg_start, len(result))\n"
     ]
    },
    {
     "data": {
      "text/plain": "(0.3687898089171974, 0.2828434940855323, 0.30017506867638)"
     },
     "execution_count": 22,
     "metadata": {},
     "output_type": "execute_result"
    }
   ],
   "source": [
    "precision_country = precision_score(rfc_authors.predict(test_inputs_authors), test_targets_authors, average=\"macro\")\n",
    "recall_country = recall_score(rfc_authors.predict(test_inputs_authors), test_targets_authors, average=\"macro\")\n",
    "f1_country = f1_score(rfc_authors.predict(test_inputs_authors), test_targets_authors, average=\"macro\")\n",
    "#auc_country = roc_auc_score(rfc_country.predict(test_inputs), test_targets)\n",
    "precision_country, recall_country, f1_country"
   ],
   "metadata": {
    "collapsed": false
   }
  },
  {
   "cell_type": "markdown",
   "source": [
    "## Combined model"
   ],
   "metadata": {
    "collapsed": false
   }
  },
  {
   "cell_type": "code",
   "execution_count": 32,
   "outputs": [],
   "source": [
    "total_gender = gender_prediction.drop([\"target\"], axis=1)\n",
    "total_country = country_prediction.drop([\"target\"], axis=1)\n",
    "total_affiliation = affiliation_prediction.drop([\"target\"], axis=1)\n",
    "total_author = author_prediction.drop([\"target\"], axis=1)\n",
    "total_targets = pd.concat([author_prediction[\"target\"].rename(\"author_target\"), gender_prediction[\"target\"].rename(\"gender_target\"), affiliation_prediction[\"target\"].rename(\"affiliation_target\"), country_prediction[\"target\"].rename(\"country_target\")], axis=1)\n",
    "#total_targets = country_prediction[\"target\"]"
   ],
   "metadata": {
    "collapsed": false
   }
  },
  {
   "cell_type": "code",
   "execution_count": 33,
   "outputs": [],
   "source": [
    "total_relative_country = total_country.div(total_country.sum(axis=1), axis=0)\n",
    "total_relative_affiliation = total_affiliation.div(total_affiliation.sum(axis=1), axis=0)\n",
    "total_relative_author = total_author.div(total_author.sum(axis=1), axis=0)"
   ],
   "metadata": {
    "collapsed": false
   }
  },
  {
   "cell_type": "code",
   "execution_count": 34,
   "outputs": [],
   "source": [
    "total_prediction_input = pd.concat([total_author, total_gender, total_relative_country, total_relative_affiliation], axis=1)\n",
    "#total_prediction_input[\"target\"] = total_targets # 18333, 1, 88, 3774\n",
    "#total_prediction_input\n",
    "#total_prediction_input.to_csv(\"./gender_author.csv\")"
   ],
   "metadata": {
    "collapsed": false
   }
  },
  {
   "cell_type": "code",
   "execution_count": 40,
   "outputs": [
    {
     "data": {
      "text/plain": "      2038685  39978391  2071376  33493200  8553015  1726807  6965856  \\\n0         1.0       1.0      1.0       1.0      1.0      1.0      2.0   \n1         0.0       0.0      0.0       0.0      0.0      1.0      0.0   \n2         0.0       0.0      0.0       0.0      0.0      0.0      0.0   \n3         0.0       0.0      0.0       0.0      0.0      0.0      0.0   \n4         0.0       0.0      0.0       0.0      0.0      0.0      0.0   \n...       ...       ...      ...       ...      ...      ...      ...   \n3386      0.0       0.0      0.0       0.0      0.0      0.0      0.0   \n3387      0.0       0.0      0.0       0.0      0.0      1.0      0.0   \n3388      0.0       0.0      0.0       0.0      0.0      0.0      0.0   \n3389      0.0       0.0      0.0       0.0      0.0      0.0      0.0   \n3390      0.0       0.0      0.0       0.0      0.0      0.0      0.0   \n\n      2064160  145414742  145237361  ...  14489533  8743005  49673319  \\\n0         1.0        1.0        1.0  ...       0.0      0.0       0.0   \n1         0.0        0.0        0.0  ...       0.0      0.0       0.0   \n2         1.0        0.0        0.0  ...       0.0      0.0       0.0   \n3         0.0        0.0        0.0  ...       0.0      0.0       0.0   \n4         0.0        0.0        0.0  ...       0.0      0.0       0.0   \n...       ...        ...        ...  ...       ...      ...       ...   \n3386      0.0        0.0        0.0  ...       0.0      0.0       0.0   \n3387      0.0        0.0        0.0  ...       0.0      0.0       0.0   \n3388      0.0        0.0        0.0  ...       1.0      1.0       0.0   \n3389      1.0        0.0        0.0  ...       0.0      0.0       1.0   \n3390      1.0        0.0        0.0  ...       0.0      0.0       0.0   \n\n      38293522  2036922  1765602  3283367  32683737  3527685  143956121  \n0          0.0      0.0      0.0      0.0       0.0      0.0        0.0  \n1          0.0      0.0      0.0      0.0       0.0      0.0        0.0  \n2          0.0      0.0      0.0      0.0       0.0      0.0        0.0  \n3          0.0      0.0      0.0      0.0       0.0      0.0        0.0  \n4          0.0      0.0      0.0      0.0       0.0      0.0        0.0  \n...        ...      ...      ...      ...       ...      ...        ...  \n3386       0.0      0.0      0.0      0.0       0.0      0.0        0.0  \n3387       0.0      0.0      0.0      0.0       0.0      0.0        0.0  \n3388       0.0      0.0      0.0      0.0       0.0      0.0        0.0  \n3389       1.0      1.0      1.0      1.0       1.0      1.0        1.0  \n3390       0.0      0.0      0.0      0.0       0.0      0.0        0.0  \n\n[3391 rows x 18333 columns]",
      "text/html": "<div>\n<style scoped>\n    .dataframe tbody tr th:only-of-type {\n        vertical-align: middle;\n    }\n\n    .dataframe tbody tr th {\n        vertical-align: top;\n    }\n\n    .dataframe thead th {\n        text-align: right;\n    }\n</style>\n<table border=\"1\" class=\"dataframe\">\n  <thead>\n    <tr style=\"text-align: right;\">\n      <th></th>\n      <th>2038685</th>\n      <th>39978391</th>\n      <th>2071376</th>\n      <th>33493200</th>\n      <th>8553015</th>\n      <th>1726807</th>\n      <th>6965856</th>\n      <th>2064160</th>\n      <th>145414742</th>\n      <th>145237361</th>\n      <th>...</th>\n      <th>14489533</th>\n      <th>8743005</th>\n      <th>49673319</th>\n      <th>38293522</th>\n      <th>2036922</th>\n      <th>1765602</th>\n      <th>3283367</th>\n      <th>32683737</th>\n      <th>3527685</th>\n      <th>143956121</th>\n    </tr>\n  </thead>\n  <tbody>\n    <tr>\n      <th>0</th>\n      <td>1.0</td>\n      <td>1.0</td>\n      <td>1.0</td>\n      <td>1.0</td>\n      <td>1.0</td>\n      <td>1.0</td>\n      <td>2.0</td>\n      <td>1.0</td>\n      <td>1.0</td>\n      <td>1.0</td>\n      <td>...</td>\n      <td>0.0</td>\n      <td>0.0</td>\n      <td>0.0</td>\n      <td>0.0</td>\n      <td>0.0</td>\n      <td>0.0</td>\n      <td>0.0</td>\n      <td>0.0</td>\n      <td>0.0</td>\n      <td>0.0</td>\n    </tr>\n    <tr>\n      <th>1</th>\n      <td>0.0</td>\n      <td>0.0</td>\n      <td>0.0</td>\n      <td>0.0</td>\n      <td>0.0</td>\n      <td>1.0</td>\n      <td>0.0</td>\n      <td>0.0</td>\n      <td>0.0</td>\n      <td>0.0</td>\n      <td>...</td>\n      <td>0.0</td>\n      <td>0.0</td>\n      <td>0.0</td>\n      <td>0.0</td>\n      <td>0.0</td>\n      <td>0.0</td>\n      <td>0.0</td>\n      <td>0.0</td>\n      <td>0.0</td>\n      <td>0.0</td>\n    </tr>\n    <tr>\n      <th>2</th>\n      <td>0.0</td>\n      <td>0.0</td>\n      <td>0.0</td>\n      <td>0.0</td>\n      <td>0.0</td>\n      <td>0.0</td>\n      <td>0.0</td>\n      <td>1.0</td>\n      <td>0.0</td>\n      <td>0.0</td>\n      <td>...</td>\n      <td>0.0</td>\n      <td>0.0</td>\n      <td>0.0</td>\n      <td>0.0</td>\n      <td>0.0</td>\n      <td>0.0</td>\n      <td>0.0</td>\n      <td>0.0</td>\n      <td>0.0</td>\n      <td>0.0</td>\n    </tr>\n    <tr>\n      <th>3</th>\n      <td>0.0</td>\n      <td>0.0</td>\n      <td>0.0</td>\n      <td>0.0</td>\n      <td>0.0</td>\n      <td>0.0</td>\n      <td>0.0</td>\n      <td>0.0</td>\n      <td>0.0</td>\n      <td>0.0</td>\n      <td>...</td>\n      <td>0.0</td>\n      <td>0.0</td>\n      <td>0.0</td>\n      <td>0.0</td>\n      <td>0.0</td>\n      <td>0.0</td>\n      <td>0.0</td>\n      <td>0.0</td>\n      <td>0.0</td>\n      <td>0.0</td>\n    </tr>\n    <tr>\n      <th>4</th>\n      <td>0.0</td>\n      <td>0.0</td>\n      <td>0.0</td>\n      <td>0.0</td>\n      <td>0.0</td>\n      <td>0.0</td>\n      <td>0.0</td>\n      <td>0.0</td>\n      <td>0.0</td>\n      <td>0.0</td>\n      <td>...</td>\n      <td>0.0</td>\n      <td>0.0</td>\n      <td>0.0</td>\n      <td>0.0</td>\n      <td>0.0</td>\n      <td>0.0</td>\n      <td>0.0</td>\n      <td>0.0</td>\n      <td>0.0</td>\n      <td>0.0</td>\n    </tr>\n    <tr>\n      <th>...</th>\n      <td>...</td>\n      <td>...</td>\n      <td>...</td>\n      <td>...</td>\n      <td>...</td>\n      <td>...</td>\n      <td>...</td>\n      <td>...</td>\n      <td>...</td>\n      <td>...</td>\n      <td>...</td>\n      <td>...</td>\n      <td>...</td>\n      <td>...</td>\n      <td>...</td>\n      <td>...</td>\n      <td>...</td>\n      <td>...</td>\n      <td>...</td>\n      <td>...</td>\n      <td>...</td>\n    </tr>\n    <tr>\n      <th>3386</th>\n      <td>0.0</td>\n      <td>0.0</td>\n      <td>0.0</td>\n      <td>0.0</td>\n      <td>0.0</td>\n      <td>0.0</td>\n      <td>0.0</td>\n      <td>0.0</td>\n      <td>0.0</td>\n      <td>0.0</td>\n      <td>...</td>\n      <td>0.0</td>\n      <td>0.0</td>\n      <td>0.0</td>\n      <td>0.0</td>\n      <td>0.0</td>\n      <td>0.0</td>\n      <td>0.0</td>\n      <td>0.0</td>\n      <td>0.0</td>\n      <td>0.0</td>\n    </tr>\n    <tr>\n      <th>3387</th>\n      <td>0.0</td>\n      <td>0.0</td>\n      <td>0.0</td>\n      <td>0.0</td>\n      <td>0.0</td>\n      <td>1.0</td>\n      <td>0.0</td>\n      <td>0.0</td>\n      <td>0.0</td>\n      <td>0.0</td>\n      <td>...</td>\n      <td>0.0</td>\n      <td>0.0</td>\n      <td>0.0</td>\n      <td>0.0</td>\n      <td>0.0</td>\n      <td>0.0</td>\n      <td>0.0</td>\n      <td>0.0</td>\n      <td>0.0</td>\n      <td>0.0</td>\n    </tr>\n    <tr>\n      <th>3388</th>\n      <td>0.0</td>\n      <td>0.0</td>\n      <td>0.0</td>\n      <td>0.0</td>\n      <td>0.0</td>\n      <td>0.0</td>\n      <td>0.0</td>\n      <td>0.0</td>\n      <td>0.0</td>\n      <td>0.0</td>\n      <td>...</td>\n      <td>1.0</td>\n      <td>1.0</td>\n      <td>0.0</td>\n      <td>0.0</td>\n      <td>0.0</td>\n      <td>0.0</td>\n      <td>0.0</td>\n      <td>0.0</td>\n      <td>0.0</td>\n      <td>0.0</td>\n    </tr>\n    <tr>\n      <th>3389</th>\n      <td>0.0</td>\n      <td>0.0</td>\n      <td>0.0</td>\n      <td>0.0</td>\n      <td>0.0</td>\n      <td>0.0</td>\n      <td>0.0</td>\n      <td>1.0</td>\n      <td>0.0</td>\n      <td>0.0</td>\n      <td>...</td>\n      <td>0.0</td>\n      <td>0.0</td>\n      <td>1.0</td>\n      <td>1.0</td>\n      <td>1.0</td>\n      <td>1.0</td>\n      <td>1.0</td>\n      <td>1.0</td>\n      <td>1.0</td>\n      <td>1.0</td>\n    </tr>\n    <tr>\n      <th>3390</th>\n      <td>0.0</td>\n      <td>0.0</td>\n      <td>0.0</td>\n      <td>0.0</td>\n      <td>0.0</td>\n      <td>0.0</td>\n      <td>0.0</td>\n      <td>1.0</td>\n      <td>0.0</td>\n      <td>0.0</td>\n      <td>...</td>\n      <td>0.0</td>\n      <td>0.0</td>\n      <td>0.0</td>\n      <td>0.0</td>\n      <td>0.0</td>\n      <td>0.0</td>\n      <td>0.0</td>\n      <td>0.0</td>\n      <td>0.0</td>\n      <td>0.0</td>\n    </tr>\n  </tbody>\n</table>\n<p>3391 rows × 18333 columns</p>\n</div>"
     },
     "execution_count": 40,
     "metadata": {},
     "output_type": "execute_result"
    }
   ],
   "source": [
    "total_author"
   ],
   "metadata": {
    "collapsed": false
   }
  },
  {
   "cell_type": "code",
   "execution_count": 41,
   "outputs": [
    {
     "data": {
      "text/plain": "22196"
     },
     "execution_count": 41,
     "metadata": {},
     "output_type": "execute_result"
    }
   ],
   "source": [
    "18333 +1 +88+3774"
   ],
   "metadata": {
    "collapsed": false
   }
  },
  {
   "cell_type": "code",
   "execution_count": 28,
   "outputs": [],
   "source": [
    "train_targets_total = total_targets.iloc[train_indexes]\n",
    "train_inputs_total = total_prediction_input.iloc[train_indexes]\n",
    "test_targets_total = total_targets.iloc[test_indexes]\n",
    "test_inputs_total = total_prediction_input.iloc[test_indexes]"
   ],
   "metadata": {
    "collapsed": false
   }
  },
  {
   "cell_type": "code",
   "execution_count": 32,
   "outputs": [],
   "source": [
    "train = pd.concat([train_inputs_total, train_targets_total], axis=1)\n",
    "test = pd.concat([test_inputs_total, test_targets_total], axis=1)"
   ],
   "metadata": {
    "collapsed": false
   }
  },
  {
   "cell_type": "code",
   "execution_count": 34,
   "outputs": [],
   "source": [
    "train.to_csv(\"./train.csv\")\n",
    "test.to_csv(\"./test.csv\")"
   ],
   "metadata": {
    "collapsed": false
   }
  },
  {
   "cell_type": "code",
   "execution_count": 37,
   "outputs": [],
   "source": [
    "a = [x[0] for x in list(filter(lambda x: x[1] >= 1, dict(Counter(list(train_targets_total))).items()))]\n",
    "#total_prediction_input = total_prediction_input[total_prediction_input[\"target\"].isin(most_represented_affiliations)]\n",
    "filtered_indexes = train_targets_total[train_targets_total.isin(a)].index\n",
    "train_targets_total = train_targets_total[filtered_indexes]\n",
    "train_inputs_total = train_inputs_total.loc[filtered_indexes]\n",
    "filtered_indexes = test_targets_total[test_targets_total.isin(a)].index\n",
    "test_targets_total = test_targets_total[filtered_indexes]\n",
    "test_inputs_total = test_inputs_total.loc[filtered_indexes]\n",
    "#print(len(train_targets_total.unique()))"
   ],
   "metadata": {
    "collapsed": false
   }
  },
  {
   "cell_type": "code",
   "execution_count": 38,
   "outputs": [],
   "source": [
    "#total_targets = pd.concat([total_targets, total_targets], axis=1)"
   ],
   "metadata": {
    "collapsed": false
   }
  },
  {
   "cell_type": "code",
   "execution_count": 1,
   "outputs": [
    {
     "ename": "NameError",
     "evalue": "name 'Counter' is not defined",
     "output_type": "error",
     "traceback": [
      "\u001B[0;31m---------------------------------------------------------------------------\u001B[0m",
      "\u001B[0;31mNameError\u001B[0m                                 Traceback (most recent call last)",
      "Input \u001B[0;32mIn [1]\u001B[0m, in \u001B[0;36m<cell line: 1>\u001B[0;34m()\u001B[0m\n\u001B[0;32m----> 1\u001B[0m undersample_set \u001B[38;5;241m=\u001B[39m {x[\u001B[38;5;241m0\u001B[39m]: \u001B[38;5;241m50\u001B[39m \u001B[38;5;28;01mfor\u001B[39;00m x \u001B[38;5;129;01min\u001B[39;00m \u001B[38;5;28mlist\u001B[39m(\u001B[38;5;28mfilter\u001B[39m(\u001B[38;5;28;01mlambda\u001B[39;00m x: x[\u001B[38;5;241m1\u001B[39m] \u001B[38;5;241m>\u001B[39m \u001B[38;5;241m50\u001B[39m, \u001B[38;5;28mdict\u001B[39m(\u001B[43mCounter\u001B[49m(\u001B[38;5;28mlist\u001B[39m(train_targets_total)))\u001B[38;5;241m.\u001B[39mitems()))}\n",
      "\u001B[0;31mNameError\u001B[0m: name 'Counter' is not defined"
     ]
    }
   ],
   "source": [
    "undersample_set = {x[0]: 50 for x in list(filter(lambda x: x[1] > 50, dict(Counter(list(train_targets_total))).items()))}"
   ],
   "metadata": {
    "collapsed": false
   }
  },
  {
   "cell_type": "code",
   "execution_count": null,
   "outputs": [],
   "source": [
    "#ros = RandomUnderSampler(random_state=0, )\n",
    "#ros = RandomUnderSampler(random_state=42, sampling_strategy=undersample_set)\n",
    "#train_inputs_total_resampled, train_targets_total_resampled = ros.fit_resample(train_inputs_total, train_targets_total)\n",
    "ros = SMOTE(random_state=42, k_neighbors=1)\n",
    "train_inputs_total_resampled, train_targets_total_resampled = ros.fit_resample(train_inputs_total, train_targets_total)"
   ],
   "metadata": {
    "collapsed": false,
    "pycharm": {
     "is_executing": true
    }
   }
  },
  {
   "cell_type": "code",
   "execution_count": 30,
   "outputs": [],
   "source": [
    "#train_inputs_total_resampled[\"target\"] = train_targets_total_resampled\n",
    "#test_inputs_total[\"target\"] = test_targets_total"
   ],
   "metadata": {
    "collapsed": false
   }
  },
  {
   "cell_type": "code",
   "execution_count": 157,
   "outputs": [
    {
     "ename": "KeyboardInterrupt",
     "evalue": "",
     "output_type": "error",
     "traceback": [
      "\u001B[0;31m---------------------------------------------------------------------------\u001B[0m",
      "\u001B[0;31mKeyboardInterrupt\u001B[0m                         Traceback (most recent call last)",
      "Input \u001B[0;32mIn [157]\u001B[0m, in \u001B[0;36m<cell line: 1>\u001B[0;34m()\u001B[0m\n\u001B[0;32m----> 1\u001B[0m \u001B[43mtrain_inputs_total_resampled\u001B[49m\u001B[38;5;241;43m.\u001B[39;49m\u001B[43mto_csv\u001B[49m\u001B[43m(\u001B[49m\u001B[38;5;124;43m\"\u001B[39;49m\u001B[38;5;124;43m./train_total_gender_target.csv\u001B[39;49m\u001B[38;5;124;43m\"\u001B[39;49m\u001B[43m)\u001B[49m\n\u001B[1;32m      2\u001B[0m test_inputs_total\u001B[38;5;241m.\u001B[39mto_csv(\u001B[38;5;124m\"\u001B[39m\u001B[38;5;124m./test_total_authors_gender_target.csv\u001B[39m\u001B[38;5;124m\"\u001B[39m)\n",
      "File \u001B[0;32m~/PycharmProjects/bachelor_thesis/venv2/lib/python3.10/site-packages/pandas/core/generic.py:3551\u001B[0m, in \u001B[0;36mNDFrame.to_csv\u001B[0;34m(self, path_or_buf, sep, na_rep, float_format, columns, header, index, index_label, mode, encoding, compression, quoting, quotechar, line_terminator, chunksize, date_format, doublequote, escapechar, decimal, errors, storage_options)\u001B[0m\n\u001B[1;32m   3540\u001B[0m df \u001B[38;5;241m=\u001B[39m \u001B[38;5;28mself\u001B[39m \u001B[38;5;28;01mif\u001B[39;00m \u001B[38;5;28misinstance\u001B[39m(\u001B[38;5;28mself\u001B[39m, ABCDataFrame) \u001B[38;5;28;01melse\u001B[39;00m \u001B[38;5;28mself\u001B[39m\u001B[38;5;241m.\u001B[39mto_frame()\n\u001B[1;32m   3542\u001B[0m formatter \u001B[38;5;241m=\u001B[39m DataFrameFormatter(\n\u001B[1;32m   3543\u001B[0m     frame\u001B[38;5;241m=\u001B[39mdf,\n\u001B[1;32m   3544\u001B[0m     header\u001B[38;5;241m=\u001B[39mheader,\n\u001B[0;32m   (...)\u001B[0m\n\u001B[1;32m   3548\u001B[0m     decimal\u001B[38;5;241m=\u001B[39mdecimal,\n\u001B[1;32m   3549\u001B[0m )\n\u001B[0;32m-> 3551\u001B[0m \u001B[38;5;28;01mreturn\u001B[39;00m \u001B[43mDataFrameRenderer\u001B[49m\u001B[43m(\u001B[49m\u001B[43mformatter\u001B[49m\u001B[43m)\u001B[49m\u001B[38;5;241;43m.\u001B[39;49m\u001B[43mto_csv\u001B[49m\u001B[43m(\u001B[49m\n\u001B[1;32m   3552\u001B[0m \u001B[43m    \u001B[49m\u001B[43mpath_or_buf\u001B[49m\u001B[43m,\u001B[49m\n\u001B[1;32m   3553\u001B[0m \u001B[43m    \u001B[49m\u001B[43mline_terminator\u001B[49m\u001B[38;5;241;43m=\u001B[39;49m\u001B[43mline_terminator\u001B[49m\u001B[43m,\u001B[49m\n\u001B[1;32m   3554\u001B[0m \u001B[43m    \u001B[49m\u001B[43msep\u001B[49m\u001B[38;5;241;43m=\u001B[39;49m\u001B[43msep\u001B[49m\u001B[43m,\u001B[49m\n\u001B[1;32m   3555\u001B[0m \u001B[43m    \u001B[49m\u001B[43mencoding\u001B[49m\u001B[38;5;241;43m=\u001B[39;49m\u001B[43mencoding\u001B[49m\u001B[43m,\u001B[49m\n\u001B[1;32m   3556\u001B[0m \u001B[43m    \u001B[49m\u001B[43merrors\u001B[49m\u001B[38;5;241;43m=\u001B[39;49m\u001B[43merrors\u001B[49m\u001B[43m,\u001B[49m\n\u001B[1;32m   3557\u001B[0m \u001B[43m    \u001B[49m\u001B[43mcompression\u001B[49m\u001B[38;5;241;43m=\u001B[39;49m\u001B[43mcompression\u001B[49m\u001B[43m,\u001B[49m\n\u001B[1;32m   3558\u001B[0m \u001B[43m    \u001B[49m\u001B[43mquoting\u001B[49m\u001B[38;5;241;43m=\u001B[39;49m\u001B[43mquoting\u001B[49m\u001B[43m,\u001B[49m\n\u001B[1;32m   3559\u001B[0m \u001B[43m    \u001B[49m\u001B[43mcolumns\u001B[49m\u001B[38;5;241;43m=\u001B[39;49m\u001B[43mcolumns\u001B[49m\u001B[43m,\u001B[49m\n\u001B[1;32m   3560\u001B[0m \u001B[43m    \u001B[49m\u001B[43mindex_label\u001B[49m\u001B[38;5;241;43m=\u001B[39;49m\u001B[43mindex_label\u001B[49m\u001B[43m,\u001B[49m\n\u001B[1;32m   3561\u001B[0m \u001B[43m    \u001B[49m\u001B[43mmode\u001B[49m\u001B[38;5;241;43m=\u001B[39;49m\u001B[43mmode\u001B[49m\u001B[43m,\u001B[49m\n\u001B[1;32m   3562\u001B[0m \u001B[43m    \u001B[49m\u001B[43mchunksize\u001B[49m\u001B[38;5;241;43m=\u001B[39;49m\u001B[43mchunksize\u001B[49m\u001B[43m,\u001B[49m\n\u001B[1;32m   3563\u001B[0m \u001B[43m    \u001B[49m\u001B[43mquotechar\u001B[49m\u001B[38;5;241;43m=\u001B[39;49m\u001B[43mquotechar\u001B[49m\u001B[43m,\u001B[49m\n\u001B[1;32m   3564\u001B[0m \u001B[43m    \u001B[49m\u001B[43mdate_format\u001B[49m\u001B[38;5;241;43m=\u001B[39;49m\u001B[43mdate_format\u001B[49m\u001B[43m,\u001B[49m\n\u001B[1;32m   3565\u001B[0m \u001B[43m    \u001B[49m\u001B[43mdoublequote\u001B[49m\u001B[38;5;241;43m=\u001B[39;49m\u001B[43mdoublequote\u001B[49m\u001B[43m,\u001B[49m\n\u001B[1;32m   3566\u001B[0m \u001B[43m    \u001B[49m\u001B[43mescapechar\u001B[49m\u001B[38;5;241;43m=\u001B[39;49m\u001B[43mescapechar\u001B[49m\u001B[43m,\u001B[49m\n\u001B[1;32m   3567\u001B[0m \u001B[43m    \u001B[49m\u001B[43mstorage_options\u001B[49m\u001B[38;5;241;43m=\u001B[39;49m\u001B[43mstorage_options\u001B[49m\u001B[43m,\u001B[49m\n\u001B[1;32m   3568\u001B[0m \u001B[43m\u001B[49m\u001B[43m)\u001B[49m\n",
      "File \u001B[0;32m~/PycharmProjects/bachelor_thesis/venv2/lib/python3.10/site-packages/pandas/io/formats/format.py:1180\u001B[0m, in \u001B[0;36mDataFrameRenderer.to_csv\u001B[0;34m(self, path_or_buf, encoding, sep, columns, index_label, mode, compression, quoting, quotechar, line_terminator, chunksize, date_format, doublequote, escapechar, errors, storage_options)\u001B[0m\n\u001B[1;32m   1159\u001B[0m     created_buffer \u001B[38;5;241m=\u001B[39m \u001B[38;5;28;01mFalse\u001B[39;00m\n\u001B[1;32m   1161\u001B[0m csv_formatter \u001B[38;5;241m=\u001B[39m CSVFormatter(\n\u001B[1;32m   1162\u001B[0m     path_or_buf\u001B[38;5;241m=\u001B[39mpath_or_buf,\n\u001B[1;32m   1163\u001B[0m     line_terminator\u001B[38;5;241m=\u001B[39mline_terminator,\n\u001B[0;32m   (...)\u001B[0m\n\u001B[1;32m   1178\u001B[0m     formatter\u001B[38;5;241m=\u001B[39m\u001B[38;5;28mself\u001B[39m\u001B[38;5;241m.\u001B[39mfmt,\n\u001B[1;32m   1179\u001B[0m )\n\u001B[0;32m-> 1180\u001B[0m \u001B[43mcsv_formatter\u001B[49m\u001B[38;5;241;43m.\u001B[39;49m\u001B[43msave\u001B[49m\u001B[43m(\u001B[49m\u001B[43m)\u001B[49m\n\u001B[1;32m   1182\u001B[0m \u001B[38;5;28;01mif\u001B[39;00m created_buffer:\n\u001B[1;32m   1183\u001B[0m     \u001B[38;5;28;01massert\u001B[39;00m \u001B[38;5;28misinstance\u001B[39m(path_or_buf, StringIO)\n",
      "File \u001B[0;32m~/PycharmProjects/bachelor_thesis/venv2/lib/python3.10/site-packages/pandas/io/formats/csvs.py:261\u001B[0m, in \u001B[0;36mCSVFormatter.save\u001B[0;34m(self)\u001B[0m\n\u001B[1;32m    241\u001B[0m \u001B[38;5;28;01mwith\u001B[39;00m get_handle(\n\u001B[1;32m    242\u001B[0m     \u001B[38;5;28mself\u001B[39m\u001B[38;5;241m.\u001B[39mfilepath_or_buffer,\n\u001B[1;32m    243\u001B[0m     \u001B[38;5;28mself\u001B[39m\u001B[38;5;241m.\u001B[39mmode,\n\u001B[0;32m   (...)\u001B[0m\n\u001B[1;32m    249\u001B[0m \n\u001B[1;32m    250\u001B[0m     \u001B[38;5;66;03m# Note: self.encoding is irrelevant here\u001B[39;00m\n\u001B[1;32m    251\u001B[0m     \u001B[38;5;28mself\u001B[39m\u001B[38;5;241m.\u001B[39mwriter \u001B[38;5;241m=\u001B[39m csvlib\u001B[38;5;241m.\u001B[39mwriter(\n\u001B[1;32m    252\u001B[0m         handles\u001B[38;5;241m.\u001B[39mhandle,\n\u001B[1;32m    253\u001B[0m         lineterminator\u001B[38;5;241m=\u001B[39m\u001B[38;5;28mself\u001B[39m\u001B[38;5;241m.\u001B[39mline_terminator,\n\u001B[0;32m   (...)\u001B[0m\n\u001B[1;32m    258\u001B[0m         quotechar\u001B[38;5;241m=\u001B[39m\u001B[38;5;28mself\u001B[39m\u001B[38;5;241m.\u001B[39mquotechar,\n\u001B[1;32m    259\u001B[0m     )\n\u001B[0;32m--> 261\u001B[0m     \u001B[38;5;28;43mself\u001B[39;49m\u001B[38;5;241;43m.\u001B[39;49m\u001B[43m_save\u001B[49m\u001B[43m(\u001B[49m\u001B[43m)\u001B[49m\n",
      "File \u001B[0;32m~/PycharmProjects/bachelor_thesis/venv2/lib/python3.10/site-packages/pandas/io/formats/csvs.py:266\u001B[0m, in \u001B[0;36mCSVFormatter._save\u001B[0;34m(self)\u001B[0m\n\u001B[1;32m    264\u001B[0m \u001B[38;5;28;01mif\u001B[39;00m \u001B[38;5;28mself\u001B[39m\u001B[38;5;241m.\u001B[39m_need_to_save_header:\n\u001B[1;32m    265\u001B[0m     \u001B[38;5;28mself\u001B[39m\u001B[38;5;241m.\u001B[39m_save_header()\n\u001B[0;32m--> 266\u001B[0m \u001B[38;5;28;43mself\u001B[39;49m\u001B[38;5;241;43m.\u001B[39;49m\u001B[43m_save_body\u001B[49m\u001B[43m(\u001B[49m\u001B[43m)\u001B[49m\n",
      "File \u001B[0;32m~/PycharmProjects/bachelor_thesis/venv2/lib/python3.10/site-packages/pandas/io/formats/csvs.py:304\u001B[0m, in \u001B[0;36mCSVFormatter._save_body\u001B[0;34m(self)\u001B[0m\n\u001B[1;32m    302\u001B[0m \u001B[38;5;28;01mif\u001B[39;00m start_i \u001B[38;5;241m>\u001B[39m\u001B[38;5;241m=\u001B[39m end_i:\n\u001B[1;32m    303\u001B[0m     \u001B[38;5;28;01mbreak\u001B[39;00m\n\u001B[0;32m--> 304\u001B[0m \u001B[38;5;28;43mself\u001B[39;49m\u001B[38;5;241;43m.\u001B[39;49m\u001B[43m_save_chunk\u001B[49m\u001B[43m(\u001B[49m\u001B[43mstart_i\u001B[49m\u001B[43m,\u001B[49m\u001B[43m \u001B[49m\u001B[43mend_i\u001B[49m\u001B[43m)\u001B[49m\n",
      "File \u001B[0;32m~/PycharmProjects/bachelor_thesis/venv2/lib/python3.10/site-packages/pandas/io/formats/csvs.py:311\u001B[0m, in \u001B[0;36mCSVFormatter._save_chunk\u001B[0;34m(self, start_i, end_i)\u001B[0m\n\u001B[1;32m    308\u001B[0m slicer \u001B[38;5;241m=\u001B[39m \u001B[38;5;28mslice\u001B[39m(start_i, end_i)\n\u001B[1;32m    309\u001B[0m df \u001B[38;5;241m=\u001B[39m \u001B[38;5;28mself\u001B[39m\u001B[38;5;241m.\u001B[39mobj\u001B[38;5;241m.\u001B[39miloc[slicer]\n\u001B[0;32m--> 311\u001B[0m res \u001B[38;5;241m=\u001B[39m \u001B[43mdf\u001B[49m\u001B[38;5;241;43m.\u001B[39;49m\u001B[43m_mgr\u001B[49m\u001B[38;5;241;43m.\u001B[39;49m\u001B[43mto_native_types\u001B[49m\u001B[43m(\u001B[49m\u001B[38;5;241;43m*\u001B[39;49m\u001B[38;5;241;43m*\u001B[39;49m\u001B[38;5;28;43mself\u001B[39;49m\u001B[38;5;241;43m.\u001B[39;49m\u001B[43m_number_format\u001B[49m\u001B[43m)\u001B[49m\n\u001B[1;32m    312\u001B[0m data \u001B[38;5;241m=\u001B[39m [res\u001B[38;5;241m.\u001B[39miget_values(i) \u001B[38;5;28;01mfor\u001B[39;00m i \u001B[38;5;129;01min\u001B[39;00m \u001B[38;5;28mrange\u001B[39m(\u001B[38;5;28mlen\u001B[39m(res\u001B[38;5;241m.\u001B[39mitems))]\n\u001B[1;32m    314\u001B[0m ix \u001B[38;5;241m=\u001B[39m \u001B[38;5;28mself\u001B[39m\u001B[38;5;241m.\u001B[39mdata_index[slicer]\u001B[38;5;241m.\u001B[39m_format_native_types(\u001B[38;5;241m*\u001B[39m\u001B[38;5;241m*\u001B[39m\u001B[38;5;28mself\u001B[39m\u001B[38;5;241m.\u001B[39m_number_format)\n",
      "File \u001B[0;32m~/PycharmProjects/bachelor_thesis/venv2/lib/python3.10/site-packages/pandas/core/internals/managers.py:473\u001B[0m, in \u001B[0;36mBaseBlockManager.to_native_types\u001B[0;34m(self, **kwargs)\u001B[0m\n\u001B[1;32m    468\u001B[0m \u001B[38;5;28;01mdef\u001B[39;00m \u001B[38;5;21mto_native_types\u001B[39m(\u001B[38;5;28mself\u001B[39m: T, \u001B[38;5;241m*\u001B[39m\u001B[38;5;241m*\u001B[39mkwargs) \u001B[38;5;241m-\u001B[39m\u001B[38;5;241m>\u001B[39m T:\n\u001B[1;32m    469\u001B[0m     \u001B[38;5;124;03m\"\"\"\u001B[39;00m\n\u001B[1;32m    470\u001B[0m \u001B[38;5;124;03m    Convert values to native types (strings / python objects) that are used\u001B[39;00m\n\u001B[1;32m    471\u001B[0m \u001B[38;5;124;03m    in formatting (repr / csv).\u001B[39;00m\n\u001B[1;32m    472\u001B[0m \u001B[38;5;124;03m    \"\"\"\u001B[39;00m\n\u001B[0;32m--> 473\u001B[0m     \u001B[38;5;28;01mreturn\u001B[39;00m \u001B[38;5;28;43mself\u001B[39;49m\u001B[38;5;241;43m.\u001B[39;49m\u001B[43mapply\u001B[49m\u001B[43m(\u001B[49m\u001B[38;5;124;43m\"\u001B[39;49m\u001B[38;5;124;43mto_native_types\u001B[39;49m\u001B[38;5;124;43m\"\u001B[39;49m\u001B[43m,\u001B[49m\u001B[43m \u001B[49m\u001B[38;5;241;43m*\u001B[39;49m\u001B[38;5;241;43m*\u001B[39;49m\u001B[43mkwargs\u001B[49m\u001B[43m)\u001B[49m\n",
      "File \u001B[0;32m~/PycharmProjects/bachelor_thesis/venv2/lib/python3.10/site-packages/pandas/core/internals/managers.py:304\u001B[0m, in \u001B[0;36mBaseBlockManager.apply\u001B[0;34m(self, f, align_keys, ignore_failures, **kwargs)\u001B[0m\n\u001B[1;32m    302\u001B[0m         applied \u001B[38;5;241m=\u001B[39m b\u001B[38;5;241m.\u001B[39mapply(f, \u001B[38;5;241m*\u001B[39m\u001B[38;5;241m*\u001B[39mkwargs)\n\u001B[1;32m    303\u001B[0m     \u001B[38;5;28;01melse\u001B[39;00m:\n\u001B[0;32m--> 304\u001B[0m         applied \u001B[38;5;241m=\u001B[39m \u001B[38;5;28;43mgetattr\u001B[39;49m\u001B[43m(\u001B[49m\u001B[43mb\u001B[49m\u001B[43m,\u001B[49m\u001B[43m \u001B[49m\u001B[43mf\u001B[49m\u001B[43m)\u001B[49m\u001B[43m(\u001B[49m\u001B[38;5;241;43m*\u001B[39;49m\u001B[38;5;241;43m*\u001B[39;49m\u001B[43mkwargs\u001B[49m\u001B[43m)\u001B[49m\n\u001B[1;32m    305\u001B[0m \u001B[38;5;28;01mexcept\u001B[39;00m (\u001B[38;5;167;01mTypeError\u001B[39;00m, \u001B[38;5;167;01mNotImplementedError\u001B[39;00m):\n\u001B[1;32m    306\u001B[0m     \u001B[38;5;28;01mif\u001B[39;00m \u001B[38;5;129;01mnot\u001B[39;00m ignore_failures:\n",
      "File \u001B[0;32m~/PycharmProjects/bachelor_thesis/venv2/lib/python3.10/site-packages/pandas/core/internals/blocks.py:634\u001B[0m, in \u001B[0;36mBlock.to_native_types\u001B[0;34m(self, na_rep, quoting, **kwargs)\u001B[0m\n\u001B[1;32m    631\u001B[0m \u001B[38;5;129m@final\u001B[39m\n\u001B[1;32m    632\u001B[0m \u001B[38;5;28;01mdef\u001B[39;00m \u001B[38;5;21mto_native_types\u001B[39m(\u001B[38;5;28mself\u001B[39m, na_rep\u001B[38;5;241m=\u001B[39m\u001B[38;5;124m\"\u001B[39m\u001B[38;5;124mnan\u001B[39m\u001B[38;5;124m\"\u001B[39m, quoting\u001B[38;5;241m=\u001B[39m\u001B[38;5;28;01mNone\u001B[39;00m, \u001B[38;5;241m*\u001B[39m\u001B[38;5;241m*\u001B[39mkwargs):\n\u001B[1;32m    633\u001B[0m     \u001B[38;5;124;03m\"\"\"convert to our native types format\"\"\"\u001B[39;00m\n\u001B[0;32m--> 634\u001B[0m     result \u001B[38;5;241m=\u001B[39m \u001B[43mto_native_types\u001B[49m\u001B[43m(\u001B[49m\u001B[38;5;28;43mself\u001B[39;49m\u001B[38;5;241;43m.\u001B[39;49m\u001B[43mvalues\u001B[49m\u001B[43m,\u001B[49m\u001B[43m \u001B[49m\u001B[43mna_rep\u001B[49m\u001B[38;5;241;43m=\u001B[39;49m\u001B[43mna_rep\u001B[49m\u001B[43m,\u001B[49m\u001B[43m \u001B[49m\u001B[43mquoting\u001B[49m\u001B[38;5;241;43m=\u001B[39;49m\u001B[43mquoting\u001B[49m\u001B[43m,\u001B[49m\u001B[43m \u001B[49m\u001B[38;5;241;43m*\u001B[39;49m\u001B[38;5;241;43m*\u001B[39;49m\u001B[43mkwargs\u001B[49m\u001B[43m)\u001B[49m\n\u001B[1;32m    635\u001B[0m     \u001B[38;5;28;01mreturn\u001B[39;00m \u001B[38;5;28mself\u001B[39m\u001B[38;5;241m.\u001B[39mmake_block(result)\n",
      "File \u001B[0;32m~/PycharmProjects/bachelor_thesis/venv2/lib/python3.10/site-packages/pandas/core/internals/blocks.py:2198\u001B[0m, in \u001B[0;36mto_native_types\u001B[0;34m(values, na_rep, quoting, float_format, decimal, **kwargs)\u001B[0m\n\u001B[1;32m   2193\u001B[0m \u001B[38;5;28;01melif\u001B[39;00m values\u001B[38;5;241m.\u001B[39mdtype\u001B[38;5;241m.\u001B[39mkind \u001B[38;5;241m==\u001B[39m \u001B[38;5;124m\"\u001B[39m\u001B[38;5;124mf\u001B[39m\u001B[38;5;124m\"\u001B[39m:\n\u001B[1;32m   2194\u001B[0m     \u001B[38;5;66;03m# see GH#13418: no special formatting is desired at the\u001B[39;00m\n\u001B[1;32m   2195\u001B[0m     \u001B[38;5;66;03m# output (important for appropriate 'quoting' behaviour),\u001B[39;00m\n\u001B[1;32m   2196\u001B[0m     \u001B[38;5;66;03m# so do not pass it through the FloatArrayFormatter\u001B[39;00m\n\u001B[1;32m   2197\u001B[0m     \u001B[38;5;28;01mif\u001B[39;00m float_format \u001B[38;5;129;01mis\u001B[39;00m \u001B[38;5;28;01mNone\u001B[39;00m \u001B[38;5;129;01mand\u001B[39;00m decimal \u001B[38;5;241m==\u001B[39m \u001B[38;5;124m\"\u001B[39m\u001B[38;5;124m.\u001B[39m\u001B[38;5;124m\"\u001B[39m:\n\u001B[0;32m-> 2198\u001B[0m         mask \u001B[38;5;241m=\u001B[39m \u001B[43misna\u001B[49m\u001B[43m(\u001B[49m\u001B[43mvalues\u001B[49m\u001B[43m)\u001B[49m\n\u001B[1;32m   2200\u001B[0m         \u001B[38;5;28;01mif\u001B[39;00m \u001B[38;5;129;01mnot\u001B[39;00m quoting:\n\u001B[1;32m   2201\u001B[0m             values \u001B[38;5;241m=\u001B[39m values\u001B[38;5;241m.\u001B[39mastype(\u001B[38;5;28mstr\u001B[39m)\n",
      "File \u001B[0;32m~/PycharmProjects/bachelor_thesis/venv2/lib/python3.10/site-packages/pandas/core/dtypes/missing.py:144\u001B[0m, in \u001B[0;36misna\u001B[0;34m(obj)\u001B[0m\n\u001B[1;32m     67\u001B[0m \u001B[38;5;28;01mdef\u001B[39;00m \u001B[38;5;21misna\u001B[39m(obj):\n\u001B[1;32m     68\u001B[0m     \u001B[38;5;124;03m\"\"\"\u001B[39;00m\n\u001B[1;32m     69\u001B[0m \u001B[38;5;124;03m    Detect missing values for an array-like object.\u001B[39;00m\n\u001B[1;32m     70\u001B[0m \n\u001B[0;32m   (...)\u001B[0m\n\u001B[1;32m    142\u001B[0m \u001B[38;5;124;03m    Name: 1, dtype: bool\u001B[39;00m\n\u001B[1;32m    143\u001B[0m \u001B[38;5;124;03m    \"\"\"\u001B[39;00m\n\u001B[0;32m--> 144\u001B[0m     \u001B[38;5;28;01mreturn\u001B[39;00m \u001B[43m_isna\u001B[49m\u001B[43m(\u001B[49m\u001B[43mobj\u001B[49m\u001B[43m)\u001B[49m\n",
      "File \u001B[0;32m~/PycharmProjects/bachelor_thesis/venv2/lib/python3.10/site-packages/pandas/core/dtypes/missing.py:173\u001B[0m, in \u001B[0;36m_isna\u001B[0;34m(obj, inf_as_na)\u001B[0m\n\u001B[1;32m    171\u001B[0m     \u001B[38;5;28;01mreturn\u001B[39;00m \u001B[38;5;28;01mFalse\u001B[39;00m\n\u001B[1;32m    172\u001B[0m \u001B[38;5;28;01melif\u001B[39;00m \u001B[38;5;28misinstance\u001B[39m(obj, (np\u001B[38;5;241m.\u001B[39mndarray, ABCExtensionArray)):\n\u001B[0;32m--> 173\u001B[0m     \u001B[38;5;28;01mreturn\u001B[39;00m \u001B[43m_isna_array\u001B[49m\u001B[43m(\u001B[49m\u001B[43mobj\u001B[49m\u001B[43m,\u001B[49m\u001B[43m \u001B[49m\u001B[43minf_as_na\u001B[49m\u001B[38;5;241;43m=\u001B[39;49m\u001B[43minf_as_na\u001B[49m\u001B[43m)\u001B[49m\n\u001B[1;32m    174\u001B[0m \u001B[38;5;28;01melif\u001B[39;00m \u001B[38;5;28misinstance\u001B[39m(obj, ABCIndex):\n\u001B[1;32m    175\u001B[0m     \u001B[38;5;66;03m# Try to use cached isna, which also short-circuits for integer dtypes\u001B[39;00m\n\u001B[1;32m    176\u001B[0m     \u001B[38;5;66;03m#  and avoids materializing RangeIndex._values\u001B[39;00m\n\u001B[1;32m    177\u001B[0m     \u001B[38;5;28;01mif\u001B[39;00m \u001B[38;5;129;01mnot\u001B[39;00m obj\u001B[38;5;241m.\u001B[39m_can_hold_na:\n",
      "File \u001B[0;32m~/PycharmProjects/bachelor_thesis/venv2/lib/python3.10/site-packages/pandas/core/dtypes/missing.py:256\u001B[0m, in \u001B[0;36m_isna_array\u001B[0;34m(values, inf_as_na)\u001B[0m\n\u001B[1;32m    254\u001B[0m \u001B[38;5;28;01melif\u001B[39;00m is_string_or_object_np_dtype(values\u001B[38;5;241m.\u001B[39mdtype):\n\u001B[1;32m    255\u001B[0m     result \u001B[38;5;241m=\u001B[39m _isna_string_dtype(values, inf_as_na\u001B[38;5;241m=\u001B[39minf_as_na)\n\u001B[0;32m--> 256\u001B[0m \u001B[38;5;28;01melif\u001B[39;00m \u001B[43mneeds_i8_conversion\u001B[49m\u001B[43m(\u001B[49m\u001B[43mdtype\u001B[49m\u001B[43m)\u001B[49m:\n\u001B[1;32m    257\u001B[0m     \u001B[38;5;66;03m# this is the NaT pattern\u001B[39;00m\n\u001B[1;32m    258\u001B[0m     result \u001B[38;5;241m=\u001B[39m values\u001B[38;5;241m.\u001B[39mview(\u001B[38;5;124m\"\u001B[39m\u001B[38;5;124mi8\u001B[39m\u001B[38;5;124m\"\u001B[39m) \u001B[38;5;241m==\u001B[39m iNaT\n\u001B[1;32m    259\u001B[0m \u001B[38;5;28;01melse\u001B[39;00m:\n",
      "File \u001B[0;32m~/PycharmProjects/bachelor_thesis/venv2/lib/python3.10/site-packages/pandas/core/dtypes/common.py:1184\u001B[0m, in \u001B[0;36mneeds_i8_conversion\u001B[0;34m(arr_or_dtype)\u001B[0m\n\u001B[1;32m   1182\u001B[0m \u001B[38;5;28;01mif\u001B[39;00m arr_or_dtype \u001B[38;5;129;01mis\u001B[39;00m \u001B[38;5;28;01mNone\u001B[39;00m:\n\u001B[1;32m   1183\u001B[0m     \u001B[38;5;28;01mreturn\u001B[39;00m \u001B[38;5;28;01mFalse\u001B[39;00m\n\u001B[0;32m-> 1184\u001B[0m \u001B[38;5;28;01mif\u001B[39;00m \u001B[38;5;28;43misinstance\u001B[39;49m\u001B[43m(\u001B[49m\u001B[43marr_or_dtype\u001B[49m\u001B[43m,\u001B[49m\u001B[43m \u001B[49m\u001B[43m(\u001B[49m\u001B[43mnp\u001B[49m\u001B[38;5;241;43m.\u001B[39;49m\u001B[43mdtype\u001B[49m\u001B[43m,\u001B[49m\u001B[43m \u001B[49m\u001B[43mExtensionDtype\u001B[49m\u001B[43m)\u001B[49m\u001B[43m)\u001B[49m:\n\u001B[1;32m   1185\u001B[0m     \u001B[38;5;66;03m# fastpath\u001B[39;00m\n\u001B[1;32m   1186\u001B[0m     dtype \u001B[38;5;241m=\u001B[39m arr_or_dtype\n\u001B[1;32m   1187\u001B[0m     \u001B[38;5;28;01mreturn\u001B[39;00m dtype\u001B[38;5;241m.\u001B[39mkind \u001B[38;5;129;01min\u001B[39;00m [\u001B[38;5;124m\"\u001B[39m\u001B[38;5;124mm\u001B[39m\u001B[38;5;124m\"\u001B[39m, \u001B[38;5;124m\"\u001B[39m\u001B[38;5;124mM\u001B[39m\u001B[38;5;124m\"\u001B[39m] \u001B[38;5;129;01mor\u001B[39;00m dtype\u001B[38;5;241m.\u001B[39mtype \u001B[38;5;129;01mis\u001B[39;00m Period\n",
      "\u001B[0;31mKeyboardInterrupt\u001B[0m: "
     ]
    }
   ],
   "source": [
    "train_inputs_total_resampled.to_csv(\"./train_total_gender_target.csv\")\n",
    "test_inputs_total.to_csv(\"./test_total_authors_gender_target.csv\")"
   ],
   "metadata": {
    "collapsed": false
   }
  },
  {
   "cell_type": "code",
   "execution_count": 2,
   "outputs": [
    {
     "ename": "NameError",
     "evalue": "name 'RandomForestClassifier' is not defined",
     "output_type": "error",
     "traceback": [
      "\u001B[0;31m---------------------------------------------------------------------------\u001B[0m",
      "\u001B[0;31mNameError\u001B[0m                                 Traceback (most recent call last)",
      "Input \u001B[0;32mIn [2]\u001B[0m, in \u001B[0;36m<cell line: 1>\u001B[0;34m()\u001B[0m\n\u001B[0;32m----> 1\u001B[0m rfc \u001B[38;5;241m=\u001B[39m \u001B[43mRandomForestClassifier\u001B[49m(random_state\u001B[38;5;241m=\u001B[39m\u001B[38;5;241m42\u001B[39m, n_estimators\u001B[38;5;241m=\u001B[39m\u001B[38;5;241m100\u001B[39m)\n\u001B[1;32m      2\u001B[0m rfc\u001B[38;5;241m.\u001B[39mfit(train_inputs_total_resampled, train_targets_total_resampled)\n",
      "\u001B[0;31mNameError\u001B[0m: name 'RandomForestClassifier' is not defined"
     ]
    }
   ],
   "source": [
    "rfc = RandomForestClassifier(random_state=42, n_estimators=100)\n",
    "rfc.fit(train_inputs_total_resampled, train_targets_total_resampled)"
   ],
   "metadata": {
    "collapsed": false
   }
  },
  {
   "cell_type": "code",
   "execution_count": 1,
   "outputs": [
    {
     "ename": "NameError",
     "evalue": "name 'rfc' is not defined",
     "output_type": "error",
     "traceback": [
      "\u001B[0;31m---------------------------------------------------------------------------\u001B[0m",
      "\u001B[0;31mNameError\u001B[0m                                 Traceback (most recent call last)",
      "Input \u001B[0;32mIn [1]\u001B[0m, in \u001B[0;36m<cell line: 1>\u001B[0;34m()\u001B[0m\n\u001B[0;32m----> 1\u001B[0m \u001B[43mrfc\u001B[49m\u001B[38;5;241m.\u001B[39mscore(test_inputs_total, test_targets_total)\n",
      "\u001B[0;31mNameError\u001B[0m: name 'rfc' is not defined"
     ]
    }
   ],
   "source": [
    "rfc.score(test_inputs_total, test_targets_total)"
   ],
   "metadata": {
    "collapsed": false
   }
  },
  {
   "cell_type": "code",
   "execution_count": 30,
   "outputs": [
    {
     "data": {
      "text/plain": "(array(['Australia', 'Austria', 'Brazil', 'Canada', 'China', 'Czechia',\n        'Denmark', 'Finland', 'France', 'Germany', 'Hong Kong', 'India',\n        'Iraq', 'Israel', 'Italy', 'Japan', 'Macao', 'Morocco',\n        'Netherlands', 'Norway', 'Portugal', 'Romania', 'Saudi Arabia',\n        'Singapore', 'Slovenia', 'South Korea', 'Spain', 'Sweden',\n        'Switzerland', 'Taiwan', 'Turkey', 'United Arab Emirates',\n        'United Kingdom', 'United States'], dtype=object),\n array([ 32,  11,   2,   7, 244,   1,   1,   3,  20,  55,  60,  33,   2,\n          2,  19,  75,   1,   1,   2,  17,  20,   1,   3,  23,   1,  60,\n         30,   3,  27,  22,   1,   1,  53, 173]))"
     },
     "execution_count": 30,
     "metadata": {},
     "output_type": "execute_result"
    }
   ],
   "source": [
    "a = rfc.predict(test_inputs_total)\n",
    "c = np.unique(a, return_counts=True)\n",
    "c"
   ],
   "metadata": {
    "collapsed": false
   }
  },
  {
   "cell_type": "code",
   "execution_count": 24,
   "outputs": [
    {
     "data": {
      "text/plain": "<Figure size 432x288 with 2 Axes>",
      "image/png": "[encoded data removed]"
     },
     "metadata": {
      "needs_background": "light"
     },
     "output_type": "display_data"
    }
   ],
   "source": [
    "plt.Figure(figsize=(15, 15))\n",
    "\n",
    "cm = confusion_matrix(test_targets_total, rfc.predict(test_inputs_total))\n",
    "sn.heatmap(cm, annot=True)\n",
    "\n",
    "#ax1.xlabel('Predicted Label')\n",
    "plt.show()"
   ],
   "metadata": {
    "collapsed": false
   }
  },
  {
   "cell_type": "code",
   "execution_count": null,
   "outputs": [
    {
     "name": "stderr",
     "output_type": "stream",
     "text": [
      "[Parallel(n_jobs=1)]: Using backend SequentialBackend with 1 concurrent workers.\n",
      " This problem is unconstrained.\n"
     ]
    },
    {
     "name": "stdout",
     "output_type": "stream",
     "text": [
      "RUNNING THE L-BFGS-B CODE\n",
      "\n",
      "           * * *\n",
      "\n",
      "Machine precision = 2.220D-16\n",
      " N =     14392975     M =           10\n",
      "\n",
      "At X0         0 variables are exactly at the bounds\n",
      "\n",
      "At iterate    0    f=  1.04651D+04    |proj g|=  2.90848D+09\n",
      "\n",
      "At iterate    1    f=  1.03027D+04    |proj g|=  4.90256D+09\n",
      "\n",
      "At iterate    2    f=  1.01639D+04    |proj g|=  2.86497D+09\n",
      "\n",
      "At iterate    3    f=  1.00883D+04    |proj g|=  9.79688D+09\n"
     ]
    }
   ],
   "source": [
    "#lr_total = LogisticRegression(max_iter=1000, verbose=2) 32.4 at 2/3, 34%, 36,38.36%\n",
    "#lr_total.fit(train_inputs_authors_resampled, train_targets_total_resampled)\n",
    "#lr_total.score(test_inputs_total, test_inputs_total)"
   ],
   "metadata": {
    "collapsed": false
   }
  },
  {
   "cell_type": "code",
   "execution_count": 3,
   "outputs": [
    {
     "ename": "NameError",
     "evalue": "name 'total_targets' is not defined",
     "output_type": "error",
     "traceback": [
      "\u001B[0;31m---------------------------------------------------------------------------\u001B[0m",
      "\u001B[0;31mNameError\u001B[0m                                 Traceback (most recent call last)",
      "Input \u001B[0;32mIn [3]\u001B[0m, in \u001B[0;36m<cell line: 1>\u001B[0;34m()\u001B[0m\n\u001B[0;32m----> 1\u001B[0m \u001B[43mtotal_targets\u001B[49m\n",
      "\u001B[0;31mNameError\u001B[0m: name 'total_targets' is not defined"
     ]
    }
   ],
   "source": [
    "total_targets"
   ],
   "metadata": {
    "collapsed": false
   }
  },
  {
   "cell_type": "code",
   "execution_count": null,
   "outputs": [],
   "source": [],
   "metadata": {
    "collapsed": false
   }
  }
 ],
 "metadata": {
  "kernelspec": {
   "display_name": "Python 3",
   "language": "python",
   "name": "python3"
  },
  "language_info": {
   "codemirror_mode": {
    "name": "ipython",
    "version": 2
   },
   "file_extension": ".py",
   "mimetype": "text/x-python",
   "name": "python",
   "nbconvert_exporter": "python",
   "pygments_lexer": "ipython2",
   "version": "2.7.6"
  }
 },
 "nbformat": 4,
 "nbformat_minor": 0
}
