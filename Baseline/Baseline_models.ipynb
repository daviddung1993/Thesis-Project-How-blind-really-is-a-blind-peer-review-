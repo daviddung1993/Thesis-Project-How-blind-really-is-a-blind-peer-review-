{
 "cells": [
  {
   "cell_type": "code",
   "execution_count": 1,
   "metadata": {
    "collapsed": true
   },
   "outputs": [],
   "source": [
    "import requests\n",
    "import mysql.connector\n",
    "import textdistance\n",
    "import time\n",
    "import random\n",
    "import xmltodict\n",
    "import urllib, urllib.request\n",
    "import matplotlib.pyplot as plt\n",
    "import selenium as se\n",
    "from collections import Counter\n",
    "from bs4 import BeautifulSoup\n",
    "from difflib import SequenceMatcher\n",
    "\n",
    "import pandas as pd"
   ]
  },
  {
   "cell_type": "code",
   "execution_count": 2,
   "metadata": {},
   "outputs": [],
   "source": [
    "cnx = mysql.connector.connect(user='david', password='daviddung1993',\n",
    "                              host='127.0.0.1',\n",
    "                              database='computervision')\n",
    "cursor = cnx.cursor()\n",
    "headers = {\"x-api-key\": \"M7HSjQNeTfai6l7JUiDZB8XYc85BHnHt3R0NXSEd\"}\n",
    "#pg = ProxyGenerator()"
   ]
  },
  {
   "cell_type": "markdown",
   "source": [
    "# Author as input feature"
   ],
   "metadata": {
    "collapsed": false
   }
  },
  {
   "cell_type": "code",
   "execution_count": 4,
   "metadata": {},
   "outputs": [],
   "source": [
    "# Fetch Papers with one author\n",
    "#cursor.execute(\"SET SESSION group_concat_max_len=15000;\")\n",
    "cursor.execute(\"select p.PaperID as PaperID, GROUP_CONCAT(distinct b.AuthoredByID) as authors, count(*) as authorCount,p.Leaf, Avg(a.hIndex) from Papers p, authoredBy b, Authors a where p.PaperID = b.PaperID and b.AuthoredByID != 0 and b.AuthoredByID = a.AuthorID group by p.PaperID, p.Leaf\")\n",
    "temp_table = cursor.fetchall()\n",
    "temp_table_df = pd.DataFrame(temp_table, columns =['ReferencedByID', 'authors', 'authorCount', \"isLeaf\", \"paperCount\"])\n",
    "temp_table_df2 = pd.DataFrame(temp_table, columns =['ReferenceID', 'authors', 'authorCount', \"isLeaf\", \"paperCount\"])\n",
    "cursor.execute(\"select * from referencedBy\")\n",
    "temp_table_reference_by = cursor.fetchall()\n",
    "reference_by_df = pd.DataFrame(temp_table_reference_by, columns =['ReferenceID', 'ReferencedByID'])\n",
    "referenced_paper = temp_table_df[temp_table_df[\"isLeaf\"] == 0]"
   ]
  },
  {
   "cell_type": "code",
   "execution_count": 5,
   "metadata": {},
   "outputs": [],
   "source": [
    "all_references = pd.merge(referenced_paper, reference_by_df, on=\"ReferencedByID\")\n",
    "all_references_w_authors = pd.merge(all_references, temp_table_df2, on=\"ReferenceID\")"
   ]
  },
  {
   "cell_type": "code",
   "execution_count": 6,
   "metadata": {},
   "outputs": [],
   "source": [
    "final_table = all_references_w_authors.groupby([\"ReferencedByID\",\"authors_x\", \"authorCount_x\", \"paperCount_x\"], as_index = False).agg({'authors_y': ','.join})"
   ]
  },
  {
   "cell_type": "code",
   "execution_count": 7,
   "metadata": {},
   "outputs": [
    {
     "data": {
      "text/plain": "                                ReferencedByID   authors_x  authorCount_x  \\\n22    00e7632afa5a7f197e47462e3f3cc7ea325500f6     1807477              1   \n24    010cd20cb3e34afeb21d17fe39c3f171a3621097    48968505              1   \n28    0144bd0be143c725977e51b6e9d24ad627cb6b48   144700150              1   \n40    01e146bda052577befaa964f1cfe3528ff6b6036     2604889              1   \n45    0219af37bd7902472bf8a434046cb4c33eeb31f0  1409093688              1   \n...                                        ...         ...            ...   \n5237  fe5098997cfe6c7f40b90dcfcc0308ef74dcf627     3141914              1   \n5245  fe94d5929f94a430edba6ec22c0a7e4de83cde2f     1722674              1   \n5249  fed29c0b5c15ed8c57eed218e2702639617351ca     1730952              1   \n5256  ff5d09e7b2fb2ac440e2c9a7b8e063efbfce330b     1722674              1   \n5257  ff5e888c01eb11f03b0b2db8916635619783992c  2060229206              1   \n\n     paperCount_x                                          authors_y  \n22        14.0000  145341374,1895356,33354551,6803671,2423230,144...  \n24         0.0000  1687120,1753210,1782282,2117314646,2983898,304...  \n28         2.0000  2372854,3170090,2027354,2108004595,2151330910,...  \n40        10.0000  3160228,1695689,1710604,1407546424,1708655,210...  \n45         8.0000  1737063,1709398,1780112,1746242,12811570,35850...  \n...           ...                                                ...  \n5237       9.0000  1695689,1701686,2064160,143949035,1688882,2060...  \n5245      25.0000  143655949,145327322,1829806,3141932,144783015,...  \n5249      13.0000  1711460,1687120,1753210,1782282,2117314646,298...  \n5256      25.0000  2796589,31641158,2071405842,1722674,1768559,60...  \n5257       2.0000  143774737,144564063,145162067,2078931040,28482...  \n\n[582 rows x 5 columns]",
      "text/html": "<div>\n<style scoped>\n    .dataframe tbody tr th:only-of-type {\n        vertical-align: middle;\n    }\n\n    .dataframe tbody tr th {\n        vertical-align: top;\n    }\n\n    .dataframe thead th {\n        text-align: right;\n    }\n</style>\n<table border=\"1\" class=\"dataframe\">\n  <thead>\n    <tr style=\"text-align: right;\">\n      <th></th>\n      <th>ReferencedByID</th>\n      <th>authors_x</th>\n      <th>authorCount_x</th>\n      <th>paperCount_x</th>\n      <th>authors_y</th>\n    </tr>\n  </thead>\n  <tbody>\n    <tr>\n      <th>22</th>\n      <td>00e7632afa5a7f197e47462e3f3cc7ea325500f6</td>\n      <td>1807477</td>\n      <td>1</td>\n      <td>14.0000</td>\n      <td>145341374,1895356,33354551,6803671,2423230,144...</td>\n    </tr>\n    <tr>\n      <th>24</th>\n      <td>010cd20cb3e34afeb21d17fe39c3f171a3621097</td>\n      <td>48968505</td>\n      <td>1</td>\n      <td>0.0000</td>\n      <td>1687120,1753210,1782282,2117314646,2983898,304...</td>\n    </tr>\n    <tr>\n      <th>28</th>\n      <td>0144bd0be143c725977e51b6e9d24ad627cb6b48</td>\n      <td>144700150</td>\n      <td>1</td>\n      <td>2.0000</td>\n      <td>2372854,3170090,2027354,2108004595,2151330910,...</td>\n    </tr>\n    <tr>\n      <th>40</th>\n      <td>01e146bda052577befaa964f1cfe3528ff6b6036</td>\n      <td>2604889</td>\n      <td>1</td>\n      <td>10.0000</td>\n      <td>3160228,1695689,1710604,1407546424,1708655,210...</td>\n    </tr>\n    <tr>\n      <th>45</th>\n      <td>0219af37bd7902472bf8a434046cb4c33eeb31f0</td>\n      <td>1409093688</td>\n      <td>1</td>\n      <td>8.0000</td>\n      <td>1737063,1709398,1780112,1746242,12811570,35850...</td>\n    </tr>\n    <tr>\n      <th>...</th>\n      <td>...</td>\n      <td>...</td>\n      <td>...</td>\n      <td>...</td>\n      <td>...</td>\n    </tr>\n    <tr>\n      <th>5237</th>\n      <td>fe5098997cfe6c7f40b90dcfcc0308ef74dcf627</td>\n      <td>3141914</td>\n      <td>1</td>\n      <td>9.0000</td>\n      <td>1695689,1701686,2064160,143949035,1688882,2060...</td>\n    </tr>\n    <tr>\n      <th>5245</th>\n      <td>fe94d5929f94a430edba6ec22c0a7e4de83cde2f</td>\n      <td>1722674</td>\n      <td>1</td>\n      <td>25.0000</td>\n      <td>143655949,145327322,1829806,3141932,144783015,...</td>\n    </tr>\n    <tr>\n      <th>5249</th>\n      <td>fed29c0b5c15ed8c57eed218e2702639617351ca</td>\n      <td>1730952</td>\n      <td>1</td>\n      <td>13.0000</td>\n      <td>1711460,1687120,1753210,1782282,2117314646,298...</td>\n    </tr>\n    <tr>\n      <th>5256</th>\n      <td>ff5d09e7b2fb2ac440e2c9a7b8e063efbfce330b</td>\n      <td>1722674</td>\n      <td>1</td>\n      <td>25.0000</td>\n      <td>2796589,31641158,2071405842,1722674,1768559,60...</td>\n    </tr>\n    <tr>\n      <th>5257</th>\n      <td>ff5e888c01eb11f03b0b2db8916635619783992c</td>\n      <td>2060229206</td>\n      <td>1</td>\n      <td>2.0000</td>\n      <td>143774737,144564063,145162067,2078931040,28482...</td>\n    </tr>\n  </tbody>\n</table>\n<p>582 rows × 5 columns</p>\n</div>"
     },
     "execution_count": 7,
     "metadata": {},
     "output_type": "execute_result"
    }
   ],
   "source": [
    "# Check for authorCount = 1\n",
    "#final_table_one_author = final_table.loc[(final_table[\"paperCount_x\"] >= 250) & (final_table[\"paperCount_x\"] > 250)]\n",
    "#print(len(final_table_one_author))\n",
    "#final_table_one_author = final_table\n",
    "#&  & (final_table[\"paperCount_x\"] >= 5) & (final_table[\"paperCount_x\"] < 10)\n",
    "final_table_one_author = final_table[final_table[\"authorCount_x\"] == 1]\n",
    "#final_table_one_author = final_table\n",
    "final_table_one_author"
   ]
  },
  {
   "cell_type": "markdown",
   "source": [
    "### Simple Count approach"
   ],
   "metadata": {
    "collapsed": false
   }
  },
  {
   "cell_type": "code",
   "execution_count": 17,
   "outputs": [],
   "source": [
    "def author_matches(top_n, cited_list, cur_authors, remove_ties = True):\n",
    "    most_cited = cited_list[:top_n]\n",
    "    list_index = most_cited[-1][1]\n",
    "    most_cited_author_ids = [x[0] for x in most_cited if x[1] == list_index]\n",
    "    all_cited_with_index = [x[0] for x in cited_list if x[1] == list_index]\n",
    "\n",
    "    for author in all_cited_with_index:\n",
    "        if author not in most_cited_author_ids:\n",
    "            most_cited = filter(lambda x: x[1] != list_index, most_cited)\n",
    "\n",
    "    for author in cur_authors:\n",
    "        if author in [author[0] for author in most_cited]:\n",
    "            return True\n",
    "    return False"
   ],
   "metadata": {
    "collapsed": false
   }
  },
  {
   "cell_type": "code",
   "execution_count": 9,
   "metadata": {},
   "outputs": [
    {
     "data": {
      "text/plain": "0.17869415807560138"
     },
     "execution_count": 9,
     "metadata": {},
     "output_type": "execute_result"
    }
   ],
   "source": [
    "totalCount = 0\n",
    "totalCorrect = 0\n",
    "matched = []\n",
    "for row in final_table_one_author.iterrows():\n",
    "    most_cited_authors = []\n",
    "    authors = row[1][\"authors_x\"].split(\",\")\n",
    "    cited_authors = row[1][\"authors_y\"].split(\",\")\n",
    "    all_cited = dict(Counter(cited_authors))\n",
    "    all_cited_sorted = sorted([(cited, all_cited[cited]) for cited in all_cited], key=lambda x:x[1], reverse=True)\n",
    "    if author_matches(1, all_cited_sorted, authors):\n",
    "        totalCorrect += 1\n",
    "        matched.append(row[1][\"ReferencedByID\"])\n",
    "    totalCount += 1\n",
    "totalCorrect/totalCount"
   ]
  },
  {
   "cell_type": "markdown",
   "metadata": {},
   "source": [
    "\n",
    "| 1       | 2     | 3     | 4     | max   |\n",
    "|---------|-------|-------|-------|-------|\n",
    "| 22      | 27.84 | 31.44 | 33.33 | 56.35 |\n",
    "| 18.88   | 25.07 | 29.7  | 31.72 | 63.28 |\n",
    "| 25.57   | 33.19 | 37.08 | 40.33 | 71.93 |\n",
    "| 26.88   | 35.29 | 39.78 | 43.99 | 78.49 |\n",
    "|---------|-------|-------|-------|-------|\n",
    "| 25.24 | 32.57 | 37.03 | 40.06 | 71.29 |\n",
    "\n",
    "### Remove Ties\n",
    "\n",
    "| 1         | 2       | 3       | 4       | max   |\n",
    "|-----------|---------|---------|---------|-------|\n",
    "| 17.9      | 24.57   | 28.35   | 30.58   | 56.35 |\n",
    "| 13.36     | 19.02   | 20.75   | 23.06   | 63.28 |\n",
    "| 18.36     | 22.80   | 25.09   | 25.92   | 71.93 |\n",
    "| 19.55     | 24.24   | 26.00   | 25.12   | 78.49 |\n",
    "| --------- | ------- | ------- | ------- |-------|\n",
    "| 18.25     | 22.60    | 24.34   | 25.52   | 71.29 |\n",
    "\n",
    "### Weight per paper\n",
    "\n",
    "| 1         | 2       | 3       | 4       | max   |\n",
    "|-----------|---------|---------|---------|-------|\n",
    "| 23.54     | 30.07   | 33.68   | 37.11   | 56.35 |\n",
    "| 15.75     | 20.37   | 24.18   | 24.93   | 63.28 |\n",
    "| 16.98     | 22.52   | 26.06   | 29.38   | 71.93 |\n",
    "| 17.79     | 22.29   | 24.93   | 26.78   | 78.49 |\n",
    "| --------- | ------- | ------- | ------- |-------|\n",
    "| 17.96     | 22.84    | 25.90   | 28.05   | 71.29 |\n",
    "\n",
    "All papers & Top 1 of all authorCounts for average papercount\n",
    "853 |  882 | 839 | 944 | 667 | 1081\n",
    "\n",
    "| < 33 | 33-66 | 66-100 | 100-150 | 150-200 | >200   |\n",
    "|------|-------|--------|---------|---------|--------|\n",
    "| 5.81 | 14.17  | 16.81  | 20.97   | 25.64   | 24.14  |\n",
    "| 4.8 | 12.7 | 18.47 | 22.03 | 21.6 | 26.46 |\n",
    "\n",
    "\n",
    "Papers with 1 author\n",
    "\n",
    "all papercounts: 23.54\n",
    ">= 25: 32.47\n",
    ">= 50: 39.84\n",
    ">= 100: 44.29\n",
    ">= 150: 48.86\n",
    "> Top 10: 50%\n",
    "\n",
    "Average hIndex\n",
    "\n",
    "[0.1796429927838967,\n",
    " 0.21138211382113822,\n",
    " 0.2370266479663394,\n",
    " 0.25058823529411767,\n",
    " 0.26288659793814434]\n"
   ]
  },
  {
   "cell_type": "markdown",
   "source": [
    "### Weighted simple count approach"
   ],
   "metadata": {
    "collapsed": false
   }
  },
  {
   "cell_type": "code",
   "execution_count": 215,
   "outputs": [],
   "source": [
    "def weighted_simple_count(final_table_one_author):\n",
    "    totalCount = 0\n",
    "    totalCorrect = 0\n",
    "    print(len(final_table_one_author))\n",
    "    for row in final_table_one_author.iterrows():\n",
    "        referenced_papers = all_references_w_authors[all_references_w_authors[\"ReferencedByID\"] == row[1][\"ReferencedByID\"]]\n",
    "        authors = row[1][\"authors_x\"].split(\",\")\n",
    "        referenced_authors = {}\n",
    "        for ref in referenced_papers.iterrows():\n",
    "            ref_authors = ref[1][\"authors_y\"].split(\",\")\n",
    "            weight = 1/len(ref_authors)\n",
    "            for ref_author in ref_authors:\n",
    "                if ref_author not in referenced_authors:\n",
    "                    referenced_authors[ref_author] = 0\n",
    "                referenced_authors[ref_author] += weight\n",
    "\n",
    "        all_cited_sorted = sorted([(cited, referenced_authors[cited]) for cited in referenced_authors], key=lambda x:x[1], reverse=True)\n",
    "        if author_matches(1, all_cited_sorted, authors):\n",
    "            totalCorrect += 1\n",
    "        totalCount += 1\n",
    "    if totalCount == 0:\n",
    "        return 0\n",
    "    return totalCorrect/totalCount"
   ],
   "metadata": {
    "collapsed": false
   }
  },
  {
   "cell_type": "code",
   "execution_count": 231,
   "outputs": [
    {
     "name": "stdout",
     "output_type": "stream",
     "text": [
      "10\n"
     ]
    },
    {
     "data": {
      "text/plain": "0.5"
     },
     "execution_count": 231,
     "metadata": {},
     "output_type": "execute_result"
    }
   ],
   "source": [
    "weighted_simple_count(final_table_one_author[-10:])"
   ],
   "metadata": {
    "collapsed": false
   }
  },
  {
   "cell_type": "code",
   "execution_count": 172,
   "outputs": [],
   "source": [
    "def hIndex_accuracies(buckets, max_value, final_table_temp):\n",
    "    start_value = 0\n",
    "    accuracies = []\n",
    "    break_out = False\n",
    "    while not break_out:\n",
    "        bucket_value = start_value + buckets\n",
    "        if start_value >= max_value:\n",
    "            bucket_value = 100000\n",
    "            break_out = True\n",
    "        filtered_table = final_table_temp.loc[(final_table_temp[\"paperCount_x\"] >= start_value)]\n",
    "        print(len(filtered_table))\n",
    "        accuracies.append(weighted_simple_count(filtered_table))\n",
    "        start_value += buckets\n",
    "    return accuracies"
   ],
   "metadata": {
    "collapsed": false
   }
  },
  {
   "cell_type": "code",
   "execution_count": 176,
   "outputs": [
    {
     "name": "stdout",
     "output_type": "stream",
     "text": [
      "5266\n",
      "4182\n",
      "2852\n",
      "1700\n",
      "970\n"
     ]
    },
    {
     "data": {
      "text/plain": "[0.1796429927838967,\n 0.21138211382113822,\n 0.2370266479663394,\n 0.25058823529411767,\n 0.26288659793814434]"
     },
     "execution_count": 176,
     "metadata": {},
     "output_type": "execute_result"
    }
   ],
   "source": [
    "hIndex_accuracies(10, 40, final_table)"
   ],
   "metadata": {
    "collapsed": false
   }
  },
  {
   "cell_type": "markdown",
   "source": [
    "# Affiliation"
   ],
   "metadata": {
    "collapsed": false
   }
  },
  {
   "cell_type": "code",
   "execution_count": 9,
   "outputs": [],
   "source": [
    "cursor.execute(\"select p.PaperID, count(*) as authorCount from authoredBy a, Papers p where p.PaperID = a.PaperID and p.Leaf = 0 and a.AuthoredByID != 0 group by p.PaperID\")\n",
    "authorCount = cursor.fetchall()\n",
    "temp_authorCount_table_df = pd.DataFrame(authorCount, columns=[\"PaperID_y\", \"authorCount\"])"
   ],
   "metadata": {
    "collapsed": false
   }
  },
  {
   "cell_type": "code",
   "execution_count": 11,
   "metadata": {},
   "outputs": [],
   "source": [
    "cursor.execute(\"select p.PaperID, group_concat(t.affiliatedTo) from Authors a, affiliatedTo t, Papers p, authoredBy b where p.PaperID = b.PaperID and b.AuthoredByID = a.AuthorID and a.AuthorID = t.AuthorID and t.affiliatedTo != 1 group by p.PaperID\")\n",
    "grouped_affiliations = cursor.fetchall()\n",
    "cursor.execute(\"select * from referencedBy\")\n",
    "references = cursor.fetchall()\n",
    "temp_ref_table_df = pd.DataFrame(references, columns=[\"reference_id\", \"referenced_by_id\"])\n",
    "temp_aff_table_df = pd.DataFrame(grouped_affiliations, columns =['PaperID', 'affiliations'])"
   ]
  },
  {
   "cell_type": "code",
   "execution_count": 12,
   "outputs": [],
   "source": [
    "temp1 = pd.merge(temp_ref_table_df, temp_aff_table_df, how=\"inner\",left_on=\"referenced_by_id\", right_on=\"PaperID\")\n",
    "temp1 = pd.merge(temp_aff_table_df, temp1, how=\"inner\", left_on=\"PaperID\", right_on=\"reference_id\")\n",
    "temp1 = pd.merge(temp_authorCount_table_df, temp1, how=\"inner\", on=\"PaperID_y\")\n",
    "final_table = temp1.groupby([\"PaperID_y\",\"affiliations_y\", \"authorCount\"], as_index = False).agg({'affiliations_x': ','.join})\n",
    "final_table_filtered = final_table"
   ],
   "metadata": {
    "collapsed": false
   }
  },
  {
   "cell_type": "code",
   "execution_count": 336,
   "outputs": [
    {
     "data": {
      "text/plain": "0.41933445661331087"
     },
     "execution_count": 336,
     "metadata": {},
     "output_type": "execute_result"
    }
   ],
   "source": [
    "total_count = 0\n",
    "correct_count = 0\n",
    "for row in final_table_filtered.iterrows():\n",
    "    target_affiliations = row[1][\"affiliations_y\"].split(\",\")\n",
    "    input_affiliations = row[1][\"affiliations_x\"].split(\",\")\n",
    "    all_cited_affiliations = dict(Counter(input_affiliations))\n",
    "    sorted_affiliations = sorted(all_cited_affiliations.items(), key=lambda x: x[1], reverse=True)\n",
    "    if author_matches(4, sorted_affiliations, target_affiliations):\n",
    "        correct_count += 1\n",
    "    total_count += 1\n",
    "correct_count/total_count"
   ],
   "metadata": {
    "collapsed": false
   }
  },
  {
   "cell_type": "code",
   "execution_count": 371,
   "outputs": [
    {
     "data": {
      "text/plain": "0.8159224936815501"
     },
     "execution_count": 371,
     "metadata": {},
     "output_type": "execute_result"
    }
   ],
   "source": [
    "# Weighted affiliations\n",
    "total_count = 0\n",
    "correct_count = 0\n",
    "for row in final_table_filtered.iterrows():\n",
    "    target_affiliations = row[1][\"affiliations_y\"].split(\",\")\n",
    "    referenced_affiliations = temp1[temp1[\"referenced_by_id\"] == row[1][\"PaperID_y\"]]\n",
    "    all_cited_affiliations = {}\n",
    "    for ref in referenced_affiliations.iterrows():\n",
    "        ref_affiliations = ref[1][\"affiliations_x\"].split(\",\")\n",
    "        weight = 1/len(ref_affiliations)\n",
    "        for ref_author in ref_affiliations:\n",
    "            if ref_author not in all_cited_affiliations:\n",
    "                all_cited_affiliations[ref_author] = 0\n",
    "            all_cited_affiliations[ref_author] += weight\n",
    "    sorted_affiliations = sorted(all_cited_affiliations.items(), key=lambda x: x[1], reverse=True)\n",
    "    if author_matches(40000, sorted_affiliations, target_affiliations):\n",
    "        correct_count += 1\n",
    "    total_count += 1\n",
    "correct_count/total_count"
   ],
   "metadata": {
    "collapsed": false
   }
  },
  {
   "cell_type": "markdown",
   "source": [
    "# Solution\n",
    "\n",
    "Remove Ties no weights:\n",
    "\n",
    "| 1         | 2       | 3       | 4       | max     |\n",
    "|-----------|---------|---------|---------|---------|\n",
    "| 19.18     | 31.2    | 37.34   | 44.50   | 76.47   |\n",
    "| 19.10     | 27.74   | 32.84   | 36.90   | 76.75   |\n",
    "| 25.50     | 38.88   | 38.29   | 41.26   | 80.74   |\n",
    "| 25.50     | 35.10   | 39.10   | 41.00   | 83.50   |\n",
    "| --------- | ------- | ------- | ------- | ------- |\n",
    "| 25.93     | 34.81   | 38.92   | 41.93   | 81.59   |\n",
    "\n",
    "Including weights:\n",
    "\n",
    "| 1         | 2       | 3       | 4      | max     |\n",
    "|-----------|---------|---------|--------|---------|\n",
    "| 31.97     | 42.46   | 48.59   | 52.69  | 76.47   |\n",
    "| 23.77     | 33.54   | 40.54   | 44.08  | 76.75   |\n",
    "| 28.85     | 33.09   | 43.49   | 46.91  | 80.74   |\n",
    "| 26.30     | 37.10   | 45.90   | 49.00  | 83.50   |\n",
    "| --------- | ------- | ------- | ------ | ------- |\n",
    "| 29.00     | 39.44   | 46.08   | 49.01  | 81.59   |\n"
   ],
   "metadata": {
    "collapsed": false
   }
  },
  {
   "cell_type": "markdown",
   "source": [
    "# Country"
   ],
   "metadata": {
    "collapsed": false
   }
  },
  {
   "cell_type": "code",
   "execution_count": 6,
   "outputs": [],
   "source": [
    "cursor.execute(\"select p.PaperID, group_concat(af.Country) from Authors a, affiliatedTo t, Papers p, authoredBy b, Affiliations af where p.PaperID = b.PaperID and b.AuthoredByID = a.AuthorID and a.AuthorID = t.AuthorID and t.affiliatedTo = af.AffiliationID and af.Country is not NULL group by p.PaperID\")\n",
    "grouped_affiliations = cursor.fetchall()\n",
    "cursor.execute(\"select * from referencedBy\")\n",
    "references = cursor.fetchall()\n",
    "temp_ref_table_df = pd.DataFrame(references, columns=[\"reference_id\", \"referenced_by_id\"])\n",
    "temp_aff_table_df = pd.DataFrame(grouped_affiliations, columns =['PaperID', 'country'])"
   ],
   "metadata": {
    "collapsed": false
   }
  },
  {
   "cell_type": "code",
   "execution_count": 14,
   "outputs": [],
   "source": [
    "temp1 = pd.merge(temp_ref_table_df, temp_aff_table_df, how=\"inner\",left_on=\"referenced_by_id\", right_on=\"PaperID\")\n",
    "temp1 = pd.merge(temp_aff_table_df, temp1, how=\"inner\", left_on=\"PaperID\", right_on=\"reference_id\")\n",
    "temp1 = pd.merge(temp_authorCount_table_df, temp1, how=\"inner\", on=\"PaperID_y\")\n",
    "final_table = temp1.groupby([\"PaperID_y\",\"country_y\", \"authorCount\"], as_index = False).agg({'country_x': ','.join})\n",
    "final_table = final_table"
   ],
   "metadata": {
    "collapsed": false
   }
  },
  {
   "cell_type": "code",
   "execution_count": 18,
   "outputs": [
    {
     "data": {
      "text/plain": "0.4782334384858044"
     },
     "execution_count": 18,
     "metadata": {},
     "output_type": "execute_result"
    }
   ],
   "source": [
    "# weighted countries\n",
    "total_count = 0\n",
    "correct_count = 0\n",
    "for row in final_table.iterrows():\n",
    "    target_country = row[1][\"country_y\"].split(\",\")\n",
    "    input_country = row[1][\"country_x\"].split(\",\")\n",
    "    all_cited_countries = dict(Counter(input_country))\n",
    "    sorted_countries = sorted(all_cited_countries.items(), key=lambda x: x[1], reverse=True)\n",
    "    if author_matches(1, sorted_countries, target_country):\n",
    "        correct_count += 1\n",
    "    total_count += 1\n",
    "correct_count/total_count"
   ],
   "metadata": {
    "collapsed": false
   }
  },
  {
   "cell_type": "code",
   "execution_count": 19,
   "outputs": [
    {
     "data": {
      "text/plain": "0.44647739221871713"
     },
     "execution_count": 19,
     "metadata": {},
     "output_type": "execute_result"
    }
   ],
   "source": [
    "total_count = 0\n",
    "correct_count = 0\n",
    "for row in final_table.iterrows():\n",
    "    target_country = row[1][\"country_y\"].split(\",\")\n",
    "    referenced_countries = temp1[temp1[\"referenced_by_id\"] == row[1][\"PaperID_y\"]]\n",
    "    all_cited_countries = {}\n",
    "    for ref in referenced_countries.iterrows():\n",
    "        ref_countries = ref[1][\"country_x\"].split(\",\")\n",
    "        weight = 1/len(ref_countries)\n",
    "        for ref_country in ref_countries:\n",
    "            if ref_country not in all_cited_countries:\n",
    "                all_cited_countries[ref_country] = 0\n",
    "            all_cited_countries[ref_country] += weight\n",
    "    sorted_countries = sorted(all_cited_countries.items(), key=lambda x: x[1], reverse=True)\n",
    "    if author_matches(1, sorted_countries, target_country):\n",
    "        correct_count += 1\n",
    "    total_count += 1\n",
    "correct_count/total_count"
   ],
   "metadata": {
    "collapsed": false
   }
  },
  {
   "cell_type": "markdown",
   "source": [
    "# Solution\n",
    "\n",
    "Remove Ties no weights:\n",
    "\n",
    "| 1         | 2       | 3       | 4      | max     |\n",
    "|-----------|---------|---------|--------|---------|\n",
    "| 29.77     | 47.33   | 58.52   | 69.21  | 89.82   |\n",
    "| 39.26     | 55.82   | 63.59   | 68.51  | 89.13   |\n",
    "| 46.54     | 64.83   | 71.60   | 75.84  | 92.86   |\n",
    "| 52.75     | 69.73   | 75.12   | 79.12  | 95.00   |\n",
    "| --------- | ------- | ------- | ------ | ------- |\n",
    "| 47.82     | 64.98   | 71.40   | 76.28  | 92.91   |\n",
    "\n",
    "Remove Ties with weights:\n",
    "\n",
    "| 1         | 2       | 3       | 4      | max     |\n",
    "|-----------|---------|---------|--------|---------|\n",
    "| 29.77     | 47.33   | 58.52   | 69.21  | 89.82   |\n",
    "| 39.26     | 55.82   | 63.59   | 68.51  | 89.13   |\n",
    "| 46.54     | 64.83   | 71.60   | 75.84  | 92.86   |\n",
    "| 52.75     | 69.73   | 75.12   | 79.12  | 95.00   |\n",
    "| --------- | ------- | ------- | ------ | ------- |\n",
    "| 47.82     | 64.98   | 71.40   | 76.28  | 92.91   |"
   ],
   "metadata": {
    "collapsed": false
   }
  },
  {
   "cell_type": "markdown",
   "source": [
    "# Gender"
   ],
   "metadata": {
    "collapsed": false
   }
  },
  {
   "cell_type": "code",
   "execution_count": 63,
   "outputs": [
    {
     "data": {
      "text/plain": "                                     PaperID_y gender_y  authorCount  \\\n1     00202f23535fcef5043ec854e18cf0bd5334ced2      0,0            2   \n2     0024437badc418b788a7c3459441bb811eab7670      1,0            2   \n5     0049f82713993ba0da269a8160c8b825299ba397      1,0            2   \n17    00ce3ccd8062f3191986ad1a4e9099a784a39a5f      0,0            2   \n20    00e030562704fe34c82c871148864e6092fde0f9      1,0            2   \n...                                        ...      ...          ...   \n5250  ff0b456110a7c2612fcb71860fac8efcb9dd0dbb      0,0            2   \n5254  ff748e293e9d37aa5399465ba34032038dfc608e      0,1            2   \n5256  ff8900a0ea63210a08ad3bd698e3974e1021d03d      0,0            2   \n5258  ffa8b7851070676f10e7904f02d47ead448da46d      0,0            2   \n5261  fffb53e84dd47049f5d2b5baa9dbfeeffc1d4a02      0,0            2   \n\n                                               gender_x  \n1     0,0,0,0,0,0,0,0,0,0,0,0,0,0,0,0,0,0,0,0,0,0,0,...  \n2     0,0,0,0,0,0,0,0,1,0,0,0,1,0,0,0,0,0,0,1,0,0,0,...  \n5             0,0,0,0,0,0,0,1,1,0,0,0,0,1,0,0,0,0,0,0,0  \n17    0,0,0,0,0,0,0,0,1,0,0,0,0,1,0,0,0,0,0,0,0,0,0,...  \n20    0,0,1,1,0,0,0,0,1,0,0,0,0,0,0,0,0,0,1,1,0,0,0,...  \n...                                                 ...  \n5250  0,0,0,0,0,0,0,0,0,1,0,0,0,1,0,0,0,0,0,1,1,0,0,...  \n5254  0,0,0,0,0,0,0,0,0,0,0,0,1,0,0,0,0,0,0,0,0,0,0,...  \n5256  0,0,0,0,0,0,0,0,0,0,0,0,0,0,0,0,0,0,0,0,0,0,0,...  \n5258  0,0,0,0,1,0,1,0,0,1,0,0,1,0,0,0,0,0,0,0,0,0,1,...  \n5261  1,0,0,0,0,1,0,0,0,0,0,1,1,0,1,0,0,1,0,1,1,0,1,...  \n\n[1338 rows x 4 columns]",
      "text/html": "<div>\n<style scoped>\n    .dataframe tbody tr th:only-of-type {\n        vertical-align: middle;\n    }\n\n    .dataframe tbody tr th {\n        vertical-align: top;\n    }\n\n    .dataframe thead th {\n        text-align: right;\n    }\n</style>\n<table border=\"1\" class=\"dataframe\">\n  <thead>\n    <tr style=\"text-align: right;\">\n      <th></th>\n      <th>PaperID_y</th>\n      <th>gender_y</th>\n      <th>authorCount</th>\n      <th>gender_x</th>\n    </tr>\n  </thead>\n  <tbody>\n    <tr>\n      <th>1</th>\n      <td>00202f23535fcef5043ec854e18cf0bd5334ced2</td>\n      <td>0,0</td>\n      <td>2</td>\n      <td>0,0,0,0,0,0,0,0,0,0,0,0,0,0,0,0,0,0,0,0,0,0,0,...</td>\n    </tr>\n    <tr>\n      <th>2</th>\n      <td>0024437badc418b788a7c3459441bb811eab7670</td>\n      <td>1,0</td>\n      <td>2</td>\n      <td>0,0,0,0,0,0,0,0,1,0,0,0,1,0,0,0,0,0,0,1,0,0,0,...</td>\n    </tr>\n    <tr>\n      <th>5</th>\n      <td>0049f82713993ba0da269a8160c8b825299ba397</td>\n      <td>1,0</td>\n      <td>2</td>\n      <td>0,0,0,0,0,0,0,1,1,0,0,0,0,1,0,0,0,0,0,0,0</td>\n    </tr>\n    <tr>\n      <th>17</th>\n      <td>00ce3ccd8062f3191986ad1a4e9099a784a39a5f</td>\n      <td>0,0</td>\n      <td>2</td>\n      <td>0,0,0,0,0,0,0,0,1,0,0,0,0,1,0,0,0,0,0,0,0,0,0,...</td>\n    </tr>\n    <tr>\n      <th>20</th>\n      <td>00e030562704fe34c82c871148864e6092fde0f9</td>\n      <td>1,0</td>\n      <td>2</td>\n      <td>0,0,1,1,0,0,0,0,1,0,0,0,0,0,0,0,0,0,1,1,0,0,0,...</td>\n    </tr>\n    <tr>\n      <th>...</th>\n      <td>...</td>\n      <td>...</td>\n      <td>...</td>\n      <td>...</td>\n    </tr>\n    <tr>\n      <th>5250</th>\n      <td>ff0b456110a7c2612fcb71860fac8efcb9dd0dbb</td>\n      <td>0,0</td>\n      <td>2</td>\n      <td>0,0,0,0,0,0,0,0,0,1,0,0,0,1,0,0,0,0,0,1,1,0,0,...</td>\n    </tr>\n    <tr>\n      <th>5254</th>\n      <td>ff748e293e9d37aa5399465ba34032038dfc608e</td>\n      <td>0,1</td>\n      <td>2</td>\n      <td>0,0,0,0,0,0,0,0,0,0,0,0,1,0,0,0,0,0,0,0,0,0,0,...</td>\n    </tr>\n    <tr>\n      <th>5256</th>\n      <td>ff8900a0ea63210a08ad3bd698e3974e1021d03d</td>\n      <td>0,0</td>\n      <td>2</td>\n      <td>0,0,0,0,0,0,0,0,0,0,0,0,0,0,0,0,0,0,0,0,0,0,0,...</td>\n    </tr>\n    <tr>\n      <th>5258</th>\n      <td>ffa8b7851070676f10e7904f02d47ead448da46d</td>\n      <td>0,0</td>\n      <td>2</td>\n      <td>0,0,0,0,1,0,1,0,0,1,0,0,1,0,0,0,0,0,0,0,0,0,1,...</td>\n    </tr>\n    <tr>\n      <th>5261</th>\n      <td>fffb53e84dd47049f5d2b5baa9dbfeeffc1d4a02</td>\n      <td>0,0</td>\n      <td>2</td>\n      <td>1,0,0,0,0,1,0,0,0,0,0,1,1,0,1,0,0,1,0,1,1,0,1,...</td>\n    </tr>\n  </tbody>\n</table>\n<p>1338 rows × 4 columns</p>\n</div>"
     },
     "execution_count": 63,
     "metadata": {},
     "output_type": "execute_result"
    }
   ],
   "source": [
    "cursor.execute(\"select p.PaperID, group_concat(a.Gender) from Papers p, authoredBy b, Authors a where p.PaperID = b.PaperID and b.AuthoredByID = a.AuthorID and a.Gender is not null group by p.PaperID\")\n",
    "grouped_gender = cursor.fetchall()\n",
    "temp_gender_table_df = pd.DataFrame(grouped_gender, columns =['PaperID', 'gender'])\n",
    "temp1 = pd.merge(temp_ref_table_df, temp_gender_table_df, how=\"inner\",left_on=\"referenced_by_id\", right_on=\"PaperID\")\n",
    "temp1 = pd.merge(temp_gender_table_df, temp1, how=\"inner\", left_on=\"PaperID\", right_on=\"reference_id\")\n",
    "temp1 = pd.merge(temp_authorCount_table_df, temp1, how=\"inner\", on=\"PaperID_y\")\n",
    "final_table = temp1.groupby([\"PaperID_y\",\"gender_y\", \"authorCount\"], as_index = False).agg({'gender_x': ','.join})\n",
    "final_table = final_table[final_table[\"authorCount\"] == 2]\n",
    "final_table"
   ],
   "metadata": {
    "collapsed": false
   }
  },
  {
   "cell_type": "code",
   "execution_count": 74,
   "outputs": [],
   "source": [
    "male_dist = []\n",
    "female_dist = []\n",
    "for row in final_table.iterrows():\n",
    "\n",
    "    input_gender = row[1][\"gender_x\"].split(\",\")\n",
    "    distribution_females = input_gender.count(\"1\")/len(input_gender)\n",
    "    #print(distribution_females)\n",
    "    if row[1][\"gender_y\"] == \"1,0\" or row[1][\"gender_y\"] == \"0,1\":\n",
    "        female_dist.append(distribution_females)\n",
    "    elif row[1][\"gender_y\"] == \"0,0\":\n",
    "        male_dist.append(distribution_females)"
   ],
   "metadata": {
    "collapsed": false
   }
  },
  {
   "cell_type": "code",
   "execution_count": 75,
   "outputs": [
    {
     "name": "stdout",
     "output_type": "stream",
     "text": [
      "0.12824405793494628\n",
      "0.15758076567148993\n",
      "0.13634902416470795\n"
     ]
    }
   ],
   "source": [
    "print(sum(male_dist)/len(male_dist))\n",
    "print(sum(female_dist)/len(female_dist))\n",
    "print((sum(female_dist)+sum(male_dist))/(len(female_dist)+len(male_dist)))"
   ],
   "metadata": {
    "collapsed": false
   }
  },
  {
   "cell_type": "code",
   "execution_count": 61,
   "outputs": [
    {
     "data": {
      "text/plain": "0.8844827586206897"
     },
     "execution_count": 61,
     "metadata": {},
     "output_type": "execute_result"
    }
   ],
   "source": [
    "correct = 0\n",
    "total = 0\n",
    "for row in final_table.iterrows():\n",
    "    input_gender = row[1][\"gender_x\"].split(\",\")\n",
    "    distribution_females = input_gender.count(\"1\")/len(input_gender)\n",
    "    if distribution_females > 0.9:\n",
    "        if row[1][\"gender_y\"] == \"1\":\n",
    "            correct += 1\n",
    "    else:\n",
    "        if row[1][\"gender_y\"] == \"0\":\n",
    "            correct += 1\n",
    "    total += 1\n",
    "correct/total"
   ],
   "metadata": {
    "collapsed": false
   }
  },
  {
   "cell_type": "markdown",
   "source": [
    "Single female authors tend to cite other females with 25% whereas males have a lower female distribution by 14 %\n",
    "But how does the distribution for multiple authors look like?"
   ],
   "metadata": {
    "collapsed": false
   }
  },
  {
   "cell_type": "code",
   "execution_count": 476,
   "outputs": [],
   "source": [
    "female_distribution = pd.DataFrame(columns=[\"author_distr\", \"ref_distr\"])\n",
    "for row in final_table.iterrows():\n",
    "    target_gender = row[1][\"gender_y\"].split(\",\")\n",
    "    target_females = target_gender.count(\"1\")/len(target_gender)\n",
    "    feature_gender = row[1][\"gender_x\"].split(\",\")\n",
    "    feature_females = feature_gender.count(\"1\")/len(feature_gender)\n",
    "    female_distribution.loc[len(female_distribution)] = [target_females,feature_females]\n",
    "\n",
    "female_distribution = female_distribution.groupby([\"author_distr\"], as_index = False).mean(\"ref_distr\").sort_values(\"author_distr\")\n",
    "author_dist = female_distribution[\"author_distr\"].to_numpy()\n",
    "ref_dist = female_distribution[\"ref_distr\"].to_numpy()"
   ],
   "metadata": {
    "collapsed": false
   }
  },
  {
   "cell_type": "code",
   "execution_count": 478,
   "outputs": [
    {
     "data": {
      "text/plain": "<Figure size 432x288 with 1 Axes>",
      "image/png": "[encoded data removed]"
     },
     "metadata": {
      "needs_background": "light"
     },
     "output_type": "display_data"
    }
   ],
   "source": [
    "plt.plot(author_dist, ref_dist)\n",
    "plt.show()"
   ],
   "metadata": {
    "collapsed": false
   }
  }
 ],
 "metadata": {
  "kernelspec": {
   "display_name": "Python 3 (ipykernel)",
   "language": "python",
   "name": "python3"
  },
  "language_info": {
   "codemirror_mode": {
    "name": "ipython",
    "version": 3
   },
   "file_extension": ".py",
   "mimetype": "text/x-python",
   "name": "python",
   "nbconvert_exporter": "python",
   "pygments_lexer": "ipython3",
   "version": "3.10.6"
  }
 },
 "nbformat": 4,
 "nbformat_minor": 1
}
