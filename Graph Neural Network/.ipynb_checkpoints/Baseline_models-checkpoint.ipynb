{
 "cells": [
  {
   "cell_type": "code",
   "execution_count": 1,
   "metadata": {
    "collapsed": true
   },
   "outputs": [],
   "source": [
    "from scholarly import scholarly, ProxyGenerator\n",
    "from fp.fp import FreeProxy\n",
    "import requests\n",
    "import mysql.connector\n",
    "import textdistance\n",
    "import time\n",
    "import random\n",
    "import xmltodict\n",
    "import urllib, urllib.request\n",
    "import matplotlib.pyplot as plt\n",
    "from webcrawler.researchgate import IeeeCrawler, ResearchGateCrawler, SpringerCrawler, PubMedCrawler\n",
    "import selenium as se\n",
    "from collections import Counter\n",
    "from bs4 import BeautifulSoup\n",
    "from difflib import SequenceMatcher\n",
    "\n",
    "import pandas as pd"
   ]
  },
  {
   "cell_type": "code",
   "execution_count": 2,
   "metadata": {},
   "outputs": [],
   "source": [
    "cnx = mysql.connector.connect(user='david', password='daviddung1993',\n",
    "                              host='127.0.0.1',\n",
    "                              database='computervision')\n",
    "cursor = cnx.cursor()\n",
    "headers = {\"x-api-key\": \"M7HSjQNeTfai6l7JUiDZB8XYc85BHnHt3R0NXSEd\"}\n",
    "#pg = ProxyGenerator()"
   ]
  },
  {
   "cell_type": "code",
   "execution_count": 3,
   "metadata": {},
   "outputs": [],
   "source": [
    "# Fetch Papers with one author\n",
    "#cursor.execute(\"SET SESSION group_concat_max_len=15000;\")\n",
    "cursor.execute(\"select p.PaperID as PaperID, GROUP_CONCAT(distinct b.AuthoredByID) as authors, count(*) as authorCount,p.Leaf from Papers p, authoredBy b where p.PaperID = b.PaperID and b.AuthoredByID != 0 group by p.PaperID, p.Leaf\")\n",
    "temp_table = cursor.fetchall()\n",
    "temp_table_df = pd.DataFrame(temp_table, columns =['ReferencedByID', 'authors', 'authorCount', \"isLeaf\"])\n",
    "temp_table_df2 = pd.DataFrame(temp_table, columns =['ReferenceID', 'authors', 'authorCount', \"isLeaf\"])\n",
    "cursor.execute(\"select * from referencedBy\")\n",
    "temp_table_reference_by = cursor.fetchall()\n",
    "reference_by_df = pd.DataFrame(temp_table_reference_by, columns =['ReferenceID', 'ReferencedByID'])\n",
    "referenced_paper = temp_table_df[temp_table_df[\"isLeaf\"] == 0]"
   ]
  },
  {
   "cell_type": "code",
   "execution_count": 4,
   "metadata": {},
   "outputs": [],
   "source": [
    "all_references = pd.merge(referenced_paper, reference_by_df, on=\"ReferencedByID\")\n",
    "all_references_w_authors = pd.merge(all_references, temp_table_df2, on=\"ReferenceID\")"
   ]
  },
  {
   "cell_type": "code",
   "execution_count": 5,
   "metadata": {},
   "outputs": [],
   "source": [
    "final_table = all_references_w_authors.groupby([\"ReferencedByID\",\"authors_x\", \"authorCount_x\"], as_index = False).agg({'authors_y': ','.join})"
   ]
  },
  {
   "cell_type": "code",
   "execution_count": 6,
   "metadata": {},
   "outputs": [
    {
     "data": {
      "text/html": [
       "<div>\n",
       "<style scoped>\n",
       "    .dataframe tbody tr th:only-of-type {\n",
       "        vertical-align: middle;\n",
       "    }\n",
       "\n",
       "    .dataframe tbody tr th {\n",
       "        vertical-align: top;\n",
       "    }\n",
       "\n",
       "    .dataframe thead th {\n",
       "        text-align: right;\n",
       "    }\n",
       "</style>\n",
       "<table border=\"1\" class=\"dataframe\">\n",
       "  <thead>\n",
       "    <tr style=\"text-align: right;\">\n",
       "      <th></th>\n",
       "      <th>ReferencedByID</th>\n",
       "      <th>authors_x</th>\n",
       "      <th>authorCount_x</th>\n",
       "      <th>authors_y</th>\n",
       "    </tr>\n",
       "  </thead>\n",
       "  <tbody>\n",
       "    <tr>\n",
       "      <th>22</th>\n",
       "      <td>00e7632afa5a7f197e47462e3f3cc7ea325500f6</td>\n",
       "      <td>1807477</td>\n",
       "      <td>1</td>\n",
       "      <td>145341374,1895356,33354551,6803671,2423230,144...</td>\n",
       "    </tr>\n",
       "    <tr>\n",
       "      <th>24</th>\n",
       "      <td>010cd20cb3e34afeb21d17fe39c3f171a3621097</td>\n",
       "      <td>48968505</td>\n",
       "      <td>1</td>\n",
       "      <td>1687120,1753210,1782282,2117314646,2983898,304...</td>\n",
       "    </tr>\n",
       "    <tr>\n",
       "      <th>28</th>\n",
       "      <td>0144bd0be143c725977e51b6e9d24ad627cb6b48</td>\n",
       "      <td>144700150</td>\n",
       "      <td>1</td>\n",
       "      <td>2372854,3170090,2027354,2108004595,2151330910,...</td>\n",
       "    </tr>\n",
       "    <tr>\n",
       "      <th>40</th>\n",
       "      <td>01e146bda052577befaa964f1cfe3528ff6b6036</td>\n",
       "      <td>2604889</td>\n",
       "      <td>1</td>\n",
       "      <td>3160228,1695689,1710604,1407546424,1708655,210...</td>\n",
       "    </tr>\n",
       "    <tr>\n",
       "      <th>45</th>\n",
       "      <td>0219af37bd7902472bf8a434046cb4c33eeb31f0</td>\n",
       "      <td>1409093688</td>\n",
       "      <td>1</td>\n",
       "      <td>1737063,1709398,1780112,1746242,12811570,35850...</td>\n",
       "    </tr>\n",
       "    <tr>\n",
       "      <th>...</th>\n",
       "      <td>...</td>\n",
       "      <td>...</td>\n",
       "      <td>...</td>\n",
       "      <td>...</td>\n",
       "    </tr>\n",
       "    <tr>\n",
       "      <th>5237</th>\n",
       "      <td>fe5098997cfe6c7f40b90dcfcc0308ef74dcf627</td>\n",
       "      <td>3141914</td>\n",
       "      <td>1</td>\n",
       "      <td>1695689,1701686,2064160,143949035,1688882,2060...</td>\n",
       "    </tr>\n",
       "    <tr>\n",
       "      <th>5245</th>\n",
       "      <td>fe94d5929f94a430edba6ec22c0a7e4de83cde2f</td>\n",
       "      <td>1722674</td>\n",
       "      <td>1</td>\n",
       "      <td>143655949,145327322,1829806,3141932,144783015,...</td>\n",
       "    </tr>\n",
       "    <tr>\n",
       "      <th>5249</th>\n",
       "      <td>fed29c0b5c15ed8c57eed218e2702639617351ca</td>\n",
       "      <td>1730952</td>\n",
       "      <td>1</td>\n",
       "      <td>1711460,1687120,1753210,1782282,2117314646,298...</td>\n",
       "    </tr>\n",
       "    <tr>\n",
       "      <th>5256</th>\n",
       "      <td>ff5d09e7b2fb2ac440e2c9a7b8e063efbfce330b</td>\n",
       "      <td>1722674</td>\n",
       "      <td>1</td>\n",
       "      <td>2796589,31641158,2071405842,1722674,1768559,60...</td>\n",
       "    </tr>\n",
       "    <tr>\n",
       "      <th>5257</th>\n",
       "      <td>ff5e888c01eb11f03b0b2db8916635619783992c</td>\n",
       "      <td>2060229206</td>\n",
       "      <td>1</td>\n",
       "      <td>143774737,144564063,145162067,2078931040,28482...</td>\n",
       "    </tr>\n",
       "  </tbody>\n",
       "</table>\n",
       "<p>582 rows × 4 columns</p>\n",
       "</div>"
      ],
      "text/plain": [
       "                                ReferencedByID   authors_x  authorCount_x  \\\n",
       "22    00e7632afa5a7f197e47462e3f3cc7ea325500f6     1807477              1   \n",
       "24    010cd20cb3e34afeb21d17fe39c3f171a3621097    48968505              1   \n",
       "28    0144bd0be143c725977e51b6e9d24ad627cb6b48   144700150              1   \n",
       "40    01e146bda052577befaa964f1cfe3528ff6b6036     2604889              1   \n",
       "45    0219af37bd7902472bf8a434046cb4c33eeb31f0  1409093688              1   \n",
       "...                                        ...         ...            ...   \n",
       "5237  fe5098997cfe6c7f40b90dcfcc0308ef74dcf627     3141914              1   \n",
       "5245  fe94d5929f94a430edba6ec22c0a7e4de83cde2f     1722674              1   \n",
       "5249  fed29c0b5c15ed8c57eed218e2702639617351ca     1730952              1   \n",
       "5256  ff5d09e7b2fb2ac440e2c9a7b8e063efbfce330b     1722674              1   \n",
       "5257  ff5e888c01eb11f03b0b2db8916635619783992c  2060229206              1   \n",
       "\n",
       "                                              authors_y  \n",
       "22    145341374,1895356,33354551,6803671,2423230,144...  \n",
       "24    1687120,1753210,1782282,2117314646,2983898,304...  \n",
       "28    2372854,3170090,2027354,2108004595,2151330910,...  \n",
       "40    3160228,1695689,1710604,1407546424,1708655,210...  \n",
       "45    1737063,1709398,1780112,1746242,12811570,35850...  \n",
       "...                                                 ...  \n",
       "5237  1695689,1701686,2064160,143949035,1688882,2060...  \n",
       "5245  143655949,145327322,1829806,3141932,144783015,...  \n",
       "5249  1711460,1687120,1753210,1782282,2117314646,298...  \n",
       "5256  2796589,31641158,2071405842,1722674,1768559,60...  \n",
       "5257  143774737,144564063,145162067,2078931040,28482...  \n",
       "\n",
       "[582 rows x 4 columns]"
      ]
     },
     "execution_count": 6,
     "metadata": {},
     "output_type": "execute_result"
    }
   ],
   "source": [
    "# Check for authorCount = 1\n",
    "final_table_one_author = final_table[final_table[\"authorCount_x\"] == 1]\n",
    "final_table_one_author"
   ]
  },
  {
   "cell_type": "code",
   "execution_count": 45,
   "metadata": {},
   "outputs": [
    {
     "data": {
      "text/plain": [
       "0.17697594501718214"
      ]
     },
     "execution_count": 45,
     "metadata": {},
     "output_type": "execute_result"
    }
   ],
   "source": [
    "totalCount = 0\n",
    "totalCorrect = 0\n",
    "for row in final_table_one_author.iterrows():\n",
    "    most_cited_authors = []\n",
    "    author = row[1][\"authors_x\"]\n",
    "    cited_authors = row[1][\"authors_y\"].split(\",\")\n",
    "    all_cited = dict(Counter(cited_authors))\n",
    "    max_value = all_cited[max(all_cited, key=all_cited.get)]\n",
    "    for k,v in all_cited.items():\n",
    "        if v == 1:\n",
    "            continue\n",
    "        if v == max_value:\n",
    "            most_cited_authors.append(k)\n",
    "    if author in most_cited_authors and len(most_cited_authors) == 1:\n",
    "        totalCorrect += 1\n",
    "    totalCount += 1\n",
    "\n",
    "totalCorrect/totalCount"
   ]
  },
  {
   "cell_type": "markdown",
   "metadata": {},
   "source": [
    "#### There are multiple authors n who share the same most-cited value. E.g. if we set n = 2, we assume that the author could be one of the top 2 most-cited authors with the same value:\n",
    "| 1     | 2     | 3     | 4     | max       |\n",
    "|-------|-------|-------|-------|-----------|\n",
    "| 17.70 | 22.85 | 24.74 | 25.95 | 27 |\n"
   ]
  },
  {
   "cell_type": "code",
   "execution_count": null,
   "metadata": {},
   "outputs": [],
   "source": []
  },
  {
   "cell_type": "code",
   "execution_count": 94,
   "metadata": {},
   "outputs": [
    {
     "data": {
      "text/plain": [
       "45"
      ]
     },
     "execution_count": 94,
     "metadata": {},
     "output_type": "execute_result"
    }
   ],
   "source": [
    "len(dictio)"
   ]
  },
  {
   "cell_type": "code",
   "execution_count": null,
   "metadata": {},
   "outputs": [],
   "source": []
  }
 ],
 "metadata": {
  "kernelspec": {
   "display_name": "Python 3 (ipykernel)",
   "language": "python",
   "name": "python3"
  },
  "language_info": {
   "codemirror_mode": {
    "name": "ipython",
    "version": 3
   },
   "file_extension": ".py",
   "mimetype": "text/x-python",
   "name": "python",
   "nbconvert_exporter": "python",
   "pygments_lexer": "ipython3",
   "version": "3.10.6"
  }
 },
 "nbformat": 4,
 "nbformat_minor": 1
}
