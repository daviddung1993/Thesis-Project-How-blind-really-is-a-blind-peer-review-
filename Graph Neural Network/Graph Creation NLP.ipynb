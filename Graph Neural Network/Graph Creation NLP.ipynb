{
 "cells": [
  {
   "cell_type": "code",
   "execution_count": 3,
   "metadata": {
    "collapsed": true
   },
   "outputs": [
    {
     "name": "stderr",
     "output_type": "stream",
     "text": [
      "[nltk_data] Downloading package punkt to /home/david/nltk_data...\n",
      "[nltk_data]   Package punkt is already up-to-date!\n",
      "[nltk_data] Downloading package stopwords to /home/david/nltk_data...\n",
      "[nltk_data]   Package stopwords is already up-to-date!\n"
     ]
    }
   ],
   "source": [
    "import pandas as pd\n",
    "import torch\n",
    "import mysql.connector\n",
    "import dgl.data\n",
    "import numpy as np\n",
    "from dgl import save_graphs, load_graphs\n",
    "import torch as th\n",
    "import gensim\n",
    "import nltk\n",
    "nltk.download('punkt')\n",
    "from nltk.corpus import stopwords\n",
    "nltk.download('stopwords')\n",
    "import requests\n",
    "import time"
   ]
  },
  {
   "cell_type": "code",
   "execution_count": 2,
   "metadata": {
    "collapsed": false
   },
   "outputs": [
    {
     "ename": "DatabaseError",
     "evalue": "2003 (HY000): Can't connect to MySQL server on '127.0.0.1:3306' (111)",
     "output_type": "error",
     "traceback": [
      "\u001b[0;31m---------------------------------------------------------------------------\u001b[0m",
      "\u001b[0;31mMySQLInterfaceError\u001b[0m                       Traceback (most recent call last)",
      "File \u001b[0;32m~/Thesis-Project-How-blind-really-is-a-blind-peer-review-/venv/lib/python3.10/site-packages/mysql/connector/connection_cext.py:268\u001b[0m, in \u001b[0;36mCMySQLConnection._open_connection\u001b[0;34m(self)\u001b[0m\n\u001b[1;32m    267\u001b[0m \u001b[39mtry\u001b[39;00m:\n\u001b[0;32m--> 268\u001b[0m     \u001b[39mself\u001b[39;49m\u001b[39m.\u001b[39;49m_cmysql\u001b[39m.\u001b[39;49mconnect(\u001b[39m*\u001b[39;49m\u001b[39m*\u001b[39;49mcnx_kwargs)\n\u001b[1;32m    269\u001b[0m     \u001b[39mself\u001b[39m\u001b[39m.\u001b[39m_cmysql\u001b[39m.\u001b[39mconverter_str_fallback \u001b[39m=\u001b[39m \u001b[39mself\u001b[39m\u001b[39m.\u001b[39m_converter_str_fallback\n",
      "\u001b[0;31mMySQLInterfaceError\u001b[0m: Can't connect to MySQL server on '127.0.0.1:3306' (111)",
      "\nThe above exception was the direct cause of the following exception:\n",
      "\u001b[0;31mDatabaseError\u001b[0m                             Traceback (most recent call last)",
      "\u001b[1;32m/home/david/Thesis-Project-How-blind-really-is-a-blind-peer-review-/Graph Neural Network/Graph Creation NLP.ipynb Cell 2\u001b[0m in \u001b[0;36m<cell line: 1>\u001b[0;34m()\u001b[0m\n\u001b[0;32m----> <a href='vscode-notebook-cell://ssh-remote%2B192.168.10.23/home/david/Thesis-Project-How-blind-really-is-a-blind-peer-review-/Graph%20Neural%20Network/Graph%20Creation%20NLP.ipynb#W1sdnNjb2RlLXJlbW90ZQ%3D%3D?line=0'>1</a>\u001b[0m cnx \u001b[39m=\u001b[39m mysql\u001b[39m.\u001b[39;49mconnector\u001b[39m.\u001b[39;49mconnect(user\u001b[39m=\u001b[39;49m\u001b[39m'\u001b[39;49m\u001b[39mdavid\u001b[39;49m\u001b[39m'\u001b[39;49m, password\u001b[39m=\u001b[39;49m\u001b[39m'\u001b[39;49m\u001b[39mdaviddung1993\u001b[39;49m\u001b[39m'\u001b[39;49m,\n\u001b[1;32m      <a href='vscode-notebook-cell://ssh-remote%2B192.168.10.23/home/david/Thesis-Project-How-blind-really-is-a-blind-peer-review-/Graph%20Neural%20Network/Graph%20Creation%20NLP.ipynb#W1sdnNjb2RlLXJlbW90ZQ%3D%3D?line=1'>2</a>\u001b[0m                           host\u001b[39m=\u001b[39;49m\u001b[39m'\u001b[39;49m\u001b[39m127.0.0.1\u001b[39;49m\u001b[39m'\u001b[39;49m,\n\u001b[1;32m      <a href='vscode-notebook-cell://ssh-remote%2B192.168.10.23/home/david/Thesis-Project-How-blind-really-is-a-blind-peer-review-/Graph%20Neural%20Network/Graph%20Creation%20NLP.ipynb#W1sdnNjb2RlLXJlbW90ZQ%3D%3D?line=2'>3</a>\u001b[0m                           database\u001b[39m=\u001b[39;49m\u001b[39m'\u001b[39;49m\u001b[39mcomputervision\u001b[39;49m\u001b[39m'\u001b[39;49m)\n\u001b[1;32m      <a href='vscode-notebook-cell://ssh-remote%2B192.168.10.23/home/david/Thesis-Project-How-blind-really-is-a-blind-peer-review-/Graph%20Neural%20Network/Graph%20Creation%20NLP.ipynb#W1sdnNjb2RlLXJlbW90ZQ%3D%3D?line=3'>4</a>\u001b[0m cursor \u001b[39m=\u001b[39m cnx\u001b[39m.\u001b[39mcursor()\n\u001b[1;32m      <a href='vscode-notebook-cell://ssh-remote%2B192.168.10.23/home/david/Thesis-Project-How-blind-really-is-a-blind-peer-review-/Graph%20Neural%20Network/Graph%20Creation%20NLP.ipynb#W1sdnNjb2RlLXJlbW90ZQ%3D%3D?line=4'>5</a>\u001b[0m headers \u001b[39m=\u001b[39m {\u001b[39m\"\u001b[39m\u001b[39mx-api-key\u001b[39m\u001b[39m\"\u001b[39m: \u001b[39m\"\u001b[39m\u001b[39mM7HSjQNeTfai6l7JUiDZB8XYc85BHnHt3R0NXSEd\u001b[39m\u001b[39m\"\u001b[39m}\n",
      "File \u001b[0;32m~/Thesis-Project-How-blind-really-is-a-blind-peer-review-/venv/lib/python3.10/site-packages/mysql/connector/pooling.py:286\u001b[0m, in \u001b[0;36mconnect\u001b[0;34m(*args, **kwargs)\u001b[0m\n\u001b[1;32m    283\u001b[0m         \u001b[39mraise\u001b[39;00m \u001b[39mImportError\u001b[39;00m(ERROR_NO_CEXT)\n\u001b[1;32m    285\u001b[0m \u001b[39mif\u001b[39;00m CMySQLConnection \u001b[39mand\u001b[39;00m \u001b[39mnot\u001b[39;00m use_pure:\n\u001b[0;32m--> 286\u001b[0m     \u001b[39mreturn\u001b[39;00m CMySQLConnection(\u001b[39m*\u001b[39;49margs, \u001b[39m*\u001b[39;49m\u001b[39m*\u001b[39;49mkwargs)\n\u001b[1;32m    287\u001b[0m \u001b[39mreturn\u001b[39;00m MySQLConnection(\u001b[39m*\u001b[39margs, \u001b[39m*\u001b[39m\u001b[39m*\u001b[39mkwargs)\n",
      "File \u001b[0;32m~/Thesis-Project-How-blind-really-is-a-blind-peer-review-/venv/lib/python3.10/site-packages/mysql/connector/connection_cext.py:101\u001b[0m, in \u001b[0;36mCMySQLConnection.__init__\u001b[0;34m(self, **kwargs)\u001b[0m\n\u001b[1;32m     98\u001b[0m \u001b[39msuper\u001b[39m()\u001b[39m.\u001b[39m\u001b[39m__init__\u001b[39m()\n\u001b[1;32m    100\u001b[0m \u001b[39mif\u001b[39;00m kwargs:\n\u001b[0;32m--> 101\u001b[0m     \u001b[39mself\u001b[39;49m\u001b[39m.\u001b[39;49mconnect(\u001b[39m*\u001b[39;49m\u001b[39m*\u001b[39;49mkwargs)\n",
      "File \u001b[0;32m~/Thesis-Project-How-blind-really-is-a-blind-peer-review-/venv/lib/python3.10/site-packages/mysql/connector/abstracts.py:1108\u001b[0m, in \u001b[0;36mMySQLConnectionAbstract.connect\u001b[0;34m(self, **kwargs)\u001b[0m\n\u001b[1;32m   1105\u001b[0m     \u001b[39mself\u001b[39m\u001b[39m.\u001b[39mconfig(\u001b[39m*\u001b[39m\u001b[39m*\u001b[39mkwargs)\n\u001b[1;32m   1107\u001b[0m \u001b[39mself\u001b[39m\u001b[39m.\u001b[39mdisconnect()\n\u001b[0;32m-> 1108\u001b[0m \u001b[39mself\u001b[39;49m\u001b[39m.\u001b[39;49m_open_connection()\n\u001b[1;32m   1109\u001b[0m \u001b[39m# Server does not allow to run any other statement different from ALTER\u001b[39;00m\n\u001b[1;32m   1110\u001b[0m \u001b[39m# when user's password has been expired.\u001b[39;00m\n\u001b[1;32m   1111\u001b[0m \u001b[39mif\u001b[39;00m \u001b[39mnot\u001b[39;00m \u001b[39mself\u001b[39m\u001b[39m.\u001b[39m_client_flags \u001b[39m&\u001b[39m ClientFlag\u001b[39m.\u001b[39mCAN_HANDLE_EXPIRED_PASSWORDS:\n",
      "File \u001b[0;32m~/Thesis-Project-How-blind-really-is-a-blind-peer-review-/venv/lib/python3.10/site-packages/mysql/connector/connection_cext.py:273\u001b[0m, in \u001b[0;36mCMySQLConnection._open_connection\u001b[0;34m(self)\u001b[0m\n\u001b[1;32m    271\u001b[0m         \u001b[39mself\u001b[39m\u001b[39m.\u001b[39mconverter\u001b[39m.\u001b[39mstr_fallback \u001b[39m=\u001b[39m \u001b[39mself\u001b[39m\u001b[39m.\u001b[39m_converter_str_fallback\n\u001b[1;32m    272\u001b[0m \u001b[39mexcept\u001b[39;00m MySQLInterfaceError \u001b[39mas\u001b[39;00m err:\n\u001b[0;32m--> 273\u001b[0m     \u001b[39mraise\u001b[39;00m get_mysql_exception(\n\u001b[1;32m    274\u001b[0m         msg\u001b[39m=\u001b[39merr\u001b[39m.\u001b[39mmsg, errno\u001b[39m=\u001b[39merr\u001b[39m.\u001b[39merrno, sqlstate\u001b[39m=\u001b[39merr\u001b[39m.\u001b[39msqlstate\n\u001b[1;32m    275\u001b[0m     ) \u001b[39mfrom\u001b[39;00m \u001b[39merr\u001b[39;00m\n\u001b[1;32m    277\u001b[0m \u001b[39mself\u001b[39m\u001b[39m.\u001b[39m_do_handshake()\n",
      "\u001b[0;31mDatabaseError\u001b[0m: 2003 (HY000): Can't connect to MySQL server on '127.0.0.1:3306' (111)"
     ]
    }
   ],
   "source": [
    "cnx = mysql.connector.connect(user='david', password='',\n",
    "                          host='127.0.0.1',\n",
    "                          database='computervision')\n",
    "cursor = cnx.cursor()\n",
    "headers = {\"x-api-key\": \"\"}"
   ]
  },
  {
   "cell_type": "code",
   "execution_count": 4,
   "metadata": {
    "collapsed": false
   },
   "outputs": [],
   "source": [
    "test_papers = []\n",
    "with open(r'./test_papers.txt', 'r') as fp:\n",
    "    for line in fp:\n",
    "        x = line[:-1]\n",
    "        test_papers.append(x)\n",
    "in_params_test = ','.join(['%s'] * len(test_papers))\n",
    "\n",
    "train_papers = []\n",
    "with open(r'./train_papers.txt', 'r') as fp:\n",
    "    for line in fp:\n",
    "        x = line[:-1]\n",
    "        train_papers.append(x)\n",
    "\n",
    "total_papers = train_papers + test_papers\n",
    "in_params_train = ','.join(['%s'] * len(train_papers))\n",
    "\n",
    "val_papers = []\n",
    "with open(r'./val_papers.txt', 'r') as fp:\n",
    "    for line in fp:\n",
    "        x = line[:-1]\n",
    "        val_papers.append(x)\n",
    "\n",
    "in_params_val = ','.join(['%s'] * len(val_papers))\n",
    "in_params = ','.join(['%s'] * len(train_papers + test_papers))"
   ]
  },
  {
   "cell_type": "code",
   "execution_count": 5,
   "metadata": {
    "collapsed": false
   },
   "outputs": [],
   "source": [
    "def remap(x, mapping):\n",
    "    return mapping.get(x, x)"
   ]
  },
  {
   "cell_type": "code",
   "execution_count": 14,
   "metadata": {
    "collapsed": false
   },
   "outputs": [],
   "source": [
    "cursor.execute(\"select distinct p2.PaperID from Papers p, authoredBy b, authoredBy b2, Papers p2 where p.PaperID in (%s) and p.PaperID = b.PaperID and b.AuthoredByID = b2.AuthoredByID and b2.PaperID = p2.PaperID and p2.Pub_Year != 2022\" % in_params_test, test_papers)\n",
    "train_papers = [x[0] for x in cursor.fetchall()]\n",
    "total_papers = train_papers + test_papers\n",
    "in_params = ','.join(['%s'] * len(total_papers))"
   ]
  },
  {
   "cell_type": "code",
   "execution_count": 15,
   "metadata": {
    "collapsed": false
   },
   "outputs": [],
   "source": [
    "cursor.execute(\"select b.ReferenceID, b.ReferencedByID from referencedBy b, Papers p where b.ReferencedByID in (%s) and b.ReferenceID = p.PaperID and p.`primary author` in (select AuthorID from affiliatedTo) and b.ReferenceID in (select PaperID from Papers) and b.ReferencedByID in (select PaperID from Papers)\" % in_params, total_papers)\n",
    "paper_edges = np.array(cursor.fetchall())\n",
    "all_papers = np.unique(paper_edges)\n",
    "\n",
    "remapped_papers = {all_papers[i]: i  for i in range(len(all_papers))}\n",
    "vec_remap = np.vectorize(remap, otypes=[str])\n",
    "paper_edges = vec_remap(paper_edges, remapped_papers)\n",
    "\n",
    "all_papers_list = all_papers.tolist()\n",
    "all_params = ','.join(['%s'] * len(all_papers_list))\n",
    "\n",
    "#cursor.execute(\"select p.PaperID, p.`primary author`, a.Gender, p.Title from Papers p, Authors a where p.PaperID in (%s) and p.`primary author` in (select AuthorID from affiliatedTo) and p.`primary author` = a.AuthorID\" % all_params, all_papers_list)\n",
    "cursor.execute(\"select p.PaperID, a.AuthorID, a.Gender, p.Title from Papers p, Authors a, authoredBy ab where p.PaperID in (%s) and p.PaperID = ab.PaperID and ab.AuthoredByID = a.AuthorID\" % all_params, all_papers_list) #and a.AuthorID in (select AuthorID from affiliatedTo)\n",
    "author_edges = np.array(cursor.fetchall())\n",
    "\n",
    "all_authors = np.unique(author_edges[:,1])\n",
    "remapped_authors = {all_authors[i]: i  for i in range(len(all_authors))}\n",
    "\n",
    "author_edges[:,1] = vec_remap(author_edges[:,1], remapped_authors)\n",
    "author_edges[:,0] = vec_remap(author_edges[:,0], remapped_papers)"
   ]
  },
  {
   "cell_type": "code",
   "execution_count": 6,
   "metadata": {
    "collapsed": false
   },
   "outputs": [],
   "source": [
    "model_path = './graphs/GoogleNews-vectors-negative300.bin'\n",
    "model = gensim.models.KeyedVectors.load_word2vec_format(model_path, binary=True)"
   ]
  },
  {
   "cell_type": "code",
   "execution_count": 7,
   "metadata": {},
   "outputs": [],
   "source": [
    "stop_words = set(stopwords.words('english'))"
   ]
  },
  {
   "cell_type": "code",
   "execution_count": 8,
   "metadata": {
    "collapsed": false
   },
   "outputs": [],
   "source": [
    "def title_to_vec(title):\n",
    "    title = title.replace(\"-\", \" \")\n",
    "    tokens = nltk.word_tokenize(title)\n",
    "    tokens = [token for token in tokens if token.lower() not in stop_words]\n",
    "    vectors = []\n",
    "    for word in tokens:\n",
    "        try:\n",
    "            vec = model[word.lower()]\n",
    "            vectors.append(vec)\n",
    "        except KeyError:\n",
    "            #print(word)\n",
    "            continue\n",
    "    title_vector = np.zeros(300)\n",
    "    try:\n",
    "        title_vector = sum(vectors) / len(vectors)\n",
    "    except ZeroDivisionError:\n",
    "        pass\n",
    "    return title_vector"
   ]
  },
  {
   "cell_type": "code",
   "execution_count": 8,
   "metadata": {
    "collapsed": false
   },
   "outputs": [
    {
     "ename": "NameError",
     "evalue": "name 'author_edges' is not defined",
     "output_type": "error",
     "traceback": [
      "\u001b[0;31m---------------------------------------------------------------------------\u001b[0m",
      "\u001b[0;31mNameError\u001b[0m                                 Traceback (most recent call last)",
      "\u001b[1;32m/home/david/Thesis-Project-How-blind-really-is-a-blind-peer-review-/Graph Neural Network/Graph Creation NLP.ipynb Cell 10\u001b[0m in \u001b[0;36m<cell line: 1>\u001b[0;34m()\u001b[0m\n\u001b[0;32m----> <a href='vscode-notebook-cell://ssh-remote%2B192.168.10.23/home/david/Thesis-Project-How-blind-really-is-a-blind-peer-review-/Graph%20Neural%20Network/Graph%20Creation%20NLP.ipynb#X12sdnNjb2RlLXJlbW90ZQ%3D%3D?line=0'>1</a>\u001b[0m all_papers_info \u001b[39m=\u001b[39m pd\u001b[39m.\u001b[39mDataFrame(author_edges)\n\u001b[1;32m      <a href='vscode-notebook-cell://ssh-remote%2B192.168.10.23/home/david/Thesis-Project-How-blind-really-is-a-blind-peer-review-/Graph%20Neural%20Network/Graph%20Creation%20NLP.ipynb#X12sdnNjb2RlLXJlbW90ZQ%3D%3D?line=1'>2</a>\u001b[0m all_papers_info[\u001b[39m0\u001b[39m] \u001b[39m=\u001b[39m all_papers_info[\u001b[39m0\u001b[39m]\u001b[39m.\u001b[39mastype(\u001b[39mint\u001b[39m)\n\u001b[1;32m      <a href='vscode-notebook-cell://ssh-remote%2B192.168.10.23/home/david/Thesis-Project-How-blind-really-is-a-blind-peer-review-/Graph%20Neural%20Network/Graph%20Creation%20NLP.ipynb#X12sdnNjb2RlLXJlbW90ZQ%3D%3D?line=2'>3</a>\u001b[0m all_papers_info \u001b[39m=\u001b[39m all_papers_info\u001b[39m.\u001b[39msort_values(\u001b[39m0\u001b[39m)\n",
      "\u001b[0;31mNameError\u001b[0m: name 'author_edges' is not defined"
     ]
    }
   ],
   "source": [
    "all_papers_info = pd.DataFrame(author_edges)\n",
    "all_papers_info[0] = all_papers_info[0].astype(int)\n",
    "all_papers_info = all_papers_info.sort_values(0)\n",
    "paper_feats = []\n",
    "stop_words = set(stopwords.words('english'))\n",
    "for title in all_papers_info[3]:\n",
    "    title_vec = title_to_vec(title)\n",
    "    paper_feats.append(title_vec)\n",
    "paper_feats = torch.tensor(paper_feats)"
   ]
  },
  {
   "cell_type": "code",
   "execution_count": 10,
   "metadata": {},
   "outputs": [],
   "source": [
    "def title_to_vec(title):\n",
    "    title = title.replace(\"-\", \" \")\n",
    "    tokens = nltk.word_tokenize(title)\n",
    "    tokens = [token for token in tokens if token.lower() not in stop_words]\n",
    "    vectors = []\n",
    "    for word in tokens:\n",
    "        try:\n",
    "            vec = model[word.lower()]\n",
    "            vectors.append(vec)\n",
    "        except KeyError:\n",
    "            #print(word)\n",
    "            continue\n",
    "    title_vector = np.zeros(300)\n",
    "    try:\n",
    "        title_vector = sum(vectors) / len(vectors)\n",
    "    except ZeroDivisionError:\n",
    "        pass\n",
    "    return title_vector"
   ]
  },
  {
   "cell_type": "code",
   "execution_count": 11,
   "metadata": {
    "collapsed": false
   },
   "outputs": [],
   "source": [
    "def request_author_information(authors):\n",
    "    resp = requests.post(\"https://api.semanticscholar.org/graph/v1/author/batch?fields=papers.title,affiliations,paperCount,citationCount,hIndex\", headers=headers, json={\"ids\": authors}).json()\n",
    "    return resp\n",
    "\n",
    "def request_author_individual_dfinformation(author):\n",
    "    resp = requests.get(f\"https://api.semanticscholar.org/graph/v1/author/{author}?fields=papers.title,paperCount,citationCount,hIndex\", headers=headers).json()\n",
    "    return resp\n",
    "\n",
    "def convert_history_to_vector(response):\n",
    "    if not response:\n",
    "        author_hist = np.zeros(300)\n",
    "        author_hist = np.append(author_hist, [0,0,0])\n",
    "        return author_hist\n",
    "\n",
    "    author_papers = response[\"papers\"]\n",
    "    author_hist = []\n",
    "\n",
    "    for paper in author_papers:\n",
    "        paperID = paper[\"paperId\"]\n",
    "        if paperID in test_papers:\n",
    "            continue\n",
    "        title = paper[\"title\"]\n",
    "        title_vect = title_to_vec(title)\n",
    "        if np.count_nonzero(title_vect) > 0:\n",
    "            author_hist.append(title_vect)\n",
    "    if len(author_hist) != 0:\n",
    "        author_hist = np.mean(np.array(author_hist), axis=0)\n",
    "    else:\n",
    "        author_hist = np.zeros(300)\n",
    "\n",
    "    author_paperCount = response[\"paperCount\"]\n",
    "    author_citationCount = response[\"citationCount\"]\n",
    "    author_hIndex = response[\"hIndex\"]\n",
    "    author_hist = np.append(author_hist, [author_paperCount, author_citationCount, author_hIndex])\n",
    "\n",
    "    return author_hist"
   ]
  },
  {
   "cell_type": "code",
   "execution_count": 40,
   "metadata": {
    "collapsed": false
   },
   "outputs": [],
   "source": [
    "np.savetxt('all_authors.txt', all_authors.astype(int))"
   ]
  },
  {
   "cell_type": "code",
   "execution_count": 12,
   "metadata": {
    "collapsed": false
   },
   "outputs": [
    {
     "name": "stderr",
     "output_type": "stream",
     "text": [
      "/tmp/ipykernel_2864/294877418.py:1: DeprecationWarning: loadtxt(): Parsing an integer via a float is deprecated.  To avoid this warning, you can:\n",
      "    * make sure the original data is stored as integers.\n",
      "    * use the `converters=` keyword argument.  If you only use\n",
      "      NumPy 1.23 or later, `converters=float` will normally work.\n",
      "    * Use `np.loadtxt(...).astype(np.int64)` parsing the file as\n",
      "      floating point and then convert it.  (On all NumPy versions.)\n",
      "  (Deprecated NumPy 1.23)\n",
      "  all_authors = np.loadtxt('./graphs/all_authors.txt', dtype=int)\n"
     ]
    }
   ],
   "source": [
    "all_authors = np.loadtxt('./graphs/all_authors.txt', dtype=int)"
   ]
  },
  {
   "cell_type": "code",
   "execution_count": 13,
   "metadata": {},
   "outputs": [],
   "source": [
    "#author_bug = request_author_individual_dfinformation(\"47399096\")\n",
    "#all_authors = np.delete(all_authors, 101791)\n",
    "all_authors = np.loadtxt('./graphs/all_authors.txt', dtype=int)"
   ]
  },
  {
   "cell_type": "code",
   "execution_count": 14,
   "metadata": {},
   "outputs": [
    {
     "name": "stdout",
     "output_type": "stream",
     "text": [
      "0/116740\n",
      "100/116740\n",
      "200/116740\n",
      "300/116740\n",
      "400/116740\n",
      "500/116740\n",
      "600/116740\n",
      "700/116740\n",
      "800/116740\n",
      "900/116740\n",
      "1000/116740\n",
      "1100/116740\n",
      "1200/116740\n",
      "1300/116740\n",
      "1400/116740\n",
      "1500/116740\n",
      "1600/116740\n",
      "1700/116740\n",
      "1800/116740\n",
      "1900/116740\n",
      "2000/116740\n",
      "2100/116740\n",
      "2200/116740\n",
      "2300/116740\n",
      "2400/116740\n",
      "2500/116740\n",
      "2600/116740\n",
      "2700/116740\n",
      "2800/116740\n",
      "2900/116740\n",
      "3000/116740\n",
      "3100/116740\n",
      "3200/116740\n",
      "3300/116740\n",
      "3400/116740\n",
      "3500/116740\n",
      "3600/116740\n",
      "3700/116740\n",
      "3800/116740\n",
      "3900/116740\n",
      "4000/116740\n",
      "4100/116740\n",
      "4200/116740\n",
      "4300/116740\n",
      "4400/116740\n",
      "4500/116740\n",
      "4600/116740\n",
      "4700/116740\n",
      "4800/116740\n",
      "4900/116740\n",
      "5000/116740\n",
      "5100/116740\n",
      "5200/116740\n",
      "5300/116740\n",
      "5400/116740\n",
      "5500/116740\n",
      "5600/116740\n",
      "5700/116740\n",
      "5800/116740\n",
      "5900/116740\n",
      "6000/116740\n",
      "6100/116740\n",
      "6200/116740\n",
      "6300/116740\n",
      "6400/116740\n",
      "6500/116740\n",
      "6600/116740\n",
      "6700/116740\n",
      "6800/116740\n",
      "6900/116740\n",
      "7000/116740\n",
      "7100/116740\n",
      "7200/116740\n",
      "7300/116740\n",
      "7400/116740\n",
      "7500/116740\n",
      "7600/116740\n",
      "7700/116740\n",
      "7800/116740\n",
      "7900/116740\n",
      "8000/116740\n",
      "8100/116740\n",
      "8200/116740\n",
      "8300/116740\n",
      "8400/116740\n",
      "8500/116740\n",
      "8600/116740\n",
      "8700/116740\n",
      "8800/116740\n",
      "8900/116740\n",
      "9000/116740\n",
      "9100/116740\n",
      "9200/116740\n",
      "9300/116740\n",
      "9400/116740\n",
      "9500/116740\n",
      "9600/116740\n",
      "9700/116740\n",
      "9800/116740\n",
      "9900/116740\n",
      "10000/116740\n",
      "10100/116740\n",
      "10200/116740\n",
      "10300/116740\n",
      "10400/116740\n",
      "10500/116740\n",
      "10600/116740\n",
      "10700/116740\n",
      "10800/116740\n",
      "10900/116740\n",
      "11000/116740\n",
      "11100/116740\n",
      "11200/116740\n",
      "11300/116740\n",
      "11400/116740\n",
      "11500/116740\n",
      "11600/116740\n",
      "11700/116740\n",
      "11800/116740\n",
      "11900/116740\n",
      "12000/116740\n",
      "12100/116740\n",
      "12200/116740\n",
      "12300/116740\n",
      "12400/116740\n",
      "12500/116740\n",
      "12600/116740\n",
      "12700/116740\n",
      "12800/116740\n",
      "12900/116740\n",
      "13000/116740\n",
      "13100/116740\n",
      "13200/116740\n",
      "13300/116740\n",
      "13400/116740\n",
      "13500/116740\n",
      "13600/116740\n",
      "13700/116740\n",
      "13800/116740\n",
      "13900/116740\n",
      "14000/116740\n",
      "14100/116740\n",
      "14200/116740\n",
      "14300/116740\n",
      "14400/116740\n",
      "14500/116740\n",
      "14600/116740\n",
      "14700/116740\n",
      "14800/116740\n",
      "14900/116740\n",
      "15000/116740\n",
      "15100/116740\n",
      "15200/116740\n",
      "15300/116740\n",
      "15400/116740\n",
      "15500/116740\n",
      "15600/116740\n",
      "15700/116740\n",
      "15800/116740\n",
      "15900/116740\n",
      "16000/116740\n",
      "16100/116740\n",
      "16200/116740\n",
      "16300/116740\n",
      "16400/116740\n",
      "16500/116740\n",
      "16600/116740\n",
      "16700/116740\n",
      "16800/116740\n",
      "16900/116740\n",
      "17000/116740\n",
      "17100/116740\n",
      "17200/116740\n",
      "17300/116740\n",
      "17400/116740\n",
      "17500/116740\n",
      "17600/116740\n",
      "17700/116740\n",
      "17800/116740\n",
      "17900/116740\n",
      "18000/116740\n",
      "18100/116740\n",
      "18200/116740\n",
      "18300/116740\n",
      "18400/116740\n",
      "18500/116740\n",
      "18600/116740\n",
      "18700/116740\n",
      "18800/116740\n",
      "18900/116740\n",
      "19000/116740\n",
      "19100/116740\n",
      "19200/116740\n",
      "19300/116740\n",
      "19400/116740\n",
      "19500/116740\n",
      "19600/116740\n",
      "19700/116740\n",
      "19800/116740\n",
      "19900/116740\n",
      "20000/116740\n",
      "20100/116740\n",
      "20200/116740\n",
      "20300/116740\n",
      "20400/116740\n",
      "20500/116740\n",
      "20600/116740\n",
      "20700/116740\n"
     ]
    }
   ],
   "source": [
    "index = 0\n",
    "start = 100\n",
    "author_feats = []\n",
    "while start*index <= len(all_authors):\n",
    "    print(f\"{start*index}/{len(all_authors)}\")\n",
    "    batch_authors = all_authors[start*index: (start*index)+start]\n",
    "    index += 1\n",
    "\n",
    "    batch_process = True\n",
    "\n",
    "    response_batch = request_author_information(batch_authors.tolist())\n",
    "    if \"message\" in response_batch:\n",
    "        batch_process = False\n",
    "\n",
    "    if batch_process:\n",
    "        for response in response_batch:\n",
    "            author_hist = convert_history_to_vector(response)\n",
    "            author_feats.append(author_hist)\n",
    "            if author_hist.shape[0] != 303:\n",
    "                print(response)\n",
    "                print(author_hist.shape)\n",
    "    else:\n",
    "        for author_id in batch_authors:\n",
    "            author_information = request_author_individual_dfinformation(author_id)\n",
    "            author_hist_vec = convert_history_to_vector(author_information)\n",
    "            author_feats.append(author_hist_vec)"
   ]
  }
 ],
 "metadata": {
  "kernelspec": {
   "display_name": "Python 3",
   "language": "python",
   "name": "python3"
  },
  "language_info": {
   "codemirror_mode": {
    "name": "ipython",
    "version": 3
   },
   "file_extension": ".py",
   "mimetype": "text/x-python",
   "name": "python",
   "nbconvert_exporter": "python",
   "pygments_lexer": "ipython3",
   "version": "3.10.6"
  }
 },
 "nbformat": 4,
 "nbformat_minor": 0
}
