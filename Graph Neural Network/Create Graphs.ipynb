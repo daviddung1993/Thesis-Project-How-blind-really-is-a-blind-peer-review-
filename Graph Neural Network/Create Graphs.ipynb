{
 "cells": [
  {
   "cell_type": "code",
   "execution_count": 144,
   "metadata": {
    "collapsed": true
   },
   "outputs": [
    {
     "name": "stderr",
     "output_type": "stream",
     "text": [
      "[nltk_data] Downloading package punkt to\n",
      "[nltk_data]     C:\\Users\\david\\AppData\\Roaming\\nltk_data...\n",
      "[nltk_data]   Package punkt is already up-to-date!\n",
      "[nltk_data] Downloading package stopwords to\n",
      "[nltk_data]     C:\\Users\\david\\AppData\\Roaming\\nltk_data...\n",
      "[nltk_data]   Package stopwords is already up-to-date!\n"
     ]
    }
   ],
   "source": [
    "import pandas as pd\n",
    "import torch\n",
    "import mysql.connector\n",
    "import dgl.data\n",
    "import numpy as np\n",
    "from dgl import save_graphs, load_graphs\n",
    "import torch as th\n",
    "import gensim\n",
    "import nltk\n",
    "nltk.download('punkt')\n",
    "from nltk.corpus import stopwords\n",
    "nltk.download('stopwords')\n",
    "import requests"
   ]
  },
  {
   "cell_type": "markdown",
   "source": [
    "# Connect to database"
   ],
   "metadata": {
    "collapsed": false
   }
  },
  {
   "cell_type": "code",
   "execution_count": 125,
   "outputs": [],
   "source": [
    "cnx = mysql.connector.connect(user='david', password='daviddung1993',\n",
    "                          host='127.0.0.1',\n",
    "                          database='computervision')\n",
    "cursor = cnx.cursor()\n",
    "headers = {\"x-api-key\": \"M7HSjQNeTfai6l7JUiDZB8XYc85BHnHt3R0NXSEd\"}"
   ],
   "metadata": {
    "collapsed": false
   }
  },
  {
   "cell_type": "code",
   "execution_count": 126,
   "outputs": [],
   "source": [
    "test_papers = []\n",
    "with open(r'./test_papers.txt', 'r') as fp:\n",
    "    for line in fp:\n",
    "        x = line[:-1]\n",
    "        test_papers.append(x)\n",
    "in_params_test = ','.join(['%s'] * len(test_papers))\n",
    "\n",
    "train_papers = []\n",
    "with open(r'./train_papers.txt', 'r') as fp:\n",
    "    for line in fp:\n",
    "        x = line[:-1]\n",
    "        train_papers.append(x)\n",
    "\n",
    "total_papers = train_papers + test_papers\n",
    "in_params_train = ','.join(['%s'] * len(train_papers))\n",
    "\n",
    "val_papers = []\n",
    "with open(r'./val_papers.txt', 'r') as fp:\n",
    "    for line in fp:\n",
    "        x = line[:-1]\n",
    "        val_papers.append(x)\n",
    "\n",
    "in_params_val = ','.join(['%s'] * len(val_papers))\n",
    "in_params = ','.join(['%s'] * len(train_papers + test_papers))"
   ],
   "metadata": {
    "collapsed": false
   }
  },
  {
   "cell_type": "markdown",
   "source": [
    "## Fetch Data primary"
   ],
   "metadata": {
    "collapsed": false
   }
  },
  {
   "cell_type": "code",
   "execution_count": 127,
   "outputs": [],
   "source": [
    "def remap(x, mapping):\n",
    "    return mapping.get(x, x)"
   ],
   "metadata": {
    "collapsed": false
   }
  },
  {
   "cell_type": "code",
   "execution_count": 128,
   "outputs": [],
   "source": [
    "cursor.execute(\"select b.ReferenceID, b.ReferencedByID from referencedBy b, Papers p where b.ReferencedByID in (%s) and b.ReferenceID = p.PaperID and p.`primary author` in (select AuthorID from affiliatedTo) and b.ReferenceID in (select PaperID from Papers) and b.ReferencedByID in (select PaperID from Papers)\" % in_params, total_papers)\n",
    "paper_edges = np.array(cursor.fetchall())\n",
    "all_papers = np.unique(paper_edges)\n",
    "\n",
    "remapped_papers = {all_papers[i]: i  for i in range(len(all_papers))}\n",
    "vec_remap = np.vectorize(remap, otypes=[str])\n",
    "paper_edges = vec_remap(paper_edges, remapped_papers)\n",
    "\n",
    "all_papers_list = all_papers.tolist()\n",
    "all_params = ','.join(['%s'] * len(all_papers_list))\n",
    "\n",
    "cursor.execute(\"select p.PaperID, p.`primary author`, a.Gender, p.Title from Papers p, Authors a where p.PaperID in (%s) and p.`primary author` in (select AuthorID from affiliatedTo) and p.`primary author` = a.AuthorID\" % all_params, all_papers_list)\n",
    "author_edges = np.array(cursor.fetchall())\n",
    "\n",
    "all_authors = np.unique(author_edges[:,1])\n",
    "remapped_authors = {all_authors[i]: i  for i in range(len(all_authors))}\n",
    "\n",
    "author_edges[:,1] = vec_remap(author_edges[:,1], remapped_authors)\n",
    "author_edges[:,0] = vec_remap(author_edges[:,0], remapped_papers)"
   ],
   "metadata": {
    "collapsed": false
   }
  },
  {
   "cell_type": "markdown",
   "source": [
    "## Create features for each node"
   ],
   "metadata": {
    "collapsed": false
   }
  },
  {
   "cell_type": "code",
   "execution_count": 129,
   "outputs": [],
   "source": [
    "model_path = './GoogleNews-vectors-negative300.bin'\n",
    "model = gensim.models.KeyedVectors.load_word2vec_format(model_path, binary=True)"
   ],
   "metadata": {
    "collapsed": false
   }
  },
  {
   "cell_type": "code",
   "execution_count": 208,
   "outputs": [],
   "source": [
    "def title_to_vec(title):\n",
    "    title = title.replace(\"-\", \" \")\n",
    "    tokens = nltk.word_tokenize(title)\n",
    "    tokens = [token for token in tokens if token.lower() not in stop_words]\n",
    "    vectors = []\n",
    "    for word in tokens:\n",
    "        try:\n",
    "            vec = model[word.lower()]\n",
    "            vectors.append(vec)\n",
    "        except KeyError:\n",
    "            #print(word)\n",
    "            continue\n",
    "    title_vector = None\n",
    "    try:\n",
    "        title_vector = sum(vectors) / len(vectors)\n",
    "    except ZeroDivisionError:\n",
    "        pass\n",
    "    return title_vector"
   ],
   "metadata": {
    "collapsed": false
   }
  },
  {
   "cell_type": "code",
   "execution_count": 199,
   "outputs": [],
   "source": [
    "all_papers_info = pd.DataFrame(author_edges)\n",
    "all_papers_info[0] = all_papers_info[0].astype(int)\n",
    "all_papers_info = all_papers_info.sort_values(0)\n",
    "paper_feats = []\n",
    "stop_words = set(stopwords.words('english'))\n",
    "for title in all_papers_info[3]:\n",
    "    title_vec = title_to_vec(title)\n",
    "    paper_feats.append(title_vec)\n",
    "paper_feats = torch.tensor(paper_feats)"
   ],
   "metadata": {
    "collapsed": false
   }
  },
  {
   "cell_type": "code",
   "execution_count": 143,
   "outputs": [],
   "source": [
    "headers = {\"x-api-key\": \"M7HSjQNeTfai6l7JUiDZB8XYc85BHnHt3R0NXSEd\"}"
   ],
   "metadata": {
    "collapsed": false
   }
  },
  {
   "cell_type": "code",
   "execution_count": 185,
   "outputs": [],
   "source": [
    "def request_author_information(authors):\n",
    "    resp = requests.post(\"https://api.semanticscholar.org/graph/v1/author/batch?fields=papers.title\", headers=headers, json={\"ids\": authors}).json()\n",
    "    return resp\n",
    "\n",
    "def request_author_individual_dfinformation(authors):\n",
    "    resp = requests.post(\"https://api.semanticscholar.org/graph/v1/author/batch?fields=papers.title\", headers=headers, json={\"ids\": authors}).json()\n",
    "    return resp"
   ],
   "metadata": {
    "collapsed": false
   }
  },
  {
   "cell_type": "code",
   "execution_count": 280,
   "outputs": [
    {
     "name": "stdout",
     "output_type": "stream",
     "text": [
      "0/18318\n",
      "100\n",
      "100/18318\n",
      "100\n",
      "200/18318\n",
      "100\n",
      "300/18318\n",
      "100\n",
      "400/18318\n",
      "100\n",
      "500/18318\n",
      "100\n",
      "600/18318\n",
      "100\n",
      "700/18318\n",
      "100\n",
      "800/18318\n",
      "100\n",
      "zero_vector\n",
      "900/18318\n",
      "100\n",
      "1000/18318\n",
      "100\n",
      "zero_vector\n",
      "zero_vector\n",
      "1100/18318\n",
      "100\n",
      "zero_vector\n",
      "zero_vector\n",
      "1200/18318\n",
      "100\n",
      "zero_vector\n",
      "zero_vector\n",
      "1300/18318\n",
      "100\n",
      "zero_vector\n",
      "1400/18318\n",
      "100\n",
      "zero_vector\n",
      "1500/18318\n",
      "100\n",
      "1600/18318\n",
      "100\n",
      "1700/18318\n",
      "100\n",
      "zero_vector\n",
      "1800/18318\n",
      "100\n",
      "1900/18318\n",
      "100\n",
      "2000/18318\n",
      "100\n",
      "zero_vector\n",
      "2100/18318\n",
      "100\n",
      "2200/18318\n",
      "100\n",
      "2300/18318\n",
      "100\n",
      "2400/18318\n",
      "100\n",
      "2500/18318\n",
      "100\n",
      "zero_vector\n",
      "2600/18318\n",
      "100\n",
      "zero_vector\n",
      "2700/18318\n",
      "100\n",
      "2800/18318\n",
      "100\n",
      "2900/18318\n",
      "100\n",
      "3000/18318\n",
      "100\n",
      "3100/18318\n",
      "100\n",
      "3200/18318\n",
      "100\n",
      "3300/18318\n",
      "100\n",
      "3400/18318\n",
      "100\n",
      "3500/18318\n",
      "100\n",
      "3600/18318\n",
      "100\n",
      "zero_vector\n",
      "zero_vector\n",
      "zero_vector\n",
      "zero_vector\n",
      "zero_vector\n",
      "3700/18318\n",
      "100\n",
      "zero_vector\n",
      "zero_vector\n",
      "zero_vector\n",
      "3800/18318\n",
      "100\n",
      "zero_vector\n",
      "3900/18318\n",
      "100\n",
      "zero_vector\n",
      "4000/18318\n",
      "100\n",
      "zero_vector\n",
      "4100/18318\n",
      "100\n",
      "zero_vector\n",
      "4200/18318\n",
      "100\n",
      "4300/18318\n",
      "100\n",
      "4400/18318\n",
      "100\n",
      "4500/18318\n",
      "100\n",
      "4600/18318\n",
      "100\n",
      "4700/18318\n",
      "100\n",
      "zero_vector\n",
      "4800/18318\n",
      "100\n",
      "4900/18318\n",
      "100\n",
      "5000/18318\n",
      "100\n",
      "5100/18318\n",
      "100\n",
      "5200/18318\n",
      "100\n",
      "5300/18318\n",
      "100\n",
      "5400/18318\n",
      "100\n",
      "5500/18318\n",
      "100\n",
      "5600/18318\n",
      "100\n",
      "5700/18318\n",
      "100\n",
      "5800/18318\n",
      "100\n",
      "5900/18318\n",
      "100\n",
      "6000/18318\n",
      "100\n",
      "6100/18318\n",
      "100\n",
      "6200/18318\n",
      "100\n",
      "6300/18318\n",
      "100\n",
      "6400/18318\n",
      "100\n",
      "6500/18318\n",
      "100\n",
      "6600/18318\n",
      "100\n",
      "6700/18318\n",
      "100\n",
      "6800/18318\n",
      "100\n",
      "6900/18318\n",
      "100\n",
      "7000/18318\n",
      "100\n",
      "7100/18318\n",
      "100\n",
      "7200/18318\n",
      "100\n",
      "7300/18318\n",
      "100\n",
      "7400/18318\n",
      "100\n",
      "7500/18318\n",
      "100\n",
      "7600/18318\n",
      "100\n",
      "7700/18318\n",
      "100\n",
      "7800/18318\n",
      "100\n",
      "7900/18318\n",
      "100\n",
      "8000/18318\n",
      "100\n",
      "8100/18318\n",
      "100\n",
      "8200/18318\n",
      "100\n",
      "8300/18318\n",
      "100\n",
      "8400/18318\n",
      "100\n",
      "8500/18318\n",
      "100\n",
      "8600/18318\n",
      "100\n",
      "8700/18318\n",
      "100\n",
      "8800/18318\n",
      "100\n",
      "8900/18318\n",
      "100\n",
      "9000/18318\n",
      "100\n",
      "9100/18318\n",
      "100\n",
      "9200/18318\n",
      "100\n",
      "9300/18318\n",
      "100\n",
      "9400/18318\n",
      "100\n",
      "9500/18318\n",
      "100\n",
      "9600/18318\n",
      "100\n",
      "9700/18318\n",
      "100\n",
      "9800/18318\n",
      "100\n",
      "9900/18318\n",
      "100\n",
      "10000/18318\n",
      "100\n",
      "10100/18318\n",
      "100\n",
      "10200/18318\n",
      "100\n",
      "10300/18318\n",
      "100\n",
      "10400/18318\n",
      "100\n",
      "10500/18318\n",
      "100\n",
      "10600/18318\n",
      "100\n",
      "10700/18318\n",
      "100\n",
      "10800/18318\n",
      "100\n",
      "10900/18318\n",
      "100\n",
      "11000/18318\n",
      "100\n",
      "11100/18318\n",
      "100\n",
      "11200/18318\n",
      "100\n",
      "11300/18318\n",
      "100\n",
      "11400/18318\n",
      "100\n",
      "11500/18318\n",
      "100\n",
      "11600/18318\n",
      "100\n",
      "11700/18318\n",
      "100\n",
      "11800/18318\n",
      "100\n",
      "11900/18318\n",
      "100\n",
      "12000/18318\n",
      "100\n",
      "12100/18318\n",
      "100\n",
      "12200/18318\n",
      "100\n",
      "12300/18318\n",
      "100\n",
      "12400/18318\n",
      "100\n",
      "12500/18318\n",
      "100\n",
      "12600/18318\n",
      "100\n",
      "12700/18318\n",
      "100\n",
      "12800/18318\n",
      "100\n",
      "12900/18318\n",
      "100\n",
      "13000/18318\n",
      "100\n",
      "13100/18318\n",
      "100\n",
      "13200/18318\n",
      "100\n",
      "13300/18318\n",
      "100\n",
      "13400/18318\n",
      "100\n",
      "13500/18318\n",
      "100\n",
      "13600/18318\n",
      "100\n",
      "13700/18318\n",
      "100\n",
      "13800/18318\n",
      "100\n",
      "13900/18318\n",
      "100\n",
      "14000/18318\n",
      "100\n",
      "14100/18318\n",
      "100\n",
      "14200/18318\n",
      "100\n",
      "14300/18318\n",
      "100\n",
      "14400/18318\n",
      "100\n",
      "14500/18318\n",
      "100\n",
      "14600/18318\n",
      "100\n",
      "14700/18318\n",
      "100\n",
      "14800/18318\n",
      "100\n",
      "14900/18318\n",
      "100\n",
      "15000/18318\n",
      "100\n",
      "15100/18318\n",
      "100\n",
      "15200/18318\n",
      "100\n",
      "15300/18318\n",
      "100\n",
      "15400/18318\n",
      "100\n",
      "15500/18318\n",
      "100\n",
      "zero_vector\n",
      "zero_vector\n",
      "zero_vector\n",
      "15600/18318\n",
      "100\n",
      "zero_vector\n",
      "zero_vector\n",
      "15700/18318\n",
      "100\n",
      "15800/18318\n",
      "100\n",
      "zero_vector\n",
      "zero_vector\n",
      "zero_vector\n",
      "15900/18318\n",
      "100\n",
      "16000/18318\n",
      "100\n",
      "16100/18318\n",
      "100\n",
      "16200/18318\n",
      "100\n",
      "16300/18318\n",
      "100\n",
      "16400/18318\n",
      "100\n",
      "16500/18318\n",
      "100\n",
      "16600/18318\n",
      "100\n",
      "16700/18318\n",
      "100\n",
      "16800/18318\n",
      "100\n",
      "16900/18318\n",
      "100\n",
      "17000/18318\n",
      "100\n",
      "17100/18318\n",
      "100\n",
      "17200/18318\n",
      "100\n",
      "17300/18318\n",
      "100\n",
      "17400/18318\n",
      "100\n",
      "17500/18318\n",
      "100\n",
      "17600/18318\n",
      "100\n",
      "17700/18318\n",
      "100\n",
      "17800/18318\n",
      "100\n",
      "17900/18318\n",
      "100\n",
      "18000/18318\n",
      "100\n",
      "18100/18318\n",
      "100\n",
      "18200/18318\n",
      "100\n",
      "18300/18318\n",
      "18\n"
     ]
    }
   ],
   "source": [
    "import time\n",
    "index = 0\n",
    "start = 100\n",
    "author_feats = []\n",
    "while start*index <= len(all_authors):\n",
    "    print(f\"{start*index}/{len(all_authors)}\")\n",
    "    batch_authors = all_authors[start*index: (start*index)+start]\n",
    "    index += 1\n",
    "    while True:\n",
    "        response_batch = request_author_information(batch_authors.tolist())\n",
    "        if \"message\" not in response_batch:\n",
    "            break\n",
    "        time.sleep(2)\n",
    "    print(len(response_batch))\n",
    "    #print(response_batch)\n",
    "    for response in response_batch:\n",
    "        if not response:\n",
    "            author_hist = np.zeros(300)\n",
    "            author_feats.append(author_hist)\n",
    "            continue\n",
    "\n",
    "        author_papers = response[\"papers\"]\n",
    "        #print(author_papers)\n",
    "        author_hist = []\n",
    "        for paper in author_papers:\n",
    "            paperID = paper[\"paperId\"]\n",
    "            if paperID in test_papers:\n",
    "                #paperID in train_papers or\n",
    "                continue\n",
    "            title = paper[\"title\"]\n",
    "            title_vect = title_to_vec(title)\n",
    "            if title_vect is not None:\n",
    "                author_hist.append(title_vect)\n",
    "        if len(author_hist) != 0:\n",
    "            author_hist = np.mean(np.array(author_hist), axis=0)\n",
    "        else:\n",
    "            author_hist = np.zeros(300)\n",
    "            print(\"zero_vector\")\n",
    "        author_feats.append(author_hist)"
   ],
   "metadata": {
    "collapsed": false
   }
  },
  {
   "cell_type": "code",
   "execution_count": 281,
   "outputs": [],
   "source": [
    "author_feats_vec = torch.tensor(author_feats)"
   ],
   "metadata": {
    "collapsed": false
   }
  },
  {
   "cell_type": "code",
   "execution_count": 282,
   "outputs": [
    {
     "data": {
      "text/plain": "torch.Size([18318, 300])"
     },
     "execution_count": 282,
     "metadata": {},
     "output_type": "execute_result"
    }
   ],
   "source": [
    "author_feats_vec.shape"
   ],
   "metadata": {
    "collapsed": false
   }
  },
  {
   "cell_type": "code",
   "execution_count": null,
   "outputs": [],
   "source": [
    "link = f\"https://api.semanticscholar.org/graph/v1/paper/search?query={text}\"\n",
    "response = requests.get(link, headers=headers).json()"
   ],
   "metadata": {
    "collapsed": false
   }
  },
  {
   "cell_type": "code",
   "execution_count": 132,
   "outputs": [],
   "source": [
    "cursor.execute(\"select distinct p.`primary author` from Papers p where p.PaperID in (%s)\" % in_params, total_papers)\n",
    "authors_in_question = np.array(cursor.fetchall()).flatten()"
   ],
   "metadata": {
    "collapsed": false
   }
  },
  {
   "cell_type": "markdown",
   "source": [
    "## Fetch the Gender"
   ],
   "metadata": {
    "collapsed": false
   }
  },
  {
   "cell_type": "code",
   "execution_count": 133,
   "outputs": [],
   "source": [
    "all_params_gender = ','.join(['%s'] * len(all_authors))"
   ],
   "metadata": {
    "collapsed": false
   }
  },
  {
   "cell_type": "code",
   "execution_count": 134,
   "outputs": [],
   "source": [
    "cursor.execute(\"select distinct AuthorID, Gender from Authors a where a.AuthorID in (%s)\" % all_params_gender, all_authors.tolist())\n",
    "gender_edges = np.array(cursor.fetchall())"
   ],
   "metadata": {
    "collapsed": false
   }
  },
  {
   "cell_type": "code",
   "execution_count": 135,
   "outputs": [],
   "source": [
    "gender_edges[:,0] = vec_remap(gender_edges[:,0], remapped_authors)"
   ],
   "metadata": {
    "collapsed": false
   }
  },
  {
   "cell_type": "markdown",
   "source": [
    "## Fetch the affiliation"
   ],
   "metadata": {
    "collapsed": false
   }
  },
  {
   "cell_type": "code",
   "execution_count": 136,
   "outputs": [],
   "source": [
    "cursor.execute(\"select p.PaperID, p.`primary author`, b.AffiliationID, b.Country from Papers p, affiliatedTo af, Affiliations b where p.PaperID in (%s) and p.`primary author` in (select AuthorID from affiliatedTo) and p.`primary author` = af.AuthorID and af.affiliatedTo = b.AffiliationID\" % all_params, all_papers_list)\n",
    "author_info = np.array(cursor.fetchall())\n",
    "\n",
    "all_affiliations = np.unique(author_info[:,2])\n",
    "remapped_affiliations = {all_affiliations[i]: i  for i in range(len(all_affiliations))}\n",
    "\n",
    "all_countries = np.unique(author_info[:,3])\n",
    "remapped_countries = {all_countries[i]: i  for i in range(len(all_countries))}\n",
    "\n",
    "author_info[:,2] = vec_remap(author_info[:,2], remapped_affiliations)\n",
    "author_info[:,3] = vec_remap(author_info[:,3], remapped_countries)\n",
    "author_info[:,1] = vec_remap(author_info[:,1], remapped_authors)\n",
    "author_info[:,0] = vec_remap(author_info[:,0], remapped_papers)\n",
    "\n",
    "affiliation_edges = author_info[:,[2,1]]\n",
    "affiliation_edges = np.unique(affiliation_edges, axis=0)\n",
    "\n",
    "country_edges = author_info[:,[3,2]]\n",
    "country_edges = np.unique(country_edges, axis=0)"
   ],
   "metadata": {
    "collapsed": false
   }
  },
  {
   "cell_type": "markdown",
   "source": [
    "# Fetch data"
   ],
   "metadata": {
    "collapsed": false
   }
  },
  {
   "cell_type": "code",
   "execution_count": 5,
   "outputs": [],
   "source": [
    "cursor.execute(\"select * from referencedBy b where b.ReferenceID in (select PaperID from Papers) and b.ReferencedByID in (select PaperID from Papers)\")\n",
    "paper_edges = np.array(cursor.fetchall())\n",
    "all_papers = np.unique(paper_edges)\n",
    "remapped_papers = {all_papers[i]: i  for i in range(len(all_papers))}\n",
    "vec_remap = np.vectorize(remap, otypes=[str])\n",
    "paper_edges = vec_remap(paper_edges, remapped_papers)\n",
    "\n",
    "cursor.execute(\"select * from authoredBy where PaperID in (select PaperID from Papers) and (PaperID in (select ReferenceID from referencedBy) or PaperID in (select ReferencedByID from referencedBy)) and PaperID in (select p.PaperID from Papers p where p.Leaf = FALSE) and AuthoredByID in (select a.AuthorID from affiliatedTo a)\")\n",
    "\n",
    "author_edges = np.array(cursor.fetchall())\n",
    "\n",
    "all_authors = np.unique(author_edges[:,1])\n",
    "remapped_authors = {all_authors[i]: i  for i in range(len(all_authors))}\n",
    "\n",
    "author_edges[:,1] = vec_remap(author_edges[:,1], remapped_authors)\n",
    "author_edges[:,0] = vec_remap(author_edges[:,0], remapped_papers)"
   ],
   "metadata": {
    "collapsed": false
   }
  },
  {
   "cell_type": "code",
   "execution_count": 21,
   "outputs": [],
   "source": [
    "cursor.execute(\"select distinct b.AuthoredByID from Papers p, authoredBy b where p.Leaf = False and p.PaperID in (%s) and p.PaperID = b.PaperID and b.AuthoredByID in (select a.AuthorID from affiliatedTo a)\" % in_params, train_papers+test_papers)\n",
    "authors_in_question = np.array(cursor.fetchall()).flatten()"
   ],
   "metadata": {
    "collapsed": false
   }
  },
  {
   "cell_type": "markdown",
   "source": [
    "# Paper data"
   ],
   "metadata": {
    "collapsed": false
   }
  },
  {
   "cell_type": "markdown",
   "source": [
    "Since we use only paper information, we remove all other \"authoredBy\" edges"
   ],
   "metadata": {
    "collapsed": false
   }
  },
  {
   "cell_type": "code",
   "execution_count": 283,
   "outputs": [],
   "source": [
    "remapped_test_papers = th.tensor([remapped_papers[idx] for idx in test_papers])\n",
    "remapped_val_papers = th.tensor([remapped_papers[idx] for idx in val_papers])\n",
    "remapped_train_papers = th.tensor([remapped_papers[idx] for idx in train_papers])\n",
    "remapped_authors_in_question = th.tensor([remapped_authors[idx] for idx in authors_in_question])"
   ],
   "metadata": {
    "collapsed": false
   }
  },
  {
   "cell_type": "code",
   "execution_count": 284,
   "outputs": [
    {
     "data": {
      "text/plain": "tensor([[-0.0146,  0.0525, -0.0199,  ..., -0.0717,  0.0053, -0.0091],\n        [-0.0028,  0.0341,  0.0362,  ..., -0.0184,  0.0457, -0.0389],\n        [-0.0012, -0.0004,  0.0246,  ..., -0.0462, -0.0197,  0.0109],\n        ...,\n        [ 0.0262,  0.0078, -0.0416,  ..., -0.0869, -0.0445, -0.0357],\n        [-0.0298,  0.0767,  0.0214,  ..., -0.0218,  0.0582,  0.0096],\n        [ 0.0610,  0.0380, -0.0386,  ..., -0.0682, -0.0064, -0.0540]],\n       dtype=torch.float64)"
     },
     "execution_count": 284,
     "metadata": {},
     "output_type": "execute_result"
    }
   ],
   "source": [
    "author_feats_vec"
   ],
   "metadata": {
    "collapsed": false
   }
  },
  {
   "cell_type": "code",
   "execution_count": 285,
   "outputs": [],
   "source": [
    "tensors_in_question = torch.index_select(author_feats_vec,0,remapped_authors_in_question)"
   ],
   "metadata": {
    "collapsed": false
   }
  },
  {
   "cell_type": "code",
   "execution_count": 288,
   "outputs": [],
   "source": [
    "only_zeros = [idx for idx, tensor in enumerate(author_feats_vec) if (tensor == 0).all()]"
   ],
   "metadata": {
    "collapsed": false
   }
  },
  {
   "cell_type": "code",
   "execution_count": 290,
   "outputs": [
    {
     "data": {
      "text/plain": "42"
     },
     "execution_count": 290,
     "metadata": {},
     "output_type": "execute_result"
    }
   ],
   "source": [
    "len(only_zeros)"
   ],
   "metadata": {
    "collapsed": false
   }
  },
  {
   "cell_type": "code",
   "execution_count": 277,
   "outputs": [
    {
     "data": {
      "text/plain": "tensor(6511)"
     },
     "execution_count": 277,
     "metadata": {},
     "output_type": "execute_result"
    }
   ],
   "source": [
    "remapped_authors_in_question[442]"
   ],
   "metadata": {
    "collapsed": false
   }
  },
  {
   "cell_type": "code",
   "execution_count": 279,
   "outputs": [
    {
     "data": {
      "text/plain": "'2062795769'"
     },
     "execution_count": 279,
     "metadata": {},
     "output_type": "execute_result"
    }
   ],
   "source": [
    "list(remapped_authors)[6511]"
   ],
   "metadata": {
    "collapsed": false
   }
  },
  {
   "cell_type": "code",
   "execution_count": 304,
   "outputs": [],
   "source": [
    "hetero_graph = dgl.heterograph(\n",
    "    {\n",
    "        ('paper', 'authored', 'author'): (author_edges[:,0].astype(int), author_edges[:,1].astype(int)),\n",
    "        ('author', \"writes\", \"paper\"): (author_edges[:,1].astype(int), author_edges[:,0].astype(int)),\n",
    "        ('paper', 'cites', 'paper'): (paper_edges[:,0].astype(int), paper_edges[:,1].astype(int)),\n",
    "        ('gender', 'gendered', 'author'): (gender_edges[:,1].astype(int), gender_edges[:,0].astype(int)),\n",
    "        ('paper', 'authored_gender', 'gender'): (author_edges[:,0].astype(int), author_edges[:,2].astype(int)),\n",
    "        ('paper', 'authored_affiliation', 'affiliation'): (author_info[:,0].astype(int), author_info[:,2].astype(int)),\n",
    "        ('affiliation', 'affiliated', 'author'): (affiliation_edges[:,0].astype(int), affiliation_edges[:,1].astype(int)),\n",
    "        ('paper', 'authored_country', 'country'): (author_info[:,0].astype(int), author_info[:,3].astype(int)),\n",
    "        ('country', 'contains', 'affiliation'): (country_edges[:,0].astype(int), country_edges[:,1].astype(int))\n",
    "    }\n",
    ")\n",
    "hetero_graph.nodes['author'].data['feature'] = author_feats_vec\n",
    "hetero_graph.nodes['paper'].data['feature'] = paper_feats"
   ],
   "metadata": {
    "collapsed": false
   }
  },
  {
   "cell_type": "code",
   "execution_count": 297,
   "outputs": [
    {
     "data": {
      "text/plain": "'\\nedges = hetero_graph.edges(etype=\"authored\")\\nauthor_mask = ~torch.isin(edges[1], remapped_authors_in_question)\\npaper_edges = edges[0][author_mask]\\nauthor_edges = edges[1][author_mask]\\nauthor_ids_remove = hetero_graph.edge_ids(paper_edges, author_edges, etype=\"authored\")\\nhetero_graph = dgl.remove_edges(hetero_graph, author_ids_remove, etype=\"authored\")\\n'"
     },
     "execution_count": 297,
     "metadata": {},
     "output_type": "execute_result"
    }
   ],
   "source": [
    "\"\"\"\n",
    "edges = hetero_graph.edges(etype=\"authored\")\n",
    "author_mask = ~torch.isin(edges[1], remapped_authors_in_question)\n",
    "paper_edges = edges[0][author_mask]\n",
    "author_edges = edges[1][author_mask]\n",
    "author_ids_remove = hetero_graph.edge_ids(paper_edges, author_edges, etype=\"authored\")\n",
    "hetero_graph = dgl.remove_edges(hetero_graph, author_ids_remove, etype=\"authored\")\n",
    "\"\"\""
   ],
   "metadata": {
    "collapsed": false
   }
  },
  {
   "cell_type": "markdown",
   "source": [
    "### Split into Training, Validation, Test set"
   ],
   "metadata": {
    "collapsed": false
   }
  },
  {
   "cell_type": "markdown",
   "source": [
    "#### Train set"
   ],
   "metadata": {
    "collapsed": false
   }
  },
  {
   "cell_type": "code",
   "execution_count": 305,
   "outputs": [
    {
     "data": {
      "text/plain": "Graph(num_nodes={'affiliation': 2342, 'author': 18318, 'country': 88, 'gender': 2, 'paper': 36099},\n      num_edges={('affiliation', 'affiliated', 'author'): 18422, ('author', 'writes', 'paper'): 36099, ('country', 'contains', 'affiliation'): 2342, ('gender', 'gendered', 'author'): 18318, ('paper', 'authored', 'author'): 2384, ('paper', 'authored_affiliation', 'affiliation'): 36285, ('paper', 'authored_country', 'country'): 36285, ('paper', 'authored_gender', 'gender'): 36099, ('paper', 'cites', 'paper'): 138804},\n      metagraph=[('affiliation', 'author', 'affiliated'), ('author', 'paper', 'writes'), ('paper', 'author', 'authored'), ('paper', 'affiliation', 'authored_affiliation'), ('paper', 'country', 'authored_country'), ('paper', 'gender', 'authored_gender'), ('paper', 'paper', 'cites'), ('country', 'affiliation', 'contains'), ('gender', 'author', 'gendered')])"
     },
     "execution_count": 305,
     "metadata": {},
     "output_type": "execute_result"
    }
   ],
   "source": [
    "edges = hetero_graph.edges(etype=\"authored\")\n",
    "\n",
    "train_mask = ~torch.isin(edges[0], remapped_train_papers)\n",
    "train_src = edges[0][train_mask]\n",
    "train_dst = edges[1][train_mask]\n",
    "\n",
    "train_ids = hetero_graph.edge_ids(train_src, train_dst, etype=\"authored\")\n",
    "train_hetero_graph = dgl.remove_edges(hetero_graph, train_ids, etype=\"authored\")\n",
    "\n",
    "train_hetero_graph"
   ],
   "metadata": {
    "collapsed": false
   }
  },
  {
   "cell_type": "code",
   "execution_count": 306,
   "outputs": [
    {
     "data": {
      "text/plain": "Graph(num_nodes={'affiliation': 2342, 'author': 18318, 'country': 88, 'gender': 2, 'paper': 36099},\n      num_edges={('affiliation', 'affiliated', 'author'): 18422, ('author', 'writes', 'paper'): 36099, ('country', 'contains', 'affiliation'): 2342, ('gender', 'gendered', 'author'): 18318, ('paper', 'authored', 'author'): 2384, ('paper', 'authored_affiliation', 'affiliation'): 36285, ('paper', 'authored_country', 'country'): 36285, ('paper', 'authored_gender', 'gender'): 2384, ('paper', 'cites', 'paper'): 138804},\n      metagraph=[('affiliation', 'author', 'affiliated'), ('author', 'paper', 'writes'), ('paper', 'author', 'authored'), ('paper', 'affiliation', 'authored_affiliation'), ('paper', 'country', 'authored_country'), ('paper', 'gender', 'authored_gender'), ('paper', 'paper', 'cites'), ('country', 'affiliation', 'contains'), ('gender', 'author', 'gendered')])"
     },
     "execution_count": 306,
     "metadata": {},
     "output_type": "execute_result"
    }
   ],
   "source": [
    "edges = train_hetero_graph.edges(etype=\"authored_gender\")\n",
    "\n",
    "train_mask = ~torch.isin(edges[0], remapped_train_papers)\n",
    "train_src = edges[0][train_mask]\n",
    "train_dst = edges[1][train_mask]\n",
    "\n",
    "train_ids = train_hetero_graph.edge_ids(train_src, train_dst, etype=\"authored_gender\")\n",
    "train_hetero_graph = dgl.remove_edges(train_hetero_graph, train_ids, etype=\"authored_gender\")\n",
    "\n",
    "train_hetero_graph"
   ],
   "metadata": {
    "collapsed": false
   }
  },
  {
   "cell_type": "code",
   "execution_count": 307,
   "outputs": [
    {
     "data": {
      "text/plain": "Graph(num_nodes={'affiliation': 2342, 'author': 18318, 'country': 88, 'gender': 2, 'paper': 36099},\n      num_edges={('affiliation', 'affiliated', 'author'): 18422, ('author', 'writes', 'paper'): 36099, ('country', 'contains', 'affiliation'): 2342, ('gender', 'gendered', 'author'): 18318, ('paper', 'authored', 'author'): 2384, ('paper', 'authored_affiliation', 'affiliation'): 2384, ('paper', 'authored_country', 'country'): 36285, ('paper', 'authored_gender', 'gender'): 2384, ('paper', 'cites', 'paper'): 138804},\n      metagraph=[('affiliation', 'author', 'affiliated'), ('author', 'paper', 'writes'), ('paper', 'author', 'authored'), ('paper', 'affiliation', 'authored_affiliation'), ('paper', 'country', 'authored_country'), ('paper', 'gender', 'authored_gender'), ('paper', 'paper', 'cites'), ('country', 'affiliation', 'contains'), ('gender', 'author', 'gendered')])"
     },
     "execution_count": 307,
     "metadata": {},
     "output_type": "execute_result"
    }
   ],
   "source": [
    "edges = train_hetero_graph.edges(etype=\"authored_affiliation\")\n",
    "\n",
    "train_mask = ~torch.isin(edges[0], remapped_train_papers)\n",
    "train_src = edges[0][train_mask]\n",
    "train_dst = edges[1][train_mask]\n",
    "\n",
    "train_ids = train_hetero_graph.edge_ids(train_src, train_dst, etype=\"authored_affiliation\")\n",
    "train_hetero_graph = dgl.remove_edges(train_hetero_graph, train_ids, etype=\"authored_affiliation\")\n",
    "\n",
    "train_hetero_graph"
   ],
   "metadata": {
    "collapsed": false
   }
  },
  {
   "cell_type": "code",
   "execution_count": 308,
   "outputs": [
    {
     "data": {
      "text/plain": "Graph(num_nodes={'affiliation': 2342, 'author': 18318, 'country': 88, 'gender': 2, 'paper': 36099},\n      num_edges={('affiliation', 'affiliated', 'author'): 18422, ('author', 'writes', 'paper'): 36099, ('country', 'contains', 'affiliation'): 2342, ('gender', 'gendered', 'author'): 18318, ('paper', 'authored', 'author'): 2384, ('paper', 'authored_affiliation', 'affiliation'): 2384, ('paper', 'authored_country', 'country'): 2467, ('paper', 'authored_gender', 'gender'): 2384, ('paper', 'cites', 'paper'): 138804},\n      metagraph=[('affiliation', 'author', 'affiliated'), ('author', 'paper', 'writes'), ('paper', 'author', 'authored'), ('paper', 'affiliation', 'authored_affiliation'), ('paper', 'country', 'authored_country'), ('paper', 'gender', 'authored_gender'), ('paper', 'paper', 'cites'), ('country', 'affiliation', 'contains'), ('gender', 'author', 'gendered')])"
     },
     "execution_count": 308,
     "metadata": {},
     "output_type": "execute_result"
    }
   ],
   "source": [
    "edges = train_hetero_graph.edges(etype=\"authored_country\")\n",
    "\n",
    "train_mask = ~torch.isin(edges[0], remapped_train_papers)\n",
    "train_src = edges[0][train_mask]\n",
    "train_dst = edges[1][train_mask]\n",
    "\n",
    "train_ids = train_hetero_graph.edge_ids(train_src, train_dst, etype=\"authored_country\")\n",
    "train_hetero_graph = dgl.remove_edges(train_hetero_graph, train_ids, etype=\"authored_country\")\n",
    "\n",
    "train_hetero_graph"
   ],
   "metadata": {
    "collapsed": false
   }
  },
  {
   "cell_type": "markdown",
   "source": [
    "# Validation Set"
   ],
   "metadata": {
    "collapsed": false
   }
  },
  {
   "cell_type": "code",
   "execution_count": 310,
   "outputs": [
    {
     "data": {
      "text/plain": "Graph(num_nodes={'affiliation': 2342, 'author': 18318, 'country': 88, 'gender': 2, 'paper': 36099},\n      num_edges={('affiliation', 'affiliated', 'author'): 18422, ('author', 'writes', 'paper'): 36099, ('country', 'contains', 'affiliation'): 2342, ('gender', 'gendered', 'author'): 18318, ('paper', 'authored', 'author'): 300, ('paper', 'authored_affiliation', 'affiliation'): 36285, ('paper', 'authored_country', 'country'): 36285, ('paper', 'authored_gender', 'gender'): 36099, ('paper', 'cites', 'paper'): 138804},\n      metagraph=[('affiliation', 'author', 'affiliated'), ('author', 'paper', 'writes'), ('paper', 'author', 'authored'), ('paper', 'affiliation', 'authored_affiliation'), ('paper', 'country', 'authored_country'), ('paper', 'gender', 'authored_gender'), ('paper', 'paper', 'cites'), ('country', 'affiliation', 'contains'), ('gender', 'author', 'gendered')])"
     },
     "execution_count": 310,
     "metadata": {},
     "output_type": "execute_result"
    }
   ],
   "source": [
    "edges = hetero_graph.edges(etype=\"authored\")\n",
    "val_mask = ~torch.isin(edges[0], remapped_val_papers)\n",
    "val_src = edges[0][val_mask]\n",
    "val_dst = edges[1][val_mask]\n",
    "\n",
    "val_ids = hetero_graph.edge_ids(val_src, val_dst, etype=\"authored\")\n",
    "val_hetero_graph = dgl.remove_edges(hetero_graph, val_ids, etype=\"authored\")\n",
    "val_hetero_graph"
   ],
   "metadata": {
    "collapsed": false
   }
  },
  {
   "cell_type": "code",
   "execution_count": 311,
   "outputs": [
    {
     "data": {
      "text/plain": "Graph(num_nodes={'affiliation': 2342, 'author': 18318, 'country': 88, 'gender': 2, 'paper': 36099},\n      num_edges={('affiliation', 'affiliated', 'author'): 18422, ('author', 'writes', 'paper'): 36099, ('country', 'contains', 'affiliation'): 2342, ('gender', 'gendered', 'author'): 18318, ('paper', 'authored', 'author'): 300, ('paper', 'authored_affiliation', 'affiliation'): 36285, ('paper', 'authored_country', 'country'): 36285, ('paper', 'authored_gender', 'gender'): 300, ('paper', 'cites', 'paper'): 138804},\n      metagraph=[('affiliation', 'author', 'affiliated'), ('author', 'paper', 'writes'), ('paper', 'author', 'authored'), ('paper', 'affiliation', 'authored_affiliation'), ('paper', 'country', 'authored_country'), ('paper', 'gender', 'authored_gender'), ('paper', 'paper', 'cites'), ('country', 'affiliation', 'contains'), ('gender', 'author', 'gendered')])"
     },
     "execution_count": 311,
     "metadata": {},
     "output_type": "execute_result"
    }
   ],
   "source": [
    "edges = val_hetero_graph.edges(etype=\"authored_gender\")\n",
    "val_mask = ~torch.isin(edges[0], remapped_val_papers)\n",
    "val_src = edges[0][val_mask]\n",
    "val_dst = edges[1][val_mask]\n",
    "\n",
    "val_ids = val_hetero_graph.edge_ids(val_src, val_dst, etype=\"authored_gender\")\n",
    "val_hetero_graph = dgl.remove_edges(val_hetero_graph, val_ids, etype=\"authored_gender\")\n",
    "val_hetero_graph"
   ],
   "metadata": {
    "collapsed": false
   }
  },
  {
   "cell_type": "code",
   "execution_count": 312,
   "outputs": [
    {
     "data": {
      "text/plain": "Graph(num_nodes={'affiliation': 2342, 'author': 18318, 'country': 88, 'gender': 2, 'paper': 36099},\n      num_edges={('affiliation', 'affiliated', 'author'): 18422, ('author', 'writes', 'paper'): 36099, ('country', 'contains', 'affiliation'): 2342, ('gender', 'gendered', 'author'): 18318, ('paper', 'authored', 'author'): 300, ('paper', 'authored_affiliation', 'affiliation'): 300, ('paper', 'authored_country', 'country'): 36285, ('paper', 'authored_gender', 'gender'): 300, ('paper', 'cites', 'paper'): 138804},\n      metagraph=[('affiliation', 'author', 'affiliated'), ('author', 'paper', 'writes'), ('paper', 'author', 'authored'), ('paper', 'affiliation', 'authored_affiliation'), ('paper', 'country', 'authored_country'), ('paper', 'gender', 'authored_gender'), ('paper', 'paper', 'cites'), ('country', 'affiliation', 'contains'), ('gender', 'author', 'gendered')])"
     },
     "execution_count": 312,
     "metadata": {},
     "output_type": "execute_result"
    }
   ],
   "source": [
    "edges = val_hetero_graph.edges(etype=\"authored_affiliation\")\n",
    "val_mask = ~torch.isin(edges[0], remapped_val_papers)\n",
    "val_src = edges[0][val_mask]\n",
    "val_dst = edges[1][val_mask]\n",
    "\n",
    "val_ids = val_hetero_graph.edge_ids(val_src, val_dst, etype=\"authored_affiliation\")\n",
    "val_hetero_graph = dgl.remove_edges(val_hetero_graph, val_ids, etype=\"authored_affiliation\")\n",
    "val_hetero_graph"
   ],
   "metadata": {
    "collapsed": false
   }
  },
  {
   "cell_type": "code",
   "execution_count": 313,
   "outputs": [
    {
     "data": {
      "text/plain": "Graph(num_nodes={'affiliation': 2342, 'author': 18318, 'country': 88, 'gender': 2, 'paper': 36099},\n      num_edges={('affiliation', 'affiliated', 'author'): 18422, ('author', 'writes', 'paper'): 36099, ('country', 'contains', 'affiliation'): 2342, ('gender', 'gendered', 'author'): 18318, ('paper', 'authored', 'author'): 300, ('paper', 'authored_affiliation', 'affiliation'): 300, ('paper', 'authored_country', 'country'): 383, ('paper', 'authored_gender', 'gender'): 300, ('paper', 'cites', 'paper'): 138804},\n      metagraph=[('affiliation', 'author', 'affiliated'), ('author', 'paper', 'writes'), ('paper', 'author', 'authored'), ('paper', 'affiliation', 'authored_affiliation'), ('paper', 'country', 'authored_country'), ('paper', 'gender', 'authored_gender'), ('paper', 'paper', 'cites'), ('country', 'affiliation', 'contains'), ('gender', 'author', 'gendered')])"
     },
     "execution_count": 313,
     "metadata": {},
     "output_type": "execute_result"
    }
   ],
   "source": [
    "edges = val_hetero_graph.edges(etype=\"authored_country\")\n",
    "val_mask = ~torch.isin(edges[0], remapped_val_papers)\n",
    "val_src = edges[0][val_mask]\n",
    "val_dst = edges[1][val_mask]\n",
    "\n",
    "val_ids = val_hetero_graph.edge_ids(val_src, val_dst, etype=\"authored_country\")\n",
    "val_hetero_graph = dgl.remove_edges(val_hetero_graph, val_ids, etype=\"authored_country\")\n",
    "val_hetero_graph"
   ],
   "metadata": {
    "collapsed": false
   }
  },
  {
   "cell_type": "markdown",
   "source": [
    "## Test set"
   ],
   "metadata": {
    "collapsed": false
   }
  },
  {
   "cell_type": "code",
   "execution_count": 314,
   "outputs": [
    {
     "data": {
      "text/plain": "Graph(num_nodes={'affiliation': 2342, 'author': 18318, 'country': 88, 'gender': 2, 'paper': 36099},\n      num_edges={('affiliation', 'affiliated', 'author'): 18422, ('author', 'writes', 'paper'): 36099, ('country', 'contains', 'affiliation'): 2342, ('gender', 'gendered', 'author'): 18318, ('paper', 'authored', 'author'): 1005, ('paper', 'authored_affiliation', 'affiliation'): 36285, ('paper', 'authored_country', 'country'): 36285, ('paper', 'authored_gender', 'gender'): 36099, ('paper', 'cites', 'paper'): 138804},\n      metagraph=[('affiliation', 'author', 'affiliated'), ('author', 'paper', 'writes'), ('paper', 'author', 'authored'), ('paper', 'affiliation', 'authored_affiliation'), ('paper', 'country', 'authored_country'), ('paper', 'gender', 'authored_gender'), ('paper', 'paper', 'cites'), ('country', 'affiliation', 'contains'), ('gender', 'author', 'gendered')])"
     },
     "execution_count": 314,
     "metadata": {},
     "output_type": "execute_result"
    }
   ],
   "source": [
    "edges = hetero_graph.edges(etype=\"authored\")\n",
    "val_mask = ~torch.isin(edges[0], remapped_test_papers)\n",
    "val_src = edges[0][val_mask]\n",
    "val_dst = edges[1][val_mask]\n",
    "\n",
    "val_ids = hetero_graph.edge_ids(val_src, val_dst, etype=\"authored\")\n",
    "test_hetero_graph = dgl.remove_edges(hetero_graph, val_ids, etype=\"authored\")\n",
    "test_hetero_graph"
   ],
   "metadata": {
    "collapsed": false
   }
  },
  {
   "cell_type": "code",
   "execution_count": 315,
   "outputs": [
    {
     "data": {
      "text/plain": "Graph(num_nodes={'affiliation': 2342, 'author': 18318, 'country': 88, 'gender': 2, 'paper': 36099},\n      num_edges={('affiliation', 'affiliated', 'author'): 18422, ('author', 'writes', 'paper'): 36099, ('country', 'contains', 'affiliation'): 2342, ('gender', 'gendered', 'author'): 18318, ('paper', 'authored', 'author'): 1005, ('paper', 'authored_affiliation', 'affiliation'): 36285, ('paper', 'authored_country', 'country'): 36285, ('paper', 'authored_gender', 'gender'): 1005, ('paper', 'cites', 'paper'): 138804},\n      metagraph=[('affiliation', 'author', 'affiliated'), ('author', 'paper', 'writes'), ('paper', 'author', 'authored'), ('paper', 'affiliation', 'authored_affiliation'), ('paper', 'country', 'authored_country'), ('paper', 'gender', 'authored_gender'), ('paper', 'paper', 'cites'), ('country', 'affiliation', 'contains'), ('gender', 'author', 'gendered')])"
     },
     "execution_count": 315,
     "metadata": {},
     "output_type": "execute_result"
    }
   ],
   "source": [
    "edges = test_hetero_graph.edges(etype=\"authored_gender\")\n",
    "val_mask = ~torch.isin(edges[0], remapped_test_papers)\n",
    "val_src = edges[0][val_mask]\n",
    "val_dst = edges[1][val_mask]\n",
    "\n",
    "val_ids = test_hetero_graph.edge_ids(val_src, val_dst, etype=\"authored_gender\")\n",
    "test_hetero_graph = dgl.remove_edges(test_hetero_graph, val_ids, etype=\"authored_gender\")\n",
    "test_hetero_graph"
   ],
   "metadata": {
    "collapsed": false
   }
  },
  {
   "cell_type": "code",
   "execution_count": 316,
   "outputs": [
    {
     "data": {
      "text/plain": "Graph(num_nodes={'affiliation': 2342, 'author': 18318, 'country': 88, 'gender': 2, 'paper': 36099},\n      num_edges={('affiliation', 'affiliated', 'author'): 18422, ('author', 'writes', 'paper'): 36099, ('country', 'contains', 'affiliation'): 2342, ('gender', 'gendered', 'author'): 18318, ('paper', 'authored', 'author'): 1005, ('paper', 'authored_affiliation', 'affiliation'): 1005, ('paper', 'authored_country', 'country'): 36285, ('paper', 'authored_gender', 'gender'): 1005, ('paper', 'cites', 'paper'): 138804},\n      metagraph=[('affiliation', 'author', 'affiliated'), ('author', 'paper', 'writes'), ('paper', 'author', 'authored'), ('paper', 'affiliation', 'authored_affiliation'), ('paper', 'country', 'authored_country'), ('paper', 'gender', 'authored_gender'), ('paper', 'paper', 'cites'), ('country', 'affiliation', 'contains'), ('gender', 'author', 'gendered')])"
     },
     "execution_count": 316,
     "metadata": {},
     "output_type": "execute_result"
    }
   ],
   "source": [
    "edges = test_hetero_graph.edges(etype=\"authored_affiliation\")\n",
    "val_mask = ~torch.isin(edges[0], remapped_test_papers)\n",
    "val_src = edges[0][val_mask]\n",
    "val_dst = edges[1][val_mask]\n",
    "\n",
    "val_ids = test_hetero_graph.edge_ids(val_src, val_dst, etype=\"authored_affiliation\")\n",
    "test_hetero_graph = dgl.remove_edges(test_hetero_graph, val_ids, etype=\"authored_affiliation\")\n",
    "test_hetero_graph"
   ],
   "metadata": {
    "collapsed": false
   }
  },
  {
   "cell_type": "code",
   "execution_count": 317,
   "outputs": [
    {
     "data": {
      "text/plain": "Graph(num_nodes={'affiliation': 2342, 'author': 18318, 'country': 88, 'gender': 2, 'paper': 36099},\n      num_edges={('affiliation', 'affiliated', 'author'): 18422, ('author', 'writes', 'paper'): 36099, ('country', 'contains', 'affiliation'): 2342, ('gender', 'gendered', 'author'): 18318, ('paper', 'authored', 'author'): 1005, ('paper', 'authored_affiliation', 'affiliation'): 1005, ('paper', 'authored_country', 'country'): 1088, ('paper', 'authored_gender', 'gender'): 1005, ('paper', 'cites', 'paper'): 138804},\n      metagraph=[('affiliation', 'author', 'affiliated'), ('author', 'paper', 'writes'), ('paper', 'author', 'authored'), ('paper', 'affiliation', 'authored_affiliation'), ('paper', 'country', 'authored_country'), ('paper', 'gender', 'authored_gender'), ('paper', 'paper', 'cites'), ('country', 'affiliation', 'contains'), ('gender', 'author', 'gendered')])"
     },
     "execution_count": 317,
     "metadata": {},
     "output_type": "execute_result"
    }
   ],
   "source": [
    "edges = test_hetero_graph.edges(etype=\"authored_country\")\n",
    "val_mask = ~torch.isin(edges[0], remapped_test_papers)\n",
    "val_src = edges[0][val_mask]\n",
    "val_dst = edges[1][val_mask]\n",
    "\n",
    "val_ids = test_hetero_graph.edge_ids(val_src, val_dst, etype=\"authored_country\")\n",
    "test_hetero_graph = dgl.remove_edges(test_hetero_graph, val_ids, etype=\"authored_country\")\n",
    "test_hetero_graph"
   ],
   "metadata": {
    "collapsed": false
   }
  },
  {
   "cell_type": "code",
   "execution_count": 318,
   "outputs": [],
   "source": [
    "save_graphs(\"./graphs/hetero_graphs_primary_word2vec.bin\", [train_hetero_graph, val_hetero_graph, test_hetero_graph])"
   ],
   "metadata": {
    "collapsed": false
   }
  },
  {
   "cell_type": "code",
   "execution_count": null,
   "outputs": [],
   "source": [],
   "metadata": {
    "collapsed": false
   }
  }
 ],
 "metadata": {
  "kernelspec": {
   "display_name": "Python 3",
   "language": "python",
   "name": "python3"
  },
  "language_info": {
   "codemirror_mode": {
    "name": "ipython",
    "version": 2
   },
   "file_extension": ".py",
   "mimetype": "text/x-python",
   "name": "python",
   "nbconvert_exporter": "python",
   "pygments_lexer": "ipython2",
   "version": "2.7.6"
  }
 },
 "nbformat": 4,
 "nbformat_minor": 0
}
