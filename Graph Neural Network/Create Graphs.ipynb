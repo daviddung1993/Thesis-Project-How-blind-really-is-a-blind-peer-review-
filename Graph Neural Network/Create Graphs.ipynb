{
 "cells": [
  {
   "cell_type": "code",
   "execution_count": 3,
   "metadata": {
    "collapsed": true
   },
   "outputs": [],
   "source": [
    "import torch\n",
    "import torch.nn as nn\n",
    "import torch.nn.functional as F\n",
    "from dgl.nn import EdgeWeightNorm, GraphConv,RelGraphConv, SAGEConv\n",
    "from dgl.data import DGLDataset\n",
    "import mysql.connector\n",
    "import dgl.data\n",
    "import numpy as np\n",
    "import pandas as pd\n",
    "import os\n",
    "from dgl import save_graphs, load_graphs\n",
    "import matplotlib.pyplot as plt\n",
    "import random\n",
    "from Datasets import PaperDataset\n",
    "from Models import GraphClassificationModelCrossEntropy, GraphClassificationModelBinaryCrossEntropy\n",
    "import networkx as nx\n",
    "import scipy.sparse as sp\n",
    "import itertools\n",
    "import torch as th\n",
    "import dgl.function as fn\n",
    "from sklearn.metrics import roc_auc_score\n",
    "import dgl.nn as dglnn\n",
    "import random\n",
    "from torchmetrics.classification import BinaryAUROC\n",
    "from torch.utils.data import TensorDataset, DataLoader"
   ]
  },
  {
   "cell_type": "markdown",
   "source": [
    "# Connect to database"
   ],
   "metadata": {
    "collapsed": false
   }
  },
  {
   "cell_type": "code",
   "execution_count": 4,
   "outputs": [],
   "source": [
    "cnx = mysql.connector.connect(user='david', password='daviddung1993',\n",
    "                          host='127.0.0.1',\n",
    "                          database='computervision')\n",
    "cursor = cnx.cursor()\n",
    "headers = {\"x-api-key\": \"M7HSjQNeTfai6l7JUiDZB8XYc85BHnHt3R0NXSEd\"}"
   ],
   "metadata": {
    "collapsed": false
   }
  },
  {
   "cell_type": "code",
   "execution_count": 5,
   "outputs": [],
   "source": [
    "test_papers = []\n",
    "with open(r'./test_papers.txt', 'r') as fp:\n",
    "    for line in fp:\n",
    "        x = line[:-1]\n",
    "        test_papers.append(x)\n",
    "in_params_test = ','.join(['%s'] * len(test_papers))\n",
    "\n",
    "train_papers = []\n",
    "with open(r'./train_papers.txt', 'r') as fp:\n",
    "    for line in fp:\n",
    "        x = line[:-1]\n",
    "        train_papers.append(x)\n",
    "\n",
    "total_papers = train_papers + test_papers\n",
    "in_params_train = ','.join(['%s'] * len(train_papers))\n",
    "\n",
    "val_papers = []\n",
    "with open(r'./val_papers.txt', 'r') as fp:\n",
    "    for line in fp:\n",
    "        x = line[:-1]\n",
    "        val_papers.append(x)\n",
    "\n",
    "in_params_val = ','.join(['%s'] * len(val_papers))\n",
    "in_params = ','.join(['%s'] * len(train_papers + test_papers))"
   ],
   "metadata": {
    "collapsed": false
   }
  },
  {
   "cell_type": "markdown",
   "source": [
    "## Fetch Data primary"
   ],
   "metadata": {
    "collapsed": false
   }
  },
  {
   "cell_type": "code",
   "execution_count": 6,
   "outputs": [],
   "source": [
    "def remap(x, mapping):\n",
    "    return mapping.get(x, x)"
   ],
   "metadata": {
    "collapsed": false
   }
  },
  {
   "cell_type": "code",
   "execution_count": 7,
   "outputs": [],
   "source": [
    "cursor.execute(\"select b.ReferenceID, b.ReferencedByID from referencedBy b, Papers p where b.ReferencedByID in (%s) and b.ReferenceID = p.PaperID and p.`primary author` in (select AuthorID from affiliatedTo)\" % in_params, total_papers)\n",
    "paper_edges = np.array(cursor.fetchall())\n",
    "all_papers = np.unique(paper_edges)\n",
    "\n",
    "remapped_papers = {all_papers[i]: i  for i in range(len(all_papers))}\n",
    "vec_remap = np.vectorize(remap, otypes=[str])\n",
    "paper_edges = vec_remap(paper_edges, remapped_papers)\n",
    "\n",
    "all_papers_list = all_papers.tolist()\n",
    "all_params = ','.join(['%s'] * len(all_papers_list))\n",
    "\n",
    "cursor.execute(\"select p.PaperID, p.`primary author`, a.Gender from Papers p, Authors a where p.PaperID in (%s) and p.`primary author` in (select AuthorID from affiliatedTo) and p.`primary author` = a.AuthorID\" % all_params, all_papers_list)\n",
    "author_edges = np.array(cursor.fetchall())\n",
    "\n",
    "all_authors = np.unique(author_edges[:,1])\n",
    "remapped_authors = {all_authors[i]: i  for i in range(len(all_authors))}\n",
    "\n",
    "author_edges[:,1] = vec_remap(author_edges[:,1], remapped_authors)\n",
    "author_edges[:,0] = vec_remap(author_edges[:,0], remapped_papers)"
   ],
   "metadata": {
    "collapsed": false
   }
  },
  {
   "cell_type": "code",
   "execution_count": 8,
   "outputs": [],
   "source": [
    "cursor.execute(\"select distinct p.`primary author` from Papers p where p.PaperID in (%s)\" % in_params, total_papers)\n",
    "authors_in_question = np.array(cursor.fetchall()).flatten()"
   ],
   "metadata": {
    "collapsed": false
   }
  },
  {
   "cell_type": "markdown",
   "source": [
    "## Fetch the Gender"
   ],
   "metadata": {
    "collapsed": false
   }
  },
  {
   "cell_type": "code",
   "execution_count": 9,
   "outputs": [],
   "source": [
    "all_params_gender = ','.join(['%s'] * len(all_authors))"
   ],
   "metadata": {
    "collapsed": false
   }
  },
  {
   "cell_type": "code",
   "execution_count": 10,
   "outputs": [],
   "source": [
    "cursor.execute(\"select distinct AuthorID, Gender from Authors a where a.AuthorID in (%s)\" % all_params_gender, all_authors.tolist())\n",
    "gender_edges = np.array(cursor.fetchall())"
   ],
   "metadata": {
    "collapsed": false
   }
  },
  {
   "cell_type": "code",
   "execution_count": 11,
   "outputs": [],
   "source": [
    "gender_edges[:,0] = vec_remap(gender_edges[:,0], remapped_authors)"
   ],
   "metadata": {
    "collapsed": false
   }
  },
  {
   "cell_type": "markdown",
   "source": [
    "## Fetch the affiliation"
   ],
   "metadata": {
    "collapsed": false
   }
  },
  {
   "cell_type": "code",
   "execution_count": 12,
   "outputs": [],
   "source": [
    "cursor.execute(\"select p.PaperID, p.`primary author`, b.AffiliationID, b.Country from Papers p, affiliatedTo af, Affiliations b where p.PaperID in (%s) and p.`primary author` in (select AuthorID from affiliatedTo) and p.`primary author` = af.AuthorID and af.affiliatedTo = b.AffiliationID\" % all_params, all_papers_list)\n",
    "author_info = np.array(cursor.fetchall())\n",
    "\n",
    "all_affiliations = np.unique(author_info[:,2])\n",
    "remapped_affiliations = {all_affiliations[i]: i  for i in range(len(all_affiliations))}\n",
    "\n",
    "all_countries = np.unique(author_info[:,3])\n",
    "remapped_countries = {all_countries[i]: i  for i in range(len(all_countries))}\n",
    "\n",
    "author_info[:,2] = vec_remap(author_info[:,2], remapped_affiliations)\n",
    "author_info[:,3] = vec_remap(author_info[:,3], remapped_countries)\n",
    "author_info[:,1] = vec_remap(author_info[:,1], remapped_authors)\n",
    "author_info[:,0] = vec_remap(author_info[:,0], remapped_papers)\n",
    "\n",
    "affiliation_edges = author_info[:,[2,1]]\n",
    "affiliation_edges = np.unique(affiliation_edges, axis=0)\n",
    "\n",
    "country_edges = author_info[:,[3,2]]\n",
    "country_edges = np.unique(country_edges, axis=0)"
   ],
   "metadata": {
    "collapsed": false
   }
  },
  {
   "cell_type": "markdown",
   "source": [
    "# Fetch data"
   ],
   "metadata": {
    "collapsed": false
   }
  },
  {
   "cell_type": "code",
   "execution_count": 5,
   "outputs": [],
   "source": [
    "cursor.execute(\"select * from referencedBy b where b.ReferenceID in (select PaperID from Papers) and b.ReferencedByID in (select PaperID from Papers)\")\n",
    "paper_edges = np.array(cursor.fetchall())\n",
    "all_papers = np.unique(paper_edges)\n",
    "remapped_papers = {all_papers[i]: i  for i in range(len(all_papers))}\n",
    "vec_remap = np.vectorize(remap, otypes=[str])\n",
    "paper_edges = vec_remap(paper_edges, remapped_papers)\n",
    "\n",
    "cursor.execute(\"select * from authoredBy where PaperID in (select PaperID from Papers) and (PaperID in (select ReferenceID from referencedBy) or PaperID in (select ReferencedByID from referencedBy)) and PaperID in (select p.PaperID from Papers p where p.Leaf = FALSE) and AuthoredByID in (select a.AuthorID from affiliatedTo a)\")\n",
    "\n",
    "author_edges = np.array(cursor.fetchall())\n",
    "\n",
    "all_authors = np.unique(author_edges[:,1])\n",
    "remapped_authors = {all_authors[i]: i  for i in range(len(all_authors))}\n",
    "\n",
    "author_edges[:,1] = vec_remap(author_edges[:,1], remapped_authors)\n",
    "author_edges[:,0] = vec_remap(author_edges[:,0], remapped_papers)"
   ],
   "metadata": {
    "collapsed": false
   }
  },
  {
   "cell_type": "code",
   "execution_count": 21,
   "outputs": [],
   "source": [
    "cursor.execute(\"select distinct b.AuthoredByID from Papers p, authoredBy b where p.Leaf = False and p.PaperID in (%s) and p.PaperID = b.PaperID and b.AuthoredByID in (select a.AuthorID from affiliatedTo a)\" % in_params, train_papers+test_papers)\n",
    "authors_in_question = np.array(cursor.fetchall()).flatten()"
   ],
   "metadata": {
    "collapsed": false
   }
  },
  {
   "cell_type": "markdown",
   "source": [
    "# Paper data"
   ],
   "metadata": {
    "collapsed": false
   }
  },
  {
   "cell_type": "markdown",
   "source": [
    "Since we use only paper information, we remove all other \"authoredBy\" edges"
   ],
   "metadata": {
    "collapsed": false
   }
  },
  {
   "cell_type": "code",
   "execution_count": 16,
   "outputs": [],
   "source": [
    "test_papers = [x for x in test_papers if x not in val_papers]"
   ],
   "metadata": {
    "collapsed": false
   }
  },
  {
   "cell_type": "code",
   "execution_count": 20,
   "outputs": [],
   "source": [
    "remapped_test_papers = th.tensor([remapped_papers[idx] for idx in test_papers])\n",
    "remapped_val_papers = th.tensor([remapped_papers[idx] for idx in val_papers])\n",
    "remapped_train_papers = th.tensor([remapped_papers[idx] for idx in train_papers])\n",
    "remapped_authors_in_question = th.tensor([remapped_authors[idx] for idx in authors_in_question])"
   ],
   "metadata": {
    "collapsed": false
   }
  },
  {
   "cell_type": "code",
   "execution_count": 21,
   "outputs": [],
   "source": [
    "hetero_graph = dgl.heterograph(\n",
    "    {\n",
    "        ('paper', 'authored', 'author'): (author_edges[:,0].astype(int), author_edges[:,1].astype(int)),\n",
    "        ('author', \"writes\", \"paper\"): (author_edges[:,1].astype(int), author_edges[:,0].astype(int)),\n",
    "        ('paper', 'cites', 'paper'): (paper_edges[:,0].astype(int), paper_edges[:,1].astype(int)),\n",
    "        ('gender', 'gendered', 'author'): (gender_edges[:,1].astype(int), gender_edges[:,0].astype(int)),\n",
    "        ('paper', 'authored_gender', 'gender'): (author_edges[:,0].astype(int), author_edges[:,2].astype(int)),\n",
    "        ('paper', 'authored_affiliation', 'affiliation'): (author_info[:,0].astype(int), author_info[:,2].astype(int)),\n",
    "        ('affiliation', 'affiliated', 'author'): (affiliation_edges[:,0].astype(int), affiliation_edges[:,1].astype(int)),\n",
    "        ('paper', 'authored_country', 'country'): (author_info[:,0].astype(int), author_info[:,3].astype(int)),\n",
    "        ('country', 'contains', 'affiliation'): (country_edges[:,0].astype(int), country_edges[:,1].astype(int))\n",
    "    }\n",
    ")\n",
    "hetero_graph.nodes['author'].data['feature'] = hetero_graph.nodes('author')\n",
    "hetero_graph.nodes['paper'].data['feature'] = hetero_graph.nodes('paper')"
   ],
   "metadata": {
    "collapsed": false
   }
  },
  {
   "cell_type": "code",
   "execution_count": 22,
   "outputs": [
    {
     "data": {
      "text/plain": "Graph(num_nodes={'affiliation': 2345, 'author': 18355, 'country': 88, 'gender': 2, 'paper': 36167},\n      num_edges={('affiliation', 'affiliated', 'author'): 18459, ('author', 'writes', 'paper'): 36167, ('country', 'contains', 'affiliation'): 2345, ('gender', 'gendered', 'author'): 18355, ('paper', 'authored', 'author'): 36167, ('paper', 'authored_affiliation', 'affiliation'): 36353, ('paper', 'authored_country', 'country'): 36353, ('paper', 'authored_gender', 'gender'): 36167, ('paper', 'cites', 'paper'): 139165},\n      metagraph=[('affiliation', 'author', 'affiliated'), ('author', 'paper', 'writes'), ('paper', 'author', 'authored'), ('paper', 'affiliation', 'authored_affiliation'), ('paper', 'country', 'authored_country'), ('paper', 'gender', 'authored_gender'), ('paper', 'paper', 'cites'), ('country', 'affiliation', 'contains'), ('gender', 'author', 'gendered')])"
     },
     "execution_count": 22,
     "metadata": {},
     "output_type": "execute_result"
    }
   ],
   "source": [
    "hetero_graph"
   ],
   "metadata": {
    "collapsed": false
   }
  },
  {
   "cell_type": "code",
   "execution_count": 71,
   "outputs": [
    {
     "data": {
      "text/plain": "'\\nedges = hetero_graph.edges(etype=\"authored\")\\nauthor_mask = ~torch.isin(edges[1], remapped_authors_in_question)\\npaper_edges = edges[0][author_mask]\\nauthor_edges = edges[1][author_mask]\\nauthor_ids_remove = hetero_graph.edge_ids(paper_edges, author_edges, etype=\"authored\")\\nhetero_graph = dgl.remove_edges(hetero_graph, author_ids_remove, etype=\"authored\")\\n'"
     },
     "execution_count": 71,
     "metadata": {},
     "output_type": "execute_result"
    }
   ],
   "source": [
    "\"\"\"\n",
    "edges = hetero_graph.edges(etype=\"authored\")\n",
    "author_mask = ~torch.isin(edges[1], remapped_authors_in_question)\n",
    "paper_edges = edges[0][author_mask]\n",
    "author_edges = edges[1][author_mask]\n",
    "author_ids_remove = hetero_graph.edge_ids(paper_edges, author_edges, etype=\"authored\")\n",
    "hetero_graph = dgl.remove_edges(hetero_graph, author_ids_remove, etype=\"authored\")\n",
    "\"\"\""
   ],
   "metadata": {
    "collapsed": false
   }
  },
  {
   "cell_type": "markdown",
   "source": [
    "### Split into Training, Validation, Test set"
   ],
   "metadata": {
    "collapsed": false
   }
  },
  {
   "cell_type": "markdown",
   "source": [
    "#### Train set"
   ],
   "metadata": {
    "collapsed": false
   }
  },
  {
   "cell_type": "code",
   "execution_count": 23,
   "outputs": [
    {
     "data": {
      "text/plain": "Graph(num_nodes={'affiliation': 2345, 'author': 18355, 'country': 88, 'gender': 2, 'paper': 36167},\n      num_edges={('affiliation', 'affiliated', 'author'): 18459, ('author', 'writes', 'paper'): 36167, ('country', 'contains', 'affiliation'): 2345, ('gender', 'gendered', 'author'): 18355, ('paper', 'authored', 'author'): 2385, ('paper', 'authored_affiliation', 'affiliation'): 36353, ('paper', 'authored_country', 'country'): 36353, ('paper', 'authored_gender', 'gender'): 36167, ('paper', 'cites', 'paper'): 139165},\n      metagraph=[('affiliation', 'author', 'affiliated'), ('author', 'paper', 'writes'), ('paper', 'author', 'authored'), ('paper', 'affiliation', 'authored_affiliation'), ('paper', 'country', 'authored_country'), ('paper', 'gender', 'authored_gender'), ('paper', 'paper', 'cites'), ('country', 'affiliation', 'contains'), ('gender', 'author', 'gendered')])"
     },
     "execution_count": 23,
     "metadata": {},
     "output_type": "execute_result"
    }
   ],
   "source": [
    "edges = hetero_graph.edges(etype=\"authored\")\n",
    "\n",
    "train_mask = ~torch.isin(edges[0], remapped_train_papers)\n",
    "train_src = edges[0][train_mask]\n",
    "train_dst = edges[1][train_mask]\n",
    "\n",
    "train_ids = hetero_graph.edge_ids(train_src, train_dst, etype=\"authored\")\n",
    "train_hetero_graph = dgl.remove_edges(hetero_graph, train_ids, etype=\"authored\")\n",
    "\n",
    "train_hetero_graph"
   ],
   "metadata": {
    "collapsed": false
   }
  },
  {
   "cell_type": "code",
   "execution_count": 24,
   "outputs": [
    {
     "data": {
      "text/plain": "Graph(num_nodes={'affiliation': 2345, 'author': 18355, 'country': 88, 'gender': 2, 'paper': 36167},\n      num_edges={('affiliation', 'affiliated', 'author'): 18459, ('author', 'writes', 'paper'): 36167, ('country', 'contains', 'affiliation'): 2345, ('gender', 'gendered', 'author'): 18355, ('paper', 'authored', 'author'): 2385, ('paper', 'authored_affiliation', 'affiliation'): 36353, ('paper', 'authored_country', 'country'): 36353, ('paper', 'authored_gender', 'gender'): 2385, ('paper', 'cites', 'paper'): 139165},\n      metagraph=[('affiliation', 'author', 'affiliated'), ('author', 'paper', 'writes'), ('paper', 'author', 'authored'), ('paper', 'affiliation', 'authored_affiliation'), ('paper', 'country', 'authored_country'), ('paper', 'gender', 'authored_gender'), ('paper', 'paper', 'cites'), ('country', 'affiliation', 'contains'), ('gender', 'author', 'gendered')])"
     },
     "execution_count": 24,
     "metadata": {},
     "output_type": "execute_result"
    }
   ],
   "source": [
    "edges = train_hetero_graph.edges(etype=\"authored_gender\")\n",
    "\n",
    "train_mask = ~torch.isin(edges[0], remapped_train_papers)\n",
    "train_src = edges[0][train_mask]\n",
    "train_dst = edges[1][train_mask]\n",
    "\n",
    "train_ids = train_hetero_graph.edge_ids(train_src, train_dst, etype=\"authored_gender\")\n",
    "train_hetero_graph = dgl.remove_edges(train_hetero_graph, train_ids, etype=\"authored_gender\")\n",
    "\n",
    "train_hetero_graph"
   ],
   "metadata": {
    "collapsed": false
   }
  },
  {
   "cell_type": "code",
   "execution_count": 25,
   "outputs": [
    {
     "data": {
      "text/plain": "Graph(num_nodes={'affiliation': 2345, 'author': 18355, 'country': 88, 'gender': 2, 'paper': 36167},\n      num_edges={('affiliation', 'affiliated', 'author'): 18459, ('author', 'writes', 'paper'): 36167, ('country', 'contains', 'affiliation'): 2345, ('gender', 'gendered', 'author'): 18355, ('paper', 'authored', 'author'): 2385, ('paper', 'authored_affiliation', 'affiliation'): 2385, ('paper', 'authored_country', 'country'): 36353, ('paper', 'authored_gender', 'gender'): 2385, ('paper', 'cites', 'paper'): 139165},\n      metagraph=[('affiliation', 'author', 'affiliated'), ('author', 'paper', 'writes'), ('paper', 'author', 'authored'), ('paper', 'affiliation', 'authored_affiliation'), ('paper', 'country', 'authored_country'), ('paper', 'gender', 'authored_gender'), ('paper', 'paper', 'cites'), ('country', 'affiliation', 'contains'), ('gender', 'author', 'gendered')])"
     },
     "execution_count": 25,
     "metadata": {},
     "output_type": "execute_result"
    }
   ],
   "source": [
    "edges = train_hetero_graph.edges(etype=\"authored_affiliation\")\n",
    "\n",
    "train_mask = ~torch.isin(edges[0], remapped_train_papers)\n",
    "train_src = edges[0][train_mask]\n",
    "train_dst = edges[1][train_mask]\n",
    "\n",
    "train_ids = train_hetero_graph.edge_ids(train_src, train_dst, etype=\"authored_affiliation\")\n",
    "train_hetero_graph = dgl.remove_edges(train_hetero_graph, train_ids, etype=\"authored_affiliation\")\n",
    "\n",
    "train_hetero_graph"
   ],
   "metadata": {
    "collapsed": false
   }
  },
  {
   "cell_type": "code",
   "execution_count": 32,
   "outputs": [
    {
     "data": {
      "text/plain": "Graph(num_nodes={'affiliation': 2345, 'author': 18355, 'country': 88, 'gender': 2, 'paper': 36167},\n      num_edges={('affiliation', 'affiliated', 'author'): 18459, ('author', 'writes', 'paper'): 36167, ('country', 'contains', 'affiliation'): 2345, ('gender', 'gendered', 'author'): 18355, ('paper', 'authored', 'author'): 2385, ('paper', 'authored_affiliation', 'affiliation'): 2385, ('paper', 'authored_country', 'country'): 2385, ('paper', 'authored_gender', 'gender'): 2385, ('paper', 'cites', 'paper'): 139165},\n      metagraph=[('affiliation', 'author', 'affiliated'), ('author', 'paper', 'writes'), ('paper', 'author', 'authored'), ('paper', 'affiliation', 'authored_affiliation'), ('paper', 'country', 'authored_country'), ('paper', 'gender', 'authored_gender'), ('paper', 'paper', 'cites'), ('country', 'affiliation', 'contains'), ('gender', 'author', 'gendered')])"
     },
     "execution_count": 32,
     "metadata": {},
     "output_type": "execute_result"
    }
   ],
   "source": [
    "edges = train_hetero_graph.edges(etype=\"authored_country\")\n",
    "\n",
    "train_mask = ~torch.isin(edges[0], remapped_train_papers)\n",
    "train_src = edges[0][train_mask]\n",
    "train_dst = edges[1][train_mask]\n",
    "\n",
    "train_ids = train_hetero_graph.edge_ids(train_src, train_dst, etype=\"authored_country\")\n",
    "train_hetero_graph = dgl.remove_edges(train_hetero_graph, train_ids, etype=\"authored_country\")\n",
    "\n",
    "train_hetero_graph"
   ],
   "metadata": {
    "collapsed": false
   }
  },
  {
   "cell_type": "markdown",
   "source": [
    "# Validation Set"
   ],
   "metadata": {
    "collapsed": false
   }
  },
  {
   "cell_type": "code",
   "execution_count": 33,
   "outputs": [
    {
     "data": {
      "text/plain": "Graph(num_nodes={'affiliation': 2345, 'author': 18355, 'country': 88, 'gender': 2, 'paper': 36167},\n      num_edges={('affiliation', 'affiliated', 'author'): 18459, ('author', 'writes', 'paper'): 36167, ('country', 'contains', 'affiliation'): 2345, ('gender', 'gendered', 'author'): 18355, ('paper', 'authored', 'author'): 300, ('paper', 'authored_affiliation', 'affiliation'): 36353, ('paper', 'authored_country', 'country'): 36353, ('paper', 'authored_gender', 'gender'): 36167, ('paper', 'cites', 'paper'): 139165},\n      metagraph=[('affiliation', 'author', 'affiliated'), ('author', 'paper', 'writes'), ('paper', 'author', 'authored'), ('paper', 'affiliation', 'authored_affiliation'), ('paper', 'country', 'authored_country'), ('paper', 'gender', 'authored_gender'), ('paper', 'paper', 'cites'), ('country', 'affiliation', 'contains'), ('gender', 'author', 'gendered')])"
     },
     "execution_count": 33,
     "metadata": {},
     "output_type": "execute_result"
    }
   ],
   "source": [
    "edges = hetero_graph.edges(etype=\"authored\")\n",
    "val_mask = ~torch.isin(edges[0], remapped_val_papers)\n",
    "val_src = edges[0][val_mask]\n",
    "val_dst = edges[1][val_mask]\n",
    "\n",
    "val_ids = hetero_graph.edge_ids(val_src, val_dst, etype=\"authored\")\n",
    "val_hetero_graph = dgl.remove_edges(hetero_graph, val_ids, etype=\"authored\")\n",
    "val_hetero_graph"
   ],
   "metadata": {
    "collapsed": false
   }
  },
  {
   "cell_type": "code",
   "execution_count": 34,
   "outputs": [
    {
     "data": {
      "text/plain": "Graph(num_nodes={'affiliation': 2345, 'author': 18355, 'country': 88, 'gender': 2, 'paper': 36167},\n      num_edges={('affiliation', 'affiliated', 'author'): 18459, ('author', 'writes', 'paper'): 36167, ('country', 'contains', 'affiliation'): 2345, ('gender', 'gendered', 'author'): 18355, ('paper', 'authored', 'author'): 300, ('paper', 'authored_affiliation', 'affiliation'): 36353, ('paper', 'authored_country', 'country'): 36353, ('paper', 'authored_gender', 'gender'): 300, ('paper', 'cites', 'paper'): 139165},\n      metagraph=[('affiliation', 'author', 'affiliated'), ('author', 'paper', 'writes'), ('paper', 'author', 'authored'), ('paper', 'affiliation', 'authored_affiliation'), ('paper', 'country', 'authored_country'), ('paper', 'gender', 'authored_gender'), ('paper', 'paper', 'cites'), ('country', 'affiliation', 'contains'), ('gender', 'author', 'gendered')])"
     },
     "execution_count": 34,
     "metadata": {},
     "output_type": "execute_result"
    }
   ],
   "source": [
    "edges = val_hetero_graph.edges(etype=\"authored_gender\")\n",
    "val_mask = ~torch.isin(edges[0], remapped_val_papers)\n",
    "val_src = edges[0][val_mask]\n",
    "val_dst = edges[1][val_mask]\n",
    "\n",
    "val_ids = val_hetero_graph.edge_ids(val_src, val_dst, etype=\"authored_gender\")\n",
    "val_hetero_graph = dgl.remove_edges(val_hetero_graph, val_ids, etype=\"authored_gender\")\n",
    "val_hetero_graph"
   ],
   "metadata": {
    "collapsed": false
   }
  },
  {
   "cell_type": "code",
   "execution_count": 35,
   "outputs": [
    {
     "data": {
      "text/plain": "Graph(num_nodes={'affiliation': 2345, 'author': 18355, 'country': 88, 'gender': 2, 'paper': 36167},\n      num_edges={('affiliation', 'affiliated', 'author'): 18459, ('author', 'writes', 'paper'): 36167, ('country', 'contains', 'affiliation'): 2345, ('gender', 'gendered', 'author'): 18355, ('paper', 'authored', 'author'): 300, ('paper', 'authored_affiliation', 'affiliation'): 300, ('paper', 'authored_country', 'country'): 36353, ('paper', 'authored_gender', 'gender'): 300, ('paper', 'cites', 'paper'): 139165},\n      metagraph=[('affiliation', 'author', 'affiliated'), ('author', 'paper', 'writes'), ('paper', 'author', 'authored'), ('paper', 'affiliation', 'authored_affiliation'), ('paper', 'country', 'authored_country'), ('paper', 'gender', 'authored_gender'), ('paper', 'paper', 'cites'), ('country', 'affiliation', 'contains'), ('gender', 'author', 'gendered')])"
     },
     "execution_count": 35,
     "metadata": {},
     "output_type": "execute_result"
    }
   ],
   "source": [
    "edges = val_hetero_graph.edges(etype=\"authored_affiliation\")\n",
    "val_mask = ~torch.isin(edges[0], remapped_val_papers)\n",
    "val_src = edges[0][val_mask]\n",
    "val_dst = edges[1][val_mask]\n",
    "\n",
    "val_ids = val_hetero_graph.edge_ids(val_src, val_dst, etype=\"authored_affiliation\")\n",
    "val_hetero_graph = dgl.remove_edges(val_hetero_graph, val_ids, etype=\"authored_affiliation\")\n",
    "val_hetero_graph"
   ],
   "metadata": {
    "collapsed": false
   }
  },
  {
   "cell_type": "code",
   "execution_count": 40,
   "outputs": [
    {
     "data": {
      "text/plain": "Graph(num_nodes={'affiliation': 2345, 'author': 18355, 'country': 88, 'gender': 2, 'paper': 36167},\n      num_edges={('affiliation', 'affiliated', 'author'): 18459, ('author', 'writes', 'paper'): 36167, ('country', 'contains', 'affiliation'): 2345, ('gender', 'gendered', 'author'): 18355, ('paper', 'authored', 'author'): 300, ('paper', 'authored_affiliation', 'affiliation'): 300, ('paper', 'authored_country', 'country'): 300, ('paper', 'authored_gender', 'gender'): 300, ('paper', 'cites', 'paper'): 139165},\n      metagraph=[('affiliation', 'author', 'affiliated'), ('author', 'paper', 'writes'), ('paper', 'author', 'authored'), ('paper', 'affiliation', 'authored_affiliation'), ('paper', 'country', 'authored_country'), ('paper', 'gender', 'authored_gender'), ('paper', 'paper', 'cites'), ('country', 'affiliation', 'contains'), ('gender', 'author', 'gendered')])"
     },
     "execution_count": 40,
     "metadata": {},
     "output_type": "execute_result"
    }
   ],
   "source": [
    "edges = val_hetero_graph.edges(etype=\"authored_country\")\n",
    "val_mask = ~torch.isin(edges[0], remapped_val_papers)\n",
    "val_src = edges[0][val_mask]\n",
    "val_dst = edges[1][val_mask]\n",
    "\n",
    "val_ids = val_hetero_graph.edge_ids(val_src, val_dst, etype=\"authored_country\")\n",
    "val_hetero_graph = dgl.remove_edges(val_hetero_graph, val_ids, etype=\"authored_country\")\n",
    "val_hetero_graph"
   ],
   "metadata": {
    "collapsed": false
   }
  },
  {
   "cell_type": "markdown",
   "source": [
    "## Test set"
   ],
   "metadata": {
    "collapsed": false
   }
  },
  {
   "cell_type": "code",
   "execution_count": 41,
   "outputs": [
    {
     "data": {
      "text/plain": "Graph(num_nodes={'affiliation': 2345, 'author': 18355, 'country': 88, 'gender': 2, 'paper': 36167},\n      num_edges={('affiliation', 'affiliated', 'author'): 18459, ('author', 'writes', 'paper'): 36167, ('country', 'contains', 'affiliation'): 2345, ('gender', 'gendered', 'author'): 18355, ('paper', 'authored', 'author'): 706, ('paper', 'authored_affiliation', 'affiliation'): 36353, ('paper', 'authored_country', 'country'): 36353, ('paper', 'authored_gender', 'gender'): 36167, ('paper', 'cites', 'paper'): 139165},\n      metagraph=[('affiliation', 'author', 'affiliated'), ('author', 'paper', 'writes'), ('paper', 'author', 'authored'), ('paper', 'affiliation', 'authored_affiliation'), ('paper', 'country', 'authored_country'), ('paper', 'gender', 'authored_gender'), ('paper', 'paper', 'cites'), ('country', 'affiliation', 'contains'), ('gender', 'author', 'gendered')])"
     },
     "execution_count": 41,
     "metadata": {},
     "output_type": "execute_result"
    }
   ],
   "source": [
    "edges = hetero_graph.edges(etype=\"authored\")\n",
    "val_mask = ~torch.isin(edges[0], remapped_test_papers)\n",
    "val_src = edges[0][val_mask]\n",
    "val_dst = edges[1][val_mask]\n",
    "\n",
    "val_ids = hetero_graph.edge_ids(val_src, val_dst, etype=\"authored\")\n",
    "test_hetero_graph = dgl.remove_edges(hetero_graph, val_ids, etype=\"authored\")\n",
    "test_hetero_graph"
   ],
   "metadata": {
    "collapsed": false
   }
  },
  {
   "cell_type": "code",
   "execution_count": 43,
   "outputs": [
    {
     "data": {
      "text/plain": "Graph(num_nodes={'affiliation': 2345, 'author': 18355, 'country': 88, 'gender': 2, 'paper': 36167},\n      num_edges={('affiliation', 'affiliated', 'author'): 18459, ('author', 'writes', 'paper'): 36167, ('country', 'contains', 'affiliation'): 2345, ('gender', 'gendered', 'author'): 18355, ('paper', 'authored', 'author'): 706, ('paper', 'authored_affiliation', 'affiliation'): 36353, ('paper', 'authored_country', 'country'): 36353, ('paper', 'authored_gender', 'gender'): 706, ('paper', 'cites', 'paper'): 139165},\n      metagraph=[('affiliation', 'author', 'affiliated'), ('author', 'paper', 'writes'), ('paper', 'author', 'authored'), ('paper', 'affiliation', 'authored_affiliation'), ('paper', 'country', 'authored_country'), ('paper', 'gender', 'authored_gender'), ('paper', 'paper', 'cites'), ('country', 'affiliation', 'contains'), ('gender', 'author', 'gendered')])"
     },
     "execution_count": 43,
     "metadata": {},
     "output_type": "execute_result"
    }
   ],
   "source": [
    "edges = test_hetero_graph.edges(etype=\"authored_gender\")\n",
    "val_mask = ~torch.isin(edges[0], remapped_test_papers)\n",
    "val_src = edges[0][val_mask]\n",
    "val_dst = edges[1][val_mask]\n",
    "\n",
    "val_ids = test_hetero_graph.edge_ids(val_src, val_dst, etype=\"authored_gender\")\n",
    "test_hetero_graph = dgl.remove_edges(test_hetero_graph, val_ids, etype=\"authored_gender\")\n",
    "test_hetero_graph"
   ],
   "metadata": {
    "collapsed": false
   }
  },
  {
   "cell_type": "code",
   "execution_count": 44,
   "outputs": [
    {
     "data": {
      "text/plain": "Graph(num_nodes={'affiliation': 2345, 'author': 18355, 'country': 88, 'gender': 2, 'paper': 36167},\n      num_edges={('affiliation', 'affiliated', 'author'): 18459, ('author', 'writes', 'paper'): 36167, ('country', 'contains', 'affiliation'): 2345, ('gender', 'gendered', 'author'): 18355, ('paper', 'authored', 'author'): 706, ('paper', 'authored_affiliation', 'affiliation'): 706, ('paper', 'authored_country', 'country'): 36353, ('paper', 'authored_gender', 'gender'): 706, ('paper', 'cites', 'paper'): 139165},\n      metagraph=[('affiliation', 'author', 'affiliated'), ('author', 'paper', 'writes'), ('paper', 'author', 'authored'), ('paper', 'affiliation', 'authored_affiliation'), ('paper', 'country', 'authored_country'), ('paper', 'gender', 'authored_gender'), ('paper', 'paper', 'cites'), ('country', 'affiliation', 'contains'), ('gender', 'author', 'gendered')])"
     },
     "execution_count": 44,
     "metadata": {},
     "output_type": "execute_result"
    }
   ],
   "source": [
    "edges = test_hetero_graph.edges(etype=\"authored_affiliation\")\n",
    "val_mask = ~torch.isin(edges[0], remapped_test_papers)\n",
    "val_src = edges[0][val_mask]\n",
    "val_dst = edges[1][val_mask]\n",
    "\n",
    "val_ids = test_hetero_graph.edge_ids(val_src, val_dst, etype=\"authored_affiliation\")\n",
    "test_hetero_graph = dgl.remove_edges(test_hetero_graph, val_ids, etype=\"authored_affiliation\")\n",
    "test_hetero_graph"
   ],
   "metadata": {
    "collapsed": false
   }
  },
  {
   "cell_type": "code",
   "execution_count": 51,
   "outputs": [
    {
     "data": {
      "text/plain": "Graph(num_nodes={'affiliation': 2345, 'author': 18355, 'country': 88, 'gender': 2, 'paper': 36167},\n      num_edges={('affiliation', 'affiliated', 'author'): 18459, ('author', 'writes', 'paper'): 36167, ('country', 'contains', 'affiliation'): 2345, ('gender', 'gendered', 'author'): 18355, ('paper', 'authored', 'author'): 706, ('paper', 'authored_affiliation', 'affiliation'): 706, ('paper', 'authored_country', 'country'): 706, ('paper', 'authored_gender', 'gender'): 706, ('paper', 'cites', 'paper'): 139165},\n      metagraph=[('affiliation', 'author', 'affiliated'), ('author', 'paper', 'writes'), ('paper', 'author', 'authored'), ('paper', 'affiliation', 'authored_affiliation'), ('paper', 'country', 'authored_country'), ('paper', 'gender', 'authored_gender'), ('paper', 'paper', 'cites'), ('country', 'affiliation', 'contains'), ('gender', 'author', 'gendered')])"
     },
     "execution_count": 51,
     "metadata": {},
     "output_type": "execute_result"
    }
   ],
   "source": [
    "edges = test_hetero_graph.edges(etype=\"authored_country\")\n",
    "val_mask = ~torch.isin(edges[0], remapped_test_papers)\n",
    "val_src = edges[0][val_mask]\n",
    "val_dst = edges[1][val_mask]\n",
    "\n",
    "val_ids = test_hetero_graph.edge_ids(val_src, val_dst, etype=\"authored_country\")\n",
    "test_hetero_graph = dgl.remove_edges(test_hetero_graph, val_ids, etype=\"authored_country\")\n",
    "test_hetero_graph"
   ],
   "metadata": {
    "collapsed": false
   }
  },
  {
   "cell_type": "code",
   "execution_count": 52,
   "outputs": [],
   "source": [
    "save_graphs(\"./graphs/hetero_graphs_primary_all_features_w_test.bin\", [train_hetero_graph, val_hetero_graph, test_hetero_graph])"
   ],
   "metadata": {
    "collapsed": false
   }
  },
  {
   "cell_type": "code",
   "execution_count": null,
   "outputs": [],
   "source": [],
   "metadata": {
    "collapsed": false
   }
  }
 ],
 "metadata": {
  "kernelspec": {
   "display_name": "Python 3",
   "language": "python",
   "name": "python3"
  },
  "language_info": {
   "codemirror_mode": {
    "name": "ipython",
    "version": 2
   },
   "file_extension": ".py",
   "mimetype": "text/x-python",
   "name": "python",
   "nbconvert_exporter": "python",
   "pygments_lexer": "ipython2",
   "version": "2.7.6"
  }
 },
 "nbformat": 4,
 "nbformat_minor": 0
}
