{
 "cells": [
  {
   "cell_type": "code",
   "execution_count": 1,
   "metadata": {
    "collapsed": true
   },
   "outputs": [],
   "source": [
    "import torch\n",
    "import torch.nn as nn\n",
    "import torch.nn.functional as F\n",
    "from dgl.nn import EdgeWeightNorm, GraphConv\n",
    "from dgl.data import DGLDataset\n",
    "import mysql.connector\n",
    "import dgl.data\n",
    "import numpy as np\n",
    "import pandas as pd\n",
    "import os\n",
    "from dgl import save_graphs, load_graphs\n",
    "import matplotlib.pyplot as plt\n",
    "import random\n",
    "from Datasets import PaperDataset\n",
    "from Models import GraphClassificationModelCrossEntropy, GraphClassificationModelBinaryCrossEntropy"
   ]
  },
  {
   "cell_type": "markdown",
   "source": [
    "# Connect to database"
   ],
   "metadata": {
    "collapsed": false
   }
  },
  {
   "cell_type": "code",
   "execution_count": 2,
   "outputs": [],
   "source": [
    "cnx = mysql.connector.connect(user='david', password='daviddung1993',\n",
    "                          host='127.0.0.1',\n",
    "                          database='computervision')\n",
    "cursor = cnx.cursor()\n",
    "headers = {\"x-api-key\": \"M7HSjQNeTfai6l7JUiDZB8XYc85BHnHt3R0NXSEd\"}"
   ],
   "metadata": {
    "collapsed": false
   }
  },
  {
   "cell_type": "markdown",
   "source": [
    "## Create Paper Graph"
   ],
   "metadata": {
    "collapsed": false
   }
  },
  {
   "cell_type": "code",
   "execution_count": 3,
   "outputs": [],
   "source": [
    "# need to define max year due to memory limitations\n",
    "max_year = 2014"
   ],
   "metadata": {
    "collapsed": false
   }
  },
  {
   "cell_type": "code",
   "execution_count": 4,
   "outputs": [],
   "source": [
    "cursor.execute(\"select r.ReferenceID as rID, p.PaperID as pID from Papers p, referencedBy r where p.Leaf = False and p.authorCount = 1 and p.Pub_Year <= %s and r.ReferencedByID = p.PaperID and r.ReferenceID not like '11111%'\", [max_year])\n",
    "\n",
    "# Fetch references (edges)\n",
    "references_raw = cursor.fetchall()\n",
    "references_df = pd.DataFrame(references_raw, columns=[\"ReferenceID\",\"PaperID\"])\n",
    "\n",
    "# Fetch all papers (nodes)\n",
    "cursor.execute(\"CREATE TEMPORARY TABLE temp_table AS (select p.PaperID as PaperID from Papers p where p.Leaf = False and p.Pub_Year <= %s and p.authorCount = 1  UNION select r.ReferenceID as PaperID from Papers p, referencedBy r where p.Leaf = False and p.Pub_Year <= %s and p.authorCount = 1 and r.ReferencedByID = p.PaperID and r.ReferenceID not like '11111%')\", [max_year, max_year])\n",
    "cursor.execute(\"select * from temp_table\")\n",
    "all_papers_series = cursor.fetchall()\n",
    "\n",
    "all_papers_remap_ids = {all_papers_series[x][0]: x for x in range(0, len(all_papers_series))}\n",
    "\n",
    "# Remap the references to id\n",
    "references_df = references_df.applymap(lambda x: all_papers_remap_ids[x])\n",
    "\n",
    "# Fetch authors and remap to label\n",
    "cursor.execute(\"select b.PaperID, b.AuthoredByID from authoredBy b, temp_table t where b.PaperID = t.PaperID\")\n",
    "authored_by_df = pd.DataFrame(cursor.fetchall(), columns=[\"PaperID\", \"AuthorID\"])\n",
    "authored_by_df[\"PaperID\"] = authored_by_df[\"PaperID\"].apply(lambda x: all_papers_remap_ids[x])\n",
    "\n",
    "all_author_ids = authored_by_df[\"AuthorID\"].unique()\n",
    "mapped_author_ids = {all_author_ids[index]: index for index in range(0, len(all_author_ids))}\n",
    "authored_by_df[\"AuthorID\"] = authored_by_df[\"AuthorID\"].apply(lambda x: mapped_author_ids[x])\n",
    "total_authors_len = len(authored_by_df[\"AuthorID\"].unique())\n",
    "feature_vector_df = pd.DataFrame(columns=authored_by_df[\"AuthorID\"].unique())\n",
    "\n",
    "# Create Validation Set\n",
    "cursor.execute(\"select p.PaperID as PaperID from Papers p where p.Leaf = False and p.Pub_Year <= %s and p.authorCount = 1 order by p.Pub_year\", [max_year])\n",
    "val_papers_raw = cursor.fetchall()\n",
    "reference_paper = pd.DataFrame(val_papers_raw, columns=[\"PaperID\"]).applymap(lambda x: all_papers_remap_ids[x])\n",
    "reference_paper_w_authors = pd.merge(reference_paper, authored_by_df, on=\"PaperID\")\n",
    "val_split = int(len(reference_paper_w_authors)*0.2)\n",
    "reference_paper_w_authors[\"PaperID\"] = reference_paper_w_authors[\"PaperID\"].astype(str)\n",
    "max_val_size = int(len(reference_paper_w_authors)*0.2)\n",
    "reference_paper_w_grouped_authors = reference_paper_w_authors.groupby(\"AuthorID\", as_index=False).agg({'PaperID': ','.join})\n",
    "val_papers_index = []\n",
    "for grouped_authors in reference_paper_w_grouped_authors.iterrows():\n",
    "    papers = grouped_authors[1][\"PaperID\"].split(\",\")\n",
    "    if len(papers) > 1:\n",
    "        val_split = round(len(papers) * 0.33)\n",
    "        val_papers_index += papers[-val_split:]\n",
    "        if len(val_papers_index) >= max_val_size:\n",
    "            break\n",
    "training_set_index = len(val_papers_raw)"
   ],
   "metadata": {
    "collapsed": false
   }
  },
  {
   "cell_type": "code",
   "execution_count": 5,
   "outputs": [
    {
     "name": "stdout",
     "output_type": "stream",
     "text": [
      "0\n",
      "1000\n",
      "2000\n",
      "3000\n",
      "4000\n",
      "5000\n",
      "6000\n",
      "7000\n",
      "7636\n"
     ]
    },
    {
     "name": "stderr",
     "output_type": "stream",
     "text": [
      "/home/david/PycharmProjects/bachelor_thesis/Machine Learning/Datasets.py:28: UserWarning: Creating a tensor from a list of numpy.ndarrays is extremely slow. Please consider converting the list to a single numpy.ndarray with numpy.array() before converting to a tensor. (Triggered internally at ../torch/csrc/utils/tensor_new.cpp:230.)\n",
      "  node_labels = torch.tensor(feature_vector, dtype=torch.int32)\n"
     ]
    }
   ],
   "source": [
    "# Init graph\n",
    "dataset = PaperDataset(authored_by_df, references_df, val_papers_index, training_set_index, one_hot_encoded=True)\n",
    "paper_graph = dataset[0]"
   ],
   "metadata": {
    "collapsed": false
   }
  },
  {
   "cell_type": "code",
   "execution_count": 7,
   "outputs": [],
   "source": [
    "# Save the graph\n",
    "save_graphs(\"./graphs/single_author_2014.bin\", [paper_graph])"
   ],
   "metadata": {
    "collapsed": false
   }
  },
  {
   "cell_type": "markdown",
   "source": [
    "## Load Graph"
   ],
   "metadata": {
    "collapsed": false
   }
  },
  {
   "cell_type": "code",
   "execution_count": 7,
   "outputs": [
    {
     "ename": "DGLError",
     "evalue": "File ./small_paper_graph.bin does not exist.",
     "output_type": "error",
     "traceback": [
      "\u001B[0;31m---------------------------------------------------------------------------\u001B[0m",
      "\u001B[0;31mDGLError\u001B[0m                                  Traceback (most recent call last)",
      "Input \u001B[0;32mIn [7]\u001B[0m, in \u001B[0;36m<cell line: 1>\u001B[0;34m()\u001B[0m\n\u001B[0;32m----> 1\u001B[0m glist, label_dict \u001B[38;5;241m=\u001B[39m \u001B[43mload_graphs\u001B[49m\u001B[43m(\u001B[49m\u001B[38;5;124;43m\"\u001B[39;49m\u001B[38;5;124;43m./small_paper_graph.bin\u001B[39;49m\u001B[38;5;124;43m\"\u001B[39;49m\u001B[43m)\u001B[49m\n\u001B[1;32m      2\u001B[0m paper_graph \u001B[38;5;241m=\u001B[39m glist[\u001B[38;5;241m0\u001B[39m]\n\u001B[1;32m      3\u001B[0m paper_graph\n",
      "File \u001B[0;32m/usr/local/lib/python3.10/dist-packages/dgl/data/graph_serialize.py:174\u001B[0m, in \u001B[0;36mload_graphs\u001B[0;34m(filename, idx_list)\u001B[0m\n\u001B[1;32m    138\u001B[0m \u001B[38;5;124;03m\"\"\"Load graphs and optionally their labels from file saved by :func:`save_graphs`.\u001B[39;00m\n\u001B[1;32m    139\u001B[0m \n\u001B[1;32m    140\u001B[0m \u001B[38;5;124;03mBesides loading from local files, DGL supports loading the graphs directly\u001B[39;00m\n\u001B[0;32m   (...)\u001B[0m\n\u001B[1;32m    171\u001B[0m \u001B[38;5;124;03msave_graphs\u001B[39;00m\n\u001B[1;32m    172\u001B[0m \u001B[38;5;124;03m\"\"\"\u001B[39;00m\n\u001B[1;32m    173\u001B[0m \u001B[38;5;66;03m# if it is local file, do some sanity check\u001B[39;00m\n\u001B[0;32m--> 174\u001B[0m \u001B[43mcheck_local_file_exists\u001B[49m\u001B[43m(\u001B[49m\u001B[43mfilename\u001B[49m\u001B[43m)\u001B[49m\n\u001B[1;32m    175\u001B[0m version \u001B[38;5;241m=\u001B[39m _CAPI_GetFileVersion(filename)\n\u001B[1;32m    176\u001B[0m \u001B[38;5;28;01mif\u001B[39;00m version \u001B[38;5;241m==\u001B[39m \u001B[38;5;241m1\u001B[39m:\n",
      "File \u001B[0;32m/usr/local/lib/python3.10/dist-packages/dgl/data/graph_serialize.py:36\u001B[0m, in \u001B[0;36mcheck_local_file_exists\u001B[0;34m(filename)\u001B[0m\n\u001B[1;32m     34\u001B[0m \u001B[38;5;28;01mdef\u001B[39;00m \u001B[38;5;21mcheck_local_file_exists\u001B[39m(filename):\n\u001B[1;32m     35\u001B[0m     \u001B[38;5;28;01mif\u001B[39;00m is_local_path(filename) \u001B[38;5;129;01mand\u001B[39;00m \u001B[38;5;129;01mnot\u001B[39;00m os\u001B[38;5;241m.\u001B[39mpath\u001B[38;5;241m.\u001B[39mexists(filename):\n\u001B[0;32m---> 36\u001B[0m         \u001B[38;5;28;01mraise\u001B[39;00m DGLError(\u001B[38;5;124m\"\u001B[39m\u001B[38;5;124mFile \u001B[39m\u001B[38;5;132;01m{}\u001B[39;00m\u001B[38;5;124m does not exist.\u001B[39m\u001B[38;5;124m\"\u001B[39m\u001B[38;5;241m.\u001B[39mformat(filename))\n",
      "\u001B[0;31mDGLError\u001B[0m: File ./small_paper_graph.bin does not exist."
     ]
    }
   ],
   "source": [
    "glist, label_dict = load_graphs(\"./small_paper_graph.bin\")\n",
    "paper_graph = glist[0]\n",
    "paper_graph"
   ],
   "metadata": {
    "collapsed": false
   }
  },
  {
   "cell_type": "markdown",
   "source": [
    "## Graph Neural Network for Paper prediction"
   ],
   "metadata": {
    "collapsed": false
   }
  },
  {
   "cell_type": "code",
   "execution_count": null,
   "outputs": [
    {
     "name": "stdout",
     "output_type": "stream",
     "text": [
      "Epoch 0: loss=0.6937, train_acc=0.0249, val_acc=0.0649\n",
      "Epoch 1: loss=0.3685, train_acc=0.0249, val_acc=0.0649\n",
      "Epoch 2: loss=0.0937, train_acc=0.0249, val_acc=0.0649\n",
      "Epoch 3: loss=0.0191, train_acc=0.0299, val_acc=0.0390\n",
      "Epoch 4: loss=0.0132, train_acc=0.0323, val_acc=0.0519\n",
      "Epoch 5: loss=0.0128, train_acc=0.0274, val_acc=0.0390\n",
      "Epoch 6: loss=0.0122, train_acc=0.0199, val_acc=0.0390\n",
      "Epoch 7: loss=0.0107, train_acc=0.0100, val_acc=0.0130\n",
      "Epoch 8: loss=0.0100, train_acc=0.0124, val_acc=0.0000\n",
      "Epoch 9: loss=0.0118, train_acc=0.0124, val_acc=0.0000\n",
      "Epoch 10: loss=0.0085, train_acc=0.0224, val_acc=0.0260\n",
      "Epoch 11: loss=0.0086, train_acc=0.0249, val_acc=0.0390\n",
      "Epoch 12: loss=0.0097, train_acc=0.0224, val_acc=0.0390\n",
      "Epoch 13: loss=0.0108, train_acc=0.0249, val_acc=0.0390\n",
      "Epoch 14: loss=0.0116, train_acc=0.0274, val_acc=0.0519\n",
      "Epoch 15: loss=0.0119, train_acc=0.0299, val_acc=0.0390\n",
      "Epoch 16: loss=0.0121, train_acc=0.0373, val_acc=0.0649\n",
      "Epoch 17: loss=0.0120, train_acc=0.0274, val_acc=0.0260\n",
      "Epoch 18: loss=0.0117, train_acc=0.0299, val_acc=0.0260\n",
      "Epoch 19: loss=0.0112, train_acc=0.0323, val_acc=0.0390\n",
      "Epoch 20: loss=0.0109, train_acc=0.0274, val_acc=0.0649\n",
      "Epoch 21: loss=0.0105, train_acc=0.0274, val_acc=0.0649\n",
      "Epoch 22: loss=0.0099, train_acc=0.0249, val_acc=0.0390\n",
      "Epoch 23: loss=0.0096, train_acc=0.0224, val_acc=0.0260\n",
      "Epoch 24: loss=0.0090, train_acc=0.0249, val_acc=0.0130\n",
      "Epoch 25: loss=0.0086, train_acc=0.0373, val_acc=0.0519\n",
      "Epoch 26: loss=0.0082, train_acc=0.0224, val_acc=0.0130\n",
      "Epoch 27: loss=0.0079, train_acc=0.0224, val_acc=0.0260\n",
      "Epoch 28: loss=0.0076, train_acc=0.0224, val_acc=0.0519\n",
      "Epoch 29: loss=0.0073, train_acc=0.0299, val_acc=0.0390\n",
      "Epoch 30: loss=0.0072, train_acc=0.0348, val_acc=0.0260\n",
      "Epoch 31: loss=0.0070, train_acc=0.0373, val_acc=0.0130\n",
      "Epoch 32: loss=0.0067, train_acc=0.0373, val_acc=0.0909\n",
      "Epoch 33: loss=0.0068, train_acc=0.0348, val_acc=0.0649\n",
      "Epoch 34: loss=0.0069, train_acc=0.0299, val_acc=0.0260\n",
      "Epoch 35: loss=0.0068, train_acc=0.0249, val_acc=0.0390\n",
      "Epoch 36: loss=0.0065, train_acc=0.0299, val_acc=0.0260\n",
      "Epoch 37: loss=0.0065, train_acc=0.0323, val_acc=0.0130\n",
      "Epoch 38: loss=0.0065, train_acc=0.0299, val_acc=0.0130\n",
      "Epoch 39: loss=0.0064, train_acc=0.0299, val_acc=0.0260\n",
      "Epoch 40: loss=0.0063, train_acc=0.0299, val_acc=0.0260\n",
      "Epoch 41: loss=0.0062, train_acc=0.0423, val_acc=0.0260\n",
      "Epoch 42: loss=0.0061, train_acc=0.0522, val_acc=0.0909\n",
      "Epoch 43: loss=0.0060, train_acc=0.0448, val_acc=0.0779\n",
      "Epoch 44: loss=0.0060, train_acc=0.0473, val_acc=0.0649\n",
      "Epoch 45: loss=0.0059, train_acc=0.0348, val_acc=0.0649\n",
      "Epoch 46: loss=0.0058, train_acc=0.0398, val_acc=0.0779\n",
      "Epoch 47: loss=0.0057, train_acc=0.0473, val_acc=0.0519\n",
      "Epoch 48: loss=0.0057, train_acc=0.0423, val_acc=0.0390\n",
      "Epoch 49: loss=0.0058, train_acc=0.0423, val_acc=0.0260\n",
      "Epoch 50: loss=0.0057, train_acc=0.0547, val_acc=0.0649\n",
      "Epoch 51: loss=0.0056, train_acc=0.0498, val_acc=0.0909\n",
      "Epoch 52: loss=0.0056, train_acc=0.0473, val_acc=0.0519\n",
      "Epoch 53: loss=0.0056, train_acc=0.0473, val_acc=0.0649\n",
      "Epoch 54: loss=0.0056, train_acc=0.0473, val_acc=0.0649\n",
      "Epoch 55: loss=0.0055, train_acc=0.0473, val_acc=0.0519\n",
      "Epoch 56: loss=0.0055, train_acc=0.0498, val_acc=0.0779\n",
      "Epoch 57: loss=0.0055, train_acc=0.0473, val_acc=0.0649\n",
      "Epoch 58: loss=0.0054, train_acc=0.0522, val_acc=0.0649\n",
      "Epoch 59: loss=0.0054, train_acc=0.0547, val_acc=0.0909\n",
      "Epoch 60: loss=0.0054, train_acc=0.0522, val_acc=0.0779\n",
      "Epoch 61: loss=0.0054, train_acc=0.0473, val_acc=0.0909\n",
      "Epoch 62: loss=0.0054, train_acc=0.0547, val_acc=0.0779\n",
      "Epoch 63: loss=0.0053, train_acc=0.0547, val_acc=0.0909\n",
      "Epoch 64: loss=0.0053, train_acc=0.0572, val_acc=0.1039\n",
      "Epoch 65: loss=0.0053, train_acc=0.0547, val_acc=0.1299\n",
      "Epoch 66: loss=0.0053, train_acc=0.0572, val_acc=0.1039\n",
      "Epoch 67: loss=0.0053, train_acc=0.0572, val_acc=0.0909\n",
      "Epoch 68: loss=0.0053, train_acc=0.0498, val_acc=0.0909\n",
      "Epoch 69: loss=0.0052, train_acc=0.0498, val_acc=0.1169\n",
      "Epoch 70: loss=0.0052, train_acc=0.0498, val_acc=0.0909\n",
      "Epoch 71: loss=0.0052, train_acc=0.0473, val_acc=0.1039\n",
      "Epoch 72: loss=0.0052, train_acc=0.0473, val_acc=0.0909\n",
      "Epoch 73: loss=0.0052, train_acc=0.0522, val_acc=0.1169\n",
      "Epoch 74: loss=0.0052, train_acc=0.0547, val_acc=0.1169\n",
      "Epoch 75: loss=0.0052, train_acc=0.0522, val_acc=0.1169\n",
      "Epoch 76: loss=0.0052, train_acc=0.0522, val_acc=0.1169\n",
      "Epoch 77: loss=0.0052, train_acc=0.0547, val_acc=0.1039\n",
      "Epoch 78: loss=0.0052, train_acc=0.0522, val_acc=0.0909\n",
      "Epoch 79: loss=0.0051, train_acc=0.0522, val_acc=0.1039\n",
      "Epoch 80: loss=0.0051, train_acc=0.0547, val_acc=0.0779\n",
      "Epoch 81: loss=0.0051, train_acc=0.0522, val_acc=0.1039\n",
      "Epoch 82: loss=0.0051, train_acc=0.0522, val_acc=0.0909\n",
      "Epoch 83: loss=0.0051, train_acc=0.0522, val_acc=0.0909\n",
      "Epoch 84: loss=0.0051, train_acc=0.0522, val_acc=0.1169\n",
      "Epoch 85: loss=0.0051, train_acc=0.0498, val_acc=0.1039\n",
      "Epoch 86: loss=0.0051, train_acc=0.0547, val_acc=0.1039\n",
      "Epoch 87: loss=0.0051, train_acc=0.0522, val_acc=0.1039\n",
      "Epoch 88: loss=0.0051, train_acc=0.0522, val_acc=0.1039\n",
      "Epoch 89: loss=0.0050, train_acc=0.0522, val_acc=0.1039\n",
      "Epoch 90: loss=0.0050, train_acc=0.0572, val_acc=0.0909\n",
      "Epoch 91: loss=0.0050, train_acc=0.0597, val_acc=0.1039\n",
      "Epoch 92: loss=0.0050, train_acc=0.0572, val_acc=0.1039\n",
      "Epoch 93: loss=0.0050, train_acc=0.0498, val_acc=0.1169\n",
      "Epoch 94: loss=0.0050, train_acc=0.0522, val_acc=0.0909\n",
      "Epoch 95: loss=0.0050, train_acc=0.0522, val_acc=0.1299\n",
      "Epoch 96: loss=0.0050, train_acc=0.0522, val_acc=0.1169\n",
      "Epoch 97: loss=0.0050, train_acc=0.0522, val_acc=0.1299\n",
      "Epoch 98: loss=0.0050, train_acc=0.0547, val_acc=0.1299\n",
      "Epoch 99: loss=0.0050, train_acc=0.0547, val_acc=0.1169\n",
      "Epoch 100: loss=0.0050, train_acc=0.0522, val_acc=0.1169\n",
      "Epoch 101: loss=0.0049, train_acc=0.0522, val_acc=0.0909\n",
      "Epoch 102: loss=0.0049, train_acc=0.0522, val_acc=0.1169\n",
      "Epoch 103: loss=0.0049, train_acc=0.0522, val_acc=0.1039\n",
      "Epoch 104: loss=0.0049, train_acc=0.0522, val_acc=0.1169\n",
      "Epoch 105: loss=0.0049, train_acc=0.0498, val_acc=0.1299\n",
      "Epoch 106: loss=0.0049, train_acc=0.0547, val_acc=0.1299\n",
      "Epoch 107: loss=0.0049, train_acc=0.0547, val_acc=0.1169\n",
      "Epoch 108: loss=0.0049, train_acc=0.0522, val_acc=0.1169\n",
      "Epoch 109: loss=0.0049, train_acc=0.0522, val_acc=0.1169\n",
      "Epoch 110: loss=0.0049, train_acc=0.0547, val_acc=0.1299\n",
      "Epoch 111: loss=0.0049, train_acc=0.0572, val_acc=0.1039\n",
      "Epoch 112: loss=0.0049, train_acc=0.0547, val_acc=0.1169\n",
      "Epoch 113: loss=0.0049, train_acc=0.0572, val_acc=0.1169\n",
      "Epoch 114: loss=0.0048, train_acc=0.0547, val_acc=0.1169\n",
      "Epoch 115: loss=0.0048, train_acc=0.0522, val_acc=0.1169\n",
      "Epoch 116: loss=0.0048, train_acc=0.0547, val_acc=0.1169\n",
      "Epoch 117: loss=0.0048, train_acc=0.0572, val_acc=0.1039\n",
      "Epoch 118: loss=0.0048, train_acc=0.0572, val_acc=0.1039\n",
      "Epoch 119: loss=0.0048, train_acc=0.0522, val_acc=0.1169\n",
      "Epoch 120: loss=0.0048, train_acc=0.0522, val_acc=0.1169\n",
      "Epoch 121: loss=0.0048, train_acc=0.0547, val_acc=0.1299\n",
      "Epoch 122: loss=0.0048, train_acc=0.0572, val_acc=0.1039\n",
      "Epoch 123: loss=0.0048, train_acc=0.0522, val_acc=0.1039\n",
      "Epoch 124: loss=0.0048, train_acc=0.0547, val_acc=0.1169\n",
      "Epoch 125: loss=0.0048, train_acc=0.0522, val_acc=0.1299\n",
      "Epoch 126: loss=0.0048, train_acc=0.0547, val_acc=0.1169\n",
      "Epoch 127: loss=0.0048, train_acc=0.0547, val_acc=0.1299\n",
      "Epoch 128: loss=0.0048, train_acc=0.0522, val_acc=0.1299\n",
      "Epoch 129: loss=0.0047, train_acc=0.0547, val_acc=0.1299\n",
      "Epoch 130: loss=0.0047, train_acc=0.0547, val_acc=0.1299\n",
      "Epoch 131: loss=0.0047, train_acc=0.0547, val_acc=0.1169\n",
      "Epoch 132: loss=0.0047, train_acc=0.0572, val_acc=0.1169\n",
      "Epoch 133: loss=0.0047, train_acc=0.0522, val_acc=0.1299\n",
      "Epoch 134: loss=0.0047, train_acc=0.0547, val_acc=0.1299\n",
      "Epoch 135: loss=0.0047, train_acc=0.0522, val_acc=0.1299\n",
      "Epoch 136: loss=0.0047, train_acc=0.0522, val_acc=0.1299\n",
      "Epoch 137: loss=0.0047, train_acc=0.0547, val_acc=0.1429\n",
      "Epoch 138: loss=0.0047, train_acc=0.0547, val_acc=0.1169\n",
      "Epoch 139: loss=0.0047, train_acc=0.0547, val_acc=0.1299\n",
      "Epoch 140: loss=0.0047, train_acc=0.0498, val_acc=0.1299\n",
      "Epoch 141: loss=0.0047, train_acc=0.0547, val_acc=0.1299\n",
      "Epoch 142: loss=0.0047, train_acc=0.0572, val_acc=0.1039\n",
      "Epoch 143: loss=0.0047, train_acc=0.0547, val_acc=0.1299\n",
      "Epoch 144: loss=0.0047, train_acc=0.0547, val_acc=0.1299\n",
      "Epoch 145: loss=0.0047, train_acc=0.0522, val_acc=0.0909\n",
      "Epoch 146: loss=0.0046, train_acc=0.0547, val_acc=0.1169\n",
      "Epoch 147: loss=0.0046, train_acc=0.0547, val_acc=0.1169\n",
      "Epoch 148: loss=0.0046, train_acc=0.0572, val_acc=0.1169\n",
      "Epoch 149: loss=0.0046, train_acc=0.0547, val_acc=0.1299\n",
      "Epoch 150: loss=0.0046, train_acc=0.0547, val_acc=0.1039\n",
      "Epoch 151: loss=0.0046, train_acc=0.0522, val_acc=0.1039\n",
      "Epoch 152: loss=0.0046, train_acc=0.0522, val_acc=0.1169\n",
      "Epoch 153: loss=0.0046, train_acc=0.0547, val_acc=0.1169\n",
      "Epoch 154: loss=0.0046, train_acc=0.0522, val_acc=0.1039\n",
      "Epoch 155: loss=0.0046, train_acc=0.0498, val_acc=0.1169\n",
      "Epoch 156: loss=0.0046, train_acc=0.0547, val_acc=0.1039\n",
      "Epoch 157: loss=0.0046, train_acc=0.0572, val_acc=0.0909\n",
      "Epoch 158: loss=0.0046, train_acc=0.0522, val_acc=0.1169\n",
      "Epoch 159: loss=0.0046, train_acc=0.0572, val_acc=0.1039\n",
      "Epoch 160: loss=0.0046, train_acc=0.0597, val_acc=0.0909\n",
      "Epoch 161: loss=0.0046, train_acc=0.0547, val_acc=0.1169\n",
      "Epoch 162: loss=0.0046, train_acc=0.0572, val_acc=0.0909\n",
      "Epoch 163: loss=0.0046, train_acc=0.0572, val_acc=0.0909\n",
      "Epoch 164: loss=0.0046, train_acc=0.0522, val_acc=0.0909\n",
      "Epoch 165: loss=0.0045, train_acc=0.0522, val_acc=0.0909\n",
      "Epoch 166: loss=0.0045, train_acc=0.0547, val_acc=0.0779\n",
      "Epoch 167: loss=0.0046, train_acc=0.0572, val_acc=0.1039\n",
      "Epoch 168: loss=0.0046, train_acc=0.0522, val_acc=0.0909\n",
      "Epoch 169: loss=0.0046, train_acc=0.0498, val_acc=0.0519\n",
      "Epoch 170: loss=0.0046, train_acc=0.0547, val_acc=0.0909\n",
      "Epoch 171: loss=0.0046, train_acc=0.0622, val_acc=0.1299\n",
      "Epoch 172: loss=0.0046, train_acc=0.0572, val_acc=0.0779\n",
      "Epoch 173: loss=0.0046, train_acc=0.0547, val_acc=0.0909\n",
      "Epoch 174: loss=0.0045, train_acc=0.0498, val_acc=0.0649\n",
      "Epoch 175: loss=0.0046, train_acc=0.0572, val_acc=0.0779\n",
      "Epoch 176: loss=0.0047, train_acc=0.0498, val_acc=0.0390\n",
      "Epoch 177: loss=0.0048, train_acc=0.0572, val_acc=0.0779\n",
      "Epoch 178: loss=0.0049, train_acc=0.0597, val_acc=0.0909\n",
      "Epoch 179: loss=0.0048, train_acc=0.0597, val_acc=0.0779\n",
      "Epoch 180: loss=0.0048, train_acc=0.0448, val_acc=0.0260\n",
      "Epoch 181: loss=0.0048, train_acc=0.0522, val_acc=0.0390\n",
      "Epoch 182: loss=0.0050, train_acc=0.0522, val_acc=0.0519\n",
      "Epoch 183: loss=0.0050, train_acc=0.0572, val_acc=0.0779\n",
      "Epoch 184: loss=0.0051, train_acc=0.0522, val_acc=0.0649\n",
      "Epoch 185: loss=0.0053, train_acc=0.0498, val_acc=0.0649\n",
      "Epoch 186: loss=0.0055, train_acc=0.0522, val_acc=0.0519\n",
      "Epoch 187: loss=0.0056, train_acc=0.0547, val_acc=0.0649\n",
      "Epoch 188: loss=0.0058, train_acc=0.0572, val_acc=0.0909\n",
      "Epoch 189: loss=0.0058, train_acc=0.0423, val_acc=0.0390\n",
      "Epoch 190: loss=0.0058, train_acc=0.0572, val_acc=0.0909\n",
      "Epoch 191: loss=0.0058, train_acc=0.0622, val_acc=0.0909\n",
      "Epoch 192: loss=0.0058, train_acc=0.0547, val_acc=0.0649\n",
      "Epoch 193: loss=0.0058, train_acc=0.0473, val_acc=0.0390\n",
      "Epoch 194: loss=0.0057, train_acc=0.0498, val_acc=0.0390\n",
      "Epoch 195: loss=0.0056, train_acc=0.0398, val_acc=0.0649\n",
      "Epoch 196: loss=0.0055, train_acc=0.0323, val_acc=0.0260\n",
      "Epoch 197: loss=0.0059, train_acc=0.0522, val_acc=0.0649\n",
      "Epoch 198: loss=0.0055, train_acc=0.0498, val_acc=0.0390\n",
      "Epoch 199: loss=0.0055, train_acc=0.0572, val_acc=0.1039\n",
      "Epoch 200: loss=0.0054, train_acc=0.0448, val_acc=0.0519\n",
      "Epoch 201: loss=0.0056, train_acc=0.0522, val_acc=0.0390\n",
      "Epoch 202: loss=0.0055, train_acc=0.0572, val_acc=0.0909\n",
      "Epoch 203: loss=0.0054, train_acc=0.0423, val_acc=0.0260\n",
      "Epoch 204: loss=0.0055, train_acc=0.0398, val_acc=0.0260\n",
      "Epoch 205: loss=0.0054, train_acc=0.0423, val_acc=0.0519\n",
      "Epoch 206: loss=0.0055, train_acc=0.0498, val_acc=0.0390\n",
      "Epoch 207: loss=0.0056, train_acc=0.0498, val_acc=0.0390\n",
      "Epoch 208: loss=0.0055, train_acc=0.0572, val_acc=0.0909\n",
      "Epoch 209: loss=0.0055, train_acc=0.0498, val_acc=0.0519\n",
      "Epoch 210: loss=0.0055, train_acc=0.0498, val_acc=0.0649\n",
      "Epoch 211: loss=0.0055, train_acc=0.0473, val_acc=0.0260\n",
      "Epoch 212: loss=0.0055, train_acc=0.0373, val_acc=0.0260\n",
      "Epoch 213: loss=0.0054, train_acc=0.0498, val_acc=0.0519\n",
      "Epoch 214: loss=0.0053, train_acc=0.0572, val_acc=0.0649\n",
      "Epoch 215: loss=0.0053, train_acc=0.0572, val_acc=0.0519\n",
      "Epoch 216: loss=0.0053, train_acc=0.0547, val_acc=0.0779\n",
      "Epoch 217: loss=0.0052, train_acc=0.0547, val_acc=0.0649\n",
      "Epoch 218: loss=0.0052, train_acc=0.0522, val_acc=0.0649\n",
      "Epoch 219: loss=0.0051, train_acc=0.0448, val_acc=0.0390\n",
      "Epoch 220: loss=0.0051, train_acc=0.0448, val_acc=0.0390\n",
      "Epoch 221: loss=0.0050, train_acc=0.0522, val_acc=0.0779\n",
      "Epoch 222: loss=0.0050, train_acc=0.0622, val_acc=0.0909\n",
      "Epoch 223: loss=0.0049, train_acc=0.0547, val_acc=0.0519\n",
      "Epoch 224: loss=0.0050, train_acc=0.0498, val_acc=0.0519\n",
      "Epoch 225: loss=0.0049, train_acc=0.0547, val_acc=0.0779\n",
      "Epoch 226: loss=0.0048, train_acc=0.0473, val_acc=0.0519\n",
      "Epoch 227: loss=0.0048, train_acc=0.0498, val_acc=0.0390\n",
      "Epoch 228: loss=0.0048, train_acc=0.0547, val_acc=0.0649\n",
      "Epoch 229: loss=0.0047, train_acc=0.0522, val_acc=0.0390\n",
      "Epoch 230: loss=0.0047, train_acc=0.0547, val_acc=0.0779\n",
      "Epoch 231: loss=0.0047, train_acc=0.0522, val_acc=0.0779\n",
      "Epoch 232: loss=0.0046, train_acc=0.0547, val_acc=0.1299\n",
      "Epoch 233: loss=0.0046, train_acc=0.0473, val_acc=0.0390\n",
      "Epoch 234: loss=0.0046, train_acc=0.0498, val_acc=0.0519\n",
      "Epoch 235: loss=0.0045, train_acc=0.0498, val_acc=0.0519\n",
      "Epoch 236: loss=0.0045, train_acc=0.0547, val_acc=0.0779\n",
      "Epoch 237: loss=0.0045, train_acc=0.0522, val_acc=0.0649\n",
      "Epoch 238: loss=0.0045, train_acc=0.0597, val_acc=0.0779\n",
      "Epoch 239: loss=0.0044, train_acc=0.0547, val_acc=0.0649\n",
      "Epoch 240: loss=0.0044, train_acc=0.0572, val_acc=0.0519\n",
      "Epoch 241: loss=0.0044, train_acc=0.0522, val_acc=0.0779\n",
      "Epoch 242: loss=0.0044, train_acc=0.0522, val_acc=0.0909\n",
      "Epoch 243: loss=0.0044, train_acc=0.0522, val_acc=0.0649\n",
      "Epoch 244: loss=0.0044, train_acc=0.0522, val_acc=0.0649\n",
      "Epoch 245: loss=0.0044, train_acc=0.0572, val_acc=0.1039\n",
      "Epoch 246: loss=0.0043, train_acc=0.0597, val_acc=0.0779\n",
      "Epoch 247: loss=0.0043, train_acc=0.0522, val_acc=0.0779\n",
      "Epoch 248: loss=0.0043, train_acc=0.0572, val_acc=0.0779\n",
      "Epoch 249: loss=0.0043, train_acc=0.0522, val_acc=0.0649\n",
      "Epoch 250: loss=0.0043, train_acc=0.0572, val_acc=0.1299\n",
      "Epoch 251: loss=0.0043, train_acc=0.0572, val_acc=0.0779\n",
      "Epoch 252: loss=0.0043, train_acc=0.0547, val_acc=0.0779\n",
      "Epoch 253: loss=0.0043, train_acc=0.0522, val_acc=0.0649\n",
      "Epoch 254: loss=0.0043, train_acc=0.0597, val_acc=0.1039\n",
      "Epoch 255: loss=0.0042, train_acc=0.0572, val_acc=0.1039\n",
      "Epoch 256: loss=0.0042, train_acc=0.0597, val_acc=0.1299\n",
      "Epoch 257: loss=0.0042, train_acc=0.0522, val_acc=0.0909\n",
      "Epoch 258: loss=0.0042, train_acc=0.0522, val_acc=0.0649\n",
      "Epoch 259: loss=0.0042, train_acc=0.0522, val_acc=0.0779\n",
      "Epoch 260: loss=0.0042, train_acc=0.0597, val_acc=0.1169\n",
      "Epoch 261: loss=0.0042, train_acc=0.0597, val_acc=0.1299\n",
      "Epoch 262: loss=0.0042, train_acc=0.0622, val_acc=0.1299\n",
      "Epoch 263: loss=0.0042, train_acc=0.0597, val_acc=0.1299\n",
      "Epoch 264: loss=0.0042, train_acc=0.0622, val_acc=0.0909\n",
      "Epoch 265: loss=0.0042, train_acc=0.0572, val_acc=0.1039\n",
      "Epoch 266: loss=0.0042, train_acc=0.0572, val_acc=0.1169\n",
      "Epoch 267: loss=0.0042, train_acc=0.0597, val_acc=0.1299\n",
      "Epoch 268: loss=0.0042, train_acc=0.0547, val_acc=0.1169\n",
      "Epoch 269: loss=0.0042, train_acc=0.0622, val_acc=0.1039\n",
      "Epoch 270: loss=0.0042, train_acc=0.0597, val_acc=0.1169\n",
      "Epoch 271: loss=0.0042, train_acc=0.0597, val_acc=0.1299\n",
      "Epoch 272: loss=0.0041, train_acc=0.0597, val_acc=0.1169\n",
      "Epoch 273: loss=0.0041, train_acc=0.0597, val_acc=0.1169\n",
      "Epoch 274: loss=0.0041, train_acc=0.0647, val_acc=0.1169\n",
      "Epoch 275: loss=0.0041, train_acc=0.0622, val_acc=0.1169\n",
      "Epoch 276: loss=0.0041, train_acc=0.0597, val_acc=0.1169\n",
      "Epoch 277: loss=0.0041, train_acc=0.0597, val_acc=0.1299\n",
      "Epoch 278: loss=0.0041, train_acc=0.0597, val_acc=0.1169\n",
      "Epoch 279: loss=0.0041, train_acc=0.0622, val_acc=0.1169\n",
      "Epoch 280: loss=0.0041, train_acc=0.0622, val_acc=0.1169\n",
      "Epoch 281: loss=0.0041, train_acc=0.0622, val_acc=0.1169\n",
      "Epoch 282: loss=0.0041, train_acc=0.0622, val_acc=0.1299\n",
      "Epoch 283: loss=0.0041, train_acc=0.0597, val_acc=0.1169\n",
      "Epoch 284: loss=0.0041, train_acc=0.0597, val_acc=0.1169\n",
      "Epoch 285: loss=0.0041, train_acc=0.0622, val_acc=0.1299\n",
      "Epoch 286: loss=0.0041, train_acc=0.0622, val_acc=0.1169\n",
      "Epoch 287: loss=0.0041, train_acc=0.0622, val_acc=0.1169\n",
      "Epoch 288: loss=0.0041, train_acc=0.0597, val_acc=0.1299\n",
      "Epoch 289: loss=0.0041, train_acc=0.0597, val_acc=0.1299\n",
      "Epoch 290: loss=0.0041, train_acc=0.0622, val_acc=0.1299\n",
      "Epoch 291: loss=0.0041, train_acc=0.0622, val_acc=0.1169\n",
      "Epoch 292: loss=0.0041, train_acc=0.0622, val_acc=0.1169\n",
      "Epoch 293: loss=0.0041, train_acc=0.0597, val_acc=0.1299\n",
      "Epoch 294: loss=0.0041, train_acc=0.0622, val_acc=0.1039\n",
      "Epoch 295: loss=0.0041, train_acc=0.0622, val_acc=0.1299\n",
      "Epoch 296: loss=0.0041, train_acc=0.0597, val_acc=0.1299\n",
      "Epoch 297: loss=0.0041, train_acc=0.0622, val_acc=0.1039\n",
      "Epoch 298: loss=0.0041, train_acc=0.0622, val_acc=0.1039\n",
      "Epoch 299: loss=0.0041, train_acc=0.0647, val_acc=0.1299\n",
      "Epoch 300: loss=0.0041, train_acc=0.0597, val_acc=0.1299\n",
      "Epoch 301: loss=0.0041, train_acc=0.0597, val_acc=0.1299\n",
      "Epoch 302: loss=0.0040, train_acc=0.0622, val_acc=0.1039\n",
      "Epoch 303: loss=0.0040, train_acc=0.0647, val_acc=0.1039\n",
      "Epoch 304: loss=0.0040, train_acc=0.0622, val_acc=0.1169\n",
      "Epoch 305: loss=0.0040, train_acc=0.0597, val_acc=0.1299\n",
      "Epoch 306: loss=0.0040, train_acc=0.0597, val_acc=0.1169\n",
      "Epoch 307: loss=0.0040, train_acc=0.0647, val_acc=0.1039\n",
      "Epoch 308: loss=0.0040, train_acc=0.0622, val_acc=0.1039\n",
      "Epoch 309: loss=0.0040, train_acc=0.0622, val_acc=0.1169\n",
      "Epoch 310: loss=0.0040, train_acc=0.0597, val_acc=0.1299\n",
      "Epoch 311: loss=0.0040, train_acc=0.0597, val_acc=0.1169\n",
      "Epoch 312: loss=0.0040, train_acc=0.0622, val_acc=0.1039\n",
      "Epoch 313: loss=0.0040, train_acc=0.0622, val_acc=0.1169\n",
      "Epoch 314: loss=0.0040, train_acc=0.0647, val_acc=0.1169\n",
      "Epoch 315: loss=0.0040, train_acc=0.0622, val_acc=0.1169\n",
      "Epoch 316: loss=0.0040, train_acc=0.0597, val_acc=0.1169\n",
      "Epoch 317: loss=0.0040, train_acc=0.0597, val_acc=0.1169\n",
      "Epoch 318: loss=0.0040, train_acc=0.0647, val_acc=0.1169\n",
      "Epoch 319: loss=0.0040, train_acc=0.0647, val_acc=0.1169\n",
      "Epoch 320: loss=0.0040, train_acc=0.0622, val_acc=0.1169\n",
      "Epoch 321: loss=0.0040, train_acc=0.0597, val_acc=0.1169\n",
      "Epoch 322: loss=0.0040, train_acc=0.0622, val_acc=0.1169\n",
      "Epoch 323: loss=0.0040, train_acc=0.0647, val_acc=0.1169\n",
      "Epoch 324: loss=0.0040, train_acc=0.0622, val_acc=0.1169\n",
      "Epoch 325: loss=0.0040, train_acc=0.0647, val_acc=0.1169\n",
      "Epoch 326: loss=0.0040, train_acc=0.0622, val_acc=0.1169\n",
      "Epoch 327: loss=0.0040, train_acc=0.0597, val_acc=0.1169\n",
      "Epoch 328: loss=0.0040, train_acc=0.0622, val_acc=0.1169\n",
      "Epoch 329: loss=0.0040, train_acc=0.0647, val_acc=0.1169\n",
      "Epoch 330: loss=0.0040, train_acc=0.0647, val_acc=0.1169\n",
      "Epoch 331: loss=0.0040, train_acc=0.0597, val_acc=0.1169\n",
      "Epoch 332: loss=0.0040, train_acc=0.0647, val_acc=0.1169\n",
      "Epoch 333: loss=0.0040, train_acc=0.0672, val_acc=0.1169\n",
      "Epoch 334: loss=0.0040, train_acc=0.0697, val_acc=0.1169\n",
      "Epoch 335: loss=0.0040, train_acc=0.0697, val_acc=0.1169\n",
      "Epoch 336: loss=0.0040, train_acc=0.0697, val_acc=0.1169\n",
      "Epoch 337: loss=0.0040, train_acc=0.0672, val_acc=0.1169\n",
      "Epoch 338: loss=0.0039, train_acc=0.0697, val_acc=0.1169\n",
      "Epoch 339: loss=0.0039, train_acc=0.0697, val_acc=0.1169\n",
      "Epoch 340: loss=0.0039, train_acc=0.0672, val_acc=0.0909\n",
      "Epoch 341: loss=0.0039, train_acc=0.0672, val_acc=0.1169\n",
      "Epoch 342: loss=0.0039, train_acc=0.0647, val_acc=0.1169\n",
      "Epoch 343: loss=0.0039, train_acc=0.0647, val_acc=0.0909\n",
      "Epoch 344: loss=0.0039, train_acc=0.0672, val_acc=0.0909\n",
      "Epoch 345: loss=0.0039, train_acc=0.0672, val_acc=0.1169\n",
      "Epoch 346: loss=0.0039, train_acc=0.0672, val_acc=0.1169\n",
      "Epoch 347: loss=0.0039, train_acc=0.0647, val_acc=0.0909\n",
      "Epoch 348: loss=0.0039, train_acc=0.0697, val_acc=0.1039\n",
      "Epoch 349: loss=0.0039, train_acc=0.0622, val_acc=0.1169\n",
      "Epoch 350: loss=0.0039, train_acc=0.0697, val_acc=0.0909\n",
      "Epoch 351: loss=0.0039, train_acc=0.0697, val_acc=0.0909\n",
      "Epoch 352: loss=0.0039, train_acc=0.0697, val_acc=0.0909\n",
      "Epoch 353: loss=0.0039, train_acc=0.0672, val_acc=0.0909\n",
      "Epoch 354: loss=0.0039, train_acc=0.0647, val_acc=0.0909\n",
      "Epoch 355: loss=0.0039, train_acc=0.0721, val_acc=0.0909\n",
      "Epoch 356: loss=0.0039, train_acc=0.0697, val_acc=0.0909\n",
      "Epoch 357: loss=0.0039, train_acc=0.0672, val_acc=0.0909\n",
      "Epoch 358: loss=0.0039, train_acc=0.0622, val_acc=0.0909\n",
      "Epoch 359: loss=0.0039, train_acc=0.0647, val_acc=0.0909\n",
      "Epoch 360: loss=0.0039, train_acc=0.0697, val_acc=0.0909\n",
      "Epoch 361: loss=0.0039, train_acc=0.0672, val_acc=0.0909\n",
      "Epoch 362: loss=0.0039, train_acc=0.0697, val_acc=0.0909\n",
      "Epoch 363: loss=0.0039, train_acc=0.0622, val_acc=0.0909\n",
      "Epoch 364: loss=0.0039, train_acc=0.0622, val_acc=0.0909\n",
      "Epoch 365: loss=0.0039, train_acc=0.0672, val_acc=0.0909\n",
      "Epoch 366: loss=0.0039, train_acc=0.0697, val_acc=0.0909\n",
      "Epoch 367: loss=0.0039, train_acc=0.0697, val_acc=0.0909\n",
      "Epoch 368: loss=0.0039, train_acc=0.0647, val_acc=0.0909\n",
      "Epoch 369: loss=0.0039, train_acc=0.0647, val_acc=0.0909\n",
      "Epoch 370: loss=0.0039, train_acc=0.0622, val_acc=0.0909\n",
      "Epoch 371: loss=0.0039, train_acc=0.0672, val_acc=0.0909\n",
      "Epoch 372: loss=0.0039, train_acc=0.0647, val_acc=0.0909\n",
      "Epoch 373: loss=0.0039, train_acc=0.0672, val_acc=0.0909\n",
      "Epoch 374: loss=0.0039, train_acc=0.0647, val_acc=0.0909\n",
      "Epoch 375: loss=0.0039, train_acc=0.0647, val_acc=0.0909\n",
      "Epoch 376: loss=0.0039, train_acc=0.0647, val_acc=0.0909\n",
      "Epoch 377: loss=0.0039, train_acc=0.0647, val_acc=0.0909\n",
      "Epoch 378: loss=0.0039, train_acc=0.0672, val_acc=0.0909\n",
      "Epoch 379: loss=0.0039, train_acc=0.0547, val_acc=0.0649\n",
      "Epoch 380: loss=0.0039, train_acc=0.0647, val_acc=0.0909\n",
      "Epoch 381: loss=0.0039, train_acc=0.0647, val_acc=0.0909\n",
      "Epoch 382: loss=0.0039, train_acc=0.0647, val_acc=0.0909\n",
      "Epoch 383: loss=0.0039, train_acc=0.0697, val_acc=0.1039\n",
      "Epoch 384: loss=0.0039, train_acc=0.0697, val_acc=0.1039\n",
      "Epoch 385: loss=0.0039, train_acc=0.0672, val_acc=0.1039\n",
      "Epoch 386: loss=0.0039, train_acc=0.0697, val_acc=0.1039\n",
      "Epoch 387: loss=0.0039, train_acc=0.0721, val_acc=0.1039\n",
      "Epoch 388: loss=0.0039, train_acc=0.0721, val_acc=0.1039\n",
      "Epoch 389: loss=0.0039, train_acc=0.0721, val_acc=0.1039\n",
      "Epoch 390: loss=0.0039, train_acc=0.0697, val_acc=0.0909\n",
      "Epoch 391: loss=0.0039, train_acc=0.0746, val_acc=0.1039\n",
      "Epoch 392: loss=0.0039, train_acc=0.0721, val_acc=0.1039\n",
      "Epoch 393: loss=0.0039, train_acc=0.0697, val_acc=0.1039\n",
      "Epoch 394: loss=0.0039, train_acc=0.0746, val_acc=0.1039\n",
      "Epoch 395: loss=0.0038, train_acc=0.0647, val_acc=0.0649\n",
      "Epoch 396: loss=0.0039, train_acc=0.0697, val_acc=0.1039\n",
      "Epoch 397: loss=0.0038, train_acc=0.0721, val_acc=0.1039\n",
      "Epoch 398: loss=0.0038, train_acc=0.0746, val_acc=0.0909\n",
      "Epoch 399: loss=0.0038, train_acc=0.0597, val_acc=0.0779\n",
      "Epoch 400: loss=0.0039, train_acc=0.0746, val_acc=0.1039\n",
      "Epoch 401: loss=0.0039, train_acc=0.0697, val_acc=0.1039\n",
      "Epoch 402: loss=0.0039, train_acc=0.0697, val_acc=0.0909\n",
      "Epoch 403: loss=0.0039, train_acc=0.0721, val_acc=0.0909\n",
      "Epoch 404: loss=0.0039, train_acc=0.0746, val_acc=0.1039\n",
      "Epoch 405: loss=0.0039, train_acc=0.0672, val_acc=0.1039\n",
      "Epoch 406: loss=0.0039, train_acc=0.0672, val_acc=0.0909\n",
      "Epoch 407: loss=0.0039, train_acc=0.0697, val_acc=0.0909\n",
      "Epoch 408: loss=0.0039, train_acc=0.0672, val_acc=0.1039\n",
      "Epoch 409: loss=0.0039, train_acc=0.0647, val_acc=0.1039\n",
      "Epoch 410: loss=0.0038, train_acc=0.0721, val_acc=0.0909\n",
      "Epoch 411: loss=0.0038, train_acc=0.0672, val_acc=0.0909\n",
      "Epoch 412: loss=0.0038, train_acc=0.0721, val_acc=0.1039\n",
      "Epoch 413: loss=0.0038, train_acc=0.0647, val_acc=0.0779\n",
      "Epoch 414: loss=0.0039, train_acc=0.0746, val_acc=0.1039\n",
      "Epoch 415: loss=0.0038, train_acc=0.0746, val_acc=0.0909\n",
      "Epoch 416: loss=0.0038, train_acc=0.0721, val_acc=0.1039\n",
      "Epoch 417: loss=0.0038, train_acc=0.0697, val_acc=0.1039\n",
      "Epoch 418: loss=0.0038, train_acc=0.0672, val_acc=0.1039\n",
      "Epoch 419: loss=0.0038, train_acc=0.0697, val_acc=0.0909\n",
      "Epoch 420: loss=0.0038, train_acc=0.0721, val_acc=0.1039\n",
      "Epoch 421: loss=0.0038, train_acc=0.0697, val_acc=0.1039\n",
      "Epoch 422: loss=0.0038, train_acc=0.0721, val_acc=0.1039\n",
      "Epoch 423: loss=0.0038, train_acc=0.0697, val_acc=0.1039\n",
      "Epoch 424: loss=0.0038, train_acc=0.0721, val_acc=0.1039\n",
      "Epoch 425: loss=0.0038, train_acc=0.0746, val_acc=0.1039\n",
      "Epoch 426: loss=0.0038, train_acc=0.0721, val_acc=0.1039\n",
      "Epoch 427: loss=0.0038, train_acc=0.0672, val_acc=0.0909\n",
      "Epoch 428: loss=0.0038, train_acc=0.0697, val_acc=0.1039\n",
      "Epoch 429: loss=0.0038, train_acc=0.0721, val_acc=0.1039\n",
      "Epoch 430: loss=0.0038, train_acc=0.0746, val_acc=0.1039\n",
      "Epoch 431: loss=0.0038, train_acc=0.0721, val_acc=0.1039\n",
      "Epoch 432: loss=0.0038, train_acc=0.0746, val_acc=0.1039\n",
      "Epoch 433: loss=0.0038, train_acc=0.0697, val_acc=0.1039\n",
      "Epoch 434: loss=0.0038, train_acc=0.0746, val_acc=0.1039\n",
      "Epoch 435: loss=0.0037, train_acc=0.0721, val_acc=0.1039\n",
      "Epoch 436: loss=0.0037, train_acc=0.0721, val_acc=0.1039\n",
      "Epoch 437: loss=0.0037, train_acc=0.0721, val_acc=0.1039\n",
      "Epoch 438: loss=0.0037, train_acc=0.0746, val_acc=0.1039\n"
     ]
    }
   ],
   "source": [
    "# Initialize the model and the loss function\n",
    "model = GraphClassificationModelBinaryCrossEntropy(1, 64, paper_graph.ndata[\"label\"].shape[1])\n",
    "optimizer = torch.optim.Adam(model.parameters(), lr=0.1)\n",
    "model.fit(500,paper_graph,optimizer)"
   ],
   "metadata": {
    "collapsed": false,
    "pycharm": {
     "is_executing": true
    }
   }
  },
  {
   "cell_type": "code",
   "execution_count": 11,
   "outputs": [
    {
     "name": "stdout",
     "output_type": "stream",
     "text": [
      "Epoch 0: loss=9.8438, train_acc=0.0174, val_acc=0.0390\n",
      "Epoch 1: loss=9.6227, train_acc=0.0174, val_acc=0.0390\n",
      "Epoch 2: loss=9.1321, train_acc=0.0174, val_acc=0.0390\n",
      "Epoch 3: loss=8.3500, train_acc=0.0174, val_acc=0.0390\n",
      "Epoch 4: loss=7.2324, train_acc=0.0174, val_acc=0.0390\n",
      "Epoch 5: loss=6.4133, train_acc=0.0249, val_acc=0.0390\n",
      "Epoch 6: loss=5.9455, train_acc=0.0274, val_acc=0.0649\n",
      "Epoch 7: loss=5.7990, train_acc=0.0274, val_acc=0.0519\n",
      "Epoch 8: loss=5.8384, train_acc=0.0348, val_acc=0.0519\n",
      "Epoch 9: loss=5.8869, train_acc=0.0174, val_acc=0.0260\n",
      "Epoch 10: loss=5.8318, train_acc=0.0323, val_acc=0.0649\n",
      "Epoch 11: loss=5.7782, train_acc=0.0348, val_acc=0.0649\n",
      "Epoch 12: loss=5.7135, train_acc=0.0373, val_acc=0.0519\n",
      "Epoch 13: loss=5.6798, train_acc=0.0299, val_acc=0.0519\n",
      "Epoch 14: loss=5.6475, train_acc=0.0398, val_acc=0.0649\n",
      "Epoch 15: loss=5.6134, train_acc=0.0423, val_acc=0.0649\n",
      "Epoch 16: loss=5.5951, train_acc=0.0398, val_acc=0.0390\n",
      "Epoch 17: loss=5.5838, train_acc=0.0423, val_acc=0.0390\n",
      "Epoch 18: loss=5.5640, train_acc=0.0348, val_acc=0.0390\n",
      "Epoch 19: loss=5.5351, train_acc=0.0348, val_acc=0.0649\n",
      "Epoch 20: loss=5.4905, train_acc=0.0373, val_acc=0.0779\n",
      "Epoch 21: loss=5.4460, train_acc=0.0373, val_acc=0.0519\n",
      "Epoch 22: loss=5.4341, train_acc=0.0373, val_acc=0.0649\n",
      "Epoch 23: loss=5.4248, train_acc=0.0423, val_acc=0.0649\n",
      "Epoch 24: loss=5.3902, train_acc=0.0373, val_acc=0.0390\n",
      "Epoch 25: loss=5.3670, train_acc=0.0473, val_acc=0.0779\n",
      "Epoch 26: loss=5.3524, train_acc=0.0522, val_acc=0.1169\n",
      "Epoch 27: loss=5.3392, train_acc=0.0473, val_acc=0.0649\n",
      "Epoch 28: loss=5.3191, train_acc=0.0522, val_acc=0.0649\n",
      "Epoch 29: loss=5.2944, train_acc=0.0547, val_acc=0.1039\n",
      "Epoch 30: loss=5.2732, train_acc=0.0498, val_acc=0.0909\n",
      "Epoch 31: loss=5.2592, train_acc=0.0473, val_acc=0.0779\n",
      "Epoch 32: loss=5.2443, train_acc=0.0448, val_acc=0.0519\n",
      "Epoch 33: loss=5.2311, train_acc=0.0448, val_acc=0.0519\n",
      "Epoch 34: loss=5.2186, train_acc=0.0473, val_acc=0.0779\n",
      "Epoch 35: loss=5.2026, train_acc=0.0498, val_acc=0.1169\n",
      "Epoch 36: loss=5.1863, train_acc=0.0522, val_acc=0.1169\n",
      "Epoch 37: loss=5.1736, train_acc=0.0597, val_acc=0.1039\n",
      "Epoch 38: loss=5.1622, train_acc=0.0597, val_acc=0.1039\n",
      "Epoch 39: loss=5.1500, train_acc=0.0572, val_acc=0.0779\n",
      "Epoch 40: loss=5.1374, train_acc=0.0672, val_acc=0.1039\n",
      "Epoch 41: loss=5.1261, train_acc=0.0498, val_acc=0.1039\n",
      "Epoch 42: loss=5.1149, train_acc=0.0522, val_acc=0.1039\n",
      "Epoch 43: loss=5.1029, train_acc=0.0522, val_acc=0.1169\n",
      "Epoch 44: loss=5.0921, train_acc=0.0522, val_acc=0.1169\n",
      "Epoch 45: loss=5.0827, train_acc=0.0498, val_acc=0.1169\n",
      "Epoch 46: loss=5.0729, train_acc=0.0522, val_acc=0.1169\n",
      "Epoch 47: loss=5.0630, train_acc=0.0572, val_acc=0.1169\n",
      "Epoch 48: loss=5.0535, train_acc=0.0622, val_acc=0.1169\n",
      "Epoch 49: loss=5.0443, train_acc=0.0622, val_acc=0.1169\n",
      "Epoch 50: loss=5.0354, train_acc=0.0647, val_acc=0.1039\n",
      "Epoch 51: loss=5.0267, train_acc=0.0672, val_acc=0.1039\n",
      "Epoch 52: loss=5.0184, train_acc=0.0672, val_acc=0.1169\n",
      "Epoch 53: loss=5.0105, train_acc=0.0622, val_acc=0.1169\n",
      "Epoch 54: loss=5.0026, train_acc=0.0647, val_acc=0.1169\n",
      "Epoch 55: loss=4.9946, train_acc=0.0647, val_acc=0.1169\n",
      "Epoch 56: loss=4.9867, train_acc=0.0647, val_acc=0.1169\n",
      "Epoch 57: loss=4.9795, train_acc=0.0622, val_acc=0.1169\n",
      "Epoch 58: loss=4.9726, train_acc=0.0622, val_acc=0.1299\n",
      "Epoch 59: loss=4.9657, train_acc=0.0622, val_acc=0.1169\n",
      "Epoch 60: loss=4.9587, train_acc=0.0622, val_acc=0.1169\n",
      "Epoch 61: loss=4.9516, train_acc=0.0622, val_acc=0.1169\n",
      "Epoch 62: loss=4.9449, train_acc=0.0672, val_acc=0.1169\n",
      "Epoch 63: loss=4.9386, train_acc=0.0672, val_acc=0.1169\n",
      "Epoch 64: loss=4.9322, train_acc=0.0672, val_acc=0.1169\n",
      "Epoch 65: loss=4.9259, train_acc=0.0672, val_acc=0.1169\n",
      "Epoch 66: loss=4.9199, train_acc=0.0697, val_acc=0.1169\n",
      "Epoch 67: loss=4.9139, train_acc=0.0672, val_acc=0.1169\n",
      "Epoch 68: loss=4.9081, train_acc=0.0672, val_acc=0.1169\n",
      "Epoch 69: loss=4.9024, train_acc=0.0672, val_acc=0.1169\n",
      "Epoch 70: loss=4.8967, train_acc=0.0672, val_acc=0.1169\n",
      "Epoch 71: loss=4.8912, train_acc=0.0672, val_acc=0.1169\n",
      "Epoch 72: loss=4.8859, train_acc=0.0697, val_acc=0.1169\n",
      "Epoch 73: loss=4.8806, train_acc=0.0721, val_acc=0.1169\n",
      "Epoch 74: loss=4.8754, train_acc=0.0697, val_acc=0.1169\n",
      "Epoch 75: loss=4.8703, train_acc=0.0697, val_acc=0.1169\n",
      "Epoch 76: loss=4.8653, train_acc=0.0697, val_acc=0.1169\n",
      "Epoch 77: loss=4.8605, train_acc=0.0697, val_acc=0.1169\n",
      "Epoch 78: loss=4.8557, train_acc=0.0697, val_acc=0.1169\n",
      "Epoch 79: loss=4.8510, train_acc=0.0697, val_acc=0.1169\n",
      "Epoch 80: loss=4.8464, train_acc=0.0697, val_acc=0.1169\n",
      "Epoch 81: loss=4.8419, train_acc=0.0697, val_acc=0.1169\n",
      "Epoch 82: loss=4.8374, train_acc=0.0697, val_acc=0.1169\n",
      "Epoch 83: loss=4.8331, train_acc=0.0697, val_acc=0.1169\n",
      "Epoch 84: loss=4.8288, train_acc=0.0697, val_acc=0.1169\n",
      "Epoch 85: loss=4.8245, train_acc=0.0697, val_acc=0.1169\n",
      "Epoch 86: loss=4.8204, train_acc=0.0697, val_acc=0.1169\n",
      "Epoch 87: loss=4.8164, train_acc=0.0697, val_acc=0.1039\n",
      "Epoch 88: loss=4.8125, train_acc=0.0697, val_acc=0.1039\n",
      "Epoch 89: loss=4.8085, train_acc=0.0721, val_acc=0.1039\n",
      "Epoch 90: loss=4.8047, train_acc=0.0721, val_acc=0.1039\n",
      "Epoch 91: loss=4.8009, train_acc=0.0721, val_acc=0.1169\n",
      "Epoch 92: loss=4.7973, train_acc=0.0721, val_acc=0.1169\n",
      "Epoch 93: loss=4.7938, train_acc=0.0721, val_acc=0.1169\n",
      "Epoch 94: loss=4.7903, train_acc=0.0721, val_acc=0.1169\n",
      "Epoch 95: loss=4.7866, train_acc=0.0721, val_acc=0.1039\n",
      "Epoch 96: loss=4.7829, train_acc=0.0721, val_acc=0.1039\n",
      "Epoch 97: loss=4.7796, train_acc=0.0721, val_acc=0.1039\n",
      "Epoch 98: loss=4.7758, train_acc=0.0697, val_acc=0.1039\n",
      "Epoch 99: loss=4.7726, train_acc=0.0721, val_acc=0.1039\n",
      "Epoch 100: loss=4.7694, train_acc=0.0721, val_acc=0.1039\n",
      "Epoch 101: loss=4.7659, train_acc=0.0721, val_acc=0.1039\n",
      "Epoch 102: loss=4.7629, train_acc=0.0721, val_acc=0.1039\n",
      "Epoch 103: loss=4.7594, train_acc=0.0721, val_acc=0.1039\n",
      "Epoch 104: loss=4.7559, train_acc=0.0721, val_acc=0.1039\n",
      "Epoch 105: loss=4.7530, train_acc=0.0721, val_acc=0.1039\n",
      "Epoch 106: loss=4.7497, train_acc=0.0697, val_acc=0.1039\n",
      "Epoch 107: loss=4.7467, train_acc=0.0721, val_acc=0.1039\n",
      "Epoch 108: loss=4.7437, train_acc=0.0697, val_acc=0.1039\n",
      "Epoch 109: loss=4.7403, train_acc=0.0721, val_acc=0.1039\n",
      "Epoch 110: loss=4.7374, train_acc=0.0721, val_acc=0.1039\n",
      "Epoch 111: loss=4.7346, train_acc=0.0697, val_acc=0.1039\n",
      "Epoch 112: loss=4.7317, train_acc=0.0697, val_acc=0.1039\n",
      "Epoch 113: loss=4.7290, train_acc=0.0697, val_acc=0.1039\n",
      "Epoch 114: loss=4.7261, train_acc=0.0697, val_acc=0.1039\n",
      "Epoch 115: loss=4.7234, train_acc=0.0697, val_acc=0.1039\n",
      "Epoch 116: loss=4.7209, train_acc=0.0672, val_acc=0.1039\n",
      "Epoch 117: loss=4.7180, train_acc=0.0697, val_acc=0.1039\n",
      "Epoch 118: loss=4.7158, train_acc=0.0697, val_acc=0.1039\n",
      "Epoch 119: loss=4.7132, train_acc=0.0721, val_acc=0.1039\n",
      "Epoch 120: loss=4.7111, train_acc=0.0697, val_acc=0.1039\n",
      "Epoch 121: loss=4.7086, train_acc=0.0672, val_acc=0.1039\n",
      "Epoch 122: loss=4.7061, train_acc=0.0721, val_acc=0.1039\n",
      "Epoch 123: loss=4.7031, train_acc=0.0697, val_acc=0.1039\n",
      "Epoch 124: loss=4.7002, train_acc=0.0697, val_acc=0.1039\n",
      "Epoch 125: loss=4.6975, train_acc=0.0697, val_acc=0.1169\n",
      "Epoch 126: loss=4.6952, train_acc=0.0672, val_acc=0.1169\n",
      "Epoch 127: loss=4.6929, train_acc=0.0721, val_acc=0.1169\n",
      "Epoch 128: loss=4.6904, train_acc=0.0697, val_acc=0.1039\n",
      "Epoch 129: loss=4.6879, train_acc=0.0721, val_acc=0.1039\n",
      "Epoch 130: loss=4.6854, train_acc=0.0697, val_acc=0.1039\n",
      "Epoch 131: loss=4.6831, train_acc=0.0721, val_acc=0.1169\n",
      "Epoch 132: loss=4.6807, train_acc=0.0721, val_acc=0.1169\n",
      "Epoch 133: loss=4.6785, train_acc=0.0721, val_acc=0.1169\n",
      "Epoch 134: loss=4.6758, train_acc=0.0721, val_acc=0.1169\n",
      "Epoch 135: loss=4.6736, train_acc=0.0697, val_acc=0.1169\n",
      "Epoch 136: loss=4.6711, train_acc=0.0721, val_acc=0.1169\n",
      "Epoch 137: loss=4.6695, train_acc=0.0697, val_acc=0.1169\n",
      "Epoch 138: loss=4.6665, train_acc=0.0697, val_acc=0.1039\n",
      "Epoch 139: loss=4.6653, train_acc=0.0697, val_acc=0.1169\n",
      "Epoch 140: loss=4.6638, train_acc=0.0746, val_acc=0.1039\n",
      "Epoch 141: loss=4.6617, train_acc=0.0746, val_acc=0.1169\n",
      "Epoch 142: loss=4.6590, train_acc=0.0721, val_acc=0.1169\n",
      "Epoch 143: loss=4.6576, train_acc=0.0721, val_acc=0.1169\n",
      "Epoch 144: loss=4.6537, train_acc=0.0721, val_acc=0.1169\n",
      "Epoch 145: loss=4.6522, train_acc=0.0746, val_acc=0.1169\n",
      "Epoch 146: loss=4.6492, train_acc=0.0721, val_acc=0.1169\n",
      "Epoch 147: loss=4.6474, train_acc=0.0721, val_acc=0.1039\n",
      "Epoch 148: loss=4.6456, train_acc=0.0721, val_acc=0.1169\n",
      "Epoch 149: loss=4.6451, train_acc=0.0746, val_acc=0.1039\n",
      "Epoch 150: loss=4.6441, train_acc=0.0746, val_acc=0.1169\n",
      "Epoch 151: loss=4.6422, train_acc=0.0746, val_acc=0.1039\n",
      "Epoch 152: loss=4.6390, train_acc=0.0746, val_acc=0.1169\n",
      "Epoch 153: loss=4.6364, train_acc=0.0721, val_acc=0.1169\n",
      "Epoch 154: loss=4.6324, train_acc=0.0746, val_acc=0.1169\n",
      "Epoch 155: loss=4.6305, train_acc=0.0746, val_acc=0.1169\n",
      "Epoch 156: loss=4.6289, train_acc=0.0771, val_acc=0.1039\n",
      "Epoch 157: loss=4.6270, train_acc=0.0697, val_acc=0.1169\n",
      "Epoch 158: loss=4.6252, train_acc=0.0721, val_acc=0.1039\n",
      "Epoch 159: loss=4.6229, train_acc=0.0746, val_acc=0.1169\n",
      "Epoch 160: loss=4.6205, train_acc=0.0746, val_acc=0.1169\n",
      "Epoch 161: loss=4.6182, train_acc=0.0721, val_acc=0.1169\n",
      "Epoch 162: loss=4.6158, train_acc=0.0721, val_acc=0.1169\n",
      "Epoch 163: loss=4.6140, train_acc=0.0721, val_acc=0.1039\n",
      "Epoch 164: loss=4.6124, train_acc=0.0746, val_acc=0.1169\n",
      "Epoch 165: loss=4.6106, train_acc=0.0746, val_acc=0.1039\n",
      "Epoch 166: loss=4.6093, train_acc=0.0721, val_acc=0.1169\n",
      "Epoch 167: loss=4.6076, train_acc=0.0697, val_acc=0.0909\n",
      "Epoch 168: loss=4.6071, train_acc=0.0721, val_acc=0.1169\n",
      "Epoch 169: loss=4.6053, train_acc=0.0721, val_acc=0.1039\n",
      "Epoch 170: loss=4.6031, train_acc=0.0746, val_acc=0.1169\n",
      "Epoch 171: loss=4.6004, train_acc=0.0746, val_acc=0.1039\n",
      "Epoch 172: loss=4.5979, train_acc=0.0746, val_acc=0.1039\n",
      "Epoch 173: loss=4.5959, train_acc=0.0721, val_acc=0.1169\n",
      "Epoch 174: loss=4.5941, train_acc=0.0746, val_acc=0.1039\n",
      "Epoch 175: loss=4.5927, train_acc=0.0746, val_acc=0.1169\n",
      "Epoch 176: loss=4.5913, train_acc=0.0721, val_acc=0.1039\n",
      "Epoch 177: loss=4.5901, train_acc=0.0746, val_acc=0.1169\n",
      "Epoch 178: loss=4.5886, train_acc=0.0771, val_acc=0.1039\n",
      "Epoch 179: loss=4.5871, train_acc=0.0771, val_acc=0.1169\n",
      "Epoch 180: loss=4.5851, train_acc=0.0746, val_acc=0.1039\n",
      "Epoch 181: loss=4.5836, train_acc=0.0721, val_acc=0.1169\n",
      "Epoch 182: loss=4.5816, train_acc=0.0746, val_acc=0.0909\n",
      "Epoch 183: loss=4.5797, train_acc=0.0746, val_acc=0.1169\n",
      "Epoch 184: loss=4.5799, train_acc=0.0721, val_acc=0.0909\n",
      "Epoch 185: loss=4.5819, train_acc=0.0721, val_acc=0.0909\n",
      "Epoch 186: loss=4.5835, train_acc=0.0746, val_acc=0.0909\n",
      "Epoch 187: loss=4.5839, train_acc=0.0697, val_acc=0.1039\n",
      "Epoch 188: loss=4.5770, train_acc=0.0771, val_acc=0.1039\n",
      "Epoch 189: loss=4.5720, train_acc=0.0746, val_acc=0.0909\n",
      "Epoch 190: loss=4.5715, train_acc=0.0721, val_acc=0.1039\n",
      "Epoch 191: loss=4.5731, train_acc=0.0721, val_acc=0.0909\n",
      "Epoch 192: loss=4.5736, train_acc=0.0697, val_acc=0.1039\n",
      "Epoch 193: loss=4.5697, train_acc=0.0721, val_acc=0.0909\n",
      "Epoch 194: loss=4.5658, train_acc=0.0721, val_acc=0.0909\n",
      "Epoch 195: loss=4.5640, train_acc=0.0721, val_acc=0.0909\n",
      "Epoch 196: loss=4.5643, train_acc=0.0721, val_acc=0.0909\n",
      "Epoch 197: loss=4.5650, train_acc=0.0697, val_acc=0.1169\n",
      "Epoch 198: loss=4.5626, train_acc=0.0721, val_acc=0.0909\n",
      "Epoch 199: loss=4.5596, train_acc=0.0721, val_acc=0.0909\n",
      "Epoch 200: loss=4.5568, train_acc=0.0746, val_acc=0.0909\n",
      "Epoch 201: loss=4.5571, train_acc=0.0746, val_acc=0.1039\n",
      "Epoch 202: loss=4.5562, train_acc=0.0721, val_acc=0.1169\n",
      "Epoch 203: loss=4.5545, train_acc=0.0746, val_acc=0.0909\n",
      "Epoch 204: loss=4.5524, train_acc=0.0746, val_acc=0.0909\n",
      "Epoch 205: loss=4.5503, train_acc=0.0746, val_acc=0.0909\n",
      "Epoch 206: loss=4.5483, train_acc=0.0746, val_acc=0.1039\n",
      "Epoch 207: loss=4.5469, train_acc=0.0721, val_acc=0.1169\n",
      "Epoch 208: loss=4.5470, train_acc=0.0746, val_acc=0.0909\n",
      "Epoch 209: loss=4.5440, train_acc=0.0721, val_acc=0.0909\n",
      "Epoch 210: loss=4.5438, train_acc=0.0721, val_acc=0.0909\n",
      "Epoch 211: loss=4.5403, train_acc=0.0721, val_acc=0.0909\n",
      "Epoch 212: loss=4.5390, train_acc=0.0746, val_acc=0.1169\n",
      "Epoch 213: loss=4.5380, train_acc=0.0746, val_acc=0.0909\n",
      "Epoch 214: loss=4.5367, train_acc=0.0721, val_acc=0.0909\n",
      "Epoch 215: loss=4.5357, train_acc=0.0771, val_acc=0.1039\n",
      "Epoch 216: loss=4.5336, train_acc=0.0721, val_acc=0.0909\n",
      "Epoch 217: loss=4.5326, train_acc=0.0771, val_acc=0.1169\n",
      "Epoch 218: loss=4.5321, train_acc=0.0697, val_acc=0.0779\n",
      "Epoch 219: loss=4.5366, train_acc=0.0746, val_acc=0.0779\n",
      "Epoch 220: loss=4.5378, train_acc=0.0771, val_acc=0.0909\n",
      "Epoch 221: loss=4.5397, train_acc=0.0746, val_acc=0.1039\n",
      "Epoch 222: loss=4.5338, train_acc=0.0721, val_acc=0.0909\n",
      "Epoch 223: loss=4.5281, train_acc=0.0721, val_acc=0.0909\n",
      "Epoch 224: loss=4.5296, train_acc=0.0746, val_acc=0.1039\n",
      "Epoch 225: loss=4.5313, train_acc=0.0746, val_acc=0.0909\n",
      "Epoch 226: loss=4.5333, train_acc=0.0721, val_acc=0.1039\n",
      "Epoch 227: loss=4.5281, train_acc=0.0721, val_acc=0.0909\n",
      "Epoch 228: loss=4.5283, train_acc=0.0721, val_acc=0.0909\n",
      "Epoch 229: loss=4.5235, train_acc=0.0746, val_acc=0.0909\n",
      "Epoch 230: loss=4.5274, train_acc=0.0721, val_acc=0.0909\n",
      "Epoch 231: loss=4.5264, train_acc=0.0721, val_acc=0.1169\n",
      "Epoch 232: loss=4.5259, train_acc=0.0721, val_acc=0.0909\n",
      "Epoch 233: loss=4.5230, train_acc=0.0697, val_acc=0.0779\n",
      "Epoch 234: loss=4.5228, train_acc=0.0746, val_acc=0.1039\n",
      "Epoch 235: loss=4.5167, train_acc=0.0697, val_acc=0.1169\n",
      "Epoch 236: loss=4.5221, train_acc=0.0746, val_acc=0.1169\n",
      "Epoch 237: loss=4.5205, train_acc=0.0771, val_acc=0.0909\n",
      "Epoch 238: loss=4.5183, train_acc=0.0697, val_acc=0.0779\n",
      "Epoch 239: loss=4.5244, train_acc=0.0721, val_acc=0.0909\n",
      "Epoch 240: loss=4.5171, train_acc=0.0721, val_acc=0.1169\n",
      "Epoch 241: loss=4.5172, train_acc=0.0672, val_acc=0.0909\n",
      "Epoch 242: loss=4.5287, train_acc=0.0721, val_acc=0.0909\n",
      "Epoch 243: loss=4.5171, train_acc=0.0721, val_acc=0.0909\n",
      "Epoch 244: loss=4.5253, train_acc=0.0721, val_acc=0.0909\n",
      "Epoch 245: loss=4.5341, train_acc=0.0697, val_acc=0.0909\n",
      "Epoch 246: loss=4.5356, train_acc=0.0697, val_acc=0.0909\n",
      "Epoch 247: loss=4.5387, train_acc=0.0746, val_acc=0.0909\n",
      "Epoch 248: loss=4.5400, train_acc=0.0796, val_acc=0.0909\n",
      "Epoch 249: loss=4.5204, train_acc=0.0721, val_acc=0.0909\n",
      "Epoch 250: loss=4.5210, train_acc=0.0697, val_acc=0.0909\n",
      "Epoch 251: loss=4.5233, train_acc=0.0697, val_acc=0.1039\n",
      "Epoch 252: loss=4.5169, train_acc=0.0721, val_acc=0.0909\n",
      "Epoch 253: loss=4.5218, train_acc=0.0721, val_acc=0.0909\n",
      "Epoch 254: loss=4.5140, train_acc=0.0771, val_acc=0.0649\n",
      "Epoch 255: loss=4.5137, train_acc=0.0697, val_acc=0.0909\n",
      "Epoch 256: loss=4.5280, train_acc=0.0721, val_acc=0.0909\n",
      "Epoch 257: loss=4.5171, train_acc=0.0697, val_acc=0.0909\n",
      "Epoch 258: loss=4.5138, train_acc=0.0746, val_acc=0.0779\n",
      "Epoch 259: loss=4.5078, train_acc=0.0721, val_acc=0.0909\n",
      "Epoch 260: loss=4.5052, train_acc=0.0697, val_acc=0.0909\n",
      "Epoch 261: loss=4.5069, train_acc=0.0721, val_acc=0.0909\n",
      "Epoch 262: loss=4.4978, train_acc=0.0721, val_acc=0.0909\n",
      "Epoch 263: loss=4.5000, train_acc=0.0721, val_acc=0.0909\n",
      "Epoch 264: loss=4.5106, train_acc=0.0771, val_acc=0.1169\n",
      "Epoch 265: loss=4.5036, train_acc=0.0746, val_acc=0.0779\n",
      "Epoch 266: loss=4.5001, train_acc=0.0746, val_acc=0.1039\n",
      "Epoch 267: loss=4.5014, train_acc=0.0746, val_acc=0.0909\n",
      "Epoch 268: loss=4.4953, train_acc=0.0771, val_acc=0.0779\n",
      "Epoch 269: loss=4.4899, train_acc=0.0746, val_acc=0.1039\n",
      "Epoch 270: loss=4.4941, train_acc=0.0746, val_acc=0.0779\n",
      "Epoch 271: loss=4.4906, train_acc=0.0746, val_acc=0.0909\n",
      "Epoch 272: loss=4.4890, train_acc=0.0796, val_acc=0.0649\n",
      "Epoch 273: loss=4.4849, train_acc=0.0746, val_acc=0.0909\n",
      "Epoch 274: loss=4.4824, train_acc=0.0721, val_acc=0.0909\n",
      "Epoch 275: loss=4.4839, train_acc=0.0746, val_acc=0.0779\n",
      "Epoch 276: loss=4.4891, train_acc=0.0771, val_acc=0.0779\n",
      "Epoch 277: loss=4.4891, train_acc=0.0721, val_acc=0.0779\n",
      "Epoch 278: loss=4.4845, train_acc=0.0721, val_acc=0.0909\n",
      "Epoch 279: loss=4.4775, train_acc=0.0746, val_acc=0.0909\n",
      "Epoch 280: loss=4.4777, train_acc=0.0771, val_acc=0.1039\n",
      "Epoch 281: loss=4.4775, train_acc=0.0821, val_acc=0.0909\n",
      "Epoch 282: loss=4.4794, train_acc=0.0721, val_acc=0.0909\n",
      "Epoch 283: loss=4.4759, train_acc=0.0746, val_acc=0.0909\n",
      "Epoch 284: loss=4.4711, train_acc=0.0721, val_acc=0.0779\n",
      "Epoch 285: loss=4.4686, train_acc=0.0771, val_acc=0.0779\n",
      "Epoch 286: loss=4.4689, train_acc=0.0721, val_acc=0.0909\n",
      "Epoch 287: loss=4.4696, train_acc=0.0721, val_acc=0.0779\n",
      "Epoch 288: loss=4.4676, train_acc=0.0721, val_acc=0.0909\n",
      "Epoch 289: loss=4.4647, train_acc=0.0721, val_acc=0.0909\n",
      "Epoch 290: loss=4.4630, train_acc=0.0746, val_acc=0.0779\n",
      "Epoch 291: loss=4.4632, train_acc=0.0746, val_acc=0.0909\n",
      "Epoch 292: loss=4.4618, train_acc=0.0796, val_acc=0.0779\n",
      "Epoch 293: loss=4.4613, train_acc=0.0746, val_acc=0.0909\n",
      "Epoch 294: loss=4.4600, train_acc=0.0721, val_acc=0.0779\n",
      "Epoch 295: loss=4.4588, train_acc=0.0771, val_acc=0.0779\n",
      "Epoch 296: loss=4.4571, train_acc=0.0796, val_acc=0.0909\n",
      "Epoch 297: loss=4.4557, train_acc=0.0771, val_acc=0.0909\n",
      "Epoch 298: loss=4.4557, train_acc=0.0771, val_acc=0.0909\n",
      "Epoch 299: loss=4.4549, train_acc=0.0721, val_acc=0.0779\n",
      "Epoch 300: loss=4.4542, train_acc=0.0746, val_acc=0.1169\n",
      "Epoch 301: loss=4.4533, train_acc=0.0746, val_acc=0.0909\n",
      "Epoch 302: loss=4.4526, train_acc=0.0746, val_acc=0.0649\n",
      "Epoch 303: loss=4.4532, train_acc=0.0721, val_acc=0.0909\n",
      "Epoch 304: loss=4.4526, train_acc=0.0771, val_acc=0.0909\n",
      "Epoch 305: loss=4.4514, train_acc=0.0771, val_acc=0.0909\n",
      "Epoch 306: loss=4.4502, train_acc=0.0721, val_acc=0.0779\n",
      "Epoch 307: loss=4.4491, train_acc=0.0746, val_acc=0.0779\n",
      "Epoch 308: loss=4.4478, train_acc=0.0771, val_acc=0.0779\n",
      "Epoch 309: loss=4.4472, train_acc=0.0721, val_acc=0.0779\n",
      "Epoch 310: loss=4.4467, train_acc=0.0771, val_acc=0.0909\n",
      "Epoch 311: loss=4.4466, train_acc=0.0746, val_acc=0.0649\n",
      "Epoch 312: loss=4.4451, train_acc=0.0746, val_acc=0.0909\n",
      "Epoch 313: loss=4.4446, train_acc=0.0746, val_acc=0.0649\n",
      "Epoch 314: loss=4.4447, train_acc=0.0746, val_acc=0.0909\n",
      "Epoch 315: loss=4.4425, train_acc=0.0771, val_acc=0.0779\n",
      "Epoch 316: loss=4.4428, train_acc=0.0746, val_acc=0.0779\n",
      "Epoch 317: loss=4.4410, train_acc=0.0746, val_acc=0.0779\n",
      "Epoch 318: loss=4.4407, train_acc=0.0771, val_acc=0.0779\n",
      "Epoch 319: loss=4.4390, train_acc=0.0721, val_acc=0.0779\n",
      "Epoch 320: loss=4.4409, train_acc=0.0771, val_acc=0.0649\n",
      "Epoch 321: loss=4.4405, train_acc=0.0771, val_acc=0.0779\n",
      "Epoch 322: loss=4.4424, train_acc=0.0796, val_acc=0.0649\n",
      "Epoch 323: loss=4.4404, train_acc=0.0746, val_acc=0.0779\n",
      "Epoch 324: loss=4.4368, train_acc=0.0721, val_acc=0.0649\n",
      "Epoch 325: loss=4.4441, train_acc=0.0771, val_acc=0.0779\n",
      "Epoch 326: loss=4.4387, train_acc=0.0771, val_acc=0.0779\n",
      "Epoch 327: loss=4.4447, train_acc=0.0771, val_acc=0.0909\n",
      "Epoch 328: loss=4.4475, train_acc=0.0796, val_acc=0.0649\n",
      "Epoch 329: loss=4.4465, train_acc=0.0721, val_acc=0.0909\n",
      "Epoch 330: loss=4.4446, train_acc=0.0796, val_acc=0.0779\n"
     ]
    },
    {
     "ename": "KeyboardInterrupt",
     "evalue": "",
     "output_type": "error",
     "traceback": [
      "\u001B[0;31m---------------------------------------------------------------------------\u001B[0m",
      "\u001B[0;31mKeyboardInterrupt\u001B[0m                         Traceback (most recent call last)",
      "Input \u001B[0;32mIn [11]\u001B[0m, in \u001B[0;36m<cell line: 13>\u001B[0;34m()\u001B[0m\n\u001B[1;32m     12\u001B[0m \u001B[38;5;66;03m# Training loop\u001B[39;00m\n\u001B[1;32m     13\u001B[0m \u001B[38;5;28;01mfor\u001B[39;00m epoch \u001B[38;5;129;01min\u001B[39;00m \u001B[38;5;28mrange\u001B[39m(\u001B[38;5;241m1000\u001B[39m):\n\u001B[0;32m---> 14\u001B[0m     logits \u001B[38;5;241m=\u001B[39m \u001B[43mmodel\u001B[49m\u001B[43m(\u001B[49m\u001B[43mpaper_graph\u001B[49m\u001B[43m,\u001B[49m\u001B[43m \u001B[49m\u001B[43mfeatures\u001B[49m\u001B[43m)\u001B[49m\n\u001B[1;32m     15\u001B[0m     \u001B[38;5;66;03m#loss = F.binary_cross_entropy_with_logits(logits[train_mask], labels[train_mask].float(),pos_weight=torch.tensor([12000.]))\u001B[39;00m\n\u001B[1;32m     16\u001B[0m     loss \u001B[38;5;241m=\u001B[39m F\u001B[38;5;241m.\u001B[39mcross_entropy(logits[train_mask], labels[train_mask])\n",
      "File \u001B[0;32m/usr/local/lib/python3.10/dist-packages/torch/nn/modules/module.py:1194\u001B[0m, in \u001B[0;36mModule._call_impl\u001B[0;34m(self, *input, **kwargs)\u001B[0m\n\u001B[1;32m   1190\u001B[0m \u001B[38;5;66;03m# If we don't have any hooks, we want to skip the rest of the logic in\u001B[39;00m\n\u001B[1;32m   1191\u001B[0m \u001B[38;5;66;03m# this function, and just call forward.\u001B[39;00m\n\u001B[1;32m   1192\u001B[0m \u001B[38;5;28;01mif\u001B[39;00m \u001B[38;5;129;01mnot\u001B[39;00m (\u001B[38;5;28mself\u001B[39m\u001B[38;5;241m.\u001B[39m_backward_hooks \u001B[38;5;129;01mor\u001B[39;00m \u001B[38;5;28mself\u001B[39m\u001B[38;5;241m.\u001B[39m_forward_hooks \u001B[38;5;129;01mor\u001B[39;00m \u001B[38;5;28mself\u001B[39m\u001B[38;5;241m.\u001B[39m_forward_pre_hooks \u001B[38;5;129;01mor\u001B[39;00m _global_backward_hooks\n\u001B[1;32m   1193\u001B[0m         \u001B[38;5;129;01mor\u001B[39;00m _global_forward_hooks \u001B[38;5;129;01mor\u001B[39;00m _global_forward_pre_hooks):\n\u001B[0;32m-> 1194\u001B[0m     \u001B[38;5;28;01mreturn\u001B[39;00m \u001B[43mforward_call\u001B[49m\u001B[43m(\u001B[49m\u001B[38;5;241;43m*\u001B[39;49m\u001B[38;5;28;43minput\u001B[39;49m\u001B[43m,\u001B[49m\u001B[43m \u001B[49m\u001B[38;5;241;43m*\u001B[39;49m\u001B[38;5;241;43m*\u001B[39;49m\u001B[43mkwargs\u001B[49m\u001B[43m)\u001B[49m\n\u001B[1;32m   1195\u001B[0m \u001B[38;5;66;03m# Do not call functions when jit is used\u001B[39;00m\n\u001B[1;32m   1196\u001B[0m full_backward_hooks, non_full_backward_hooks \u001B[38;5;241m=\u001B[39m [], []\n",
      "Input \u001B[0;32mIn [8]\u001B[0m, in \u001B[0;36mGraphClassificationModel.forward\u001B[0;34m(self, g, features)\u001B[0m\n\u001B[1;32m      9\u001B[0m h \u001B[38;5;241m=\u001B[39m \u001B[38;5;28mself\u001B[39m\u001B[38;5;241m.\u001B[39mconv1(g, features)\n\u001B[1;32m     10\u001B[0m h \u001B[38;5;241m=\u001B[39m F\u001B[38;5;241m.\u001B[39mrelu(h)\n\u001B[0;32m---> 11\u001B[0m h \u001B[38;5;241m=\u001B[39m \u001B[38;5;28;43mself\u001B[39;49m\u001B[38;5;241;43m.\u001B[39;49m\u001B[43mconv2\u001B[49m\u001B[43m(\u001B[49m\u001B[43mg\u001B[49m\u001B[43m,\u001B[49m\u001B[43m \u001B[49m\u001B[43mh\u001B[49m\u001B[43m)\u001B[49m\n\u001B[1;32m     12\u001B[0m \u001B[38;5;28;01mreturn\u001B[39;00m h\n",
      "File \u001B[0;32m/usr/local/lib/python3.10/dist-packages/torch/nn/modules/module.py:1194\u001B[0m, in \u001B[0;36mModule._call_impl\u001B[0;34m(self, *input, **kwargs)\u001B[0m\n\u001B[1;32m   1190\u001B[0m \u001B[38;5;66;03m# If we don't have any hooks, we want to skip the rest of the logic in\u001B[39;00m\n\u001B[1;32m   1191\u001B[0m \u001B[38;5;66;03m# this function, and just call forward.\u001B[39;00m\n\u001B[1;32m   1192\u001B[0m \u001B[38;5;28;01mif\u001B[39;00m \u001B[38;5;129;01mnot\u001B[39;00m (\u001B[38;5;28mself\u001B[39m\u001B[38;5;241m.\u001B[39m_backward_hooks \u001B[38;5;129;01mor\u001B[39;00m \u001B[38;5;28mself\u001B[39m\u001B[38;5;241m.\u001B[39m_forward_hooks \u001B[38;5;129;01mor\u001B[39;00m \u001B[38;5;28mself\u001B[39m\u001B[38;5;241m.\u001B[39m_forward_pre_hooks \u001B[38;5;129;01mor\u001B[39;00m _global_backward_hooks\n\u001B[1;32m   1193\u001B[0m         \u001B[38;5;129;01mor\u001B[39;00m _global_forward_hooks \u001B[38;5;129;01mor\u001B[39;00m _global_forward_pre_hooks):\n\u001B[0;32m-> 1194\u001B[0m     \u001B[38;5;28;01mreturn\u001B[39;00m \u001B[43mforward_call\u001B[49m\u001B[43m(\u001B[49m\u001B[38;5;241;43m*\u001B[39;49m\u001B[38;5;28;43minput\u001B[39;49m\u001B[43m,\u001B[49m\u001B[43m \u001B[49m\u001B[38;5;241;43m*\u001B[39;49m\u001B[38;5;241;43m*\u001B[39;49m\u001B[43mkwargs\u001B[49m\u001B[43m)\u001B[49m\n\u001B[1;32m   1195\u001B[0m \u001B[38;5;66;03m# Do not call functions when jit is used\u001B[39;00m\n\u001B[1;32m   1196\u001B[0m full_backward_hooks, non_full_backward_hooks \u001B[38;5;241m=\u001B[39m [], []\n",
      "File \u001B[0;32m/usr/local/lib/python3.10/dist-packages/dgl/nn/pytorch/conv/graphconv.py:446\u001B[0m, in \u001B[0;36mGraphConv.forward\u001B[0;34m(self, graph, feat, weight, edge_weight)\u001B[0m\n\u001B[1;32m    443\u001B[0m \u001B[38;5;28;01mif\u001B[39;00m \u001B[38;5;28mself\u001B[39m\u001B[38;5;241m.\u001B[39mbias \u001B[38;5;129;01mis\u001B[39;00m \u001B[38;5;129;01mnot\u001B[39;00m \u001B[38;5;28;01mNone\u001B[39;00m:\n\u001B[1;32m    444\u001B[0m     rst \u001B[38;5;241m=\u001B[39m rst \u001B[38;5;241m+\u001B[39m \u001B[38;5;28mself\u001B[39m\u001B[38;5;241m.\u001B[39mbias\n\u001B[0;32m--> 446\u001B[0m \u001B[38;5;28;01mif\u001B[39;00m \u001B[38;5;28mself\u001B[39m\u001B[38;5;241m.\u001B[39m_activation \u001B[38;5;129;01mis\u001B[39;00m \u001B[38;5;129;01mnot\u001B[39;00m \u001B[38;5;28;01mNone\u001B[39;00m:\n\u001B[1;32m    447\u001B[0m     rst \u001B[38;5;241m=\u001B[39m \u001B[38;5;28mself\u001B[39m\u001B[38;5;241m.\u001B[39m_activation(rst)\n\u001B[1;32m    449\u001B[0m \u001B[38;5;28;01mreturn\u001B[39;00m rst\n",
      "\u001B[0;31mKeyboardInterrupt\u001B[0m: "
     ]
    }
   ],
   "source": [
    "# Initialize the model and the loss function\n",
    "model = GraphClassificationModel(1, 8, paper_graph.ndata[\"label\"].shape[0])\n",
    "\n",
    "# Define the optimizer\n",
    "optimizer = torch.optim.Adam(model.parameters(), lr=0.10)\n",
    "\n",
    "train_mask = paper_graph.ndata['train_mask']\n",
    "val_mask = paper_graph.ndata['val_mask']\n",
    "labels = paper_graph.ndata['label']\n",
    "features = paper_graph.ndata['feat'].float()\n",
    "\n",
    "# Training loop\n",
    "for epoch in range(1000):\n",
    "    logits = model(paper_graph, features)\n",
    "    #loss = F.binary_cross_entropy_with_logits(logits[train_mask], labels[train_mask].float(),pos_weight=torch.tensor([12000.]))\n",
    "    loss = F.cross_entropy(logits[train_mask], labels[train_mask])\n",
    "    optimizer.zero_grad()\n",
    "    loss.backward()\n",
    "    optimizer.step()\n",
    "\n",
    "    if epoch % 1 == 0:\n",
    "    # Evaluation loop\n",
    "        with torch.no_grad():\n",
    "            logits = model(paper_graph, features)\n",
    "            \"\"\"\n",
    "            train_acc_matches = []\n",
    "\n",
    "            for id, index in enumerate(torch.max(logits[train_mask],dim=1)[1]):\n",
    "                if labels[id][index] == 1:\n",
    "                    train_acc_matches.append(1)\n",
    "                else:\n",
    "                    train_acc_matches.append(0)\n",
    "\n",
    "            train_acc = sum(train_acc_matches)/len(train_acc_matches)\n",
    "            \"\"\"\n",
    "            train_acc = (logits[train_mask].argmax(1) == labels[train_mask]).float().mean().item()\n",
    "            val_acc = (logits[val_mask].argmax(1) == labels[val_mask]).float().mean().item()\n",
    "            #print(logits)\n",
    "            #train_acc = (logits[train_mask] > 0).long().eq(labels[train_mask]).float().mean()\n",
    "            #val_acc = (logits[val_mask] > 0).long().eq(labels[val_mask]).float().mean()\n",
    "            print(f'Epoch {epoch}: loss={loss:.4f}, train_acc={train_acc:.4f}, val_acc={val_acc:.4f}')\n"
   ],
   "metadata": {
    "collapsed": false
   }
  },
  {
   "cell_type": "markdown",
   "source": [
    "# Initialize Graph"
   ],
   "metadata": {
    "collapsed": false
   }
  },
  {
   "cell_type": "code",
   "execution_count": 63,
   "outputs": [
    {
     "data": {
      "text/plain": "tensor([4, 4, 4, 4, 4, 4, 4, 4, 4, 4, 4, 4, 4, 4, 4, 4, 4, 4, 4, 4, 4, 4, 4, 4,\n        4, 4, 4, 4, 4, 4, 4, 4, 4, 4, 4, 4, 4, 4, 4, 4, 4, 4, 4, 4, 4, 4, 4, 4,\n        4, 4, 4, 4, 4, 4, 4, 4, 4, 4, 4, 4, 4, 4, 4, 4, 4, 4, 4, 4, 4, 4, 4, 4,\n        4, 4, 4, 4, 4])"
     },
     "execution_count": 63,
     "metadata": {},
     "output_type": "execute_result"
    }
   ],
   "source": [],
   "metadata": {
    "collapsed": false
   }
  },
  {
   "cell_type": "code",
   "execution_count": 87,
   "outputs": [
    {
     "data": {
      "text/plain": "tensor(194.3817)"
     },
     "execution_count": 87,
     "metadata": {},
     "output_type": "execute_result"
    }
   ],
   "source": [
    "logits = torch.tensor([[-3., -3., 3.]])\n",
    "F.binary_cross_entropy_with_logits(logits, torch.tensor([[0,0,1]]).float(), pos_weight=torch.tensor([12000.]))"
   ],
   "metadata": {
    "collapsed": false
   }
  },
  {
   "cell_type": "code",
   "execution_count": 1,
   "outputs": [
    {
     "ename": "NameError",
     "evalue": "name 'os' is not defined",
     "output_type": "error",
     "traceback": [
      "\u001B[0;31m---------------------------------------------------------------------------\u001B[0m",
      "\u001B[0;31mNameError\u001B[0m                                 Traceback (most recent call last)",
      "Input \u001B[0;32mIn [1]\u001B[0m, in \u001B[0;36m<cell line: 1>\u001B[0;34m()\u001B[0m\n\u001B[0;32m----> 1\u001B[0m \u001B[38;5;28;01mif\u001B[39;00m \u001B[38;5;129;01mnot\u001B[39;00m \u001B[43mos\u001B[49m\u001B[38;5;241m.\u001B[39mpath\u001B[38;5;241m.\u001B[39misfile(\u001B[38;5;124m\"\u001B[39m\u001B[38;5;124m./data2.bin\u001B[39m\u001B[38;5;124m\"\u001B[39m):\n\u001B[1;32m      2\u001B[0m     added_labels \u001B[38;5;241m=\u001B[39m []\n\u001B[1;32m      3\u001B[0m     cursor\u001B[38;5;241m.\u001B[39mexecute(\u001B[38;5;124m\"\u001B[39m\u001B[38;5;124mselect a.AuthorID from Authors a\u001B[39m\u001B[38;5;124m\"\u001B[39m)\n",
      "\u001B[0;31mNameError\u001B[0m: name 'os' is not defined"
     ]
    }
   ],
   "source": [
    "if not os.path.isfile(\"./data2.bin\"):\n",
    "    added_labels = []\n",
    "    cursor.execute(\"select a.AuthorID from Authors a\")\n",
    "    all_authors = cursor.fetchall()\n",
    "    all_authors_index = [(x, all_authors[x][0]) for x in range(0, len(all_authors))]\n",
    "    authors = pd.DataFrame(all_authors_index, columns=[\"key\", \"AuthorID\"])\n",
    "    max_id = authors[\"key\"].max()\n",
    "    complete_references_raw = pd.DataFrame({'key_x' : [],  \"key_y\" : [], \"year\": [], \"PaperID\": []})\n",
    "    conc_list = []\n",
    "    # Fetch data per year (otherwise it would crash)\n",
    "    for year in range(2000,2010):\n",
    "        print(year)\n",
    "        cursor.execute(f\"select a.AuthoredByID, a2.AuthoredByID, p.Pub_Year, p.PaperID from Papers p, authoredBy a, authoredBy a2, referencedBy b where p.PaperID = b.ReferencedByID and a.AuthoredByID != 0 and p.PaperID = a.PaperID and a2.AuthoredByID != 0 and p.Pub_Year = {year} and b.ReferenceID = a2.PaperID\")\n",
    "        entries = cursor.fetchall()\n",
    "        entries_df = pd.DataFrame(entries, columns=[\"A\", \"B\", \"year\", \"PaperID\"])\n",
    "        temp = pd.merge(entries_df, authors, left_on=\"B\", right_on=\"AuthorID\")\n",
    "        all_references = pd.merge(authors, temp, left_on=\"AuthorID\", right_on=\"A\")\n",
    "        subset_all_references = all_references[[\"key_x\", \"key_y\", \"year\", \"PaperID\"]]\n",
    "        complete_references_raw = pd.concat([complete_references_raw, subset_all_references])\n",
    "\n",
    "    # Choose latest papers with existing authors in the training as validation\n",
    "    aggregated_references = complete_references_raw.groupby([\"PaperID\", \"key_x\", \"year\"], as_index=False).count()\n",
    "    author_count = aggregated_references.groupby([\"key_x\"]).size().reset_index(name='count')\n",
    "    author_count = author_count[author_count[\"count\"] != 1]\n",
    "    aggregated_references = pd.merge(aggregated_references, author_count, on=\"key_x\")\n",
    "    validation_subset_sample = random.sample(range(len(author_count)), int(val_split*len(author_count)))\n",
    "    for val_id in validation_subset_sample:\n",
    "        # Get latest paper of that author\n",
    "        latest_paper_information = aggregated_references[aggregated_references[\"key_x\"] == author_count.iloc[val_id][\"key_x\"]].sort_values(\"year\").iloc[-1]\n",
    "        val_author_id = latest_paper_information[\"key_x\"]\n",
    "        val_paper_id = latest_paper_information[\"PaperID\"]\n",
    "        val_author_label_id = authors[authors[\"key\"] == val_author_id][\"AuthorID\"].values[0]\n",
    "        added_labels.append(val_author_id)\n",
    "        # Remap the id\n",
    "        max_id += 1\n",
    "        authors = pd.concat([authors, pd.DataFrame({\"key\": [max_id], \"AuthorID\": [val_author_label_id]})])\n",
    "        aggregated_references.loc[(aggregated_references[\"PaperID\"] == val_paper_id) & (aggregated_references[\"key_x\"] == val_author_id), [\"key_x\"]] \\\n",
    "            = max_id\n",
    "        aggregated_references.drop(aggregated_references.loc[(aggregated_references[\"PaperID\"] == val_paper_id) & (aggregated_references[\"key_x\"] != max_id)].index, inplace=True)\n",
    "\n",
    "\n",
    "    complete_references_raw = complete_references_raw.groupby([\"key_x\", \"key_y\"]).size().reset_index(name='C')\n",
    "    complete_references_raw = complete_references_raw.rename(columns={\"key_x\":\"Author\", \"key_y\":\"RefAuthor\", \"C\":\"Count\"})\n",
    "    dataset = AuthorDataset(authors, complete_references_raw)\n",
    "    graph = dataset[0]\n",
    "    save_graphs(\"./data.bin\", [graph])\n",
    "else: # Load graph if exists\n",
    "    glist, label_dict = load_graphs(\"./data.bin\")\n",
    "    graph = glist[0]"
   ],
   "metadata": {
    "collapsed": false
   }
  },
  {
   "cell_type": "code",
   "execution_count": 100,
   "outputs": [
    {
     "name": "stdout",
     "output_type": "stream",
     "text": [
      "        key_x\n",
      "190  450237.0\n"
     ]
    }
   ],
   "source": [
    "print()"
   ],
   "metadata": {
    "collapsed": false
   }
  },
  {
   "cell_type": "code",
   "execution_count": 107,
   "outputs": [],
   "source": [
    "aggregated_references.drop(aggregated_references.loc[(aggregated_references[\"PaperID\"] == val_paper_id) & (aggregated_references[\"key_x\"] != max_id)].index, inplace=True)"
   ],
   "metadata": {
    "collapsed": false
   }
  },
  {
   "cell_type": "code",
   "execution_count": 113,
   "outputs": [
    {
     "data": {
      "text/plain": "Int64Index([], dtype='int64')"
     },
     "execution_count": 113,
     "metadata": {},
     "output_type": "execute_result"
    }
   ],
   "source": [
    "aggregated_references.loc[(aggregated_references[\"PaperID\"] == val_paper_id) & (aggregated_references[\"key_x\"] != max_id)].index"
   ],
   "metadata": {
    "collapsed": false
   }
  },
  {
   "cell_type": "markdown",
   "source": [
    "## Properties"
   ],
   "metadata": {
    "collapsed": false
   }
  },
  {
   "cell_type": "code",
   "execution_count": 61,
   "outputs": [
    {
     "name": "stdout",
     "output_type": "stream",
     "text": [
      "Number of nodes: 733726\n",
      "Number of edges: 25392667\n"
     ]
    }
   ],
   "source": [
    "print(f\"Number of nodes: {graph.num_nodes()}\")\n",
    "print(f\"Number of edges: {graph.num_edges()}\")\n",
    "in_degrees = graph.in_degrees().numpy()\n",
    "out_degrees = graph.out_degrees().numpy()"
   ],
   "metadata": {
    "collapsed": false
   }
  },
  {
   "cell_type": "code",
   "execution_count": 43,
   "outputs": [
    {
     "data": {
      "text/plain": "<Figure size 432x288 with 1 Axes>",
      "image/png": "[encoded data removed]"
     },
     "metadata": {
      "needs_background": "light"
     },
     "output_type": "display_data"
    }
   ],
   "source": [
    "plt.hist(in_degrees[in_degrees != 0], range=(0,500))\n",
    "plt.show()"
   ],
   "metadata": {
    "collapsed": false
   }
  },
  {
   "cell_type": "code",
   "execution_count": 57,
   "outputs": [
    {
     "data": {
      "text/plain": "<Figure size 432x288 with 1 Axes>",
      "image/png": "[encoded data removed]"
     },
     "metadata": {
      "needs_background": "light"
     },
     "output_type": "display_data"
    }
   ],
   "source": [
    "plt.hist(out_degrees[out_degrees != 0], range=(0,50), bins=50)\n",
    "plt.show()"
   ],
   "metadata": {
    "collapsed": false
   }
  },
  {
   "cell_type": "code",
   "execution_count": 67,
   "outputs": [],
   "source": [
    "node_subset = random.sample(range(graph.num_nodes()), 4000)\n",
    "sub_graph = graph.subgraph(node_subset)"
   ],
   "metadata": {
    "collapsed": false
   }
  },
  {
   "cell_type": "markdown",
   "source": [
    "# Graph Neural Network"
   ],
   "metadata": {
    "collapsed": false
   }
  },
  {
   "cell_type": "code",
   "execution_count": 73,
   "outputs": [],
   "source": [
    "class GCN(nn.Module):\n",
    "    def __init__(self, in_feats, hid_feats, out_feats):\n",
    "        super().__init__()\n",
    "\n",
    "        self.conv1 = GraphConv(in_feats, hid_feats, allow_zero_in_degree=True, norm='none', weight=True, bias=True)\n",
    "        self.conv2 = GraphConv(hid_feats, out_feats, allow_zero_in_degree=True, norm='none', weight=True, bias=True)\n",
    "\n",
    "    def forward(self, graph, inputs, edge_weight):\n",
    "        norm = EdgeWeightNorm(norm='both')\n",
    "        norm_edge_weight = norm(graph, edge_weight)\n",
    "        #print(norm_edge_weight)\n",
    "        h = self.conv1(graph, inputs, edge_weight=norm_edge_weight)\n",
    "        h = F.relu(h)\n",
    "        h = self.conv2(graph, h, edge_weight=norm_edge_weight)\n",
    "        return h"
   ],
   "metadata": {
    "collapsed": false
   }
  },
  {
   "cell_type": "code",
   "execution_count": 47,
   "outputs": [],
   "source": [
    "node_features = graph.ndata['feat'].float()\n",
    "node_labels = graph.ndata['label']\n",
    "train_mask = graph.ndata['train_mask']\n",
    "valid_mask = graph.ndata['val_mask']\n",
    "test_mask = graph.ndata['test_mask']\n",
    "edge_weights = graph.edata['weight'].float()\n",
    "n_features = node_features.shape[1]\n",
    "n_labels = int(node_labels.max().item() + 1)"
   ],
   "metadata": {
    "collapsed": false
   }
  },
  {
   "cell_type": "code",
   "execution_count": 48,
   "outputs": [],
   "source": [
    "def evaluate(model, graph, features, edge_weights, labels, mask):\n",
    "    model.eval()\n",
    "    with torch.no_grad():\n",
    "        logits = model(graph, features, edge_weights)\n",
    "        logits = logits[mask]\n",
    "        labels = labels[mask]\n",
    "        _, indices = torch.max(logits, dim=1)\n",
    "        print(indices)\n",
    "        correct = torch.sum(indices == labels)\n",
    "        return correct.item() * 1.0 / len(labels)"
   ],
   "metadata": {
    "collapsed": false
   }
  },
  {
   "cell_type": "code",
   "execution_count": 50,
   "outputs": [
    {
     "data": {
      "text/plain": "29100277"
     },
     "execution_count": 50,
     "metadata": {},
     "output_type": "execute_result"
    }
   ],
   "source": [
    "len(edge_weights)"
   ],
   "metadata": {
    "collapsed": false
   }
  },
  {
   "cell_type": "code",
   "execution_count": 51,
   "outputs": [
    {
     "ename": "RuntimeError",
     "evalue": "[enforce fail at alloc_cpu.cpp:75] err == 0. DefaultCPUAllocator: can't allocate memory: you tried to allocate 2153415372304 bytes. Error code 12 (Cannot allocate memory)",
     "output_type": "error",
     "traceback": [
      "\u001B[0;31m---------------------------------------------------------------------------\u001B[0m",
      "\u001B[0;31mRuntimeError\u001B[0m                              Traceback (most recent call last)",
      "Input \u001B[0;32mIn [51]\u001B[0m, in \u001B[0;36m<cell line: 4>\u001B[0;34m()\u001B[0m\n\u001B[1;32m      5\u001B[0m model\u001B[38;5;241m.\u001B[39mtrain()\n\u001B[1;32m      6\u001B[0m \u001B[38;5;66;03m# forward propagation by using all nodes\u001B[39;00m\n\u001B[0;32m----> 7\u001B[0m logits \u001B[38;5;241m=\u001B[39m \u001B[43mmodel\u001B[49m\u001B[43m(\u001B[49m\u001B[43mgraph\u001B[49m\u001B[43m,\u001B[49m\u001B[43m \u001B[49m\u001B[43mnode_features\u001B[49m\u001B[43m,\u001B[49m\u001B[43m \u001B[49m\u001B[43medge_weights\u001B[49m\u001B[43m)\u001B[49m\n\u001B[1;32m      8\u001B[0m \u001B[38;5;66;03m# compute loss\u001B[39;00m\n\u001B[1;32m      9\u001B[0m loss \u001B[38;5;241m=\u001B[39m F\u001B[38;5;241m.\u001B[39mcross_entropy(logits[train_mask], node_labels[train_mask]\u001B[38;5;241m.\u001B[39mlong())\n",
      "File \u001B[0;32m/usr/local/lib/python3.10/dist-packages/torch/nn/modules/module.py:1194\u001B[0m, in \u001B[0;36mModule._call_impl\u001B[0;34m(self, *input, **kwargs)\u001B[0m\n\u001B[1;32m   1190\u001B[0m \u001B[38;5;66;03m# If we don't have any hooks, we want to skip the rest of the logic in\u001B[39;00m\n\u001B[1;32m   1191\u001B[0m \u001B[38;5;66;03m# this function, and just call forward.\u001B[39;00m\n\u001B[1;32m   1192\u001B[0m \u001B[38;5;28;01mif\u001B[39;00m \u001B[38;5;129;01mnot\u001B[39;00m (\u001B[38;5;28mself\u001B[39m\u001B[38;5;241m.\u001B[39m_backward_hooks \u001B[38;5;129;01mor\u001B[39;00m \u001B[38;5;28mself\u001B[39m\u001B[38;5;241m.\u001B[39m_forward_hooks \u001B[38;5;129;01mor\u001B[39;00m \u001B[38;5;28mself\u001B[39m\u001B[38;5;241m.\u001B[39m_forward_pre_hooks \u001B[38;5;129;01mor\u001B[39;00m _global_backward_hooks\n\u001B[1;32m   1193\u001B[0m         \u001B[38;5;129;01mor\u001B[39;00m _global_forward_hooks \u001B[38;5;129;01mor\u001B[39;00m _global_forward_pre_hooks):\n\u001B[0;32m-> 1194\u001B[0m     \u001B[38;5;28;01mreturn\u001B[39;00m \u001B[43mforward_call\u001B[49m\u001B[43m(\u001B[49m\u001B[38;5;241;43m*\u001B[39;49m\u001B[38;5;28;43minput\u001B[39;49m\u001B[43m,\u001B[49m\u001B[43m \u001B[49m\u001B[38;5;241;43m*\u001B[39;49m\u001B[38;5;241;43m*\u001B[39;49m\u001B[43mkwargs\u001B[49m\u001B[43m)\u001B[49m\n\u001B[1;32m   1195\u001B[0m \u001B[38;5;66;03m# Do not call functions when jit is used\u001B[39;00m\n\u001B[1;32m   1196\u001B[0m full_backward_hooks, non_full_backward_hooks \u001B[38;5;241m=\u001B[39m [], []\n",
      "Input \u001B[0;32mIn [46]\u001B[0m, in \u001B[0;36mGCN.forward\u001B[0;34m(self, graph, inputs, edge_weight)\u001B[0m\n\u001B[1;32m     12\u001B[0m h \u001B[38;5;241m=\u001B[39m \u001B[38;5;28mself\u001B[39m\u001B[38;5;241m.\u001B[39mconv1(graph, inputs, edge_weight\u001B[38;5;241m=\u001B[39mnorm_edge_weight)\n\u001B[1;32m     13\u001B[0m h \u001B[38;5;241m=\u001B[39m F\u001B[38;5;241m.\u001B[39mrelu(h)\n\u001B[0;32m---> 14\u001B[0m h \u001B[38;5;241m=\u001B[39m \u001B[38;5;28;43mself\u001B[39;49m\u001B[38;5;241;43m.\u001B[39;49m\u001B[43mconv2\u001B[49m\u001B[43m(\u001B[49m\u001B[43mgraph\u001B[49m\u001B[43m,\u001B[49m\u001B[43m \u001B[49m\u001B[43mh\u001B[49m\u001B[43m,\u001B[49m\u001B[43m \u001B[49m\u001B[43medge_weight\u001B[49m\u001B[38;5;241;43m=\u001B[39;49m\u001B[43mnorm_edge_weight\u001B[49m\u001B[43m)\u001B[49m\n\u001B[1;32m     15\u001B[0m \u001B[38;5;28;01mreturn\u001B[39;00m h\n",
      "File \u001B[0;32m/usr/local/lib/python3.10/dist-packages/torch/nn/modules/module.py:1194\u001B[0m, in \u001B[0;36mModule._call_impl\u001B[0;34m(self, *input, **kwargs)\u001B[0m\n\u001B[1;32m   1190\u001B[0m \u001B[38;5;66;03m# If we don't have any hooks, we want to skip the rest of the logic in\u001B[39;00m\n\u001B[1;32m   1191\u001B[0m \u001B[38;5;66;03m# this function, and just call forward.\u001B[39;00m\n\u001B[1;32m   1192\u001B[0m \u001B[38;5;28;01mif\u001B[39;00m \u001B[38;5;129;01mnot\u001B[39;00m (\u001B[38;5;28mself\u001B[39m\u001B[38;5;241m.\u001B[39m_backward_hooks \u001B[38;5;129;01mor\u001B[39;00m \u001B[38;5;28mself\u001B[39m\u001B[38;5;241m.\u001B[39m_forward_hooks \u001B[38;5;129;01mor\u001B[39;00m \u001B[38;5;28mself\u001B[39m\u001B[38;5;241m.\u001B[39m_forward_pre_hooks \u001B[38;5;129;01mor\u001B[39;00m _global_backward_hooks\n\u001B[1;32m   1193\u001B[0m         \u001B[38;5;129;01mor\u001B[39;00m _global_forward_hooks \u001B[38;5;129;01mor\u001B[39;00m _global_forward_pre_hooks):\n\u001B[0;32m-> 1194\u001B[0m     \u001B[38;5;28;01mreturn\u001B[39;00m \u001B[43mforward_call\u001B[49m\u001B[43m(\u001B[49m\u001B[38;5;241;43m*\u001B[39;49m\u001B[38;5;28;43minput\u001B[39;49m\u001B[43m,\u001B[49m\u001B[43m \u001B[49m\u001B[38;5;241;43m*\u001B[39;49m\u001B[38;5;241;43m*\u001B[39;49m\u001B[43mkwargs\u001B[49m\u001B[43m)\u001B[49m\n\u001B[1;32m   1195\u001B[0m \u001B[38;5;66;03m# Do not call functions when jit is used\u001B[39;00m\n\u001B[1;32m   1196\u001B[0m full_backward_hooks, non_full_backward_hooks \u001B[38;5;241m=\u001B[39m [], []\n",
      "File \u001B[0;32m/usr/local/lib/python3.10/dist-packages/dgl/nn/pytorch/conv/graphconv.py:431\u001B[0m, in \u001B[0;36mGraphConv.forward\u001B[0;34m(self, graph, feat, weight, edge_weight)\u001B[0m\n\u001B[1;32m    429\u001B[0m     rst \u001B[38;5;241m=\u001B[39m graph\u001B[38;5;241m.\u001B[39mdstdata[\u001B[38;5;124m'\u001B[39m\u001B[38;5;124mh\u001B[39m\u001B[38;5;124m'\u001B[39m]\n\u001B[1;32m    430\u001B[0m     \u001B[38;5;28;01mif\u001B[39;00m weight \u001B[38;5;129;01mis\u001B[39;00m \u001B[38;5;129;01mnot\u001B[39;00m \u001B[38;5;28;01mNone\u001B[39;00m:\n\u001B[0;32m--> 431\u001B[0m         rst \u001B[38;5;241m=\u001B[39m \u001B[43mth\u001B[49m\u001B[38;5;241;43m.\u001B[39;49m\u001B[43mmatmul\u001B[49m\u001B[43m(\u001B[49m\u001B[43mrst\u001B[49m\u001B[43m,\u001B[49m\u001B[43m \u001B[49m\u001B[43mweight\u001B[49m\u001B[43m)\u001B[49m\n\u001B[1;32m    433\u001B[0m \u001B[38;5;28;01mif\u001B[39;00m \u001B[38;5;28mself\u001B[39m\u001B[38;5;241m.\u001B[39m_norm \u001B[38;5;129;01min\u001B[39;00m [\u001B[38;5;124m'\u001B[39m\u001B[38;5;124mright\u001B[39m\u001B[38;5;124m'\u001B[39m, \u001B[38;5;124m'\u001B[39m\u001B[38;5;124mboth\u001B[39m\u001B[38;5;124m'\u001B[39m]:\n\u001B[1;32m    434\u001B[0m     degs \u001B[38;5;241m=\u001B[39m graph\u001B[38;5;241m.\u001B[39min_degrees()\u001B[38;5;241m.\u001B[39mfloat()\u001B[38;5;241m.\u001B[39mclamp(\u001B[38;5;28mmin\u001B[39m\u001B[38;5;241m=\u001B[39m\u001B[38;5;241m1\u001B[39m)\n",
      "\u001B[0;31mRuntimeError\u001B[0m: [enforce fail at alloc_cpu.cpp:75] err == 0. DefaultCPUAllocator: can't allocate memory: you tried to allocate 2153415372304 bytes. Error code 12 (Cannot allocate memory)"
     ]
    }
   ],
   "source": [
    "model = GCN(in_feats=n_features, hid_feats=12, out_feats=n_labels)\n",
    "opt = torch.optim.Adam(model.parameters())\n",
    "\n",
    "for epoch in range(10000):\n",
    "    model.train()\n",
    "    # forward propagation by using all nodes\n",
    "    logits = model(graph, node_features, edge_weights)\n",
    "    # compute loss\n",
    "    loss = F.cross_entropy(logits[train_mask], node_labels[train_mask].long())\n",
    "    # compute validation accuracy\n",
    "    acc = evaluate(model, graph, node_features, edge_weights, node_labels, valid_mask)\n",
    "    print(acc)\n",
    "    # backward propagation\n",
    "    opt.zero_grad()\n",
    "    loss.backward()\n",
    "    opt.step()\n",
    "    print(loss.item())\n",
    "\n",
    "    # Save model if necessary.  Omitted in this example."
   ],
   "metadata": {
    "collapsed": false
   }
  },
  {
   "cell_type": "markdown",
   "source": [
    "# Sample GNN"
   ],
   "metadata": {
    "collapsed": false
   }
  },
  {
   "cell_type": "code",
   "execution_count": 114,
   "outputs": [
    {
     "ename": "TypeError",
     "evalue": "'list' object cannot be interpreted as an integer",
     "output_type": "error",
     "traceback": [
      "\u001B[0;31m---------------------------------------------------------------------------\u001B[0m",
      "\u001B[0;31mTypeError\u001B[0m                                 Traceback (most recent call last)",
      "Input \u001B[0;32mIn [114]\u001B[0m, in \u001B[0;36m<cell line: 3>\u001B[0;34m()\u001B[0m\n\u001B[1;32m      1\u001B[0m sample_g \u001B[38;5;241m=\u001B[39m dgl\u001B[38;5;241m.\u001B[39mgraph(([\u001B[38;5;241m1\u001B[39m, \u001B[38;5;241m2\u001B[39m, \u001B[38;5;241m2\u001B[39m, \u001B[38;5;241m1\u001B[39m, \u001B[38;5;241m1\u001B[39m, \u001B[38;5;241m3\u001B[39m, \u001B[38;5;241m3\u001B[39m, \u001B[38;5;241m2\u001B[39m, \u001B[38;5;241m3\u001B[39m, \u001B[38;5;241m2\u001B[39m, \u001B[38;5;241m5\u001B[39m, \u001B[38;5;241m1\u001B[39m, \u001B[38;5;241m2\u001B[39m, \u001B[38;5;241m2\u001B[39m, \u001B[38;5;241m1\u001B[39m, \u001B[38;5;241m3\u001B[39m, \u001B[38;5;241m2\u001B[39m, \u001B[38;5;241m5\u001B[39m],[\u001B[38;5;241m0\u001B[39m, \u001B[38;5;241m0\u001B[39m, \u001B[38;5;241m1\u001B[39m, \u001B[38;5;241m3\u001B[39m, \u001B[38;5;241m4\u001B[39m, \u001B[38;5;241m4\u001B[39m, \u001B[38;5;241m5\u001B[39m, \u001B[38;5;241m6\u001B[39m, \u001B[38;5;241m6\u001B[39m, \u001B[38;5;241m7\u001B[39m, \u001B[38;5;241m7\u001B[39m, \u001B[38;5;241m8\u001B[39m, \u001B[38;5;241m8\u001B[39m, \u001B[38;5;241m9\u001B[39m, \u001B[38;5;241m10\u001B[39m, \u001B[38;5;241m10\u001B[39m, \u001B[38;5;241m11\u001B[39m, \u001B[38;5;241m11\u001B[39m]))\n\u001B[1;32m      2\u001B[0m sample_g\u001B[38;5;241m.\u001B[39mndata[\u001B[38;5;124m'\u001B[39m\u001B[38;5;124mfeat\u001B[39m\u001B[38;5;124m'\u001B[39m] \u001B[38;5;241m=\u001B[39m torch\u001B[38;5;241m.\u001B[39mrandn(\u001B[38;5;241m12\u001B[39m, \u001B[38;5;241m1\u001B[39m)\n\u001B[0;32m----> 3\u001B[0m sample_g\u001B[38;5;241m.\u001B[39mndata[\u001B[38;5;124m'\u001B[39m\u001B[38;5;124mlabel\u001B[39m\u001B[38;5;124m'\u001B[39m] \u001B[38;5;241m=\u001B[39m \u001B[43mtorch\u001B[49m\u001B[38;5;241;43m.\u001B[39;49m\u001B[43mtensor\u001B[49m\u001B[43m(\u001B[49m\u001B[38;5;28;43mlist\u001B[39;49m\u001B[43m(\u001B[49m\u001B[38;5;28;43mrange\u001B[39;49m\u001B[43m(\u001B[49m\u001B[38;5;241;43m8\u001B[39;49m\u001B[43m)\u001B[49m\u001B[43m)\u001B[49m\u001B[43m \u001B[49m\u001B[38;5;241;43m+\u001B[39;49m\u001B[43m \u001B[49m\u001B[43m[\u001B[49m\u001B[38;5;241;43m0\u001B[39;49m\u001B[43m,\u001B[49m\u001B[43m \u001B[49m\u001B[43m[\u001B[49m\u001B[38;5;241;43m7\u001B[39;49m\u001B[43m,\u001B[49m\u001B[38;5;241;43m1\u001B[39;49m\u001B[43m]\u001B[49m\u001B[43m,\u001B[49m\u001B[43m \u001B[49m\u001B[38;5;241;43m4\u001B[39;49m\u001B[43m,\u001B[49m\u001B[43m \u001B[49m\u001B[38;5;241;43m7\u001B[39;49m\u001B[43m]\u001B[49m\u001B[43m)\u001B[49m\n\u001B[1;32m      4\u001B[0m \u001B[38;5;66;03m#sample_g.edata['weights'] = torch.tensor([2,2,1,1,1,3,1,1,1,3,1,1,1,1,1,1,1,1]).type(torch.float32)\u001B[39;00m\n\u001B[1;32m      5\u001B[0m sample_g\u001B[38;5;241m.\u001B[39medata[\u001B[38;5;124m'\u001B[39m\u001B[38;5;124mweights\u001B[39m\u001B[38;5;124m'\u001B[39m] \u001B[38;5;241m=\u001B[39m torch\u001B[38;5;241m.\u001B[39mtensor([\u001B[38;5;241m2\u001B[39m,\u001B[38;5;241m2\u001B[39m,\u001B[38;5;241m1\u001B[39m,\u001B[38;5;241m1\u001B[39m,\u001B[38;5;241m1\u001B[39m,\u001B[38;5;241m3\u001B[39m,\u001B[38;5;241m1\u001B[39m,\u001B[38;5;241m1\u001B[39m,\u001B[38;5;241m3\u001B[39m,\u001B[38;5;241m3\u001B[39m,\u001B[38;5;241m1\u001B[39m,\u001B[38;5;241m3\u001B[39m,\u001B[38;5;241m3\u001B[39m,\u001B[38;5;241m3\u001B[39m,\u001B[38;5;241m3\u001B[39m,\u001B[38;5;241m3\u001B[39m,\u001B[38;5;241m3\u001B[39m,\u001B[38;5;241m3\u001B[39m])\u001B[38;5;241m.\u001B[39mtype(torch\u001B[38;5;241m.\u001B[39mfloat32)\n",
      "\u001B[0;31mTypeError\u001B[0m: 'list' object cannot be interpreted as an integer"
     ]
    }
   ],
   "source": [
    "sample_g = dgl.graph(([1, 2, 2, 1, 1, 3, 3, 2, 3, 2, 5, 1, 2, 2, 1, 3, 2, 5],[0, 0, 1, 3, 4, 4, 5, 6, 6, 7, 7, 8, 8, 9, 10, 10, 11, 11]))\n",
    "sample_g.ndata['feat'] = torch.randn(12, 1)\n",
    "sample_g.ndata['label'] = torch.tensor(list(range(8)) + [0, 7,1, 4, 7])\n",
    "#sample_g.edata['weights'] = torch.tensor([2,2,1,1,1,3,1,1,1,3,1,1,1,1,1,1,1,1]).type(torch.float32)\n",
    "sample_g.edata['weights'] = torch.tensor([2,2,1,1,1,3,1,1,3,3,1,3,3,3,3,3,3,3]).type(torch.float32)\n",
    "t_mask = torch.zeros(12, dtype=torch.bool)\n",
    "v_mask = torch.zeros(12, dtype=torch.bool)\n",
    "t_mask[:8] = True\n",
    "v_mask[8:] = True\n",
    "sample_g.ndata['train_mask'] = t_mask\n",
    "sample_g.ndata['val_mask'] = v_mask\n",
    "sample_g.ndata['test_mask'] = v_mask\n",
    "#sample_g = dgl.add_self_loop(sample_g)"
   ],
   "metadata": {
    "collapsed": false
   }
  },
  {
   "cell_type": "code",
   "execution_count": 97,
   "outputs": [
    {
     "data": {
      "text/plain": "tensor([4., 4., 4., 4., 4.])"
     },
     "execution_count": 97,
     "metadata": {},
     "output_type": "execute_result"
    }
   ],
   "source": [
    "a = torch.ones(4,5)\n",
    "torch.sum(a, dim=0)"
   ],
   "metadata": {
    "collapsed": false
   }
  },
  {
   "cell_type": "code",
   "execution_count": 70,
   "outputs": [
    {
     "data": {
      "text/plain": "torch.Size([2, 5, 5])"
     },
     "execution_count": 70,
     "metadata": {},
     "output_type": "execute_result"
    }
   ],
   "source": [
    "merged_tensor = [torch.zeros(5,5), torch.zeros(5,5)]\n",
    "torch.stack(merged_tensor, dim=0).shape"
   ],
   "metadata": {
    "collapsed": false
   }
  },
  {
   "cell_type": "code",
   "execution_count": 46,
   "outputs": [
    {
     "data": {
      "text/plain": "tensor([[ 1.5373],\n        [-0.9285],\n        [-0.6500],\n        [ 1.0641],\n        [ 0.8817]])"
     },
     "execution_count": 46,
     "metadata": {},
     "output_type": "execute_result"
    }
   ],
   "source": [
    "torch.randn(5,1)"
   ],
   "metadata": {
    "collapsed": false
   }
  },
  {
   "cell_type": "code",
   "execution_count": 79,
   "outputs": [
    {
     "name": "stderr",
     "output_type": "stream",
     "text": [
      "/usr/local/lib/python3.10/dist-packages/dgl/heterograph.py:72: DGLWarning: Recommend creating graphs by `dgl.graph(data)` instead of `dgl.DGLGraph(data)`.\n",
      "  dgl_warning('Recommend creating graphs by `dgl.graph(data)`'\n"
     ]
    }
   ],
   "source": [
    "sample_g = dgl.DGLGraph()\n",
    "sample_g.add_nodes(6)\n",
    "sample_g.add_edges([0,1,0,1,0],[1,2,3,4,5])\n",
    "#label_tensor = torch.tensor([0,1,2,1,2])\n",
    "label_tensor = torch.tensor([0,1,2,1,2,3])\n",
    "feature_tensor = []\n",
    "\"\"\"\n",
    "for x in range(5):\n",
    "    single_feature_vector = torch.zeros(5,4)\n",
    "    for index in sample_g.in_edges(x):\n",
    "        for i in index:\n",
    "            #if i.item() == x:\n",
    "            #    continue\n",
    "            single_feature_vector[i.item()] = label_tensor[i.item()]\n",
    "    feature_tensor.append(torch.sum(single_feature_vector, dim=0))\n",
    "\"\"\"\n",
    "\n",
    "sample_g.ndata['feat'] = torch.randn(6,1)\n",
    "sample_g.ndata['label'] = label_tensor\n",
    "t_mask = torch.zeros(6, dtype=torch.bool)\n",
    "v_mask = torch.zeros(6, dtype=torch.bool)\n",
    "t_mask[1:3] = True\n",
    "v_mask[3:] = True\n",
    "sample_g.ndata['train_mask'] = t_mask\n",
    "sample_g.ndata['val_mask'] = v_mask\n",
    "sample_g.ndata['test_mask'] = v_mask\n",
    "#g = sample_g.add_self_loop()\n",
    "g = sample_g"
   ],
   "metadata": {
    "collapsed": false
   }
  },
  {
   "cell_type": "code",
   "execution_count": 80,
   "outputs": [
    {
     "data": {
      "text/plain": "tensor([False,  True,  True, False, False, False])"
     },
     "execution_count": 80,
     "metadata": {},
     "output_type": "execute_result"
    }
   ],
   "source": [
    "t_mask"
   ],
   "metadata": {
    "collapsed": false
   }
  },
  {
   "cell_type": "code",
   "execution_count": 81,
   "outputs": [
    {
     "name": "stdout",
     "output_type": "stream",
     "text": [
      "tensor([1, 2, 0, 2, 0, 2])\n",
      "tensor([1, 2, 2, 2, 2, 2])\n",
      "tensor([1, 2, 2, 2, 2, 2])\n",
      "tensor([1, 2, 2, 2, 2, 2])\n",
      "tensor([1, 2, 2, 2, 2, 2])\n",
      "tensor([1, 2, 2, 2, 2, 2])\n",
      "tensor([1, 2, 2, 2, 2, 2])\n",
      "tensor([1, 2, 2, 2, 2, 2])\n",
      "tensor([1, 1, 2, 1, 2, 1])\n",
      "tensor([1, 1, 2, 1, 2, 1])\n",
      "tensor([1, 1, 2, 1, 2, 1])\n",
      "tensor([1, 1, 2, 1, 2, 1])\n",
      "tensor([1, 1, 2, 1, 2, 1])\n",
      "tensor([1, 1, 2, 1, 2, 1])\n",
      "tensor([1, 1, 2, 1, 2, 1])\n",
      "tensor([1, 1, 2, 1, 2, 1])\n",
      "tensor([1, 1, 2, 1, 2, 1])\n",
      "tensor([1, 1, 2, 1, 2, 1])\n",
      "tensor([1, 1, 2, 1, 2, 1])\n",
      "tensor([1, 1, 2, 1, 2, 1])\n",
      "tensor([1, 1, 2, 1, 2, 1])\n",
      "tensor([1, 1, 2, 1, 2, 1])\n",
      "tensor([1, 1, 2, 1, 2, 1])\n",
      "tensor([1, 1, 2, 1, 2, 1])\n",
      "tensor([1, 1, 2, 1, 2, 1])\n",
      "tensor([1, 1, 2, 1, 2, 1])\n",
      "tensor([1, 1, 2, 1, 2, 1])\n",
      "tensor([1, 1, 2, 1, 2, 1])\n",
      "tensor([1, 1, 2, 1, 2, 1])\n",
      "tensor([1, 1, 2, 1, 2, 1])\n",
      "tensor([1, 1, 2, 1, 2, 1])\n",
      "tensor([1, 1, 2, 1, 2, 1])\n",
      "tensor([1, 1, 2, 1, 2, 1])\n",
      "tensor([1, 1, 2, 1, 2, 1])\n",
      "tensor([1, 1, 2, 1, 2, 1])\n",
      "tensor([1, 1, 2, 1, 2, 1])\n",
      "tensor([1, 1, 2, 1, 2, 1])\n",
      "tensor([1, 1, 2, 1, 2, 1])\n",
      "tensor([1, 1, 2, 1, 2, 1])\n",
      "tensor([1, 1, 2, 1, 2, 1])\n",
      "tensor([1, 1, 2, 1, 2, 1])\n",
      "tensor([1, 1, 2, 1, 2, 1])\n",
      "tensor([1, 1, 2, 1, 2, 1])\n",
      "tensor([1, 1, 2, 1, 2, 1])\n",
      "tensor([1, 1, 2, 1, 2, 1])\n",
      "tensor([1, 1, 2, 1, 2, 1])\n",
      "tensor([1, 1, 2, 1, 2, 1])\n",
      "tensor([1, 1, 2, 1, 2, 1])\n",
      "tensor([1, 1, 2, 1, 2, 1])\n",
      "tensor([1, 1, 2, 1, 2, 1])\n",
      "tensor([1, 1, 2, 1, 2, 1])\n",
      "tensor([1, 1, 2, 1, 2, 1])\n",
      "tensor([1, 1, 2, 1, 2, 1])\n",
      "tensor([1, 1, 2, 1, 2, 1])\n",
      "tensor([1, 1, 2, 1, 2, 1])\n",
      "tensor([1, 1, 2, 1, 2, 1])\n",
      "tensor([1, 1, 2, 1, 2, 1])\n",
      "tensor([1, 1, 2, 1, 2, 1])\n",
      "tensor([1, 1, 2, 1, 2, 1])\n",
      "tensor([1, 1, 2, 1, 2, 1])\n",
      "tensor([1, 1, 2, 1, 2, 1])\n",
      "tensor([1, 1, 2, 1, 2, 1])\n",
      "tensor([1, 1, 2, 1, 2, 1])\n",
      "tensor([1, 1, 2, 1, 2, 1])\n",
      "tensor([1, 1, 2, 1, 2, 1])\n",
      "tensor([1, 1, 2, 1, 2, 1])\n",
      "tensor([1, 1, 2, 1, 2, 1])\n",
      "tensor([1, 1, 2, 1, 2, 1])\n",
      "tensor([1, 1, 2, 1, 2, 1])\n",
      "tensor([1, 1, 2, 1, 2, 1])\n",
      "tensor([1, 1, 2, 1, 2, 1])\n",
      "tensor([1, 1, 2, 1, 2, 1])\n",
      "tensor([1, 1, 2, 1, 2, 1])\n",
      "tensor([1, 1, 2, 1, 2, 1])\n",
      "tensor([1, 1, 2, 1, 2, 1])\n",
      "tensor([1, 1, 2, 1, 2, 1])\n",
      "tensor([1, 1, 2, 1, 2, 1])\n",
      "tensor([1, 1, 2, 1, 2, 1])\n",
      "tensor([1, 1, 2, 1, 2, 1])\n",
      "tensor([1, 1, 2, 1, 2, 1])\n",
      "tensor([1, 1, 2, 1, 2, 1])\n",
      "tensor([1, 1, 2, 1, 2, 1])\n",
      "tensor([1, 1, 2, 1, 2, 1])\n",
      "tensor([1, 1, 2, 1, 2, 1])\n",
      "tensor([1, 1, 2, 1, 2, 1])\n",
      "tensor([1, 1, 2, 1, 2, 1])\n",
      "tensor([1, 1, 2, 1, 2, 1])\n",
      "tensor([1, 1, 2, 1, 2, 1])\n",
      "tensor([1, 1, 2, 1, 2, 1])\n",
      "tensor([1, 1, 2, 1, 2, 1])\n",
      "tensor([1, 1, 2, 1, 2, 1])\n",
      "tensor([1, 1, 2, 1, 2, 1])\n",
      "tensor([1, 1, 2, 1, 2, 1])\n",
      "tensor([1, 1, 2, 1, 2, 1])\n",
      "tensor([1, 1, 2, 1, 2, 1])\n",
      "tensor([1, 1, 2, 1, 2, 1])\n",
      "tensor([1, 1, 2, 1, 2, 1])\n",
      "tensor([1, 1, 2, 1, 2, 1])\n",
      "tensor([1, 1, 2, 1, 2, 1])\n",
      "tensor([1, 1, 2, 1, 2, 1])\n"
     ]
    }
   ],
   "source": [
    "import dgl\n",
    "import torch\n",
    "import torch.nn as nn\n",
    "\n",
    "# Define the model\n",
    "class GraphClassificationModel(nn.Module):\n",
    "    def __init__(self, in_dim, hidden_dim, out_dim):\n",
    "        super(GraphClassificationModel, self).__init__()\n",
    "        self.conv1 = GraphConv(in_dim, hidden_dim, allow_zero_in_degree=True)\n",
    "        self.conv2 = GraphConv(hidden_dim, out_dim, allow_zero_in_degree=True)\n",
    "\n",
    "\n",
    "    def forward(self, g, features):\n",
    "        h = features\n",
    "        h = self.conv1(g, features)\n",
    "        h = F.relu(h)\n",
    "        h = self.conv2(g, h)\n",
    "        return h\n",
    "\n",
    "# Initialize the model and the loss function\n",
    "model = GraphClassificationModel(1, 10, 5)\n",
    "\n",
    "# Define the optimizer\n",
    "optimizer = torch.optim.Adam(model.parameters(), lr=0.01)\n",
    "\n",
    "# Training loop\n",
    "for epoch in range(1000):\n",
    "    logits = model(g, g.ndata['feat'])\n",
    "    loss = F.cross_entropy(logits[g.ndata['train_mask']], g.ndata['label'][g.ndata['train_mask']])\n",
    "\n",
    "    optimizer.zero_grad()\n",
    "    loss.backward()\n",
    "    optimizer.step()\n",
    "\n",
    "    if epoch % 10 == 0:\n",
    "    # Evaluation loop\n",
    "        with torch.no_grad():\n",
    "            logits = model(g, g.ndata['feat'])\n",
    "            pred = logits.argmax(1)\n",
    "            print(logits.argmax(1))\n",
    "            #train_acc = (logits[g.ndata['train_mask']] > 0).long().eq(g.ndata['label'][g.ndata['train_mask']]).float().mean()\n",
    "            #train_acc = (pred[train_mask] == g.ndata['label'][train_mask]).float().mean()\n",
    "            #print((logits[g.ndata['train_mask']] > 0).long())\n",
    "\n",
    "            #print(train_acc)\n",
    "            #print(train_acc)\n",
    "            #val_acc = (logits[g.ndata['val_mask']] > 0).long().eq(g.ndata['label'][g.ndata['val_mask']]).float().mean()\n",
    "            #print((logits[g.ndata['val_mask']] > 0).long())\n",
    "            #print(f'Epoch {epoch}: loss={loss:.4f}, train_acc={train_acc:.4f}, val_acc={val_acc:.4f}')\n",
    "\n",
    "\n",
    "# Test the model on the test set\n",
    "#test_acc = (logits[g.ndata['test_mask']] > 0).long().eq(g.ndata['label'][g.ndata['test_mask']]).float().mean()\n",
    "#print(f'Test accuracy: {test_acc:.4f}')\n"
   ],
   "metadata": {
    "collapsed": false
   }
  },
  {
   "cell_type": "code",
   "execution_count": null,
   "outputs": [],
   "source": [],
   "metadata": {
    "collapsed": false
   }
  }
 ],
 "metadata": {
  "kernelspec": {
   "display_name": "Python 3",
   "language": "python",
   "name": "python3"
  },
  "language_info": {
   "codemirror_mode": {
    "name": "ipython",
    "version": 2
   },
   "file_extension": ".py",
   "mimetype": "text/x-python",
   "name": "python",
   "nbconvert_exporter": "python",
   "pygments_lexer": "ipython2",
   "version": "2.7.6"
  }
 },
 "nbformat": 4,
 "nbformat_minor": 0
}
