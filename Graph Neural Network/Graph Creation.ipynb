{
 "cells": [
  {
   "cell_type": "code",
   "execution_count": 5,
   "metadata": {
    "collapsed": true
   },
   "outputs": [
    {
     "name": "stderr",
     "output_type": "stream",
     "text": [
      "[nltk_data] Downloading package punkt to /home/david/nltk_data...\n",
      "[nltk_data]   Package punkt is already up-to-date!\n",
      "[nltk_data] Downloading package stopwords to /home/david/nltk_data...\n",
      "[nltk_data]   Package stopwords is already up-to-date!\n"
     ]
    }
   ],
   "source": [
    "import pandas as pd\n",
    "import torch\n",
    "import mysql.connector\n",
    "import dgl.data\n",
    "import numpy as np\n",
    "from dgl import save_graphs, load_graphs\n",
    "import torch as th\n",
    "import gensim\n",
    "import nltk\n",
    "nltk.download('punkt')\n",
    "from nltk.corpus import stopwords\n",
    "nltk.download('stopwords')\n",
    "import requests\n",
    "import time\n",
    "#from transformers import *\n",
    "\n",
    "#tokenizer = AutoTokenizer.from_pretrained('allenai/scibert_scivocab_uncased')\n",
    "#model = AutoModel.from_pretrained('allenai/scibert_scivocab_uncased')"
   ]
  },
  {
   "cell_type": "code",
   "execution_count": 6,
   "outputs": [
    {
     "ename": "NameError",
     "evalue": "name 'tokenizer' is not defined",
     "output_type": "error",
     "traceback": [
      "\u001B[0;31m---------------------------------------------------------------------------\u001B[0m",
      "\u001B[0;31mNameError\u001B[0m                                 Traceback (most recent call last)",
      "Input \u001B[0;32mIn [6]\u001B[0m, in \u001B[0;36m<cell line: 2>\u001B[0;34m()\u001B[0m\n\u001B[1;32m      1\u001B[0m input_text \u001B[38;5;241m=\u001B[39m \u001B[38;5;124m\"\u001B[39m\u001B[38;5;124mThis is another example sentence.\u001B[39m\u001B[38;5;124m\"\u001B[39m\n\u001B[0;32m----> 2\u001B[0m tokenized_input \u001B[38;5;241m=\u001B[39m \u001B[43mtokenizer\u001B[49m\u001B[38;5;241m.\u001B[39mencode_plus(input_text, return_tensors\u001B[38;5;241m=\u001B[39m\u001B[38;5;124m'\u001B[39m\u001B[38;5;124mpt\u001B[39m\u001B[38;5;124m'\u001B[39m)\n",
      "\u001B[0;31mNameError\u001B[0m: name 'tokenizer' is not defined"
     ]
    }
   ],
   "source": [
    "input_text = \"This is another example sentence.\"\n",
    "tokenized_input = tokenizer.encode_plus(input_text, return_tensors='pt')"
   ],
   "metadata": {
    "collapsed": false
   }
  },
  {
   "cell_type": "code",
   "execution_count": null,
   "outputs": [],
   "source": [
    "outputs = model(**tokenized_input)"
   ],
   "metadata": {
    "collapsed": false
   }
  },
  {
   "cell_type": "code",
   "execution_count": null,
   "outputs": [],
   "source": [
    "outputs[1].shape"
   ],
   "metadata": {
    "collapsed": false
   }
  },
  {
   "cell_type": "markdown",
   "source": [
    "# Connect to database"
   ],
   "metadata": {
    "collapsed": false
   }
  },
  {
   "cell_type": "code",
   "execution_count": 7,
   "outputs": [],
   "source": [
    "cnx = mysql.connector.connect(user='david', password='daviddung1993',\n",
    "                          host='127.0.0.1',\n",
    "                          database='computervision')\n",
    "cursor = cnx.cursor()\n",
    "headers = {\"x-api-key\": \"M7HSjQNeTfai6l7JUiDZB8XYc85BHnHt3R0NXSEd\"}"
   ],
   "metadata": {
    "collapsed": false
   }
  },
  {
   "cell_type": "code",
   "execution_count": 8,
   "outputs": [],
   "source": [
    "test_papers = []\n",
    "with open(r'./test_papers.txt', 'r') as fp:\n",
    "    for line in fp:\n",
    "        x = line[:-1]\n",
    "        test_papers.append(x)\n",
    "in_params_test = ','.join(['%s'] * len(test_papers))\n",
    "\n",
    "train_papers = []\n",
    "with open(r'./train_papers.txt', 'r') as fp:\n",
    "    for line in fp:\n",
    "        x = line[:-1]\n",
    "        train_papers.append(x)\n",
    "\n",
    "total_papers = train_papers + test_papers\n",
    "in_params_train = ','.join(['%s'] * len(train_papers))\n",
    "\n",
    "val_papers = []\n",
    "with open(r'./val_papers.txt', 'r') as fp:\n",
    "    for line in fp:\n",
    "        x = line[:-1]\n",
    "        val_papers.append(x)\n",
    "\n",
    "in_params_val = ','.join(['%s'] * len(val_papers))\n",
    "in_params = ','.join(['%s'] * len(train_papers + test_papers))"
   ],
   "metadata": {
    "collapsed": false
   }
  },
  {
   "cell_type": "markdown",
   "source": [
    "## Fetch Data primary"
   ],
   "metadata": {
    "collapsed": false
   }
  },
  {
   "cell_type": "code",
   "execution_count": 9,
   "outputs": [],
   "source": [
    "def remap(x, mapping):\n",
    "    return mapping.get(x, x)"
   ],
   "metadata": {
    "collapsed": false
   }
  },
  {
   "cell_type": "code",
   "execution_count": 10,
   "outputs": [],
   "source": [
    "cursor.execute(\"select b.ReferenceID, b.ReferencedByID from referencedBy b, Papers p where b.ReferencedByID in (%s) and b.ReferenceID = p.PaperID and p.`primary author` in (select AuthorID from affiliatedTo) and b.ReferenceID in (select PaperID from Papers) and b.ReferencedByID in (select PaperID from Papers)\" % in_params, total_papers)\n",
    "paper_edges = np.array(cursor.fetchall())\n",
    "all_papers = np.unique(paper_edges)\n",
    "\n",
    "remapped_papers = {all_papers[i]: i  for i in range(len(all_papers))}\n",
    "vec_remap = np.vectorize(remap, otypes=[str])\n",
    "paper_edges = vec_remap(paper_edges, remapped_papers)\n",
    "\n",
    "all_papers_list = all_papers.tolist()\n",
    "all_params = ','.join(['%s'] * len(all_papers_list))\n",
    "\n",
    "cursor.execute(\"select p.PaperID, p.`primary author`, a.Gender, p.Title from Papers p, Authors a where p.PaperID in (%s) and p.`primary author` in (select AuthorID from affiliatedTo) and p.`primary author` = a.AuthorID\" % all_params, all_papers_list)\n",
    "#cursor.execute(\"select p.PaperID, a.AuthorID, a.Gender, p.Title from Papers p, Authors a, authoredBy ab where p.PaperID in (%s) and p.PaperID = ab.PaperID and ab.AuthoredByID = a.AuthorID\" % all_params, all_papers_list) #and a.AuthorID in (select AuthorID from affiliatedTo)\n",
    "author_edges = np.array(cursor.fetchall())\n",
    "\n",
    "all_authors = np.unique(author_edges[:,1])\n",
    "remapped_authors = {all_authors[i]: i  for i in range(len(all_authors))}\n",
    "\n",
    "author_edges[:,1] = vec_remap(author_edges[:,1], remapped_authors)\n",
    "author_edges[:,0] = vec_remap(author_edges[:,0], remapped_papers)"
   ],
   "metadata": {
    "collapsed": false
   }
  },
  {
   "cell_type": "code",
   "execution_count": 12,
   "outputs": [
    {
     "data": {
      "text/plain": "36167"
     },
     "execution_count": 12,
     "metadata": {},
     "output_type": "execute_result"
    }
   ],
   "source": [
    "len(all_papers)"
   ],
   "metadata": {
    "collapsed": false
   }
  },
  {
   "cell_type": "markdown",
   "source": [
    "## Create features for each node"
   ],
   "metadata": {
    "collapsed": false
   }
  },
  {
   "cell_type": "code",
   "execution_count": 15,
   "outputs": [],
   "source": [
    "model_path = './GoogleNews-vectors-negative300.bin'\n",
    "model = gensim.models.KeyedVectors.load_word2vec_format(model_path, binary=True)"
   ],
   "metadata": {
    "collapsed": false
   }
  },
  {
   "cell_type": "code",
   "execution_count": 36,
   "outputs": [],
   "source": [
    "def title_to_vec(title):\n",
    "    title = title.replace(\"-\", \" \")\n",
    "    tokens = nltk.word_tokenize(title)\n",
    "    tokens = [token for token in tokens if token.lower() not in stop_words]\n",
    "    vectors = []\n",
    "    for word in tokens:\n",
    "        try:\n",
    "            vec = model[word.lower()]\n",
    "            vectors.append(vec)\n",
    "        except KeyError:\n",
    "            #print(word)\n",
    "            continue\n",
    "    title_vector = np.zeros(300)\n",
    "    try:\n",
    "        title_vector = sum(vectors) / len(vectors)\n",
    "    except ZeroDivisionError:\n",
    "        pass\n",
    "    return title_vector"
   ],
   "metadata": {
    "collapsed": false
   }
  },
  {
   "cell_type": "code",
   "execution_count": 37,
   "outputs": [],
   "source": [
    "all_papers_info = pd.DataFrame(author_edges)\n",
    "all_papers_info[0] = all_papers_info[0].astype(int)\n",
    "all_papers_info = all_papers_info.sort_values(0)\n",
    "paper_feats = []\n",
    "stop_words = set(stopwords.words('english'))\n",
    "for title in all_papers_info[3]:\n",
    "    title_vec = title_to_vec(title)\n",
    "    paper_feats.append(title_vec)\n",
    "paper_feats = torch.tensor(paper_feats)"
   ],
   "metadata": {
    "collapsed": false
   }
  },
  {
   "cell_type": "code",
   "execution_count": 41,
   "outputs": [],
   "source": [
    "headers = {\"x-api-key\": \"M7HSjQNeTfai6l7JUiDZB8XYc85BHnHt3R0NXSEd\"}"
   ],
   "metadata": {
    "collapsed": false
   }
  },
  {
   "cell_type": "code",
   "execution_count": 42,
   "outputs": [],
   "source": [
    "def request_author_information(authors):\n",
    "    resp = requests.post(\"https://api.semanticscholar.org/graph/v1/author/batch?fields=papers.title,affiliations,paperCount,citationCount,hIndex\", headers=headers, json={\"ids\": authors}).json()\n",
    "    return resp\n",
    "\n",
    "def request_author_individual_dfinformation(author):\n",
    "    resp = requests.get(f\"https://api.semanticscholar.org/graph/v1/author/{author}?fields=papers.title,paperCount,citationCount,hIndex\", headers=headers).json()\n",
    "    return resp\n",
    "\n",
    "def convert_history_to_vector(response):\n",
    "    if not response:\n",
    "        author_hist = np.zeros(300)\n",
    "        author_hist = np.append(author_hist, [0,0,0])\n",
    "        return author_hist\n",
    "\n",
    "    author_papers = response[\"papers\"]\n",
    "    author_hist = []\n",
    "\n",
    "    for paper in author_papers:\n",
    "        paperID = paper[\"paperId\"]\n",
    "        if paperID in test_papers:\n",
    "            continue\n",
    "        title = paper[\"title\"]\n",
    "        title_vect = title_to_vec(title)\n",
    "        if np.count_nonzero(title_vect) > 0:\n",
    "            author_hist.append(title_vect)\n",
    "    if len(author_hist) != 0:\n",
    "        author_hist = np.mean(np.array(author_hist), axis=0)\n",
    "    else:\n",
    "        author_hist = np.zeros(300)\n",
    "\n",
    "    author_paperCount = response[\"paperCount\"]\n",
    "    author_citationCount = response[\"citationCount\"]\n",
    "    author_hIndex = response[\"hIndex\"]\n",
    "    author_hist = np.append(author_hist, [author_paperCount, author_citationCount, author_hIndex])\n",
    "\n",
    "    return author_hist"
   ],
   "metadata": {
    "collapsed": false
   }
  },
  {
   "cell_type": "code",
   "execution_count": 43,
   "outputs": [],
   "source": [
    "# Pop one element\n",
    "author_bug = request_author_individual_dfinformation(\"47399096\")\n",
    "all_authors = np.delete(all_authors, 15905)"
   ],
   "metadata": {
    "collapsed": false
   }
  },
  {
   "cell_type": "code",
   "execution_count": 13,
   "outputs": [
    {
     "data": {
      "text/plain": "'47399096'"
     },
     "execution_count": 13,
     "metadata": {},
     "output_type": "execute_result"
    }
   ],
   "source": [
    "all_authors[15905]"
   ],
   "metadata": {
    "collapsed": false
   }
  },
  {
   "cell_type": "code",
   "execution_count": 44,
   "outputs": [
    {
     "name": "stdout",
     "output_type": "stream",
     "text": [
      "0/50766\n",
      "100/50766\n",
      "200/50766\n",
      "300/50766\n",
      "400/50766\n",
      "500/50766\n",
      "600/50766\n",
      "700/50766\n",
      "800/50766\n",
      "900/50766\n",
      "1000/50766\n",
      "1100/50766\n",
      "1200/50766\n",
      "1300/50766\n",
      "1400/50766\n",
      "1500/50766\n",
      "1600/50766\n",
      "1700/50766\n",
      "1800/50766\n",
      "1900/50766\n",
      "2000/50766\n",
      "2100/50766\n",
      "2200/50766\n",
      "2300/50766\n",
      "2400/50766\n",
      "2500/50766\n",
      "2600/50766\n",
      "2700/50766\n",
      "2800/50766\n",
      "2900/50766\n",
      "3000/50766\n",
      "3100/50766\n",
      "3200/50766\n",
      "3300/50766\n",
      "3400/50766\n",
      "3500/50766\n",
      "3600/50766\n",
      "3700/50766\n",
      "3800/50766\n",
      "3900/50766\n",
      "4000/50766\n",
      "4100/50766\n",
      "4200/50766\n",
      "4300/50766\n",
      "4400/50766\n",
      "4500/50766\n",
      "4600/50766\n",
      "4700/50766\n",
      "4800/50766\n",
      "4900/50766\n",
      "5000/50766\n",
      "5100/50766\n",
      "5200/50766\n",
      "5300/50766\n",
      "5400/50766\n",
      "5500/50766\n",
      "5600/50766\n",
      "5700/50766\n",
      "5800/50766\n",
      "5900/50766\n",
      "6000/50766\n",
      "6100/50766\n",
      "6200/50766\n",
      "6300/50766\n",
      "6400/50766\n",
      "6500/50766\n",
      "6600/50766\n",
      "6700/50766\n",
      "6800/50766\n",
      "6900/50766\n",
      "7000/50766\n",
      "7100/50766\n",
      "7200/50766\n",
      "7300/50766\n",
      "7400/50766\n",
      "7500/50766\n",
      "7600/50766\n",
      "7700/50766\n",
      "7800/50766\n",
      "7900/50766\n",
      "8000/50766\n",
      "8100/50766\n",
      "8200/50766\n",
      "8300/50766\n",
      "8400/50766\n",
      "8500/50766\n",
      "8600/50766\n",
      "8700/50766\n",
      "8800/50766\n",
      "8900/50766\n",
      "9000/50766\n",
      "9100/50766\n",
      "9200/50766\n",
      "9300/50766\n",
      "9400/50766\n",
      "9500/50766\n",
      "9600/50766\n",
      "9700/50766\n",
      "9800/50766\n",
      "9900/50766\n",
      "10000/50766\n",
      "10100/50766\n",
      "10200/50766\n",
      "10300/50766\n",
      "10400/50766\n",
      "10500/50766\n",
      "10600/50766\n",
      "10700/50766\n",
      "10800/50766\n",
      "10900/50766\n",
      "11000/50766\n",
      "11100/50766\n",
      "11200/50766\n",
      "11300/50766\n",
      "11400/50766\n",
      "11500/50766\n",
      "11600/50766\n",
      "11700/50766\n",
      "11800/50766\n",
      "11900/50766\n",
      "12000/50766\n",
      "12100/50766\n",
      "12200/50766\n",
      "12300/50766\n",
      "12400/50766\n",
      "12500/50766\n",
      "12600/50766\n",
      "12700/50766\n",
      "12800/50766\n",
      "12900/50766\n",
      "13000/50766\n",
      "13100/50766\n",
      "13200/50766\n",
      "13300/50766\n",
      "13400/50766\n",
      "13500/50766\n",
      "13600/50766\n",
      "13700/50766\n",
      "13800/50766\n",
      "13900/50766\n",
      "14000/50766\n",
      "14100/50766\n",
      "14200/50766\n",
      "14300/50766\n",
      "14400/50766\n",
      "14500/50766\n",
      "14600/50766\n",
      "14700/50766\n",
      "14800/50766\n",
      "14900/50766\n",
      "15000/50766\n",
      "15100/50766\n",
      "15200/50766\n",
      "15300/50766\n",
      "15400/50766\n",
      "15500/50766\n",
      "15600/50766\n",
      "15700/50766\n",
      "15800/50766\n",
      "15900/50766\n",
      "16000/50766\n",
      "16100/50766\n",
      "16200/50766\n",
      "16300/50766\n",
      "16400/50766\n",
      "16500/50766\n",
      "16600/50766\n",
      "16700/50766\n",
      "16800/50766\n",
      "16900/50766\n",
      "17000/50766\n",
      "17100/50766\n",
      "17200/50766\n",
      "17300/50766\n",
      "17400/50766\n",
      "17500/50766\n",
      "17600/50766\n",
      "17700/50766\n",
      "17800/50766\n",
      "17900/50766\n",
      "18000/50766\n",
      "18100/50766\n",
      "18200/50766\n",
      "18300/50766\n",
      "18400/50766\n",
      "18500/50766\n",
      "18600/50766\n",
      "18700/50766\n",
      "18800/50766\n",
      "18900/50766\n",
      "19000/50766\n",
      "19100/50766\n",
      "19200/50766\n",
      "19300/50766\n",
      "19400/50766\n",
      "19500/50766\n",
      "19600/50766\n",
      "19700/50766\n",
      "19800/50766\n",
      "19900/50766\n",
      "20000/50766\n",
      "20100/50766\n",
      "20200/50766\n",
      "20300/50766\n",
      "20400/50766\n",
      "20500/50766\n",
      "20600/50766\n",
      "20700/50766\n",
      "20800/50766\n",
      "20900/50766\n",
      "21000/50766\n",
      "21100/50766\n",
      "21200/50766\n",
      "21300/50766\n",
      "21400/50766\n",
      "21500/50766\n",
      "21600/50766\n",
      "21700/50766\n",
      "21800/50766\n",
      "21900/50766\n",
      "22000/50766\n",
      "22100/50766\n",
      "22200/50766\n",
      "22300/50766\n",
      "22400/50766\n",
      "22500/50766\n",
      "22600/50766\n",
      "22700/50766\n",
      "22800/50766\n",
      "22900/50766\n",
      "23000/50766\n",
      "23100/50766\n",
      "23200/50766\n",
      "23300/50766\n",
      "23400/50766\n",
      "23500/50766\n",
      "23600/50766\n",
      "23700/50766\n",
      "23800/50766\n",
      "23900/50766\n",
      "24000/50766\n",
      "24100/50766\n",
      "24200/50766\n",
      "24300/50766\n",
      "24400/50766\n",
      "24500/50766\n",
      "24600/50766\n",
      "24700/50766\n",
      "24800/50766\n",
      "24900/50766\n",
      "25000/50766\n",
      "25100/50766\n",
      "25200/50766\n",
      "25300/50766\n",
      "25400/50766\n",
      "25500/50766\n",
      "25600/50766\n",
      "25700/50766\n",
      "25800/50766\n",
      "25900/50766\n",
      "26000/50766\n",
      "26100/50766\n",
      "26200/50766\n",
      "26300/50766\n",
      "26400/50766\n",
      "26500/50766\n",
      "26600/50766\n",
      "26700/50766\n",
      "26800/50766\n",
      "26900/50766\n",
      "27000/50766\n",
      "27100/50766\n",
      "27200/50766\n",
      "27300/50766\n",
      "27400/50766\n",
      "27500/50766\n",
      "27600/50766\n",
      "27700/50766\n",
      "27800/50766\n",
      "27900/50766\n",
      "28000/50766\n",
      "28100/50766\n",
      "28200/50766\n",
      "28300/50766\n",
      "28400/50766\n",
      "28500/50766\n",
      "28600/50766\n",
      "28700/50766\n",
      "28800/50766\n",
      "28900/50766\n",
      "29000/50766\n",
      "29100/50766\n",
      "29200/50766\n",
      "29300/50766\n",
      "29400/50766\n",
      "29500/50766\n",
      "29600/50766\n",
      "29700/50766\n",
      "29800/50766\n",
      "29900/50766\n",
      "30000/50766\n",
      "30100/50766\n",
      "30200/50766\n",
      "30300/50766\n",
      "30400/50766\n",
      "30500/50766\n",
      "30600/50766\n",
      "30700/50766\n",
      "30800/50766\n",
      "30900/50766\n",
      "31000/50766\n",
      "31100/50766\n",
      "31200/50766\n",
      "31300/50766\n",
      "31400/50766\n",
      "31500/50766\n",
      "31600/50766\n",
      "31700/50766\n",
      "31800/50766\n",
      "31900/50766\n",
      "32000/50766\n",
      "32100/50766\n",
      "32200/50766\n",
      "32300/50766\n",
      "32400/50766\n",
      "32500/50766\n",
      "32600/50766\n",
      "32700/50766\n",
      "32800/50766\n",
      "32900/50766\n",
      "33000/50766\n",
      "33100/50766\n",
      "33200/50766\n",
      "33300/50766\n",
      "33400/50766\n",
      "33500/50766\n",
      "33600/50766\n",
      "33700/50766\n",
      "33800/50766\n",
      "33900/50766\n",
      "34000/50766\n",
      "34100/50766\n",
      "34200/50766\n",
      "34300/50766\n",
      "34400/50766\n",
      "34500/50766\n",
      "34600/50766\n",
      "34700/50766\n",
      "34800/50766\n",
      "34900/50766\n",
      "35000/50766\n",
      "35100/50766\n",
      "35200/50766\n",
      "35300/50766\n",
      "35400/50766\n",
      "35500/50766\n",
      "35600/50766\n",
      "35700/50766\n",
      "35800/50766\n",
      "35900/50766\n",
      "36000/50766\n",
      "36100/50766\n",
      "36200/50766\n",
      "36300/50766\n",
      "36400/50766\n",
      "36500/50766\n",
      "36600/50766\n",
      "36700/50766\n",
      "36800/50766\n",
      "36900/50766\n",
      "37000/50766\n",
      "37100/50766\n",
      "37200/50766\n",
      "37300/50766\n",
      "37400/50766\n",
      "37500/50766\n",
      "37600/50766\n",
      "37700/50766\n",
      "37800/50766\n",
      "37900/50766\n",
      "38000/50766\n",
      "38100/50766\n",
      "38200/50766\n",
      "38300/50766\n",
      "38400/50766\n",
      "38500/50766\n",
      "38600/50766\n",
      "38700/50766\n",
      "38800/50766\n",
      "38900/50766\n",
      "39000/50766\n",
      "39100/50766\n",
      "39200/50766\n",
      "39300/50766\n",
      "39400/50766\n",
      "39500/50766\n",
      "39600/50766\n",
      "39700/50766\n",
      "39800/50766\n",
      "39900/50766\n",
      "40000/50766\n",
      "40100/50766\n",
      "40200/50766\n",
      "40300/50766\n",
      "40400/50766\n",
      "40500/50766\n",
      "40600/50766\n",
      "40700/50766\n",
      "40800/50766\n",
      "40900/50766\n",
      "41000/50766\n",
      "41100/50766\n",
      "41200/50766\n",
      "41300/50766\n",
      "41400/50766\n",
      "41500/50766\n",
      "41600/50766\n",
      "41700/50766\n",
      "41800/50766\n",
      "41900/50766\n",
      "42000/50766\n",
      "42100/50766\n",
      "42200/50766\n",
      "42300/50766\n",
      "42400/50766\n",
      "42500/50766\n",
      "42600/50766\n",
      "42700/50766\n",
      "42800/50766\n",
      "42900/50766\n",
      "43000/50766\n",
      "43100/50766\n",
      "43200/50766\n",
      "43300/50766\n",
      "43400/50766\n",
      "43500/50766\n",
      "43600/50766\n",
      "43700/50766\n",
      "43800/50766\n",
      "43900/50766\n",
      "44000/50766\n",
      "44100/50766\n",
      "44200/50766\n",
      "44300/50766\n",
      "44400/50766\n"
     ]
    },
    {
     "name": "stderr",
     "output_type": "stream",
     "text": [
      "\n",
      "KeyboardInterrupt\n",
      "\n"
     ]
    }
   ],
   "source": [
    "index = 0\n",
    "start = 100\n",
    "author_feats = []\n",
    "while start*index <= len(all_authors):\n",
    "    print(f\"{start*index}/{len(all_authors)}\")\n",
    "    batch_authors = all_authors[start*index: (start*index)+start]\n",
    "    index += 1\n",
    "    while True:\n",
    "        response_batch = request_author_information(batch_authors.tolist())\n",
    "        if \"message\" not in response_batch:\n",
    "            break\n",
    "        time.sleep(3)\n",
    "\n",
    "    for response in response_batch:\n",
    "        author_hist = convert_history_to_vector(response)\n",
    "        author_feats.append(author_hist)\n",
    "        if author_hist.shape[0] != 303:\n",
    "            print(response)\n",
    "            print(author_hist.shape)"
   ],
   "metadata": {
    "collapsed": false
   }
  },
  {
   "cell_type": "code",
   "execution_count": 13,
   "outputs": [],
   "source": [
    "author_bug_vector = convert_history_to_vector(author_bug)\n",
    "author_feats = np.insert(author_feats, 15905, author_bug_vector, axis=0)"
   ],
   "metadata": {
    "collapsed": false
   }
  },
  {
   "cell_type": "code",
   "execution_count": 19,
   "outputs": [],
   "source": [
    "author_feats_vec = torch.tensor(author_feats)"
   ],
   "metadata": {
    "collapsed": false
   }
  },
  {
   "cell_type": "code",
   "execution_count": 36,
   "outputs": [
    {
     "data": {
      "text/plain": "torch.Size([18355, 3])"
     },
     "execution_count": 36,
     "metadata": {},
     "output_type": "execute_result"
    }
   ],
   "source": [
    "author_feats_vec[:,[300,301,302]].shape"
   ],
   "metadata": {
    "collapsed": false
   }
  },
  {
   "cell_type": "code",
   "execution_count": 41,
   "outputs": [],
   "source": [
    "author_feats_vec[:,[300,301,302]] = torch.nn.functional.normalize(author_feats_vec[:,[300,301,302]], dim=0)"
   ],
   "metadata": {
    "collapsed": false
   }
  },
  {
   "cell_type": "code",
   "execution_count": 43,
   "outputs": [],
   "source": [
    "cursor.execute(\"select distinct p.`primary author` from Papers p where p.PaperID in (%s)\" % in_params, total_papers)\n",
    "authors_in_question = np.array(cursor.fetchall()).flatten()"
   ],
   "metadata": {
    "collapsed": false
   }
  },
  {
   "cell_type": "markdown",
   "source": [
    "\n",
    "## Fetch the Gender"
   ],
   "metadata": {
    "collapsed": false
   }
  },
  {
   "cell_type": "code",
   "execution_count": 44,
   "outputs": [],
   "source": [
    "all_params_gender = ','.join(['%s'] * len(all_authors))"
   ],
   "metadata": {
    "collapsed": false
   }
  },
  {
   "cell_type": "code",
   "execution_count": 45,
   "outputs": [],
   "source": [
    "cursor.execute(\"select distinct AuthorID, Gender from Authors a where a.AuthorID in (%s)\" % all_params_gender, all_authors.tolist())\n",
    "gender_edges = np.array(cursor.fetchall())"
   ],
   "metadata": {
    "collapsed": false
   }
  },
  {
   "cell_type": "code",
   "execution_count": 46,
   "outputs": [],
   "source": [
    "gender_edges[:,0] = vec_remap(gender_edges[:,0], remapped_authors)"
   ],
   "metadata": {
    "collapsed": false
   }
  },
  {
   "cell_type": "markdown",
   "source": [
    "## Fetch the affiliation"
   ],
   "metadata": {
    "collapsed": false
   }
  },
  {
   "cell_type": "code",
   "execution_count": 47,
   "outputs": [],
   "source": [
    "cursor.execute(\"select p.PaperID, p.`primary author`, b.AffiliationID, b.Country from Papers p, affiliatedTo af, Affiliations b where p.PaperID in (%s) and p.`primary author` in (select AuthorID from affiliatedTo) and p.`primary author` = af.AuthorID and af.affiliatedTo = b.AffiliationID\" % all_params, all_papers_list)\n",
    "author_info = np.array(cursor.fetchall())\n",
    "\n",
    "all_affiliations = np.unique(author_info[:,2])\n",
    "remapped_affiliations = {all_affiliations[i]: i  for i in range(len(all_affiliations))}\n",
    "\n",
    "all_countries = np.unique(author_info[:,3])\n",
    "remapped_countries = {all_countries[i]: i  for i in range(len(all_countries))}\n",
    "\n",
    "author_info[:,2] = vec_remap(author_info[:,2], remapped_affiliations)\n",
    "author_info[:,3] = vec_remap(author_info[:,3], remapped_countries)\n",
    "author_info[:,1] = vec_remap(author_info[:,1], remapped_authors)\n",
    "author_info[:,0] = vec_remap(author_info[:,0], remapped_papers)\n",
    "\n",
    "affiliation_edges = author_info[:,[2,1]]\n",
    "affiliation_edges = np.unique(affiliation_edges, axis=0)\n",
    "\n",
    "country_edges = author_info[:,[3,2]]\n",
    "country_edges = np.unique(country_edges, axis=0)"
   ],
   "metadata": {
    "collapsed": false
   }
  },
  {
   "cell_type": "markdown",
   "source": [
    "# Fetch data"
   ],
   "metadata": {
    "collapsed": false
   }
  },
  {
   "cell_type": "code",
   "execution_count": 18,
   "outputs": [],
   "source": [
    "cursor.execute(\"select * from referencedBy b where b.ReferenceID in (select PaperID from Papers) and b.ReferencedByID in (select PaperID from Papers)\")\n",
    "paper_edges = np.array(cursor.fetchall())\n",
    "all_papers = np.unique(paper_edges)\n",
    "\n",
    "remapped_papers = {all_papers[i]: i  for i in range(len(all_papers))}\n",
    "vec_remap = np.vectorize(remap, otypes=[str])\n",
    "paper_edges = vec_remap(paper_edges, remapped_papers)\n",
    "\n",
    "cursor.execute(\"select a.PaperID, a.AuthoredByID, p.PaperID, p.PaperID from authoredBy a, Papers p where a.PaperID in (select PaperID from Papers) and (a.PaperID in (select ReferenceID from referencedBy) or a.PaperID in (select ReferencedByID from referencedBy)) and a.PaperID in (select p.PaperID from Papers p where p.Leaf = FALSE) and a.AuthoredByID in (select a.AuthorID from affiliatedTo a) and a.PaperID = p.PaperID\")\n",
    "\n",
    "author_edges = np.array(cursor.fetchall())\n",
    "\n",
    "all_authors = np.unique(author_edges[:,1])\n",
    "remapped_authors = {all_authors[i]: i  for i in range(len(all_authors))}\n",
    "\n",
    "author_edges[:,1] = vec_remap(author_edges[:,1], remapped_authors)\n",
    "author_edges[:,0] = vec_remap(author_edges[:,0], remapped_papers)"
   ],
   "metadata": {
    "collapsed": false
   }
  },
  {
   "cell_type": "code",
   "execution_count": 19,
   "outputs": [],
   "source": [
    "cursor.execute(\"select distinct b.AuthoredByID from Papers p, authoredBy b where p.Leaf = False and p.PaperID in (%s) and p.PaperID = b.PaperID and b.AuthoredByID in (select a.AuthorID from affiliatedTo a)\" % in_params, train_papers+test_papers)\n",
    "authors_in_question = np.array(cursor.fetchall()).flatten()"
   ],
   "metadata": {
    "collapsed": false
   }
  },
  {
   "cell_type": "markdown",
   "source": [
    "# Paper data"
   ],
   "metadata": {
    "collapsed": false
   }
  },
  {
   "cell_type": "markdown",
   "source": [
    "Since we use only paper information, we remove all other \"authoredBy\" edges"
   ],
   "metadata": {
    "collapsed": false
   }
  },
  {
   "cell_type": "code",
   "execution_count": 49,
   "outputs": [],
   "source": [
    "remapped_test_papers = th.tensor([remapped_papers[idx] for idx in test_papers])\n",
    "remapped_val_papers = th.tensor([remapped_papers[idx] for idx in val_papers])\n",
    "remapped_train_papers = th.tensor([remapped_papers[idx] for idx in train_papers])\n",
    "remapped_authors_in_question = th.tensor([remapped_authors[idx] for idx in authors_in_question])"
   ],
   "metadata": {
    "collapsed": false
   }
  },
  {
   "cell_type": "code",
   "execution_count": 50,
   "outputs": [],
   "source": [
    "hetero_graph = dgl.heterograph(\n",
    "    {\n",
    "        ('paper', 'authored', 'author'): (author_edges[:,0].astype(int), author_edges[:,1].astype(int)),\n",
    "        ('author', \"writes\", \"paper\"): (author_edges[:,1].astype(int), author_edges[:,0].astype(int)),\n",
    "        ('paper', 'cites', 'paper'): (paper_edges[:,0].astype(int), paper_edges[:,1].astype(int)),\n",
    "        ('gender', 'gendered', 'author'): (gender_edges[:,1].astype(int), gender_edges[:,0].astype(int)),\n",
    "        ('paper', 'authored_gender', 'gender'): (author_edges[:,0].astype(int), author_edges[:,2].astype(int)),\n",
    "        ('paper', 'authored_affiliation', 'affiliation'): (author_info[:,0].astype(int), author_info[:,2].astype(int)),\n",
    "        ('affiliation', 'affiliated', 'author'): (affiliation_edges[:,0].astype(int), affiliation_edges[:,1].astype(int)),\n",
    "        ('paper', 'authored_country', 'country'): (author_info[:,0].astype(int), author_info[:,3].astype(int)),\n",
    "        ('country', 'contains', 'affiliation'): (country_edges[:,0].astype(int), country_edges[:,1].astype(int))\n",
    "    }\n",
    ")\n",
    "hetero_graph.nodes['author'].data['feature'] = author_feats_vec\n",
    "hetero_graph.nodes['paper'].data['feature'] = paper_feats"
   ],
   "metadata": {
    "collapsed": false
   }
  },
  {
   "cell_type": "code",
   "execution_count": 51,
   "outputs": [
    {
     "data": {
      "text/plain": "'\\nedges = hetero_graph.edges(etype=\"authored\")\\nauthor_mask = ~torch.isin(edges[1], remapped_authors_in_question)\\npaper_edges = edges[0][author_mask]\\nauthor_edges = edges[1][author_mask]\\nauthor_ids_remove = hetero_graph.edge_ids(paper_edges, author_edges, etype=\"authored\")\\nhetero_graph = dgl.remove_edges(hetero_graph, author_ids_remove, etype=\"authored\")\\n'"
     },
     "execution_count": 51,
     "metadata": {},
     "output_type": "execute_result"
    }
   ],
   "source": [
    "\"\"\"\n",
    "edges = hetero_graph.edges(etype=\"authored\")\n",
    "author_mask = ~torch.isin(edges[1], remapped_authors_in_question)\n",
    "paper_edges = edges[0][author_mask]\n",
    "author_edges = edges[1][author_mask]\n",
    "author_ids_remove = hetero_graph.edge_ids(paper_edges, author_edges, etype=\"authored\")\n",
    "hetero_graph = dgl.remove_edges(hetero_graph, author_ids_remove, etype=\"authored\")\n",
    "\"\"\""
   ],
   "metadata": {
    "collapsed": false
   }
  },
  {
   "cell_type": "markdown",
   "source": [
    "### Split into Training, Validation, Test set"
   ],
   "metadata": {
    "collapsed": false
   }
  },
  {
   "cell_type": "markdown",
   "source": [
    "#### Train set"
   ],
   "metadata": {
    "collapsed": false
   }
  },
  {
   "cell_type": "code",
   "execution_count": 52,
   "outputs": [
    {
     "data": {
      "text/plain": "Graph(num_nodes={'affiliation': 2345, 'author': 18355, 'country': 88, 'gender': 2, 'paper': 36167},\n      num_edges={('affiliation', 'affiliated', 'author'): 18459, ('author', 'writes', 'paper'): 36167, ('country', 'contains', 'affiliation'): 2345, ('gender', 'gendered', 'author'): 18354, ('paper', 'authored', 'author'): 2385, ('paper', 'authored_affiliation', 'affiliation'): 36353, ('paper', 'authored_country', 'country'): 36353, ('paper', 'authored_gender', 'gender'): 36167, ('paper', 'cites', 'paper'): 139165},\n      metagraph=[('affiliation', 'author', 'affiliated'), ('author', 'paper', 'writes'), ('paper', 'author', 'authored'), ('paper', 'affiliation', 'authored_affiliation'), ('paper', 'country', 'authored_country'), ('paper', 'gender', 'authored_gender'), ('paper', 'paper', 'cites'), ('country', 'affiliation', 'contains'), ('gender', 'author', 'gendered')])"
     },
     "execution_count": 52,
     "metadata": {},
     "output_type": "execute_result"
    }
   ],
   "source": [
    "edges = hetero_graph.edges(etype=\"authored\")\n",
    "\n",
    "train_mask = ~torch.isin(edges[0], remapped_train_papers)\n",
    "train_src = edges[0][train_mask]\n",
    "train_dst = edges[1][train_mask]\n",
    "\n",
    "train_ids = hetero_graph.edge_ids(train_src, train_dst, etype=\"authored\")\n",
    "train_hetero_graph = dgl.remove_edges(hetero_graph, train_ids, etype=\"authored\")\n",
    "\n",
    "train_hetero_graph"
   ],
   "metadata": {
    "collapsed": false
   }
  },
  {
   "cell_type": "code",
   "execution_count": 53,
   "outputs": [
    {
     "data": {
      "text/plain": "Graph(num_nodes={'affiliation': 2345, 'author': 18355, 'country': 88, 'gender': 2, 'paper': 36167},\n      num_edges={('affiliation', 'affiliated', 'author'): 18459, ('author', 'writes', 'paper'): 36167, ('country', 'contains', 'affiliation'): 2345, ('gender', 'gendered', 'author'): 18354, ('paper', 'authored', 'author'): 2385, ('paper', 'authored_affiliation', 'affiliation'): 36353, ('paper', 'authored_country', 'country'): 36353, ('paper', 'authored_gender', 'gender'): 2385, ('paper', 'cites', 'paper'): 139165},\n      metagraph=[('affiliation', 'author', 'affiliated'), ('author', 'paper', 'writes'), ('paper', 'author', 'authored'), ('paper', 'affiliation', 'authored_affiliation'), ('paper', 'country', 'authored_country'), ('paper', 'gender', 'authored_gender'), ('paper', 'paper', 'cites'), ('country', 'affiliation', 'contains'), ('gender', 'author', 'gendered')])"
     },
     "execution_count": 53,
     "metadata": {},
     "output_type": "execute_result"
    }
   ],
   "source": [
    "edges = train_hetero_graph.edges(etype=\"authored_gender\")\n",
    "\n",
    "train_mask = ~torch.isin(edges[0], remapped_train_papers)\n",
    "train_src = edges[0][train_mask]\n",
    "train_dst = edges[1][train_mask]\n",
    "\n",
    "train_ids = train_hetero_graph.edge_ids(train_src, train_dst, etype=\"authored_gender\")\n",
    "train_hetero_graph = dgl.remove_edges(train_hetero_graph, train_ids, etype=\"authored_gender\")\n",
    "\n",
    "train_hetero_graph"
   ],
   "metadata": {
    "collapsed": false
   }
  },
  {
   "cell_type": "code",
   "execution_count": 54,
   "outputs": [
    {
     "data": {
      "text/plain": "Graph(num_nodes={'affiliation': 2345, 'author': 18355, 'country': 88, 'gender': 2, 'paper': 36167},\n      num_edges={('affiliation', 'affiliated', 'author'): 18459, ('author', 'writes', 'paper'): 36167, ('country', 'contains', 'affiliation'): 2345, ('gender', 'gendered', 'author'): 18354, ('paper', 'authored', 'author'): 2385, ('paper', 'authored_affiliation', 'affiliation'): 2385, ('paper', 'authored_country', 'country'): 36353, ('paper', 'authored_gender', 'gender'): 2385, ('paper', 'cites', 'paper'): 139165},\n      metagraph=[('affiliation', 'author', 'affiliated'), ('author', 'paper', 'writes'), ('paper', 'author', 'authored'), ('paper', 'affiliation', 'authored_affiliation'), ('paper', 'country', 'authored_country'), ('paper', 'gender', 'authored_gender'), ('paper', 'paper', 'cites'), ('country', 'affiliation', 'contains'), ('gender', 'author', 'gendered')])"
     },
     "execution_count": 54,
     "metadata": {},
     "output_type": "execute_result"
    }
   ],
   "source": [
    "edges = train_hetero_graph.edges(etype=\"authored_affiliation\")\n",
    "\n",
    "train_mask = ~torch.isin(edges[0], remapped_train_papers)\n",
    "train_src = edges[0][train_mask]\n",
    "train_dst = edges[1][train_mask]\n",
    "\n",
    "train_ids = train_hetero_graph.edge_ids(train_src, train_dst, etype=\"authored_affiliation\")\n",
    "train_hetero_graph = dgl.remove_edges(train_hetero_graph, train_ids, etype=\"authored_affiliation\")\n",
    "\n",
    "train_hetero_graph"
   ],
   "metadata": {
    "collapsed": false
   }
  },
  {
   "cell_type": "code",
   "execution_count": 55,
   "outputs": [
    {
     "data": {
      "text/plain": "Graph(num_nodes={'affiliation': 2345, 'author': 18355, 'country': 88, 'gender': 2, 'paper': 36167},\n      num_edges={('affiliation', 'affiliated', 'author'): 18459, ('author', 'writes', 'paper'): 36167, ('country', 'contains', 'affiliation'): 2345, ('gender', 'gendered', 'author'): 18354, ('paper', 'authored', 'author'): 2385, ('paper', 'authored_affiliation', 'affiliation'): 2385, ('paper', 'authored_country', 'country'): 2468, ('paper', 'authored_gender', 'gender'): 2385, ('paper', 'cites', 'paper'): 139165},\n      metagraph=[('affiliation', 'author', 'affiliated'), ('author', 'paper', 'writes'), ('paper', 'author', 'authored'), ('paper', 'affiliation', 'authored_affiliation'), ('paper', 'country', 'authored_country'), ('paper', 'gender', 'authored_gender'), ('paper', 'paper', 'cites'), ('country', 'affiliation', 'contains'), ('gender', 'author', 'gendered')])"
     },
     "execution_count": 55,
     "metadata": {},
     "output_type": "execute_result"
    }
   ],
   "source": [
    "edges = train_hetero_graph.edges(etype=\"authored_country\")\n",
    "\n",
    "train_mask = ~torch.isin(edges[0], remapped_train_papers)\n",
    "train_src = edges[0][train_mask]\n",
    "train_dst = edges[1][train_mask]\n",
    "\n",
    "train_ids = train_hetero_graph.edge_ids(train_src, train_dst, etype=\"authored_country\")\n",
    "train_hetero_graph = dgl.remove_edges(train_hetero_graph, train_ids, etype=\"authored_country\")\n",
    "\n",
    "train_hetero_graph"
   ],
   "metadata": {
    "collapsed": false
   }
  },
  {
   "cell_type": "markdown",
   "source": [
    "# Validation Set"
   ],
   "metadata": {
    "collapsed": false
   }
  },
  {
   "cell_type": "code",
   "execution_count": 56,
   "outputs": [
    {
     "data": {
      "text/plain": "Graph(num_nodes={'affiliation': 2345, 'author': 18355, 'country': 88, 'gender': 2, 'paper': 36167},\n      num_edges={('affiliation', 'affiliated', 'author'): 18459, ('author', 'writes', 'paper'): 36167, ('country', 'contains', 'affiliation'): 2345, ('gender', 'gendered', 'author'): 18354, ('paper', 'authored', 'author'): 300, ('paper', 'authored_affiliation', 'affiliation'): 36353, ('paper', 'authored_country', 'country'): 36353, ('paper', 'authored_gender', 'gender'): 36167, ('paper', 'cites', 'paper'): 139165},\n      metagraph=[('affiliation', 'author', 'affiliated'), ('author', 'paper', 'writes'), ('paper', 'author', 'authored'), ('paper', 'affiliation', 'authored_affiliation'), ('paper', 'country', 'authored_country'), ('paper', 'gender', 'authored_gender'), ('paper', 'paper', 'cites'), ('country', 'affiliation', 'contains'), ('gender', 'author', 'gendered')])"
     },
     "execution_count": 56,
     "metadata": {},
     "output_type": "execute_result"
    }
   ],
   "source": [
    "edges = hetero_graph.edges(etype=\"authored\")\n",
    "val_mask = ~torch.isin(edges[0], remapped_val_papers)\n",
    "val_src = edges[0][val_mask]\n",
    "val_dst = edges[1][val_mask]\n",
    "\n",
    "val_ids = hetero_graph.edge_ids(val_src, val_dst, etype=\"authored\")\n",
    "val_hetero_graph = dgl.remove_edges(hetero_graph, val_ids, etype=\"authored\")\n",
    "val_hetero_graph"
   ],
   "metadata": {
    "collapsed": false
   }
  },
  {
   "cell_type": "code",
   "execution_count": 57,
   "outputs": [
    {
     "data": {
      "text/plain": "Graph(num_nodes={'affiliation': 2345, 'author': 18355, 'country': 88, 'gender': 2, 'paper': 36167},\n      num_edges={('affiliation', 'affiliated', 'author'): 18459, ('author', 'writes', 'paper'): 36167, ('country', 'contains', 'affiliation'): 2345, ('gender', 'gendered', 'author'): 18354, ('paper', 'authored', 'author'): 300, ('paper', 'authored_affiliation', 'affiliation'): 36353, ('paper', 'authored_country', 'country'): 36353, ('paper', 'authored_gender', 'gender'): 300, ('paper', 'cites', 'paper'): 139165},\n      metagraph=[('affiliation', 'author', 'affiliated'), ('author', 'paper', 'writes'), ('paper', 'author', 'authored'), ('paper', 'affiliation', 'authored_affiliation'), ('paper', 'country', 'authored_country'), ('paper', 'gender', 'authored_gender'), ('paper', 'paper', 'cites'), ('country', 'affiliation', 'contains'), ('gender', 'author', 'gendered')])"
     },
     "execution_count": 57,
     "metadata": {},
     "output_type": "execute_result"
    }
   ],
   "source": [
    "edges = val_hetero_graph.edges(etype=\"authored_gender\")\n",
    "val_mask = ~torch.isin(edges[0], remapped_val_papers)\n",
    "val_src = edges[0][val_mask]\n",
    "val_dst = edges[1][val_mask]\n",
    "\n",
    "val_ids = val_hetero_graph.edge_ids(val_src, val_dst, etype=\"authored_gender\")\n",
    "val_hetero_graph = dgl.remove_edges(val_hetero_graph, val_ids, etype=\"authored_gender\")\n",
    "val_hetero_graph"
   ],
   "metadata": {
    "collapsed": false
   }
  },
  {
   "cell_type": "code",
   "execution_count": 58,
   "outputs": [
    {
     "data": {
      "text/plain": "Graph(num_nodes={'affiliation': 2345, 'author': 18355, 'country': 88, 'gender': 2, 'paper': 36167},\n      num_edges={('affiliation', 'affiliated', 'author'): 18459, ('author', 'writes', 'paper'): 36167, ('country', 'contains', 'affiliation'): 2345, ('gender', 'gendered', 'author'): 18354, ('paper', 'authored', 'author'): 300, ('paper', 'authored_affiliation', 'affiliation'): 300, ('paper', 'authored_country', 'country'): 36353, ('paper', 'authored_gender', 'gender'): 300, ('paper', 'cites', 'paper'): 139165},\n      metagraph=[('affiliation', 'author', 'affiliated'), ('author', 'paper', 'writes'), ('paper', 'author', 'authored'), ('paper', 'affiliation', 'authored_affiliation'), ('paper', 'country', 'authored_country'), ('paper', 'gender', 'authored_gender'), ('paper', 'paper', 'cites'), ('country', 'affiliation', 'contains'), ('gender', 'author', 'gendered')])"
     },
     "execution_count": 58,
     "metadata": {},
     "output_type": "execute_result"
    }
   ],
   "source": [
    "edges = val_hetero_graph.edges(etype=\"authored_affiliation\")\n",
    "val_mask = ~torch.isin(edges[0], remapped_val_papers)\n",
    "val_src = edges[0][val_mask]\n",
    "val_dst = edges[1][val_mask]\n",
    "\n",
    "val_ids = val_hetero_graph.edge_ids(val_src, val_dst, etype=\"authored_affiliation\")\n",
    "val_hetero_graph = dgl.remove_edges(val_hetero_graph, val_ids, etype=\"authored_affiliation\")\n",
    "val_hetero_graph"
   ],
   "metadata": {
    "collapsed": false
   }
  },
  {
   "cell_type": "code",
   "execution_count": 59,
   "outputs": [
    {
     "data": {
      "text/plain": "Graph(num_nodes={'affiliation': 2345, 'author': 18355, 'country': 88, 'gender': 2, 'paper': 36167},\n      num_edges={('affiliation', 'affiliated', 'author'): 18459, ('author', 'writes', 'paper'): 36167, ('country', 'contains', 'affiliation'): 2345, ('gender', 'gendered', 'author'): 18354, ('paper', 'authored', 'author'): 300, ('paper', 'authored_affiliation', 'affiliation'): 300, ('paper', 'authored_country', 'country'): 383, ('paper', 'authored_gender', 'gender'): 300, ('paper', 'cites', 'paper'): 139165},\n      metagraph=[('affiliation', 'author', 'affiliated'), ('author', 'paper', 'writes'), ('paper', 'author', 'authored'), ('paper', 'affiliation', 'authored_affiliation'), ('paper', 'country', 'authored_country'), ('paper', 'gender', 'authored_gender'), ('paper', 'paper', 'cites'), ('country', 'affiliation', 'contains'), ('gender', 'author', 'gendered')])"
     },
     "execution_count": 59,
     "metadata": {},
     "output_type": "execute_result"
    }
   ],
   "source": [
    "edges = val_hetero_graph.edges(etype=\"authored_country\")\n",
    "val_mask = ~torch.isin(edges[0], remapped_val_papers)\n",
    "val_src = edges[0][val_mask]\n",
    "val_dst = edges[1][val_mask]\n",
    "\n",
    "val_ids = val_hetero_graph.edge_ids(val_src, val_dst, etype=\"authored_country\")\n",
    "val_hetero_graph = dgl.remove_edges(val_hetero_graph, val_ids, etype=\"authored_country\")\n",
    "val_hetero_graph"
   ],
   "metadata": {
    "collapsed": false
   }
  },
  {
   "cell_type": "markdown",
   "source": [
    "## Test set"
   ],
   "metadata": {
    "collapsed": false
   }
  },
  {
   "cell_type": "code",
   "execution_count": 60,
   "outputs": [
    {
     "data": {
      "text/plain": "Graph(num_nodes={'affiliation': 2345, 'author': 18355, 'country': 88, 'gender': 2, 'paper': 36167},\n      num_edges={('affiliation', 'affiliated', 'author'): 18459, ('author', 'writes', 'paper'): 36167, ('country', 'contains', 'affiliation'): 2345, ('gender', 'gendered', 'author'): 18354, ('paper', 'authored', 'author'): 1006, ('paper', 'authored_affiliation', 'affiliation'): 36353, ('paper', 'authored_country', 'country'): 36353, ('paper', 'authored_gender', 'gender'): 36167, ('paper', 'cites', 'paper'): 139165},\n      metagraph=[('affiliation', 'author', 'affiliated'), ('author', 'paper', 'writes'), ('paper', 'author', 'authored'), ('paper', 'affiliation', 'authored_affiliation'), ('paper', 'country', 'authored_country'), ('paper', 'gender', 'authored_gender'), ('paper', 'paper', 'cites'), ('country', 'affiliation', 'contains'), ('gender', 'author', 'gendered')])"
     },
     "execution_count": 60,
     "metadata": {},
     "output_type": "execute_result"
    }
   ],
   "source": [
    "edges = hetero_graph.edges(etype=\"authored\")\n",
    "val_mask = ~torch.isin(edges[0], remapped_test_papers)\n",
    "val_src = edges[0][val_mask]\n",
    "val_dst = edges[1][val_mask]\n",
    "\n",
    "val_ids = hetero_graph.edge_ids(val_src, val_dst, etype=\"authored\")\n",
    "test_hetero_graph = dgl.remove_edges(hetero_graph, val_ids, etype=\"authored\")\n",
    "test_hetero_graph"
   ],
   "metadata": {
    "collapsed": false
   }
  },
  {
   "cell_type": "code",
   "execution_count": 61,
   "outputs": [
    {
     "data": {
      "text/plain": "Graph(num_nodes={'affiliation': 2345, 'author': 18355, 'country': 88, 'gender': 2, 'paper': 36167},\n      num_edges={('affiliation', 'affiliated', 'author'): 18459, ('author', 'writes', 'paper'): 36167, ('country', 'contains', 'affiliation'): 2345, ('gender', 'gendered', 'author'): 18354, ('paper', 'authored', 'author'): 1006, ('paper', 'authored_affiliation', 'affiliation'): 36353, ('paper', 'authored_country', 'country'): 36353, ('paper', 'authored_gender', 'gender'): 1006, ('paper', 'cites', 'paper'): 139165},\n      metagraph=[('affiliation', 'author', 'affiliated'), ('author', 'paper', 'writes'), ('paper', 'author', 'authored'), ('paper', 'affiliation', 'authored_affiliation'), ('paper', 'country', 'authored_country'), ('paper', 'gender', 'authored_gender'), ('paper', 'paper', 'cites'), ('country', 'affiliation', 'contains'), ('gender', 'author', 'gendered')])"
     },
     "execution_count": 61,
     "metadata": {},
     "output_type": "execute_result"
    }
   ],
   "source": [
    "edges = test_hetero_graph.edges(etype=\"authored_gender\")\n",
    "val_mask = ~torch.isin(edges[0], remapped_test_papers)\n",
    "val_src = edges[0][val_mask]\n",
    "val_dst = edges[1][val_mask]\n",
    "\n",
    "val_ids = test_hetero_graph.edge_ids(val_src, val_dst, etype=\"authored_gender\")\n",
    "test_hetero_graph = dgl.remove_edges(test_hetero_graph, val_ids, etype=\"authored_gender\")\n",
    "test_hetero_graph"
   ],
   "metadata": {
    "collapsed": false
   }
  },
  {
   "cell_type": "code",
   "execution_count": 62,
   "outputs": [
    {
     "data": {
      "text/plain": "Graph(num_nodes={'affiliation': 2345, 'author': 18355, 'country': 88, 'gender': 2, 'paper': 36167},\n      num_edges={('affiliation', 'affiliated', 'author'): 18459, ('author', 'writes', 'paper'): 36167, ('country', 'contains', 'affiliation'): 2345, ('gender', 'gendered', 'author'): 18354, ('paper', 'authored', 'author'): 1006, ('paper', 'authored_affiliation', 'affiliation'): 1006, ('paper', 'authored_country', 'country'): 36353, ('paper', 'authored_gender', 'gender'): 1006, ('paper', 'cites', 'paper'): 139165},\n      metagraph=[('affiliation', 'author', 'affiliated'), ('author', 'paper', 'writes'), ('paper', 'author', 'authored'), ('paper', 'affiliation', 'authored_affiliation'), ('paper', 'country', 'authored_country'), ('paper', 'gender', 'authored_gender'), ('paper', 'paper', 'cites'), ('country', 'affiliation', 'contains'), ('gender', 'author', 'gendered')])"
     },
     "execution_count": 62,
     "metadata": {},
     "output_type": "execute_result"
    }
   ],
   "source": [
    "edges = test_hetero_graph.edges(etype=\"authored_affiliation\")\n",
    "val_mask = ~torch.isin(edges[0], remapped_test_papers)\n",
    "val_src = edges[0][val_mask]\n",
    "val_dst = edges[1][val_mask]\n",
    "\n",
    "val_ids = test_hetero_graph.edge_ids(val_src, val_dst, etype=\"authored_affiliation\")\n",
    "test_hetero_graph = dgl.remove_edges(test_hetero_graph, val_ids, etype=\"authored_affiliation\")\n",
    "test_hetero_graph"
   ],
   "metadata": {
    "collapsed": false
   }
  },
  {
   "cell_type": "code",
   "execution_count": 63,
   "outputs": [
    {
     "data": {
      "text/plain": "Graph(num_nodes={'affiliation': 2345, 'author': 18355, 'country': 88, 'gender': 2, 'paper': 36167},\n      num_edges={('affiliation', 'affiliated', 'author'): 18459, ('author', 'writes', 'paper'): 36167, ('country', 'contains', 'affiliation'): 2345, ('gender', 'gendered', 'author'): 18354, ('paper', 'authored', 'author'): 1006, ('paper', 'authored_affiliation', 'affiliation'): 1006, ('paper', 'authored_country', 'country'): 1089, ('paper', 'authored_gender', 'gender'): 1006, ('paper', 'cites', 'paper'): 139165},\n      metagraph=[('affiliation', 'author', 'affiliated'), ('author', 'paper', 'writes'), ('paper', 'author', 'authored'), ('paper', 'affiliation', 'authored_affiliation'), ('paper', 'country', 'authored_country'), ('paper', 'gender', 'authored_gender'), ('paper', 'paper', 'cites'), ('country', 'affiliation', 'contains'), ('gender', 'author', 'gendered')])"
     },
     "execution_count": 63,
     "metadata": {},
     "output_type": "execute_result"
    }
   ],
   "source": [
    "edges = test_hetero_graph.edges(etype=\"authored_country\")\n",
    "val_mask = ~torch.isin(edges[0], remapped_test_papers)\n",
    "val_src = edges[0][val_mask]\n",
    "val_dst = edges[1][val_mask]\n",
    "\n",
    "val_ids = test_hetero_graph.edge_ids(val_src, val_dst, etype=\"authored_country\")\n",
    "test_hetero_graph = dgl.remove_edges(test_hetero_graph, val_ids, etype=\"authored_country\")\n",
    "test_hetero_graph"
   ],
   "metadata": {
    "collapsed": false
   }
  },
  {
   "cell_type": "code",
   "execution_count": 69,
   "outputs": [],
   "source": [
    "save_graphs(\"./graphs/hetero_graphs_primary_word2vec_all.bin\", [train_hetero_graph, val_hetero_graph, test_hetero_graph])"
   ],
   "metadata": {
    "collapsed": false
   }
  },
  {
   "cell_type": "code",
   "execution_count": null,
   "outputs": [],
   "source": [],
   "metadata": {
    "collapsed": false
   }
  }
 ],
 "metadata": {
  "kernelspec": {
   "display_name": "Python 3",
   "language": "python",
   "name": "python3"
  },
  "language_info": {
   "codemirror_mode": {
    "name": "ipython",
    "version": 2
   },
   "file_extension": ".py",
   "mimetype": "text/x-python",
   "name": "python",
   "nbconvert_exporter": "python",
   "pygments_lexer": "ipython2",
   "version": "2.7.6"
  }
 },
 "nbformat": 4,
 "nbformat_minor": 0
}
