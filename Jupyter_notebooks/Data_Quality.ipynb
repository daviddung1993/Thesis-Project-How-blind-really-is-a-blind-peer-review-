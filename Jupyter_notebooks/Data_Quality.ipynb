{
 "cells": [
  {
   "cell_type": "code",
   "execution_count": 64,
   "metadata": {
    "collapsed": true
   },
   "outputs": [],
   "source": [
    "import requests\n",
    "import xmltodict\n",
    "import urllib, urllib.request\n",
    "import mysql.connector\n",
    "import time\n",
    "from IPython.display import clear_output\n",
    "import uuid"
   ]
  },
  {
   "cell_type": "code",
   "execution_count": 65,
   "outputs": [],
   "source": [
    "headers = {\"x-api-key\": \"M7HSjQNeTfai6l7JUiDZB8XYc85BHnHt3R0NXSEd\"}\n",
    "# Establish database connection\n",
    "cnx = mysql.connector.connect(user='david', password='daviddung1993',\n",
    "                              host='127.0.0.1',\n",
    "                              database='computervision')\n",
    "cursor = cnx.cursor()"
   ],
   "metadata": {
    "collapsed": false
   }
  },
  {
   "cell_type": "markdown",
   "source": [
    "# Check if there are duplicate entries"
   ],
   "metadata": {
    "collapsed": false
   }
  },
  {
   "cell_type": "code",
   "execution_count": 85,
   "outputs": [
    {
     "data": {
      "text/plain": "[('Medical Image Registration', 2),\n ('Progress in Pattern Recognition, Image Analysis, Computer Vision, and Applications',\n  2),\n ('Optical Character Recognition for Cursive Handwriting', 2),\n ('Distance errors correction for the time of flight (ToF) cameras', 2),\n ('An Overview of Steganography', 2),\n ('Counting people in crowd open scene based on grey level dependence matrix',\n  2),\n ('Study and comparison of various image edge detection techniques', 2),\n ('Hadamard Matrices and Their Applications', 2),\n ('Visual vibrometry: Estimating material properties from small motions in video',\n  2),\n ('A parallel design and implementation for backpropagation neural network using MIMD architecture',\n  2),\n ('An Introduction to Multivariate Statistical Analysis', 2),\n ('Rich intrinsic image decomposition of outdoor scenes from multiple views',\n  2),\n ('Closed-Form Solution of Absolute Orientation Using Orthonormal Matrices',\n  2),\n ('Digital Color Imaging Handbook', 2),\n ('Pseudo-random Graphs', 2),\n ('Correlation Clustering', 2),\n ('Blind Source Separation based on Joint Diagonalization of Matrices with Applications in Biomedical Signal Processing',\n  2),\n ('Deformable Surface 3D Reconstruction from Monocular Images', 2),\n ('Persistence-Based Clustering in Riemannian Manifolds', 2),\n ('A Genetic Algorithm based Fuzzy C Mean Clustering Model for Segmenting Microarray Images',\n  2),\n ('ON THE VOLUME OF TUBES', 2),\n ('Neural Networks: A Comprehensive Foundation', 2),\n ('Bagging Predictors', 2),\n ('Getting Feasible Variable Estimates from Infeasible Ones: MRF Local Polytope Study',\n  2),\n ('Web user clustering analysis based on KMeans algorithm', 2),\n ('Random Graphs', 2),\n ('Computer Aided Diagnosis Based on Medical Image Processing and Artificial Intelligence Methods',\n  2),\n ('An Invitation to 3-D Vision: From Images to Geometric Models', 2),\n ('Clinical Anatomy of the Eye', 2),\n ('Color constancy', 2),\n ('Annals of Mathematics and Artificial Intelligence', 2),\n ('Advanced Encryption Standard', 2),\n ('Laplacian growth and Whitham equations of soliton theory', 2),\n ('Simultaneous super-resolution and blind deconvolution', 2),\n ('Textbook of Medical Physiology', 2),\n ('Numerical methods for engineers', 2),\n ('A Mathematical Introduction to Compressive Sensing', 2),\n ('Image Deblurring in the Presence of Salt-and-Pepper Noise', 2),\n ('Handbook of Approximation Algorithms and Metaheuristics', 2),\n ('Scale Space and Variational Methods in Computer Vision', 2),\n ('Edge Focusing', 2),\n ('Block Matching Algorithms for motion estimation', 2),\n ('Factor graphs and the sum-product algorithm', 2),\n ('Digital Picture Processing', 3),\n ('A Novel Method for Super Imposed Text Extraction in a Sports Video', 2),\n ('Efficient Human Pose Estimation from Single Depth Images', 2),\n ('A survey on variational optic flow methods for small displacements', 2),\n ('A hierarchical data structure for picture processing', 2),\n ('Recent Advances in Hierarchical Reinforcement Learning', 2),\n ('Computer and Robot Vision', 2),\n ('Partial face recognition: A sparse representation-based approach', 2),\n ('Introduction to Statistical Pattern Recognition', 2),\n ('Classical mechanics', 2),\n ('Ant colony optimization', 2),\n ('Gravitational N-body Simulations', 2),\n ('Geometric Data Analysis: An Empirical Approach to Dimensionality Reduction and the Study of Patterns',\n  2),\n ('On a Fast Bilateral Filtering Formulation Using Functional Rearrangements',\n  2),\n ('Why Does Unsupervised Pre-training Help Deep Learning?', 2),\n ('Face recognition using eigenfaces', 2),\n ('Phototherapy Techniques: Exploring the Secrets of Personal Snapshots and Family Albums',\n  2),\n ('Distributed Representations, Simple Recurrent Networks, And Grammatical Structure',\n  2),\n ('The Mathematics of Computerized Tomography (Classics in Applied Mathematics, Vol. 32)',\n  2),\n ('Clustering by compression', 2),\n ('Graph-Based Representations in Pattern Recognition', 2),\n ('Reinforcement learning', 2),\n ('Movements of the Eyes', 2),\n ('Morphological segmentation', 2),\n ('Computed Tomography: from Photon Statistics to Modern Cone-Beam CT', 2),\n ('Curvature-Driven PDE Methods for Matrix-Valued Images', 2),\n ('Introduction to Algebraic Geometry', 3),\n ('Person re-identification via efficient inference in fully connected CRF',\n  2),\n ('A new method for removing mixed noises', 2),\n ('Structural pattern recognition', 2),\n ('Principal Component Analysis (PCA)', 2),\n ('Machine learning', 2),\n ('Automatic Image Equalization and Contrast Enhancement Using Gaussian Mixture Modeling',\n  2),\n ('Offline Handwriting Recognition using Genetic Algorithm', 2),\n ('Ant direction hybrid differential evolution for solving large capacitor placement problems',\n  2),\n ('Benchmarking Least Squares Support Vector Machine Classifiers', 2),\n ('An introduction to the visual system', 2),\n ('Fundamental performance limits in image registration', 2),\n ('A Face Recognition System using Neural Networks with Incremental Learning Ability',\n  2),\n ('Nonlinear Programming', 2),\n ('Editors', 2),\n ('International Journal of Emerging Technology and Advanced Engineering', 2),\n ('Convex analysis', 2),\n ('Make3d: Learning 3D scene structure from a single still image', 2),\n ('Biostatistics: A Foundation for Analysis in the Health Sciences', 2),\n ('Bilateral filtering: Theory and applications', 2),\n ('A novel approach to 3-D gaze tracking using stereo cameras', 2),\n ('and s', 2),\n ('Multiple view geometry in computer vision', 2),\n ('Geometric Measure Theory', 2),\n ('Efficient gathering of correlated data in sensor networks', 2),\n ('Independent component filters of natural images compared with simple cells in primary visual cortex',\n  2),\n ('VSUMM: A simple and efficient approach for automatic video summarization',\n  2),\n ('An introduction to Total Variation for Image Analysis', 2),\n ('Relighting human locomotion with flowed reflectance fields', 2),\n ('Statistical shape influence in geodesic active contours', 2),\n ('A tensor-based algorithm for high-order graph matching', 2),\n ('Fundamentals of Wavelets', 2),\n ('Art and Ethics in a Material World: Kant’s Pragmatist Legacy', 2),\n ('Large Scale Online Learning of Image Similarity Through Ranking', 2),\n ('A hierarchical Bayesian model for frame representation', 2),\n ('Geometric Partial Differential Equations and Image Analysis', 2),\n ('Audio- and Video-based Biometric Person Authentication', 2),\n ('Balanced Incomplete Factorization', 2),\n ('Face Recognition by Elastic Bunch Graph Matching', 3),\n ('Subspace Clustering', 2),\n ('Numerical Linear Algebra', 2),\n ('A novel approach for human face detection from color images under complex background',\n  2),\n ('IETF Working Group Guidelines and Procedures', 2),\n ('Face Recognition with Local Binary Patterns', 3),\n ('A Probabilistic Approach to Concurrent Mapping and Localization for Mobile Robots',\n  2),\n ('Face Photo-Sketch Synthesis and Recognition', 2),\n ('Analysis of Image Sequences', 2),\n ('Data Mining Techniques', 2),\n ('A Contour-Based Approach to Multisensor Image Registration', 2),\n ('Gradient Profile Prior and Its Applications in Image Super-Resolution and Enhancement',\n  2),\n ('Single Units and Sensation: A Neuron Doctrine for Perceptual Psychology?',\n  2),\n ('Support Vector Machine Applications in Computational Biology', 2),\n ('A robust skin color based face detection algorithm', 2),\n ('3D Model Retrieval', 2),\n ('Monte Carlo Statistical Methods', 2),\n ('Super-Resolution Imaging', 2),\n ('Color in Computer Vision', 2),\n ('Global Contrast Based Salient Region Detection', 2),\n ('Reduced Basis Approximation and a Posteriori Error Estimation for Affinely Parametrized Elliptic Coercive Partial Differential Equations',\n  2),\n ('Nonlinear sinogram smoothing for low-dose X-ray CT', 2),\n ('A novel image interpolation method using the bilateral filter', 2),\n ('Automatic Caption Generation for News Images', 2),\n ('Anthropometry of the head and face', 2),\n ('Manifold Regularization: A Geometric Framework for Learning from Labeled and Unlabeled Examples',\n  2),\n ('Adding the Third Dimension to Virus Life Cycles: Three-Dimensional Reconstruction of Icosahedral Viruses from Cryo-Electron Micrographs',\n  2),\n ('Actions as space-time shapes', 2),\n ('Estimating fractional snow cover from MODIS using the normalized difference snow index',\n  2),\n ('Structured Variable Selection with Sparsity-Inducing Norms', 2),\n ('Visual categorization with bags of keypoints', 2),\n ('Global random optimization by simultaneous perturbation stochastic approximation',\n  2),\n ('FEATURE SELECTION WITH NEURAL NETWORKS', 2),\n ('Finding frequent items in data streams', 2),\n ('Statistical textural features for detection of microcalcifications in digitized mammograms',\n  2),\n ('Circle detection using discrete differential evolution optimization', 2),\n ('Causation, Prediction, and Search', 2),\n ('Intersecting is easier than sorting', 2),\n ('Numerical Approximation of Partial Differential Equations', 2),\n ('Fast Edge Detection Using Structured Forests', 2),\n ('The Monte Carlo Method', 3),\n ('Computer Vision', 3),\n ('Struck: Structured output tracking with kernels', 2),\n ('Visualization Viewpoints', 2),\n ('Valuation of mortgage-backed securities using Brownian bridges to reduce effective dimension',\n  2),\n ('Clustering by fast search and find of density peaks', 2),\n ('Determination of organic structures by physical methods', 2),\n ('Retrieval-Based Face Annotation by Weak Label Regularized Local Coordinate Coding',\n  2),\n ('Remote Sensing And Image Interpretation', 2),\n ('IEEE TRANSACTIONS ON PATTERN ANALYSIS AND MACHINE INTELLIGENCE', 2),\n ('Color Texture Classification Approach Based on Combination of Primitive Pattern Units and Statistical Features',\n  2),\n ('Discriminant Analysis and Statistical Pattern Recognition', 2),\n ('Image Segmentation by Clustering Methods: Performance Analysis', 2),\n ('Statistical Inference', 2),\n ('MathPad2: a system for the creation and exploration of mathematical sketches',\n  2),\n ('Neural Codes for Image Retrieval', 2),\n ('Principal manifolds and nonlinear dimensionality reduction via tangent space alignment',\n  2),\n ('An Effective Method for Fingerprint Classification', 2),\n ('Local Derivative Pattern Versus Local Binary Pattern: Face Recognition With High-Order Local Pattern Descriptor',\n  2),\n ('Psychoacoustics: Facts and Models', 2),\n ('Matrix computations', 2),\n ('A variational approach to automatic segmentation of RNFL on OCT data sets of the retina',\n  2),\n ('Methods of Mathematical Physics', 2),\n ('Determining lightness from an image', 2),\n ('Optimization Algorithms on Matrix Manifolds', 2),\n ('The Fast Fourier Transform and Its Applications', 2),\n ('An Introduction to Latent Semantic Analysis', 2),\n ('Wireless capsule endoscopy', 2),\n ('Basic probability theory', 2),\n ('Support vector machine classifiers for sequential decision problems', 2),\n ('Support-vector networks', 2),\n ('Global cancer statistics', 2),\n ('Efficient Learning of Sparse Representations with an Energy-Based Model',\n  2),\n ('A framework for realistic image synthesis', 2),\n ('On Measures of Entropy and Information', 2),\n ('Least squares conformal maps for automatic texture atlas generation', 2),\n ('Towards automatic visual obstacle avoidance', 2),\n ('Empirical Analyses of BOLD fMRI Statistics', 2),\n ('Mixtures of Probabilistic Principal Component Analyzers', 2),\n ('Quantum computation and quantum information', 2),\n ('Information Theory, Inference, and Learning Algorithms', 2),\n ('Learning to Detect Objects in Images via a Sparse, Part-Based Representation',\n  2),\n ('Reconstruction of a complex-valued object from the modulus of its Fourier transform using a support constraint',\n  2),\n ('Color image quantization for frame buffer display', 2),\n ('Statistical modeling of complex backgrounds for foreground object detection',\n  2),\n ('Online Learning for Matrix Factorization and Sparse Coding', 2),\n ('Syntactic Pattern Recognition And Applications', 2),\n ('Introduction to Algorithms', 4),\n ('A million spiking-neuron integrated circuit with a scalable communication network and interface',\n  2),\n ('Data Mining for Typhoon Image Collection', 2),\n ('High-dimensional union support recovery in multivariate regression', 2),\n ('YALMIP : A toolbox for modeling and optimization in MATLAB', 2),\n ('Real-Time Nonintrusive Monitoring And Prediction Of Driver Fatigue', 2),\n ('Cellular Automata', 2),\n ('Characterization of digital image noise properties based on RAW data', 2),\n ('Objective Evaluation Of Seam Pucker On Textiles By Using Self-organizing Map',\n  2),\n ('A new contour fill algorithm for outlined character image generation', 2),\n ('Robust fusion of uncertain information', 2),\n ('Graph clustering', 2),\n ('Image Classification and Optimized Image Reproduction', 2),\n ('Semantic Texton Forests for Image Categorization and Segmentation', 2),\n ('Creating 3D models with uncalibrated cameras', 2),\n ('Some Nonlocal Filters Formulation Using Functional Rearrangements', 2),\n ('Fully automatic camera calibration using regular planar patterns', 2),\n ('The James Webb Space Telescope (JWST)', 2),\n ('Parallel Image Processing', 2),\n ('Numerical Analysis', 2),\n ('Automatic Face and Gestual Recognition for Video Indexing', 2),\n ('Analysis of Representations for Domain Adaptation', 2),\n ('Geoscience And Remote Sensing', 2),\n ('THE COMPUTATIONAL MAGIC OF THE VENTRAL STREAM', 2),\n ('Rotation invariant neural network-based face detection', 2),\n ('Geometric Invariance in Computer Vision', 2),\n ('Interferometry and Synthesis in Radio Astronomy', 2),\n ('Semi-supervised local Fisher discriminant analysis for\\xa0dimensionality reduction',\n  2),\n ('An Efficient Heuristic Procedure for Partitioning Graphs', 2),\n ('Image processing and pattern recognition', 2),\n ('Random Walks on Graphs: a Survey', 2),\n ('Information, physics, and computation', 2),\n ('Graph Theory and Its Applications', 2),\n ('Bidirectional Automated Branch and Bound Algorithm for Feature Selection',\n  2),\n ('Hi, magic closet, tell me what to wear!', 2),\n ('Image Retrieval and Classification Using Local Distance Functions', 2),\n ('Cartesian currents in the calculus of variations', 2),\n ('Cluster analysis of gene expression data', 2),\n ('Recovering high dynamic range radiance maps from photographs', 2),\n ('Applied Multivariate Statistical Analysis', 2),\n ('Generalized Inverse of Matrices and its Applications', 2),\n ('Foundations of Art and Design', 2),\n ('IR evaluation methods for retrieving highly relevant documents', 2),\n ('Max-margin classification of incomplete data', 2),\n ('Calculus of Nonrigid Surfaces for Geometry and Texture Manipulation', 2),\n ('Akaike Information Criterion Statistics', 2),\n ('Multi-modal volume registration by maximization of mutual information', 2),\n ('Greedy Layer-Wise Training of Deep Networks', 2),\n ('SKETCH: an interface for sketching 3D scenes', 2),\n ('Generalized² Linear² Models', 2),\n ('Singular Value Decomposition', 2),\n ('Digital Image Processing', 3),\n ('Contrast Enhancement Using Dominant Brightness Level Analysis and Adaptive Intensity Transformation for Remote Sensing Images',\n  2),\n ('Which submodular functions are expressible using binary submodular functions',\n  2),\n ('MR IMAGE RECONSTRUCTION BY PATCH-BASED SPARSE REPRESENTATION', 2),\n ('Time Series Analysis by State Space Methods', 2),\n ('Navier-Stokes, Fluid Dynamics, and Image and Video Inpainting', 2),\n ('A framework for visual saliency detection with applications to image thumbnailing',\n  2),\n ('Evidence Contrary to the Statistical View of Boosting', 2),\n ('In all likelihood', 2),\n ('Neural Mechanisms of Selective Visual Attention.', 2),\n ('Thermographic imaging of the subcutaneous vascular network of the back of the hand for biometric identification',\n  2),\n ('ON THE REPRESENTATION OF OPERATORS IN BASES OF COMPACTLY SUPPORTED WAVELETS',\n  2),\n ('Recursive interferometric representations', 2),\n ('Fractals and Chaos', 2),\n ('Concepts of digital topology', 2),\n ('Communication in the presence of noise', 2),\n ('Pattern Recognition and Machine Learning', 2),\n ('WordNet: A Lexical Database for English', 2),\n ('Audio-visual speech recognition', 2),\n ('Sparse Bayesian Learning and the Relevance Vector Machine', 2),\n ('Handbook Of Computer Vision And Applications', 2),\n ('Image Processing', 3),\n ('A simple and efficient optical character recognition system for basic symbols in printed Kannada text',\n  2),\n ('Particle Systems—a Technique for Modeling a Class of Fuzzy Objects', 2),\n ('A new method for image segmentation', 2),\n ('Biological Sequence Analysis', 2),\n ('Robot vision', 2),\n ('Classification and regression trees', 2),\n ('Time-Correlated Single Photon Counting', 2),\n ('Automatic thresholding based on human visual perception', 2),\n ('Image Denoising by Sparse Code Shrinkage', 2),\n ('Multispectral palmprint recognition using textural features', 2),\n ('Local Features and Kernels for Classification of Texture and Object Categories: A Comprehensive Study',\n  2),\n ('The Dana Guide to Brain Health', 2),\n ('Computational Colour Science Using MATLAB', 2),\n ('Handbook of Biometrics', 2),\n ('Fundamental Limitations on Projective Invariants of Planar Curves', 2),\n ('Statistical Pattern Recognition', 3),\n ('Holistic face recognition using multivariate approximation, genetic algorithms and AdaBoost classifier: preliminary results',\n  2),\n ('Motion Analysis for Image Sequence Coding', 2),\n ('Translating Videos to Natural Language Using Deep Recurrent Neural Networks',\n  2),\n ('Principal Component Analysis', 3),\n ('Hypergraph-based edge detection in gray images by suppression of interior pixels',\n  2),\n ('Numerical Optimization', 2),\n ('Removing Camera Shake from a Single Photograph', 2),\n ('The Elements of Statistical Learning', 2),\n ('Image Segmentation by Probabilistic Bottom-Up Aggregation and Cue Integration',\n  2),\n ('Bayesian Logical Data Analysis for the Physical Sciences: a Comparative Approach with Mathematica® Support',\n  2),\n ('Stochastic Relaxation, Gibbs Distributions, and the Bayesian Restoration of Images',\n  2),\n ('Morphological image analysis', 2),\n ('A Generative Model for Parts-based Object Segmentation', 2),\n ('Affine Differential Geometry', 2),\n ('Physics and computation', 2),\n ('Recognition of On-line Handwritten Arabic Digits Using Structural Features and Transition Network',\n  2),\n ('Weakly Differentiable Functions', 2),\n ('Recovery of superquadric primitive from stereo images', 2),\n ('Web Image Re-Ranking using Query-Specific Semantic Signatures', 2),\n ('Statistical properties of planar Voronoi tessellations', 2),\n ('A 3D Map of the Human Genome at Kilobase Resolution Reveals Principles of Chromatin Looping',\n  2),\n ('Monte Carlo Strategies in Scientific Computing', 2),\n ('A computer-aided diagnosis for locating abnormalities in bone scintigraphy by a fuzzy system with a three-step minimization approach',\n  2),\n ('Data Augmentation for deep neural network acoustic modeling', 2),\n ('Statistical and structural approaches to texture', 2),\n ('Neural Networks for Pattern Recognition', 3),\n ('The Ecological Approach to Visual Perception', 2),\n (\"Using Recognition to Guide a Robot's Attention\", 2),\n ('Statistical Distributions', 2),\n ('Automatic Face Naming by Learning Discriminative Affinity Matrices from Weakly Labeled Images',\n  2),\n ('Simple statistical gradient-following algorithms for connectionist reinforcement learning',\n  2),\n ('Distinctive Image Features from Scale-Invariant Keypoints', 3),\n ('Prognostic significance of morphologic parameters in renal cell carcinoma',\n  2),\n ('Independent Component Analysis', 2),\n ('Description and Recognition of Curved Objects', 2),\n ('Integer and Combinatorial Optimization', 2),\n ('High dynamic range video', 2),\n ('Mixed and hybrid finite element methods', 2),\n ('Neural fuzzy systems', 2),\n ('Deep Learning', 2),\n ('Algebraic Geometry and Its Applications', 2),\n ('Combining Pattern Classifiers: Methods and Algorithms', 2),\n ('The handbook of brain theory and neural networks', 3),\n ('Flattening the earth', 2),\n ('An Introduction to Support Vector Machines and Other Kernel-Based Learning Methods',\n  2),\n ('Data Compression', 2),\n ('A data-driven reflectance model', 2),\n ('Accurate and efficient stereo processing by semi-global matching and mutual information',\n  2),\n ('Information Theory and Statistics', 2),\n ('The Elements of Statistical Learning: Data Mining, Inference, and Prediction',\n  2),\n ('Estimation of the convergence rate of Dykstra’s cyclic projections algorithm in polyhedral case',\n  2),\n ('A Robust Framework For Eigenspace Image Reconstruction', 2),\n ('Modelling and Simulation', 2),\n ('Real-Time Simultaneous Pose and Shape Estimation for Articulated Objects Using a Single Depth Camera',\n  2),\n ('Principles of computerized tomographic imaging', 2),\n ('A critical review of the psychophysiology of driver fatigue', 2),\n ('Digital Coding of Waveforms', 2),\n ('Real and Complex Analysis', 2),\n ('Emerging Topics in Computer Vision', 2),\n ('Comparison of edge detectors', 2),\n ('Direct Methods in the Calculus of Variations', 2),\n ('An Introduction to Kalman Filter', 2),\n ('Single image haze removal using dark channel prior', 3),\n ('Radial basis functions', 2),\n ('Holistically-Nested Edge Detection', 2),\n ('Fusion of static and dynamic body biometrics for gait recognition', 2),\n ('Angular reconstitution: a posteriori assignment of projection directions for 3D reconstruction.',\n  2),\n ('Human activity analysis', 2),\n ('Dimensionality Reduction', 2),\n ('Compressive Sensing and Structured Random Matrices', 2),\n ('Vector median filters', 2),\n ('No Bias Left behind: Covariate Shift Adaptation for Discriminative 3D Pose Estimation',\n  2),\n ('Blurred Image Recognition by Legendre Moment Invariants', 2),\n ('Conditional Random Fields', 2),\n ('Task Parallel Implementation of Belief Propagation in Factor Graphs', 2),\n ('Evolving Artificial Neural Networks', 2),\n ('Artificial Neural Networks', 2),\n ('Evaluating multimedia features and fusion for example-based event detection',\n  2),\n ('Feature Points Extraction from Faces', 2),\n ('Automatic Human Face Detection for a Distributed Video Security System', 2),\n ('Decision Forests for Computer Vision and Medical Image Analysis', 2),\n ('Model-Based 3D Hand Pose Estimation from Monocular Video', 2),\n ('Robust Text Detection in Natural Scene Images', 2),\n ('Principles of Magnetic Resonance Imaging: a Signal Processing Perspective [Book Review]',\n  2),\n ('Physical One-Way Functions', 2),\n ('Eye Movements and Vision', 2),\n ('Lecture Notes in Computer Science (including subseries Lecture Notes in Artificial Intelligence and Lecture Notes in Bioinformatics)',\n  2),\n ('Multiple view geometry', 2),\n ('Semi-Supervised Learning', 2),\n ('Introduction to Information Retrieval', 2),\n ('Automatic license plate recognition', 2),\n ('A SYSTEM FOR INCREMENTAL LEARNING BASED ON ALGORITHMIC PROBABILITY', 2),\n ('Applied Regression Analysis', 2),\n ('Nonparametric regression analysis of longitudinal data', 2),\n ('Scientific Examination Of Questioned Documents', 2),\n ('The Nature of Statistical Learning Theory', 2),\n ('Design of Experiments: Statistical Principles of Research Design and Analysis',\n  2),\n ('An Algorithm for Total Variation Minimization and Applications', 2),\n ('Gesture Recognition: A Survey', 2),\n ('Regression and Classification Using Gaussian Process Priors', 2),\n ('On the computational architecture of the neocortex', 2),\n ('Robust Detection of Region-Duplication Forgery in Digital Image', 2),\n ('Area-efficient 2-D shift-variant convolvers for FPGA-based digital image processing',\n  2),\n ('Image Interpolation Via Regularized Local Linear Regression', 2),\n ('Proceedings of the International Congress of Mathematicians', 2),\n ('Algorithms and Theory of Computation Handbook', 2),\n ('Handbook of Medical Imaging', 2),\n ('A performance evaluation of local descriptors', 2),\n ('The Image Processing Handbook', 2),\n ('Maneuvering Vehicle Tracking Based on Multi-sensor Fusion', 2),\n ('Rational homotopy theory', 2),\n ('Compressive Sensing', 2),\n ('Pattern Classification', 2),\n ('An Introduction To Probability Theory And Its Applications', 2),\n ('Geometric Data Analysis', 2),\n ('Manual of Photogrammetry', 2),\n ('Classification of discrete data with feature space transformation', 2),\n ('A level set formulation for Willmore flow', 2),\n ('REGION FILLING AND OBJECT REMOVAL BY EXEMPLAR-BASED IMAGE INPAINTING', 3),\n ('A practical guide to splines', 2),\n ('Fast bilateral filtering for the display of high-dynamic-range images', 2),\n ('An Introduction to Homological Algebra', 2),\n ('Supervised nonlinear dimensionality reduction for visualization and classification',\n  2),\n ('Regulation of Synaptic Efficacy by Coincidence of Postsynaptic APs and EPSPs',\n  2),\n ('A SURVEY OF COPY-MOVE FORGERY DETECTION TECHNIQUES', 2),\n ('A Comparison of various Edge Detection Techniques used in Image Processing',\n  2),\n ('Human Color Vision', 2),\n ('Digital Image Restoration', 3),\n ('Dynamic laser speckle to detect motile bacterial response of Pseudomonas aeruginosa',\n  2),\n ('Sparse Image and Signal Processing: Wavelets, Curvelets, Morphological Diversity, by Jean-Luc Starck, Fionn Murtagh, and Jalal M. Fadili',\n  2),\n ('Digital Image Processing and Computer Vision', 2),\n ('Fast Discriminative Visual Codebooks using Randomized Clustering Forests',\n  2),\n ('Authorship attribution', 2),\n ('Stochastic Processes And Filtering Theory', 2),\n ('Matrix Perturbation Theory', 2),\n ('Unsupervised Learning of Visual Representations using Videos', 2),\n ('Ricci Flow and the Poincaré Conjecture', 2),\n ('Fast Algorithms for Signal Processing', 2),\n ('A Mathematical Theory of Communication', 2),\n ('Harmonic analysis', 2),\n ('Prediction by Partial Approximate Matching for Lossless Image Compression',\n  2),\n ('Maximum-entropy and Bayesian methods in inverse problems', 2),\n ('Introduction to the Calculus of Variations', 2),\n ('Error-Correcting Codes', 2),\n ('Iris recognition: an emerging biometric technology', 2),\n ('Conceptual Spaces - The Geometry of Thought', 2),\n ('Direct visual inspection for cervical cancer screening', 2),\n ('Pattern Recognition Algorithms for Data Mining', 2),\n ('An introduction to wavelets', 2),\n ('Advances in Neural Information Processing Systems (NIPS)', 2),\n ('A morphable model for the synthesis of 3D faces', 2),\n ('Liquid Surface Location of Milk Bottle Based on Digital Image Processing',\n  2),\n ('Alternating Sequential Filters by Adaptive-Neighborhood Structuring Functions',\n  2),\n ('Knowledge Fusion for Probabilistic Generative Classifiers with Data Mining Applications',\n  2),\n ('Probability, Random Variables and Stochastic Processes', 2),\n ('The Method of Types', 2),\n ('An Introduction to the Bootstrap', 2),\n ('Automatic thresholding of gray-level pictures using two-dimensional entropy',\n  2),\n ('Learning with Kernels: support vector machines, regularization, optimization, and beyond',\n  3),\n ('Networks of the Brain', 2),\n ('A novel similarity based quality metric for image fusion', 2),\n ('Applied Mathematical Sciences', 2),\n ('Semidefinite Programming', 2),\n ('Blind Image Deconvolution', 3),\n ('Face Recognition Method Based on SURF Feature', 2),\n ('A Statistical Approach to Texture Classification from Single Images', 2),\n ('Background and foreground modeling using nonparametric kernel density estimation for visual surveillance',\n  2),\n ('Facial Expression Analysis', 2),\n ('Preference Learning', 2),\n ('Matrix analysis', 2),\n ('Geometric Algorithms and Combinatorial Optimization', 2),\n ('3D Motion Estimation of Human Head by Using Optical Flow', 2),\n ('Principles of GNSS, Inertial, and Multi-Sensor Integrated Navigation Systems',\n  2),\n ('Probabilistic roadmaps for path planning in high-dimensional configuration spaces',\n  2),\n ('Handbook of Beta Distribution and Its Applications', 2),\n ('The Astonishing Hypothesis: The Scientific Search for the Soul', 2),\n ('Seismic applications of homomorphic signal processing', 2),\n ('Multiscale Image Segmentation Using Wavelet-Domain Hidden Markov Models',\n  2),\n ('KERNEL NONNEGATIVE MATRIX FACTORIZATION FOR SPECTRAL EEG FEATURE EXTRACTION',\n  2),\n ('Mining of Massive Datasets', 2),\n ('A three-layer model of natural image statistics', 2),\n ('Combinatorial optimization', 3),\n ('Dynamic Programming', 2),\n ('Support vector tracking', 2),\n ('Non-rigid point set registration: Coherent Point Drift', 2),\n ('From neuron to brain', 2),\n ('The use of MMR, diversity-based reranking for reordering documents and producing summaries',\n  2),\n ('IMPROVED NONLOCAL MEANS BASED ON PRE-CLASSIFICATION AND INVARIANT BLOCK MATCHING',\n  2),\n ('Recognition of Human Iris Patterns for Biometric Identification', 2),\n ('Ovo1 links Wnt signaling with N-cadherin localization during neural crest migration',\n  2),\n ('Boundary Extraction in Natural Images Using Ultrametric Contour Maps', 2),\n ('Facial Expression Recognition', 2),\n ('Rods and Cones', 2),\n ('Pattern Recognition', 2),\n ('Sequential Monte Carlo Methods in Practice', 2),\n ('Pattern Recognition and Neural Networks', 2),\n ('Optimization for Machine Learning', 2),\n ('Mathematical Morphology in Image Processing', 2),\n ('Computational Geometry in C', 2),\n ('VizWiz: nearly real-time answers to visual questions', 2),\n ('Feature Selection for Knowledge Discovery and Data Mining', 2),\n ('Statistical Analysis of Some Multi-Category Large Margin Classification Methods',\n  2),\n ('Camera Motion Estimation by Convex Programming', 2),\n ('Digital Image Processing and Analysis', 2),\n ('Design And Analysis Of Modern Tracking Systems', 2),\n ('TRANSACTIONS OF THE AMERICAN MATHEMATICAL SOCIETY', 2),\n ('Probabilistic Non-linear Principal Component Analysis with Gaussian Process Latent Variable Models',\n  2),\n ('Time series analysis, forecasting and control', 2),\n ('Detection of Region Duplication Forgery in Digital Images Using SURF', 2),\n ('Hyperspectral image fusion', 2),\n ('Gait Analysis for Human Identification through Manifold Learning and HMM',\n  2),\n ('Local Regression and Likelihood', 2),\n ('Segmentation Of Textured Images Using Gibbs Random Fields', 2),\n ('Statistical Shape Analysis', 2),\n ('Dynamic Time Warping', 2),\n ('Image Restoration', 2),\n ('Pegasos: primal estimated sub-gradient solver for SVM', 2),\n ('Finishing the euchromatic sequence of the human genome', 2),\n ('Bilateral mesh denoising', 2),\n ('Generalized principal component analysis (GPCA)', 2),\n ('Locality Preserving Clustering for Image Database', 2),\n ('Higher Transcendental Functions', 2),\n ('Mathematical Statistics: Basic Ideas and Selected Topics', 2),\n ('Integral Operators for Computing Homology Generators at any Dimension', 2),\n ('An Introduction to Kolmogorov Complexity and Its Applications', 3),\n ('Orthogonal variant moments features in image analysis', 2),\n ('Dynamic Patterns: The Self-Organization of Brain and Behavior', 2),\n ('Spectral Graph Theory', 3),\n ('Variable kernel density estimation', 2),\n ('Learning with kernels', 2),\n ('Digital imaging colposcopy: basic concepts and applications.', 2),\n ('Convergence rates of convex variational regularization', 2),\n ('Neighborhood Filters and the Decreasing Rearrangement', 2),\n ('Principles of magnetic resonance imaging', 2),\n ('Fundamentals Of Convex Analysis', 2),\n ('Markov Random Fields', 2),\n ('Functional Data Analysis With R And Matlab', 2),\n ('Three-Dimensional Computer Vision: A Geometric Viewpoint', 2),\n ('Embryologic development of epidermal ridges and their configurations.', 2),\n ('Pretopological approach for supervised learning', 2),\n ('Handbook of Mathematics', 2),\n ('Fundamentals of statistical signal processing: estimation theory', 2),\n ('Compressed sensing', 2),\n ('Gait recognition based on DWT and SVM', 2),\n ('Cell Population Tracking and Lineage Construction with Spatiotemporal Context',\n  2),\n ('Computer Vision and Image Processing', 2),\n ('Image processing and analysis', 2),\n ('Box splines', 2),\n ('Can One Hear the Shape of a Drum', 2),\n ('Embedding planar graphs in four pages', 2),\n ('Cell and Molecular Biology', 2),\n ('Near-Optimal Sensor Placements in Gaussian Processes: Theory, Efficient Algorithms and Empirical Studies',\n  2),\n ('Algorithms for graphics and image processing', 2),\n ('High-Dimensional Graphical Model Selection Using ℓ1-Regularized Logistic Regression',\n  2),\n ('Single view reflectance capture using multiplexed scattering and time-of-flight imaging',\n  2),\n ('Image Analysis', 2),\n ('Fractional Calculus: An Introduction for Physicists', 2),\n ('Stacked Denoising Autoencoders: Learning Useful Representations in a Deep Network with a Local Denoising Criterion',\n  2),\n ('Learning Semi-Riemannian Metrics for Semisupervised Feature Extraction', 2),\n ('Probability and random processes', 2),\n ('Satellite Image Resolution Enhancement Using Dual-Tree Complex Wavelet Transform and Nonlocal Means',\n  2),\n ('Algorithmic information theory', 2),\n ('Efficient Shape Retrieval Using Elliptical Shape Coding', 2),\n ('Image Processing and Jump Regression Analysis', 2),\n ('Encyclopedia of Astronomy and Astrophysics', 2),\n ('Frequency and orientation sensitive texture measures using linear symmetry',\n  2),\n ('Sparse Modeling of Intrinsic Correspondences', 2),\n ('ImageNet classification with deep convolutional neural networks', 2),\n ('Pedestrian detection and tracking with night vision', 2),\n ('Image Segmentation', 2),\n ('Learning incoherent sparse and low-rank patterns from multiple tasks', 2),\n ('Extended Set of Local Binary Patterns for Rapid Object Detection', 2),\n ('A REVIEW ON IMAGE SEGMENTATION TECHNIQUES', 2),\n ('Very Long Baseline Interferometry', 2),\n ('Probability and statistics for engineers', 2),\n ('Clustering Algorithms', 2),\n ('The Statistical Analysis of Functional MRI Data', 2),\n ('Content based Image Retrieval using Color and Texture', 2),\n ('An Efficient Ellipse-Drawing Algorithm', 2),\n ('Neural Networks: Tricks of the Trade', 2),\n ('Functional Data Analysis', 2),\n ('Offline Handwriting Recognition with Multidimensional Recurrent Neural Networks',\n  2),\n ('Speech and Audio Processing', 2),\n ('The Solar Cycle', 2),\n ('PRINCIPLES OF OPTICS', 2),\n ('End-to-End Training of Deep Visuomotor Policies', 2),\n ('UCI Repository of Machine Learning Databases', 2),\n ('Perceptual Organization and the Representation of Natural Form', 2),\n ('Digital image processing (2nd ed.)', 2),\n ('Ray Tracing with the BSP Tree', 2),\n ('Combining RGB and ToF cameras for real-time 3D hand gesture interaction',\n  2),\n (\"Neuronal mechanisms of developmental plasticity in the cat's visual system.\",\n  2),\n ('Assignment Problems', 2),\n ('BAYES AND EMPIRICAL BAYES METHODS FOR DATA ANALYSIS', 2),\n ('Fundamentals Of Neural Networks', 2),\n ('Differential geometry of curves and surfaces', 2),\n ('Artifactual literacies: every object tells a story', 2),\n ('Graph-based transformation manifolds for invariant pattern recognition with kernel methods',\n  2),\n ('On a new formulation of nonlocal image filters involving the relative rearrangement',\n  2),\n ('FINITE MARKOV CHAINS', 2),\n ('Advances in Knowledge Discovery and Data Mining', 2),\n ('Human Identification Based on Gait', 2),\n ('Bayesian learning for neural networks', 2),\n ('Learning Deconvolution Network for Semantic Segmentation', 2),\n ('Instance-based learning algorithms', 2),\n ('Fractal Geometry And Computer Graphics', 2),\n ('Analysis of Multi-stage Convex Relaxation for Sparse Regularization', 2),\n ('Optimal stopping rules', 2),\n ('A Data-Driven fMRI Analysis using K-SVD Sparse Dictionary Learning', 2),\n ('Mars Exploration Rover mission', 2),\n ('Shape matching and object recognition using shape contexts', 2),\n ('How iris recognition works', 2),\n ('Ultrasonic liver tissues classification by fractal feature vector based on M-band wavelet transform',\n  2),\n ('Interpreting pictures of polyhedral scenes', 2),\n ('Convex Optimization Theory', 2),\n ('Unsupervised Learning by Probabilistic Latent Semantic Analysis', 2),\n ('Fingerprint Recognition', 2),\n ('Handbook of Combinatorial Optimization', 2),\n ('Complexity of Deciding Tarski Algebra', 2),\n ('Gaussian Markov Random Fields: Theory and Applications', 2),\n ('Cytology: Diagnostic Principles and Clinical Correlates', 2),\n ('Refinement and coarsening indicators for adaptive parametrization: application to the estimation of hydraulic transmissivities',\n  2),\n ('Trends and Topics in Computer Vision', 2)]"
     },
     "execution_count": 85,
     "metadata": {},
     "output_type": "execute_result"
    }
   ],
   "source": [
    "cursor.execute(\"select p.Title, count(*) from Papers p group by p.Title having count(*) > 1\")\n",
    "duplicate_papers = cursor.fetchall()\n",
    "duplicate_papers"
   ],
   "metadata": {
    "collapsed": false
   }
  },
  {
   "cell_type": "code",
   "execution_count": 89,
   "outputs": [
    {
     "name": "stdout",
     "output_type": "stream",
     "text": [
      "Medical Image Registration\n",
      "00506b5142f13000a8849273f1aca9f33f39c38c\n",
      "[('121013794', 'M. Shubhakanta Singh', 1), ('2080397101', 'Balraj Naren', 1)]\n",
      "Is Leaf: 1\n",
      "ReferenceCount: 0\n",
      "Its referenced by [(4,)]\n",
      "It references [(0,)]\n",
      "----------------------------\n",
      "47c880403441c9245b6cf713f7925ddde17fb53a\n",
      "[('143733284', 'Mark Holden', 6), ('144159315', 'Derek L Hill', 24), ('1739885', 'David Hawkes', 32), ('2672693', 'Philip G Batchelor', 7)]\n",
      "Is Leaf: 1\n",
      "ReferenceCount: 174\n",
      "Its referenced by [(1,)]\n",
      "It references [(0,)]\n",
      "----------------------------\n"
     ]
    }
   ],
   "source": [
    "title = \"Medical Image Registration\"\n",
    "cursor.execute(\"select p.PaperID, p.Leaf, p.ReferenceCount from Papers p where p.Title = %s group by p.PaperID, p.Leaf\", [title])\n",
    "informations = cursor.fetchall()\n",
    "\n",
    "print(title)\n",
    "for information in informations:\n",
    "    print(information[0])\n",
    "    cursor.execute(\"select b2.AuthoredByID, a.Name, count(*) from Papers p, authoredBy b, Authors a, authoredBy b2 where p.PaperID=%s and p.PaperID = b.PaperID and b.AuthoredByID = a.AuthorID and a.AuthorID = b2.AuthoredByID group by a.AuthorID, a.Name\",[information[0]])\n",
    "    author_information = cursor.fetchall()\n",
    "    print(author_information)\n",
    "    print(f\"Is Leaf: {information[1]}\")\n",
    "    print(f\"ReferenceCount: {information[2]}\")\n",
    "    cursor.execute(\"select count(*) from referencedBy r where r.ReferenceID=%s\",[information[0]])\n",
    "    referencedBy = cursor.fetchall()\n",
    "    print(f\"Its referenced by {referencedBy}\")\n",
    "    cursor.execute(\"select count(*) from referencedBy r where r.ReferencedByID=%s\",[information[0]])\n",
    "    references = cursor.fetchall()\n",
    "    print(f\"It references {references}\")\n",
    "    print(\"----------------------------\")"
   ],
   "metadata": {
    "collapsed": false
   }
  },
  {
   "cell_type": "code",
   "execution_count": 78,
   "outputs": [],
   "source": [
    "master_node = \"003d82c5051e959d834de7cdda6ee8441fa0119a\"\n",
    "replace_node = \"e429d550cac5a7d9f6941e3ff50cd1d9cc399ba4\""
   ],
   "metadata": {
    "collapsed": false
   }
  },
  {
   "cell_type": "code",
   "execution_count": 79,
   "outputs": [],
   "source": [
    "# Delete Duplicate referencedBy entries\n",
    "cursor.execute(\"select * from referencedBy r where r.ReferenceID = %s or r.ReferenceID = %s\", [master_node, replace_node])\n",
    "list_referenced = cursor.fetchall()\n",
    "list_referenced = [list_referenced[1] for list_referenced in list_referenced]\n",
    "unique_duplicates = set([number for number in list_referenced if list_referenced.count(number) > 1])\n",
    "for x in unique_duplicates:\n",
    "    cursor.execute(\"DELETE FROM referencedBy r where r.ReferenceID = %s and r.ReferencedByID = %s\", [replace_node, x])\n",
    "\n",
    "# Delete Duplicate referenced entries\n",
    "cursor.execute(\"select * from referencedBy r where r.ReferencedByID = %s or r.ReferencedByID = %s\", [master_node, replace_node])\n",
    "list_referenced = cursor.fetchall()\n",
    "list_referenced = [list_referenced[1] for list_referenced in list_referenced]\n",
    "unique_duplicates = set([number for number in list_referenced if list_referenced.count(number) > 1])\n",
    "for x in unique_duplicates:\n",
    "    cursor.execute(\"DELETE FROM referencedBy r where r.ReferencedByID = %s and r.ReferenceID = %s\", [replace_node, x])\n",
    "\n",
    "cursor.execute(\"UPDATE referencedBy SET ReferenceID = %s where ReferenceID = %s\",[master_node, replace_node])\n",
    "cursor.execute(\"UPDATE referencedBy SET ReferencedByID = %s where ReferencedByID = %s\",[master_node, replace_node])"
   ],
   "metadata": {
    "collapsed": false
   }
  },
  {
   "cell_type": "code",
   "execution_count": 71,
   "outputs": [
    {
     "data": {
      "text/plain": "'ea339bfdad0ba956f0bc28451d13f1ed534d2344'"
     },
     "execution_count": 71,
     "metadata": {},
     "output_type": "execute_result"
    }
   ],
   "source": [
    "replace_node"
   ],
   "metadata": {
    "collapsed": false
   }
  },
  {
   "cell_type": "code",
   "execution_count": 82,
   "outputs": [],
   "source": [
    "# Delete Paper information\n",
    "cursor.execute(\"DELETE FROM authoredBy b where b.PaperID=%s\", [replace_node])\n",
    "cursor.execute(\"DELETE FROM Papers p where p.PaperID=%s\", [replace_node])"
   ],
   "metadata": {
    "collapsed": false
   }
  },
  {
   "cell_type": "code",
   "execution_count": 73,
   "outputs": [],
   "source": [
    "# Delete Author Information\n",
    "replace_author = [('1583081280', 'LuCewu', 1), ('1643932411', 'JiaJiaya', 1), ('2094729437', 'XuLi', 1), ('91195604', 'XuYi', 1)]\n",
    "\n",
    "for author in replace_author:\n",
    "    cursor.execute(\"delete from Authors a where a.AuthorID=%s\", [author[0]])"
   ],
   "metadata": {
    "collapsed": false
   }
  },
  {
   "cell_type": "code",
   "execution_count": 83,
   "outputs": [],
   "source": [
    "cnx.commit()"
   ],
   "metadata": {
    "collapsed": false
   }
  },
  {
   "cell_type": "code",
   "execution_count": 63,
   "outputs": [
    {
     "data": {
      "text/plain": "True"
     },
     "execution_count": 63,
     "metadata": {},
     "output_type": "execute_result"
    }
   ],
   "source": [
    "cursor.close()"
   ],
   "metadata": {
    "collapsed": false
   }
  },
  {
   "cell_type": "code",
   "execution_count": 33,
   "outputs": [],
   "source": [
    "cnx.close()"
   ],
   "metadata": {
    "collapsed": false
   }
  },
  {
   "cell_type": "code",
   "execution_count": null,
   "outputs": [],
   "source": [],
   "metadata": {
    "collapsed": false
   }
  }
 ],
 "metadata": {
  "kernelspec": {
   "display_name": "Python 3",
   "language": "python",
   "name": "python3"
  },
  "language_info": {
   "codemirror_mode": {
    "name": "ipython",
    "version": 2
   },
   "file_extension": ".py",
   "mimetype": "text/x-python",
   "name": "python",
   "nbconvert_exporter": "python",
   "pygments_lexer": "ipython2",
   "version": "2.7.6"
  }
 },
 "nbformat": 4,
 "nbformat_minor": 0
}
