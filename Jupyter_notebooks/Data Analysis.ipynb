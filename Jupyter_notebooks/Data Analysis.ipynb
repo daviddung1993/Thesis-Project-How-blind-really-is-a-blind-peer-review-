{
 "cells": [
  {
   "cell_type": "markdown",
   "source": [
    "## Simple Count Approach\n",
    "We assume that the most-cited author is the author them self.\n",
    "The accuracy might improve using the discriminative approach: a seldom-cited paper might give a better hint about the author\n",
    "\n",
    "Robustness:\n",
    "(papers of which authors have published > 1 papers)\n",
    "relative citation count\n",
    "institution, country of publication, gender\n",
    "Exploratory (graph) data analysis\n",
    "\n",
    "### Features:\n",
    "\n",
    "- aggregate and count number of authors' names\n",
    "- Discrimative: references' citation count / maybe h-index\n",
    "\n",
    "### Labels:\n",
    "- authors' name\n",
    "\n",
    "### Open Questions:\n",
    "- What does \"largest number of citations\" mean?\n",
    "\n",
    "## Characteristic Vector Classifier\n",
    "Given a depth d, we could create a characteristic vector for each paper/author, perform a graph traversal for a new input and classify it using the cosine similarity\n",
    "\n",
    "### Features:\n",
    "- depht d references' authors/papers as vectors\n",
    "- (discriminative approach e.g. referenceCount, h-index)?\n",
    "\n",
    "### Labels:\n",
    "- author\n",
    "\n",
    "## Random Walk Classifier\n",
    "Assuming that authors write about similar topics, this could motivate the Random Walk as probabilistic approach\n",
    "\n",
    "1. Repeat the following 10, 000 times:\n",
    "2. Pick a random paper r that P cites.\n",
    "3. Pick a random paper s that cites r (excluding P).\n",
    "4. Let r = s. With probability 2/3, HALT and add probability mass to each author\n",
    "of r. with probability 1/3, go to step 3.\n",
    "\n",
    "### (Distributed) Graph Neural Network\n",
    "\n",
    "### Features:\n",
    "- Vector of authors\n",
    "- (Vector of papers)\n",
    "- (h - index as weight?)\n",
    "\n",
    "### Labels:\n",
    "- author\n",
    "\n",
    "### General Questions:\n",
    "- Is it feasible to extract the institution/country/gender?\n",
    "\n"
   ],
   "metadata": {
    "collapsed": false
   }
  },
  {
   "cell_type": "code",
   "execution_count": 1,
   "outputs": [],
   "source": [
    "import matplotlib.pyplot as plt\n",
    "import mysql.connector\n",
    "import networkx as nx\n",
    "import csv\n",
    "import pandas as pd"
   ],
   "metadata": {
    "collapsed": false
   }
  },
  {
   "cell_type": "code",
   "execution_count": 2,
   "outputs": [],
   "source": [
    "# Establish database connection\n",
    "cnx = mysql.connector.connect(user='david', password='daviddung1993',\n",
    "                              host='127.0.0.1',\n",
    "                              database='computervision')\n",
    "cursor = cnx.cursor()"
   ],
   "metadata": {
    "collapsed": false
   }
  },
  {
   "cell_type": "code",
   "execution_count": 12,
   "outputs": [
    {
     "name": "stdout",
     "output_type": "stream",
     "text": [
      "Total papers: 467620\n",
      "Paper references: 439587\n",
      "Papers: 28033\n",
      "Papers with at least one reference: 27824\n"
     ]
    }
   ],
   "source": [
    "# Return Number of Papers\n",
    "cursor.execute(\"SELECT count(*) FROM Papers p WHERE p.Leaf = TRUE\")\n",
    "total_paper_without_references = cursor.fetchone()[0]\n",
    "cursor.execute(\"SELECT count(*) FROM Papers p WHERE p.Leaf = FALSE\")\n",
    "total_paper_with_references = cursor.fetchone()[0]\n",
    "cursor.execute(\"SELECT count(*) FROM Papers p WHERE p.Leaf = FALSE AND p.ReferenceCount > 0\")\n",
    "total_paper_at_least_one = cursor.fetchone()[0]\n",
    "print(f\"Total papers: {total_paper_without_references + total_paper_with_references}\")\n",
    "print(f\"Paper references: {total_paper_without_references}\")\n",
    "print(f\"Papers: {total_paper_with_references}\")\n",
    "print(f\"Papers with at least one reference: {total_paper_at_least_one}\")"
   ],
   "metadata": {
    "collapsed": false
   }
  },
  {
   "cell_type": "code",
   "execution_count": 70,
   "outputs": [
    {
     "data": {
      "text/plain": "37.473"
     },
     "execution_count": 70,
     "metadata": {},
     "output_type": "execute_result"
    }
   ],
   "source": [
    "cursor.execute(\"SELECT AVG(p.ReferenceCount) FROM Papers p WHERE p.Leaf = FALSE AND p.ReferenceCount > 0 \")\n",
    "float(cursor.fetchall()[0][0])"
   ],
   "metadata": {
    "collapsed": false
   }
  },
  {
   "cell_type": "code",
   "execution_count": 86,
   "outputs": [
    {
     "data": {
      "text/plain": "<Figure size 432x288 with 1 Axes>",
      "image/png": "[encoded data removed]"
     },
     "metadata": {
      "needs_background": "light"
     },
     "output_type": "display_data"
    }
   ],
   "source": [
    "cursor.execute(\"SELECT p.Pub_Year,COUNT(*)  FROM Papers p  GROUP BY p.Pub_Year\")\n",
    "year_distribution = cursor.fetchall()\n",
    "year_distribution_sorted = sorted(year_distribution, key=lambda tup: tup[0] if tup[0] else 0)\n",
    "year = []\n",
    "year_amount = []\n",
    "for el in year_distribution_sorted:\n",
    "    if el[0]:\n",
    "        if 1900 < el[0] < 2022:\n",
    "            year.append(el[0])\n",
    "            year_amount.append(el[1])\n",
    "plt.plot(sorted(year), year_amount)\n",
    "plt.show()"
   ],
   "metadata": {
    "collapsed": false
   }
  },
  {
   "cell_type": "code",
   "execution_count": 87,
   "outputs": [
    {
     "data": {
      "text/plain": "[(None, 14904),\n (114, 1),\n (195, 1),\n (197, 1),\n (201, 1),\n (272, 1),\n (835, 1),\n (943, 1),\n (1000, 2),\n (1007, 2),\n (1016, 1),\n (1024, 1),\n (1030, 1),\n (1035, 1),\n (1037, 1),\n (1038, 4),\n (1043, 1),\n (1056, 1),\n (1067, 1),\n (1075, 1),\n (1087, 1),\n (1104, 1),\n (1109, 4),\n (1110, 1),\n (1112, 2),\n (1114, 1),\n (1165, 1),\n (1204, 1),\n (1206, 1),\n (1215, 1),\n (1222, 1),\n (1232, 1),\n (1259, 1),\n (1272, 1),\n (1301, 1),\n (1305, 1),\n (1310, 1),\n (1311, 1),\n (1312, 2),\n (1361, 2),\n (1365, 1),\n (1377, 1),\n (1401, 1),\n (1405, 1),\n (1407, 1),\n (1409, 5),\n (1411, 3),\n (1412, 3),\n (1424, 1),\n (1434, 1),\n (1449, 1),\n (1451, 1),\n (1480, 1),\n (1482, 2),\n (1490, 1),\n (1503, 1),\n (1505, 1),\n (1506, 1),\n (1507, 1),\n (1512, 2),\n (1524, 2),\n (1528, 1),\n (1531, 1),\n (1541, 1),\n (1545, 1),\n (1559, 1),\n (1569, 1),\n (1579, 1),\n (1602, 1),\n (1603, 1),\n (1606, 2),\n (1607, 1),\n (1615, 1),\n (1687, 1),\n (1694, 1),\n (1703, 1),\n (1704, 1),\n (1709, 1),\n (1712, 1),\n (1714, 1),\n (1719, 1),\n (1750, 1),\n (1759, 1),\n (1760, 7),\n (1776, 1),\n (1784, 1),\n (1786, 1),\n (1795, 1),\n (1802, 5),\n (1803, 2),\n (1804, 3),\n (1805, 4),\n (1806, 3),\n (1808, 1),\n (1810, 2),\n (1811, 2),\n (1812, 8),\n (1817, 1),\n (1818, 2),\n (1819, 1),\n (1821, 1),\n (1828, 1),\n (1831, 3),\n (1832, 2),\n (1834, 1),\n (1838, 1),\n (1839, 1),\n (1840, 1),\n (1841, 4),\n (1844, 2),\n (1845, 2),\n (1846, 2),\n (1847, 8),\n (1848, 1),\n (1850, 2),\n (1851, 2),\n (1853, 1),\n (1854, 5),\n (1855, 3),\n (1856, 2),\n (1857, 2),\n (1858, 1),\n (1859, 3),\n (1860, 4),\n (1865, 3),\n (1866, 1),\n (1867, 1),\n (1869, 3),\n (1870, 2),\n (1871, 5),\n (1872, 2),\n (1873, 3),\n (1874, 1),\n (1875, 1),\n (1877, 3),\n (1878, 4),\n (1879, 4),\n (1880, 1),\n (1881, 6),\n (1882, 1),\n (1883, 4),\n (1884, 1),\n (1885, 3),\n (1886, 2),\n (1887, 3),\n (1888, 3),\n (1889, 2),\n (1890, 8),\n (1891, 3),\n (1892, 4),\n (1893, 5),\n (1894, 3),\n (1895, 5),\n (1896, 4),\n (1897, 2),\n (1898, 7),\n (1899, 15),\n (1900, 4),\n (1901, 20),\n (1902, 16),\n (1903, 9),\n (1904, 24),\n (1905, 17),\n (1906, 15),\n (1907, 24),\n (1908, 30),\n (1909, 9),\n (1910, 13),\n (1911, 13),\n (1912, 14),\n (1913, 5),\n (1914, 2),\n (1915, 13),\n (1916, 7),\n (1917, 16),\n (1918, 15),\n (1919, 11),\n (1920, 8),\n (1921, 4),\n (1922, 10),\n (1923, 12),\n (1924, 23),\n (1925, 14),\n (1926, 4),\n (1927, 15),\n (1928, 24),\n (1929, 19),\n (1930, 22),\n (1931, 24),\n (1932, 25),\n (1933, 29),\n (1934, 23),\n (1935, 44),\n (1936, 31),\n (1937, 41),\n (1938, 32),\n (1939, 27),\n (1940, 17),\n (1941, 22),\n (1942, 19),\n (1943, 27),\n (1944, 21),\n (1945, 21),\n (1946, 55),\n (1947, 31),\n (1948, 59),\n (1949, 81),\n (1950, 54),\n (1951, 85),\n (1952, 79),\n (1953, 70),\n (1954, 69),\n (1955, 77),\n (1956, 88),\n (1957, 116),\n (1958, 89),\n (1959, 109),\n (1960, 121),\n (1961, 123),\n (1962, 198),\n (1963, 144),\n (1964, 154),\n (1965, 203),\n (1966, 187),\n (1967, 228),\n (1968, 248),\n (1969, 233),\n (1970, 290),\n (1971, 276),\n (1972, 270),\n (1973, 332),\n (1974, 315),\n (1975, 366),\n (1976, 374),\n (1977, 420),\n (1978, 452),\n (1979, 476),\n (1980, 526),\n (1981, 503),\n (1982, 596),\n (1983, 603),\n (1984, 636),\n (1985, 704),\n (1986, 815),\n (1987, 950),\n (1988, 990),\n (1989, 1169),\n (1990, 1310),\n (1991, 1408),\n (1992, 1719),\n (1993, 1772),\n (1994, 2115),\n (1995, 2448),\n (1996, 2548),\n (1997, 2958),\n (1998, 3491),\n (1999, 3710),\n (2000, 4515),\n (2001, 4579),\n (2002, 5168),\n (2003, 6099),\n (2004, 7119),\n (2005, 7718),\n (2006, 8529),\n (2007, 9688),\n (2008, 10647),\n (2009, 11726),\n (2010, 13236),\n (2011, 13975),\n (2012, 15949),\n (2013, 16714),\n (2014, 19105),\n (2015, 21524),\n (2016, 23319),\n (2017, 24331),\n (2018, 23767),\n (2019, 16793),\n (2020, 2934),\n (2021, 654),\n (2022, 60)]"
     },
     "execution_count": 87,
     "metadata": {},
     "output_type": "execute_result"
    }
   ],
   "source": [
    "year_distribution_sorted"
   ],
   "metadata": {
    "collapsed": false
   }
  },
  {
   "cell_type": "code",
   "execution_count": 77,
   "outputs": [
    {
     "data": {
      "text/plain": "<Figure size 432x288 with 1 Axes>",
      "image/png": "[encoded data removed]"
     },
     "metadata": {
      "needs_background": "light"
     },
     "output_type": "display_data"
    }
   ],
   "source": [
    "cursor.execute(\"SELECT p.ReferenceCount,COUNT(*) FROM Papers p WHERE p.ReferenceCount > 0 AND p.Leaf = FALSE GROUP BY p.ReferenceCount\")\n",
    "ref_distribution = cursor.fetchall()\n",
    "ref_distribution_sorted = sorted(ref_distribution, key=lambda tup: tup[1])\n",
    "ref = []\n",
    "ref_amount = []\n",
    "for el in ref_distribution_sorted:\n",
    "    if el[0]:\n",
    "        if el[0] < 1400:\n",
    "            ref.append(el[0])\n",
    "            ref_amount.append(el[1])\n",
    "plt.hist(ref_amount)\n",
    "plt.show()"
   ],
   "metadata": {
    "collapsed": false
   }
  },
  {
   "cell_type": "code",
   "execution_count": 107,
   "outputs": [],
   "source": [
    "cursor.execute(\"SELECT ReferenceID,ReferencedByID FROM referencedBy r\")\n",
    "references = cursor.fetchall()"
   ],
   "metadata": {
    "collapsed": false
   }
  },
  {
   "cell_type": "code",
   "execution_count": 108,
   "outputs": [],
   "source": [
    "references_df = pd.DataFrame(references, columns=[\"Source\", \"Target\"])"
   ],
   "metadata": {
    "collapsed": false
   }
  },
  {
   "cell_type": "code",
   "execution_count": 109,
   "outputs": [],
   "source": [
    "references_df.to_csv(\"references2.csv\", index=\"False\")"
   ],
   "metadata": {
    "collapsed": false
   }
  },
  {
   "cell_type": "code",
   "execution_count": null,
   "outputs": [],
   "source": [],
   "metadata": {
    "collapsed": false
   }
  }
 ],
 "metadata": {
  "kernelspec": {
   "display_name": "Python 3",
   "language": "python",
   "name": "python3"
  },
  "language_info": {
   "codemirror_mode": {
    "name": "ipython",
    "version": 2
   },
   "file_extension": ".py",
   "mimetype": "text/x-python",
   "name": "python",
   "nbconvert_exporter": "python",
   "pygments_lexer": "ipython2",
   "version": "2.7.6"
  }
 },
 "nbformat": 4,
 "nbformat_minor": 0
}
