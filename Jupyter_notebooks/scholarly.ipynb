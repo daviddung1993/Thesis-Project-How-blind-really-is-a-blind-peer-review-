{
 "cells": [
  {
   "cell_type": "code",
   "execution_count": 4,
   "metadata": {
    "collapsed": true
   },
   "outputs": [],
   "source": [
    "\n",
    "import requests\n",
    "import mysql.connector\n",
    "import time\n",
    "import random\n",
    "import selenium as se\n",
    "from collections import Counter\n",
    "from bs4 import BeautifulSoup\n",
    "from difflib import SequenceMatcher\n",
    "import unicodedata"
   ]
  },
  {
   "cell_type": "code",
   "execution_count": 5,
   "outputs": [],
   "source": [
    "cnx = mysql.connector.connect(user='david', password='daviddung1993',\n",
    "                          host='127.0.0.1',\n",
    "                          database='computervision')\n",
    "cursor = cnx.cursor()\n",
    "headers = {\"x-api-key\": \"M7HSjQNeTfai6l7JUiDZB8XYc85BHnHt3R0NXSEd\"}\n",
    "#pg = ProxyGenerator()"
   ],
   "metadata": {
    "collapsed": false
   }
  },
  {
   "cell_type": "code",
   "execution_count": 3,
   "outputs": [],
   "source": [
    "def similar(a, b):\n",
    "    return SequenceMatcher(None, a, b).ratio()\n",
    "\n",
    "def preprocess_author_name(name):\n",
    "    return unicodedata.normalize('NFD', name.lower().replace(\"ü\", \"ue\").replace(\"ß\", \"ss\").replace(\"ä\",\"ae\").replace(\"ö\", \"oe\")).encode('ascii', 'ignore').decode(\"utf-8\") .replace(\"-\", \" \")"
   ],
   "metadata": {
    "collapsed": false
   }
  },
  {
   "cell_type": "code",
   "execution_count": 6,
   "outputs": [],
   "source": [
    "cursor.execute(\"select distinct p.PaperID, p.Title, GROUP_CONCAT(b.AuthoredByID, ':',  a.Name), p.DOI, count(*) from Papers p, authoredBy b, Authors a where p.PaperID not like '1111%' and p.DOI like '%/%' and p.PaperID = b.PaperID and a.AuthorID = b.AuthoredByID group by p.PaperID, p.Title, p.DOI\")\n",
    "left_papers = cursor.fetchall()"
   ],
   "metadata": {
    "collapsed": false
   }
  },
  {
   "cell_type": "code",
   "execution_count": 14,
   "outputs": [],
   "source": [
    "all_prefixes = [paper[3].split(\"/\")[0] for paper in left_papers]\n",
    "all_prefix = list(set(all_prefixes))"
   ],
   "metadata": {
    "collapsed": false
   }
  },
  {
   "cell_type": "code",
   "execution_count": 15,
   "outputs": [
    {
     "name": "stdout",
     "output_type": "stream",
     "text": [
      "0\n",
      "10\n",
      "20\n",
      "30\n",
      "40\n",
      "50\n",
      "60\n",
      "70\n",
      "80\n",
      "90\n",
      "100\n",
      "110\n",
      "120\n",
      "130\n",
      "140\n",
      "150\n",
      "160\n",
      "170\n",
      "180\n",
      "190\n",
      "200\n",
      "210\n",
      "220\n",
      "230\n",
      "240\n",
      "250\n",
      "260\n",
      "270\n",
      "280\n",
      "290\n",
      "300\n",
      "310\n",
      "320\n",
      "330\n",
      "340\n",
      "350\n",
      "360\n",
      "370\n",
      "380\n",
      "390\n",
      "400\n",
      "410\n",
      "420\n",
      "430\n",
      "440\n",
      "450\n",
      "460\n",
      "470\n",
      "480\n",
      "490\n",
      "500\n",
      "510\n",
      "520\n",
      "530\n",
      "540\n",
      "550\n",
      "560\n",
      "570\n",
      "580\n",
      "590\n",
      "600\n",
      "610\n",
      "620\n",
      "630\n",
      "640\n",
      "650\n",
      "660\n",
      "670\n",
      "680\n",
      "690\n",
      "700\n",
      "710\n",
      "720\n",
      "730\n",
      "740\n",
      "750\n",
      "760\n",
      "770\n",
      "780\n",
      "790\n",
      "800\n",
      "810\n",
      "820\n",
      "830\n",
      "840\n",
      "850\n",
      "860\n",
      "870\n",
      "880\n",
      "890\n",
      "900\n",
      "910\n",
      "920\n",
      "930\n",
      "940\n",
      "950\n",
      "960\n",
      "970\n",
      "980\n",
      "990\n",
      "1000\n",
      "1010\n",
      "1020\n",
      "1030\n",
      "1040\n",
      "1050\n",
      "1060\n",
      "1070\n",
      "1080\n",
      "1090\n",
      "1100\n",
      "1110\n",
      "1120\n",
      "1130\n",
      "1140\n",
      "1150\n",
      "1160\n",
      "1170\n",
      "1180\n",
      "1190\n",
      "1200\n",
      "1210\n",
      "1220\n",
      "1230\n",
      "1240\n",
      "1250\n",
      "1260\n",
      "1270\n",
      "1280\n",
      "1290\n",
      "1300\n",
      "1310\n",
      "1320\n",
      "1330\n",
      "1340\n",
      "1350\n",
      "1360\n",
      "1370\n",
      "1380\n",
      "1390\n",
      "1400\n",
      "1410\n",
      "1420\n",
      "1430\n",
      "1440\n",
      "1450\n",
      "1460\n",
      "1470\n",
      "1480\n",
      "1490\n",
      "1500\n",
      "1510\n",
      "1520\n",
      "1530\n",
      "1540\n",
      "1550\n",
      "1560\n",
      "1570\n",
      "1580\n",
      "1590\n",
      "1600\n",
      "1610\n",
      "1620\n",
      "1630\n",
      "1640\n",
      "1650\n",
      "1660\n",
      "1670\n",
      "1680\n",
      "1690\n",
      "1700\n",
      "1710\n",
      "1720\n",
      "1730\n",
      "1740\n",
      "1750\n",
      "1760\n",
      "1770\n",
      "1780\n",
      "1790\n",
      "1800\n",
      "1810\n",
      "1820\n",
      "1830\n",
      "1840\n",
      "1850\n",
      "1860\n",
      "1870\n",
      "1880\n",
      "1890\n",
      "1900\n",
      "1910\n",
      "1920\n",
      "1930\n",
      "1940\n",
      "1950\n",
      "1960\n",
      "1970\n",
      "1980\n",
      "1990\n",
      "2000\n",
      "2010\n",
      "2020\n",
      "2030\n",
      "2040\n",
      "2050\n",
      "2060\n",
      "2070\n",
      "2080\n",
      "2090\n",
      "2100\n",
      "2110\n",
      "2120\n",
      "2130\n",
      "2140\n",
      "2150\n",
      "2160\n",
      "2170\n",
      "2180\n",
      "2190\n",
      "2200\n",
      "2210\n",
      "2220\n",
      "2230\n",
      "2240\n",
      "2250\n",
      "2260\n",
      "2270\n",
      "2280\n",
      "2290\n",
      "2300\n",
      "2310\n",
      "2320\n",
      "2330\n"
     ]
    }
   ],
   "source": [
    "journal_prefix = {}\n",
    "\n",
    "for idx, prefix in enumerate(all_prefix):\n",
    "    if idx % 10 == 0:\n",
    "        print(idx)\n",
    "    try:\n",
    "        resp = requests.get(f\"https://api.crossref.org/prefixes/{prefix}\").json()\n",
    "        journal_prefix[prefix] = resp[\"message\"][\"name\"]\n",
    "    except ValueError:\n",
    "        journal_prefix[prefix] = None"
   ],
   "metadata": {
    "collapsed": false
   }
  },
  {
   "cell_type": "code",
   "execution_count": 16,
   "outputs": [],
   "source": [
    "grouped_journals = {}\n",
    "grouped_journal_ids = {}\n",
    "x = Counter(all_prefixes)\n",
    "for k, v in x.items():\n",
    "    if journal_prefix[k] not in grouped_journals:\n",
    "        grouped_journals[journal_prefix[k]] = v\n",
    "        grouped_journal_ids[journal_prefix[k]] = [k]\n",
    "    else:\n",
    "        grouped_journals[journal_prefix[k]] += v\n",
    "        grouped_journal_ids[journal_prefix[k]].append(k)"
   ],
   "metadata": {
    "collapsed": false
   }
  },
  {
   "cell_type": "code",
   "execution_count": 17,
   "outputs": [
    {
     "data": {
      "text/plain": "[('Institute of Electrical and Electronics Engineers (IEEE)', 136666),\n ('Springer Science and Business Media LLC', 59425),\n ('Elsevier BV', 54838),\n ('Association for Computing Machinery (ACM)', 20566),\n (None, 14315),\n ('Wiley', 12931),\n ('MDPI AG', 6938),\n ('Informa UK Limited', 6367),\n ('SPIE-Intl Soc Optical Eng', 6324),\n ('Association for Computational Linguistics (ACL)', 3975),\n ('Association for the Advancement of Artificial Intelligence (AAAI)', 3794),\n ('Optica Publishing Group', 3279),\n ('Oxford University Press (OUP)', 3245),\n ('IOP Publishing', 2976),\n ('SAGE Publications', 2573),\n ('Society for Industrial & Applied Mathematics (SIAM)', 2324),\n ('Ovid Technologies (Wolters Kluwer Health)', 2167),\n ('Public Library of Science (PLoS)', 2095),\n ('Frontiers Media SA', 2025),\n ('Hindawi Limited', 1686),\n ('JSTOR', 1611),\n ('Institution of Engineering and Technology (IET)', 1595),\n ('MIT Press', 1465),\n ('Cambridge University Press (CUP)', 1460),\n ('International Joint Conferences on Artificial Intelligence', 1205),\n ('American Association for the Advancement of Science (AAAS)', 1157),\n ('American Psychological Association (APA)', 1140),\n ('World Scientific Pub Co Pte Ltd', 1130),\n ('British Machine Vision Association and Society for Pattern Recognition',\n  1080),\n ('American Physical Society (APS)', 1041),\n ('Cold Spring Harbor Laboratory', 1040),\n ('Proceedings of the National Academy of Sciences', 1026),\n ('Radiological Society of North America (RSNA)', 995),\n ('Copernicus GmbH', 947),\n ('INSTICC', 905),\n ('Institute of Mathematical Statistics', 815),\n ('International Speech Communication Association', 808),\n ('BMJ', 790),\n ('Association for Research in Vision and Ophthalmology (ARVO)', 770),\n ('American Medical Association (AMA)', 712),\n ('AIP Publishing', 670),\n ('American Chemical Society (ACS)', 647),\n ('Walter de Gruyter GmbH', 625),\n ('IOS Press', 595),\n ('The Royal Society', 582),\n ('Test accounts', 495),\n ('American Library Association', 489),\n ('American Meteorological Society', 485),\n ('American Mathematical Society (AMS)', 479),\n ('American Geophysical Union (AGU)', 449),\n ('Society for Neuroscience', 446),\n ('Annual Reviews', 410),\n ('University of Chicago Press', 402),\n ('EDP Sciences', 400),\n ('Academy and Industry Research Collaboration Center (AIRCC)', 367),\n ('Robotics: Science and Systems Foundation', 360),\n ('Foundation of Computer Science', 345),\n ('Society of Exploration Geophysicists', 339),\n ('American Physiological Society', 332),\n ('Acoustical Society of America (ASA)', 324),\n ('American Institute of Aeronautics and Astronautics (AIAA)', 318),\n ('Emerald', 317),\n ('American Society of Civil Engineers (ASCE)', 308),\n ('American Roentgen Ray Society', 298),\n ('Medknow', 298),\n ('Society for Imaging Science & Technology', 298),\n ('IGI Global', 292),\n ('ASME International', 287),\n ('IntechOpen', 274),\n ('Massachusetts Medical Society', 268),\n ('Institute for Operations Research and the Management Sciences (INFORMS)',\n  256),\n ('Pion Ltd', 219),\n ('American Astronomical Society', 218),\n ('Inderscience Publishers', 213),\n ('Mary Ann Liebert Inc', 204),\n ('Royal Society of Chemistry (RSC)', 190),\n ('S. Karger AG', 189),\n ('American Association for Cancer Research (AACR)', 186),\n ('Georg Thieme Verlag KG', 182),\n ('American Institute of Mathematical Sciences (AIMS)', 164),\n ('Scientific Research Publishing, Inc.', 159),\n ('American Society for Photogrammetry and Remote Sensing', 154),\n ('Institute of Electronics, Information and Communications Engineers (IEICE)',\n  154),\n ('British Institute of Radiology', 151),\n ('AI Access Foundation', 148),\n ('The Science and Information Organization', 147),\n ('Bentham Science Publishers Ltd.', 147),\n ('VLDB Endowment', 145),\n ('American Society of Clinical Oncology (ASCO)', 145),\n ('JMIR Publications Inc.', 142),\n ('American Society of Neuroradiology (ASNR)', 138),\n ('Now Publishers', 137),\n ('Pleiades Publishing Ltd', 137),\n ('Defense Technical Information Center (DTIC)', 134),\n ('Transportation Research Board', 134),\n ('Brill', 133),\n ('International Union of Crystallography (IUCr)', 133),\n ('eLife Sciences Publications, Ltd', 127),\n ('FapUNIFESP (SciELO)', 118),\n ('International Press of Boston', 116),\n ('Atlantis Press SARL', 113),\n ('Society of Nuclear Medicine', 113),\n ('AME Publishing Company', 113),\n ('Office of Scientific and Technical Information (OSTI)', 111),\n ('PeerJ', 111),\n ('Academy Publisher', 105),\n ('American Society of Agricultural and Biological Engineers (ASABE)', 101),\n ('The Company of Biologists', 100),\n ('Journal of Neurosurgery Publishing Group (JNSPG)', 99),\n ('Image Processing On Line', 98),\n ('Baishideng Publishing Group Inc.', 98),\n ('American College of Physicians', 91),\n ('MECS Publisher', 91),\n ('American Thoracic Society', 91),\n ('Trans Tech Publications, Ltd.', 90),\n ('IACSIT Press', 88),\n ('Foundation for Open Access Statistic', 85),\n ('Science and Engineering Research Support Society', 84),\n ('Center for Open Science', 82),\n ('SAE International', 81),\n ('Maney Publishing', 77),\n ('The Open Journal', 75),\n ('Zhejiang University Press', 73),\n ('Morgan & Claypool Publishers LLC', 71),\n ('National Institute of Standards and Technology (NIST)', 69),\n ('CSIRO Publishing', 69),\n ('European Alliance for Innovation n.o.', 68),\n ('American Diabetes Association', 67),\n ('Project Muse', 67),\n ('American Society for Microbiology', 66),\n ('Research Square Platform LLC', 65),\n ('IBM', 63),\n ('NumFOCUS - Insight Software Consortium (ITK)', 61),\n ('John Benjamins Publishing Company', 60),\n ('Global Science Press', 59),\n ('American Academy of Pediatrics (AAP)', 59),\n ('American Association of Physics Teachers (AAPT)', 58),\n ('Science Publications', 58),\n ('European Mathematical Society - EMS - Publishing House GmbH', 58),\n ('American Scientific Publishers', 57),\n ('Internet Society', 54),\n ('American Speech Language Hearing Association', 54),\n ('OMICS Publishing Group', 53),\n ('Society of Petroleum Engineers (SPE)', 51),\n ('Information Processing Society of Japan', 51),\n ('European Respiratory Society (ERS)', 50),\n ('Seventh Sense Research Group Journals', 50),\n ('Columbia University Libraries', 50),\n ('Institute of Advanced Engineering and Science', 49),\n ('Ubiquity Press, Ltd.', 48),\n ('Qeios Ltd', 47),\n ('The Scientific and Technological Research Council of Turkey (TUBITAK-ULAKBIM)',\n  47),\n ('Computing in Cardiology', 46),\n ('Indian Society for Education and Environment', 45),\n ('Science Alert', 45),\n ('Bloomsbury Academic', 44),\n ('Scholarpedia', 43),\n ('Distill Working Group', 43),\n ('EJournal Publishing', 43),\n ('Computers, Materials and Continua (Tech Science Press)', 42),\n ('Mathematical Sciences Publishers', 42),\n ('China Science Publishing & Media Ltd.', 42),\n ('Fuji Technology Press Ltd.', 42),\n ('Korean Society for Internet Information (KSII)', 41),\n ('Rockefeller University Press', 40),\n ('Canadian Science Publishing', 40),\n ('EAGE Publications bv', 39),\n ('ASTM International', 38),\n ('American Economic Association', 38),\n ('Duke University Press', 38),\n ('ACTA Press', 37),\n ('Impact Journals, LLC', 37),\n ('Japan Society of Applied Physics', 37),\n ('American Society of Plant Biologists (ASPB)', 37),\n ('Ivyspring International Publisher', 37),\n ('Archives of Pathology and Laboratory Medicine', 36),\n ('American Psychiatric Association Publishing', 36),\n ('The Korean Society of Radiology', 36),\n ('Shanghai Institute of Optics and Fine Mechanics', 35),\n ('American Public Health Association', 35),\n ('Society of Motion Picture and Television Engineers (SMPTE)', 35),\n ('IOSR Journals', 35),\n ('University of Bern', 34),\n ('The University of Iowa', 34),\n ('AICIT', 33),\n ('The Electrochemical Society', 33),\n ('MyJove Corporation', 33),\n ('Blue Eyes Intelligence Engineering and Sciences Engineering and Sciences Publication - BEIESP',\n  33),\n ('University of California Press', 32),\n ('Future Medicine Ltd', 32),\n ('Tsinghua University Press', 32),\n ('Ammons Scientific', 31),\n ('EasyChair', 31),\n ('International Glaciological Society', 31),\n ('International Association for Automation and Robotics in Construction (IAARC)',\n  30),\n ('SLACK, Inc.', 30),\n ('Engineering and Technology Publishing', 30),\n ('Inter-Research Science Center', 30),\n ('Multi-Science Publishing Co. Ltd.', 29),\n ('American Society for Biochemistry & Molecular Biology (ASBMB)', 29),\n ('US Geological Survey', 29),\n ('American College of Medical Physics (ACMP)', 29),\n ('American Society of Hematology', 29),\n ('Scientific Societies', 29),\n ('Samara National Research University', 28),\n ('National Bureau of Economic Research', 28),\n ('Spandidos Publications', 28),\n ('Cognitive Computational Neuroscience', 28),\n ('The Electromagnetics Academy', 28),\n ('Human Kinetics', 28),\n ('Polish Information Processing Society PTI', 28),\n ('Bernoulli Society for Mathematical Statistics and Probability', 27),\n ('Sociedade Brasileira de Computacao - SB', 27),\n ('Geological Society of America', 26),\n ('RFC Editor', 26),\n ('Allen Press', 26),\n ('Canadian Center of Science and Education', 26),\n ('Science China Press., Co. Ltd.', 26),\n ('International Journal of Agricultural and Biological Engineering (IJABE)',\n  26),\n ('American Society for Clinical Investigation', 26),\n ('Canadian Aeronautics and Space Institute', 26),\n ('Universidad Internacional de La Rioja', 26),\n ('American Society for Clinical Pathology (ASCP)', 25),\n ('American Society of Nephrology (ASN)', 25),\n ('Slovenian Society for Stereology and Quantitative Image Analysis', 25),\n ('Institute of Mathematics, Polish Academy of Sciences', 24),\n ('American Marketing Association (AMA)', 24),\n ('Verlag der Technischen Universitat Graz', 24),\n ('Universitat Autonoma de Barcelona', 24),\n ('Seismological Society of America (SSA)', 23),\n ('California Digital Library (CDL)', 23),\n ('Begell House', 23),\n ('Cellule MathDoc/CEDRAM', 23),\n ('British Editorial Society of Bone & Joint Surgery', 23),\n ('Science Publishing Corporation', 23),\n ('The National Academies Press', 23),\n ('American Dairy Science Association', 22),\n ('CMA Impact Inc.', 22),\n ('Organisation for Economic Co-Operation and Development (OECD)', 21),\n ('Society for Applied Spectroscopy', 21),\n ('Cureus, Inc.', 21),\n ('Institute of Image Information and Television Engineers', 21),\n ('Kaunas University of Technology (KTU)', 20),\n ('University of West Bohemia', 20),\n ('Geological Society of London', 20),\n ('United Nations Publications', 20),\n ('Mark Allen Group', 20),\n ('Allerton Press', 20),\n ('Human Factors and Ergonomics Society', 20),\n ('National Library of Serbia', 19),\n ('Institute of Navigation', 19),\n ('International Association of Online Engineering (IAOE)', 19),\n ('Pensoft Publishers', 19),\n ('University of Waterloo', 19),\n ('HICSS Conference Office', 19),\n ('Centers for Disease Control and Prevention (CDC)', 19),\n ('WHO Press', 18),\n ('Journal of Rehabilitation Research & Development', 18),\n ('F1000 Research Ltd', 18),\n ('Canadian Mathematical Society', 18),\n ('Future Science Ltd', 18),\n ('Universitat Politecnica de Valencia', 18),\n ('The Endocrine Society', 18),\n ('The World Academy of Research in Science and Engineering', 18),\n ('Tejass Publishers', 18),\n ('Environmental Health Perspectives', 18),\n ('Co-Action Publishing', 17),\n ('Hogrefe Publishing Group', 17),\n ('Science Publishing Group', 17),\n ('Edward Elgar Publishing', 17),\n ('Grapho, LLC', 17),\n ('University of Minnesota', 17),\n ('CAD Solutions, LLC', 17),\n ('Journal of Pattern Recognition Research', 17),\n ('International Information and Engineering Technology Association', 17),\n ('University of Illinois Libraries', 17),\n ('American Society for Horticultural Science', 17),\n ('SciPy', 17),\n ('DEStech Publications', 16),\n ('Deanship of Scientific Research', 16),\n ('Royal College of Psychiatrists', 16),\n ('African Journals Online (AJOL)', 16),\n ('Portland Press Ltd.', 16),\n ('Centers for Disease Control MMWR Office', 16),\n ('International Society for Horticultural Science (ISHS)', 16),\n ('AMPCo', 16),\n ('EDAA', 16),\n ('Faculty Opinions Ltd', 16),\n ('OpenEdition', 16),\n ('American Educational Research Association (AERA)', 16),\n ('Korea Information Processing Society', 16),\n ('Sissa Medialab Srl', 16),\n ('IWA Publishing', 16),\n ('Research Publishing Services', 15),\n ('AVES YAYINCILIK A.Ş.', 15),\n ('ESRSA Publications Pvt. Ltd.', 15),\n ('University of Alberta', 15),\n ('Philosophy Documentation Center', 15),\n ('Hometrica Consulting', 15),\n ('Bioscientifica', 15),\n ('E-MED LTD', 15),\n ('Institute of Electrical Engineers of Japan (IEE Japan)', 15),\n ('BCS Learning and Development Limited', 15),\n ('American Association of Petroleum Geologists AAPG/Datapages', 15),\n ('Informa Healthcare', 15),\n ('Forschungszentrum Julich, Zentralbibliothek', 15),\n ('The Haworth Press', 15),\n ('Cartography and Geographic Information Society (CaGIS)', 15),\n ('Guilford Publications', 14),\n ('Japan Society of Mechanical Engineers', 14),\n ('The Korean Society of Medical Informatics', 14),\n ('World Bank', 14),\n ('Academy of Management', 14),\n ('University of Toronto Press Inc. (UTPress)', 14),\n ('Universitas Ahmad Dahlan', 14),\n ('American Society of Tropical Medicine and Hygiene', 14),\n ('International Journal for Research in Applied Science and Engineering Technology (IJRASET)',\n  14),\n ('Thomas Telford Ltd.', 14),\n ('New York University', 14),\n ('Botanical Society of America', 14),\n ('The Institute of Electronics Engineers of Korea', 14),\n ('Termedia Sp. z.o.o.', 14),\n ('Korean Institute of Intelligent Systems', 14),\n ('Journal of Graph Algorithms and Applications', 13),\n ('Springer Publishing Company', 13),\n ('Scholar Publishing', 13),\n ('Rinton Press', 13),\n ('Assoc. for Computational Linguistics Bulgaria', 13),\n ('Universite de Bordeaux', 13),\n ('Techno-Press', 13),\n ('ScopeMed', 13),\n ('BSI British Standards', 13),\n ('Academic Journals', 13),\n ('Lavoisier', 13),\n ('PAGEPress Publications', 13),\n ('Annals of Mathematics', 13),\n ('Japanese Society for Magnetic Resonance in Medicine', 13),\n ('FSAEIHE South Ural State University (National Research University)', 12),\n ('Vilnius Gediminas Technical University', 12),\n ('American Academy of Sleep Medicine (AASM)', 12),\n ('Science and Education Publishing Co., Ltd.', 12),\n ('Radiopaedia Australia Pty Ltd', 12),\n ('The Intelligent Networks and Systems Society', 12),\n ('IJARCS International Journal of Advanced Research in Computer Science', 12),\n ('Instituto Politecnico Nacional/Centro de Investigacion en Computacion', 12),\n ('Bellwether  Publishing', 12),\n ('EMBO', 12),\n ('Statistica Sinica (Institute of Statistical Science)', 12),\n ('IM Publications Open LLP', 12),\n ('Biodiversity Heritage Library', 12),\n ('Schweizerbart', 12),\n ('British Institute of Non-Destructive Testing (BINDT)', 12),\n ('UK-Robotics and Autonomous Systems (RAS) Network', 11),\n ('CABI Publishing', 11),\n ('ISROSET: International Scientific Research Organization for Science, Engineering and Technology',\n  11),\n ('Briefland', 11),\n ('Mathematical Association of America', 11),\n ('Open Engineering Inc', 11),\n ('Centre pour la Communication Scientifique Directe (CCSD)', 11),\n ('Physical Society of Japan', 11),\n ('International Union of Pure and Applied Chemistry (IUPAC)', 11),\n ('Resilience Alliance, Inc.', 11),\n ('The Angle Orthodontist (EH Angle Education & Research Foundation)', 11),\n ('Iowa State University', 11),\n ('Korean Society of Ultrasound in Medicine', 11),\n ('Servier International', 11),\n ('Cornell University Press', 11),\n ('Czech Technical University in Prague - Central Library', 11),\n ('RCN Publishing Ltd.', 11),\n ('Exeley, Inc.', 11),\n ('North American Cartographic Information Society', 11),\n ('Insight Society', 11),\n ('European Council for Modeling and Simulation', 11),\n ('Journal of Privacy and Confidentiality', 10),\n ('Osterreichische Akademie der Wissenschaften, Verlag', 10),\n ('Harvard University Press', 10),\n ('Maxwell Scientific Publication Corp.', 10),\n ('Accel AI Institute', 10),\n ('Jaypee Brothers Medical Publishing', 10),\n ('American Society for Cell Biology (ASCB)', 10),\n ('Linkoping University Electronic Press', 10),\n ('Oriental Scientific Publishing Company', 10),\n ('Universite Catholique de Louvain', 10),\n ('The Oceanography Society', 10),\n ('Deutscher Arzte-Verlag GmbH', 10),\n ('Health Affairs (Project Hope)', 10),\n ('eSAT Publishing House', 10),\n ('Hikari, Ltd.', 10),\n ('Alkhaer Publications', 10),\n ('Faculty of Electrical Engineering and Computing, Univ. of Zagreb', 10),\n ('Wageningen Academic Publishers', 10),\n ('Publications Office of the European Union', 10),\n ('JCDR Research and Publications', 10),\n ('GeoScienceWorld', 9),\n ('McGraw-Hill Professional', 9),\n ('American Vacuum Society', 9),\n ('International Academy Publishing (IAP)', 9),\n ('PERSEE Program', 9),\n ('Vilnius University Press', 9),\n ('PubPub', 9),\n ('Sciencedomain International', 9),\n ('Carl Hanser Verlag', 9),\n ('CNRI Acct', 9),\n ('Det Kgl. Bibliotek/Royal Danish Library', 9),\n ('WITPRESS LTD.', 9),\n ('Applied Probability Trust', 9),\n ('Universidade de Sao Paulo, Agencia USP de Gestao da Informacao Academica (AGUIA)',\n  9),\n ('American Concrete Institute', 9),\n ('American Physical Therapy Association (APTA)', 9),\n ('Societe Mathematique de France', 9),\n ('David Publishing Company', 9),\n ('Obuda University', 9),\n ('Swets & Zeitlinger Publishers', 9),\n ('Slovenian Association Informatika', 9),\n ('Inventive Research Organization', 9),\n ('International Scientific Information, Inc.', 9),\n ('Marine Technology Society', 9),\n ('Informing Science Institute', 9),\n ('Rand Corporation', 9),\n ('Neoplasia Press', 9),\n ('EMH Swiss Medical Publishers, Ltd.', 9),\n ('SciELO Agencia Nacional de Investigacion y Desarrollo (ANID)', 9),\n ('Korean Institute of Information Scientists and Engineers', 9),\n ('Penerbit UTM Press', 9),\n ('Avestia Publishing', 9),\n ('Nanyang Technological University', 9),\n ('Japan Society of Civil Engineers', 9),\n ('Journal of Human-Robot Interaction', 9),\n ('University of Michigan Library', 8),\n ('American Society for Enology and Viticulture', 8),\n ('World Scientific and Engineering Academy and Society (WSEAS)', 8),\n ('The R Foundation', 8),\n ('Universitas Ahmad Dahlan, Kampus 3', 8),\n ('Institute for Project Management Pvt. Ltd', 8),\n ('Korea Multimedia Society', 8),\n ('ASTES Journal', 8),\n ('UiT The Arctic University of Norway', 8),\n ('American Institute of Biological Sciences', 8),\n ('Japanese Society of Radiological Technology', 8),\n ('National Institute for Health and Care Research (NIHR)', 8),\n ('Pakistan Journal of Medical Sciences', 8),\n ('The Electronic Journal of Combinatorics', 8),\n ('Associacao Brasileira de Inteligencia Computacional - ABRICOM', 8),\n ('Wolfram Research, Inc.', 8),\n ('QIRT Council', 8),\n ('Sociedad Brasileira de Telecomunicacoes', 8),\n ('USDA Forest Service', 8),\n ('Verein zur Forderung des Open Access Publizierens in den Quantenwissenschaften',\n  8),\n ('Meteorological Society of Japan', 7),\n ('Earthquake Engineering Research Institute', 7),\n ('Sigma Xi', 7),\n ('American Society for Nutrition', 7),\n ('Mineralogical Society of America', 7),\n ('Akademiai Kiado Zrt.', 7),\n ('SIGMA (Symmetry, Integrability and Geometry: Methods and Application)', 7),\n ('Mathematical Institute, Tohoku University', 7),\n ('Press of International Journal of Ophthalmology (IJO Press)', 7),\n ('Japanese Society for Artificial Intelligence', 7),\n ('Theory of Computing Exchange', 7),\n ('National Taiwan University', 7),\n ('Korean Journal of Optics and Photonics', 7),\n ('International Society of Arboriculture', 7),\n ('Associazione Italiana di Telerilevamento', 7),\n ('Agora University of Oradea', 7),\n ('Universidad de Alicante Servicio de Publicaciones', 7),\n ('Louisiana State University Libraries', 7),\n ('University of South Florida Libraries', 7),\n ('Canadian Institute of Forestry', 7),\n ('Element d.o.o.', 7),\n ('WARC Limited', 7),\n ('Ess & Ess Research Publications', 7),\n ('Acoustical Society of Japan', 7),\n ('Harborside Press, LLC', 7),\n ('Science Gate Publishing PC', 7),\n ('Stichting SciPost', 7),\n ('European Centre for Disease Control and Prevention (ECDC)', 7),\n ('Defence Scientific Information and Documentation Centre', 7),\n ('The Korean Society of Gastrointestinal Endoscopy', 7),\n ('Auricle Technologies, Pvt., Ltd.', 7),\n ('Bangladesh Journals Online (JOL)', 7),\n ('Taiwan Association for Aerosol Research', 7),\n ('Association for Information Systems', 7),\n ('University Library/University of Twente', 7),\n ('Indiana University Mathematics Journal', 7),\n ('Current Science Association', 7),\n ('The Quantitative Methods for Psychology', 6),\n ('Institute for Fiscal Studies', 6),\n ('Korean Academy of Oral and Maxillofacial Radiology', 6),\n ('Daedalus Enterprises', 6),\n ('Universitatea Stefan cel Mare din Suceava', 6),\n ('Binary Information Press', 6),\n ('Field Robotics Publication Society', 6),\n ('Rocky Mountain Mathematics Consortium', 6),\n ('International Institute of Engineers', 6),\n ('Scalable Computing: Practice and Experience', 6),\n ('The Korea Academia-Industrial Cooperation Society', 6),\n ('The University of Hong Kong Libraries', 6),\n ('The Korean Institute of Electrical Engineers', 6),\n ('American Association for Clinical Chemistry (AACC)', 6),\n ('Engineering, Technology & Applied Science Research', 6),\n ('ASM International', 6),\n ('The Hong Kong University of Science and Technology Library', 6),\n ('University of Florida George A Smathers Libraries', 6),\n ('Coastal Education and Research Foundation', 6),\n ('Irish Pattern Recognition and Classification Society', 6),\n ('M. E. Sharpe Inc.', 6),\n ('American Veterinary Medical Association (AVMA)', 6),\n ('Zarqa University', 6),\n ('Frontiers in Bioscience', 6),\n ('National Research and Innovation Agency', 6),\n ('Korean Society of Magnetic Resonance in Medicine', 6),\n ('Japanese Circulation Society', 6),\n ('The Econometric Society', 6),\n ('Centre for Evaluation in Education and Science (CEON/CEES)', 6),\n ('Columbia University Press', 6),\n ('Berghahn Books', 6),\n ('International Hellenic University', 6),\n ('Institute of Mathematics, Czech Academy of Sciences', 6),\n ('Japan Society for Fuzzy Theory and Intelligent Informatics', 6),\n ('Sciedu Press', 6),\n ('Institute of Industrial Applications Engineers', 6),\n ('Education and Research in Computer Aided Architectural Design in Europe (eCAADe)',\n  6),\n ('Valley International', 6),\n ('Prof. Marin Drinov Publishing House of BAS (Bulgarian Academy of Sciences)',\n  6),\n ('American Fisheries Society', 6),\n ('CIRWOLRD', 6),\n ('Finnish Society of Forest Science', 6),\n ('Instituto Nazionale di Geofisica e Vulcanologia, INGV', 6),\n ('University of Zagreb - University Computing Centre', 6),\n ('Institute of Control, Robotics and Systems', 6),\n ('Mattioli1885', 6),\n ('AOTA Press', 6),\n ('Journal of Spatial Information Science', 6),\n ('AOSIS', 6),\n ('Associated Professional Sleep Societies (APSS)', 6),\n ('Instituto Nacional de Investigacion y Tecnologia Agraria y Alimentaria (INIA)',\n  6),\n ('The Institute for Research and Community Services (LPPM) ITB', 6),\n ('International Digital Organization for Scientific Information (IDOSI)', 6),\n ('Korean Academy of Medical Sciences', 6),\n ('National Inquiry Services Center (NISC)', 6),\n ('International Journal of Science and Research', 6),\n ('Baywood Publishing Company, Inc.', 6),\n ('International Society of Global Health', 5),\n ('EpiSmart Science Vector Ltd', 5),\n ('Springer Fachmedien Wiesbaden GmbH', 5),\n ('International Journal of Intelligent Systems and Applications in Engineering',\n  5),\n ('The Belgian Mathematical Society', 5),\n ('Totem Publisher, Inc.', 5),\n ('Regional Euro-Asian Biological Invasions Centre Oy (REABIC)', 5),\n ('Egypts Presidential Specialized Council for Education and Scientific Research',\n  5),\n ('Centro Latino Americano de Estudios en Informatica', 5),\n ('UUM Press, Universiti Utara Malaysia', 5),\n ('MedCrave Group Kft.', 5),\n ('Authorea, Inc.', 5),\n ('University of Minnesota Press', 5),\n ('SynthesisHub Advance Scientific Research', 5),\n ('Royal College of General Practitioners', 5),\n ('Korean Physical Society', 5),\n ('Ferrata Storti Foundation (Haematologica)', 5),\n ('MYU K.K.', 5),\n ('European Open Science Publishing', 5),\n ('Europa Digital & Publishing', 5),\n ('Behaviormetric Society of Japan', 5),\n ('AMSUS', 5),\n ('Society of Automotive Engineers of Japan, Inc.', 5),\n ('American Cleft Palate Association', 5),\n ('University of Wisconsin Press', 5),\n ('Institute of Electronics and Computer', 5),\n ('Entomological Society of America', 5),\n ('Universidad de Costa Rica', 5),\n ('Periodica Polytechnica Budapest University of Technology and Economics', 5),\n ('The Journal of Rheumatology', 5),\n ('Modelling  and Simulation Society of Australia and New Zealand', 5),\n ('American Society of Mammalogists (ASM)', 5),\n ('Faculty of Mechanical Engineering', 5),\n ('Society for the Experimental Analysis of Behavior', 5),\n ('University of Wyoming Libraries', 5),\n ('Juniper Publishers', 5),\n ('International Academic Press', 5),\n ('Pageant Media US', 5),\n ('International Journal of Applied Mathematics, Electronics and Computers',\n  5),\n ('Universitas Gadjah Mada', 5),\n ('Czech Academy of Agricultural Sciences', 5),\n ('Uniwersytet Jagiellonski - Wydawnictwo Uniwersytetu Jagiellonskiego', 5),\n ('University of Szeged', 5),\n ('Pan African Medical Journal', 5),\n ('Open Publishing Association', 5),\n ('Association of Technology and Science', 5),\n ('International Journal of Advance Engineering and Research Development (IJAERD)',\n  5),\n ('AACN Publishing', 5),\n ('CIC Edizioni Internazionali', 5),\n ('Royal College of Physicians', 5),\n ('International Union Against Tuberculosis and Lung Disease', 5),\n ('AI Publications', 5),\n ('Korean Neurosurgical Society', 5),\n ('The Korean Society of Pathologists and The Korean Society for Cytopathology',\n  5),\n ('The Robotics Society of Japan', 5),\n ('University of Missouri Libraries', 5),\n ('ABC Journals', 5),\n ('ICT Academy', 5),\n ('Liverpool University Press', 5),\n ('Intellect', 5),\n ('San Jose State University Library', 5),\n ('Leibniz Institute for Psychology (ZPID)', 5),\n ('Univ. of Malaya', 5),\n ('Croatian Society for Medical Biochemistry and Laboratory Medicine', 5),\n ('ORNL Environmental Sciences Division', 4),\n ('Interdisciplinary Publishing Academia', 4),\n ('Global Science and Technology Forum', 4),\n ('Equinox Publishing', 4),\n ('GN1 Sistemas e Publicacoes Ltd.', 4),\n ('Nepal Journals Online (JOL)', 4),\n ('Korean Association of Orthodontists', 4),\n ('Scientific Scholar', 4),\n ('University of California Agriculture and Natural Resources (UC ANR)', 4),\n ('The Editorial Office of Gut and Liver', 4),\n ('University Library J. C. Senckenberg', 4),\n ('American Nuclear Society', 4),\n ('Michigan Mathematical Journal', 4),\n ('CA: Journal of Cultural Analytics', 4),\n ('European Optical Society', 4),\n ('River Publishers', 4),\n ('Purdue University (bepress)', 4),\n ('The Korean Spinal Neurosurgery Society', 4),\n ('University of Massachusetts Medical School', 4),\n ('Asian Pacific Organization for Cancer Prevention', 4),\n ('Bryansk State Technical University BSTU', 4),\n ('Medical Communications Sp. z.o.o.', 4),\n ('Ital Publication', 4),\n ('International Journal of Geomate', 4),\n ('American Academy of Audiology', 4),\n ('Transcript Verlag', 4),\n ('The Korea Contents Association', 4),\n ('University of Arizona', 4),\n ('Japan Neurosurgical Society', 4),\n ('West Virginia University Libraries', 4),\n ('Adenine Press, Inc.', 4),\n ('Chinese Journal of Mechanical Engineering', 4),\n ('Technoscience Academy', 4),\n ('Audio Engineering Society', 4),\n ('Linguistic Society of America', 4),\n ('Codon Publications', 4),\n ('Weed Science Society', 4),\n ('Association of Basic Medical Sciences of FBIH', 4),\n ('Korean Association for the Study of Intestinal Diseases', 4),\n ('BioAxis DNA Research Centre', 4),\n ('Medicina Oral, S.L.', 4),\n ('Architectural Institute of Japan', 4),\n ('Radcliffe Media Media Ltd', 4),\n ('Journal of Orthopaedic & Sports Physical Therapy (JOSPT)', 4),\n ('International Society for Gerontechnology (ISG)', 4),\n ('International Scientific Research Publications MY SDN. BHD.', 4),\n ('International Research and Cooperation Association for Bio & Socio-Sciences Advancement (IRCA-BSSA)',\n  4),\n ('Edizioni Minerva Medica', 4),\n ('Engineering Sciences Press', 4),\n ('American Society of Agronomy', 4),\n ('KSI Research Inc.', 4),\n ('Korean Society of Surveying, Geodesy, Photogrammetry and Cartolography', 4),\n ('Robot Perception and Action Laboratory', 4),\n ('Hamad bin Khalifa University Press (HBKU Press)', 4),\n ('Sri Lanka Journals Online (JOL)', 4),\n ('Royal College of Surgeons of England', 4),\n ('Soil and Water Conservation Society', 4),\n ('American Society of Animal Science (ASAS)', 4),\n ('Microbiology Society', 4),\n ('Changchun Institute of Optics, Fine Mechanics and Physics, Chinese Academy of Sciences',\n  4),\n ('European Council for Computing in Construction', 4),\n ('IJSER Publishing', 4),\n ('Carleton University', 3),\n ('Kyiv Politechnic Institute', 3),\n ('Queensland University of Technology', 3),\n ('Coimbra University Press', 3),\n ('University of Babylon', 3),\n ('Agricultural Institute of Canada', 3),\n ('VSB - Technical University of Ostrava', 3),\n ('Canadian Urological Association Journal', 3),\n ('ACCENTS', 3),\n ('The Korean Astronomical Society', 3),\n ('Science and Education of the Bauman MSTU', 3),\n ('Indian Academy of Neurosciences', 3),\n ('Society for Learning Analytics Research', 3),\n ('VM Media SP. zo.o VM Group SK', 3),\n ('Fundacao Faculdade de Medicina', 3),\n ('University of Louisville', 3),\n ('Innovare Academic Sciences Pvt Ltd', 3),\n ('Society for American Archaeology', 3),\n ('MIS Quarterly', 3),\n ('Korean Neurological Association', 3),\n ('UPV/EHU Press', 3),\n ('University of Mosul', 3),\n ('Japanese Society of Breeding', 3),\n ('Dartmouth College Library Press', 3),\n ('The Japanese Association of Educational Psychology', 3),\n ('White Globe Publications', 3),\n ('Research India Publications', 3),\n ('Textile Bioengineering and Informatics Society', 3),\n ('Cogitatio', 3),\n ('i-manager Publications', 3),\n ('Internet Scientific Publishers, LLC', 3),\n ('Asia Pacific Academy of Ophthalmology', 3),\n ('Mathematical Society of Japan (Project Euclid)', 3),\n ('World Journal of Emergency Medicine', 3),\n ('Editora UNIVALI', 3),\n ('Private Company Technology Center', 3),\n ('International Journal of Engineering Technology and Management Sciences',\n  3),\n ('Knowledge E DMCC', 3),\n ('DAAAM International', 3),\n ('Society for Sedimentary Geology', 3),\n ('American Board of Family Medicine (ABFM)', 3),\n ('National Council of Teachers of Mathematics', 3),\n ('CAIRN', 3),\n ('Japanese Society of Internal Medicine', 3),\n ('International Journal of Recent Trends in Engineering and Research', 3),\n ('Department of Biomedical Imaging, University of Malaya, Malaysia', 3),\n ('Serious Games Society', 3),\n ('Marshfield Clinic Research Institute', 3),\n ('University of Illinois Press', 3),\n ('International Journal of Engineering Applied Sciences and Technology', 3),\n ('Bonfring', 3),\n ('ENGG Journals Publications', 3),\n ('Society for Pediatric Pathology (SPP)', 3),\n ('Universidad Complutense de Madrid (UCM)', 3),\n ('Australian Mathematical Publishing Association, Inc.', 3),\n ('Princeton University Press', 3),\n ('Anticancer Research USA Inc.', 3),\n ('Scientific and Academic Publishing', 3),\n ('Revista Brasileira De Cancerologia (RBC)', 3),\n ('Hetman Petro Sahaidachnyi National Army Academy', 3),\n ('American Society for Engineering Education', 3),\n ('Nomos Verlag', 3),\n ('American Society for Photobiology', 3),\n ('Oceanside Publications Inc.', 3),\n ('Touch Medical Media, Ltd.', 3),\n ('International Journal Of Advanced Research', 3),\n ('Steklov Mathematical Institute', 3),\n ('Journal of Athletic Training/NATA', 3),\n ('Salvia Medical Sciences Ltd', 3),\n ('Graduate School of Information Sciences, Tohoku University', 3),\n ('Mendel University Press', 3),\n ('IMR Press', 3),\n ('South African Medical Association NPC', 3),\n ('Research Institute for Intelligent Computer Systems', 3),\n ('Norwegian Medical Association', 3),\n ('ECTI', 3),\n ('Aquatic Mammals Journal', 3),\n ('Poultry Science Association', 3),\n ('Korean Cancer Association', 3),\n ('Smithsonian Institution', 3),\n ('University of Texas Press', 3),\n ('University of Ljubljana', 3),\n ('IBERAMIA: Sociedad Iberoamericana de Inteligencia Artificial', 3),\n ('Korean Stroke Society', 3),\n ('Penerbit UTHM', 3),\n ('Society for the Study of Reproduction', 3),\n ('Association for the Advancement of Medical Instrumentation (AAMI)', 3),\n ('Magnolia Press', 3),\n ('International Society of Endovascular Specialists', 3),\n ('LookUs Bilisim A.S.', 3),\n ('MultiMed Inc.', 3),\n ('Academy of Science of South Africa', 3),\n ('Society for the Advancement of Material and Process Engineering - SAMPE',\n  3),\n ('Common Ground Research Networks', 3),\n ('Victoria University of Wellington Library', 3),\n ('Science and Engineering Publishing Company', 3),\n ('Society of Rheology', 3),\n ('Columbia International Publishing', 3),\n ('Universidad Nacional Autonoma de Mexico', 3),\n ('SoftwareFirst, Ltd.', 3),\n ('Japanese Society for Medical and Biological Engineering', 3),\n ('Ediciones Universidad de Salamanca', 3),\n ('International Association for Bridge and Structural Engineering (IABSE)',\n  3),\n ('Kare Publishing', 3),\n ('International Building Performance Simulation Association', 3),\n ('Engineering Skill Development', 3),\n ('Manchester University Press', 3),\n ('Verlag Dr. Otto Schmidt', 3),\n ('Open Access Text Pvt, Ltd.', 3),\n ('Sociedade Brasileira de Pneumologia e Tisiologia', 3),\n ('Vandenhoeck & Ruprecht GmbH & Co, KG', 3),\n ('Diva Enterprises Private Limited', 3),\n ('Center for Transportation Studies', 3),\n ('Faculty of Computer Science, Universitas Indonesia', 3),\n ('Human Computation Institute', 3),\n ('PACIS - Panamerican Association for Computational Interdisciplinary Sciences',\n  3),\n ('Instituto Tecnologico Metropolitano (ITM)', 3),\n ('South Asia Management Association', 3),\n ('Portland State University Library', 3),\n ('Proceedings of the Asia-Pacific Advanced Network', 3),\n ('Shorenstein Center for Media, Politics, and Public Policy', 3),\n ('Federal Research Center &quot;Computer Science and Control&quot; of the Russian Academy of Sciences',\n  3),\n ('International Mountain Society (IMS) and United Nations University', 3),\n ('Robert E. Kennedy Library, Cal Poly', 3),\n ('American Society of Parasitologists', 3),\n ('SCI AND TECH UNIVERSAL INC', 3),\n ('University of Oslo Library', 3),\n ('Biomedical Informatics', 3),\n ('Royal Swedish Academy of Sciences', 3),\n ('Hematology Section, Dept. of Radiological Science and Hematology, Catholic University, Rome, Italy',\n  3),\n ('Universidad Nacional de Colombia', 3),\n ('Medical Journals Sweden AB', 3),\n ('Universitas Muhammadiyah Yogyakarta', 3),\n ('ClinMed International Library', 3),\n ('Universidade Federal do Rio Grande do Sul', 3),\n ('MONOMAX Limited Liability Company', 3),\n ('IJNC Editorial Committee', 3),\n ('Decker Medicine', 3),\n ('Chinese Center for Disease Control and Prevention', 3),\n ('Taiwanese Society of Biomedical Engineering', 3),\n ('Science International Corporation', 2),\n ('Railway Technical Research Institute', 2),\n ('Media Sphere Publishing Group', 2),\n ('ScienceOpen', 2),\n ('Sociedad Espanola de Optica', 2),\n ('International Society for Environmental Information Science (ISEIS)', 2),\n ('Universidad de Antioquia', 2),\n ('The Japanese Geotechnical Society', 2),\n ('American Society for Pharmacology & Experimental Therapeutics (ASPET)', 2),\n ('Claremont Colleges Library', 2),\n ('International Journal of Environment and Geoinformatics', 2),\n ('Growing Science', 2),\n ('New Prairie Press', 2),\n ('Opto-Electronic Advances', 2),\n ('Biomedical Research Network, LLC', 2),\n ('Institute of Mathematics and Informatics Bulgarian Academy of Sciences', 2),\n (\"Izdatel'skii dom Spektr, LLC\", 2),\n ('The Association of Faculties of Medicine of Canada', 2),\n ('Infonomics Society', 2),\n ('Excellent Publishers', 2),\n ('Universitatsverlag Gottingen', 2),\n ('Japanese Society of Applied Statistics', 2),\n ('International Journal of Modern Trends in Engineering and Research', 2),\n ('Association for Natural Language Processing', 2),\n ('Ram Arti Publishers', 2),\n ('JCFCorp SG PTE LTD', 2),\n ('Asian Spine Journal (ASJ)', 2),\n ('International Association for Educators and Researchers (IAER)', 2),\n ('Ecancer Global Foundation', 2),\n ('O.I.E (World Organisation for Animal Health)', 2),\n ('Living Reviews', 2),\n ('PHM Society', 2),\n ('ARC Publications', 2),\n ('Japan Concrete Institute', 2),\n ('Ternopil State Medical University', 2),\n ('Mathematical Research Press', 2),\n ('Advancing Science Press Limited', 2),\n ('Editions Techniques de l Ingenieur', 2),\n ('Society of Pharmaceutical Tecnocrats', 2),\n ('AEDERMACP (European Association for the Development of Renewable Energies and Power Quality)',\n  2),\n ('Balkan Journal of Electrical & Computer Engineering (BAJECE)', 2),\n ('Brill Deutschland GmbH', 2),\n ('American Association on Intellectual and Developmental Disabilities (AAIDD)',\n  2),\n ('Telos Press', 2),\n ('Aerospace Medical Association', 2),\n ('Codata', 2),\n ('Japan Society of Photogrammetry and Remote Sensing', 2),\n ('Australasian Society for Computers in Learning in Tertiary Education', 2),\n ('Institute for Cognitive Science', 2),\n ('Felipe Herrera Library (Inter-American Development Bank)', 2),\n ('The Korean Society of Fisheries and Aquatic Science', 2),\n ('Indiana University Press', 2),\n ('The Charleston Co.', 2),\n ('Society for Endocrinology', 2),\n ('Chaoyang University of Technology (IJASE)', 2),\n ('UCTEA Chamber of Surveying and Cadastre Engineers', 2),\n ('Ghent University', 2),\n ('STEP Academic Publisher', 2),\n (\"Ottawa Field-Naturalists' Club\", 2),\n ('Embry-Riddle Aeronautical University/Hunt Library', 2),\n ('Hans Publishers', 2),\n ('American Registry of Professional Animal Scientists', 2),\n ('International Journal for Modern Trends in Science and Technology (IJMTST)',\n  2),\n ('The Society of Digital Information and Wireless Communications (SDIWC)', 2),\n ('ICI Bucharest', 2),\n ('International Journal of Scientific and Research Publications (IJSRP)', 2),\n ('California Botanical Society', 2),\n ('IADIS - International Association for the Development of the Information Society',\n  2),\n ('Japan Society of Health Evaluation and Promotion', 2),\n ('Journal of Biological Methods', 2),\n ('National Institute for Occupational Safety and Health (NIOSH)/ Division of Science Integration',\n  2),\n ('The American Mosquito Control Association', 2),\n ('Horizon Research Publishing Co., Ltd.', 2),\n ('Korean Institute of Smart Media', 2),\n ('Infopro Digital Services Limited', 2),\n ('Journal of Zankoy Sulaimani - Part A', 2),\n ('The Korean Society for Aeronautical & Space Sciences', 2),\n ('Advance Academic Publisher', 2),\n ('The Southwest Respiratory and Critical Care Chronicles (SWRCCC)', 2),\n ('Yonsei University College of Medicine', 2),\n ('The Pennsylvania State University Press', 2),\n ('ECO-Vector LLC', 2),\n ('International Commission on Illumination', 2),\n ('School of Electrical Engineering and Informatics (STEI) ITB', 2),\n ('Austrian Statistical Society', 2),\n ('Cardiofront, LLC', 2),\n ('Korean Society of Plastic and Reconstructive Surgeons', 2),\n ('Bioinfo Publications', 2),\n ('ARAN Ediciones', 2),\n ('Istanbul University', 2),\n ('Japan Epidemiological Association', 2),\n ('Japan Society for Precision Engineering', 2),\n ('Wayne State University Library System', 2),\n ('Cognizant, LLC', 2),\n ('Boehlau Verlag Ges.m.b.H. & Co. KG', 2),\n ('Australian Journal of Information Systems', 2),\n ('The Industrial Research Interchange', 2),\n ('Bulent Evcevit University', 2),\n ('Institute of Aeronautics and Space', 2),\n ('Cooper Ornithological Society', 2),\n ('The Society of Instrument and Control Engineers', 2),\n ('Global Research & Development Services', 2),\n ('CMV Verlag', 2),\n ('GEOMAR Helmholtz Centre for Ocean Research Kiel', 2),\n ('Island Press', 2),\n ('The American Association of Immunologists', 2),\n ('Academic Publications', 2),\n ('Medip Academy', 2),\n ('Charles University in Prague, Karolinum Press', 2),\n ('Korea Multimedia Society - English Version Journal', 2),\n ('Web of Open Science', 2),\n ('International Display Workshops General Incorporated Association', 2),\n ('Institute of Arctic and Alpine Research (INSTAAR)', 2),\n ('Department of Computer Engineering, Faculty of Computer Science, Universitas Sriwijaya',\n  2),\n ('VDI Verlag GmbH', 2),\n ('University of Agricultural Sciences and Veterinary Medicine Cluj-Napoca',\n  2),\n ('The HCI Society of Korea', 2),\n ('American Society of Interventional Pain Physicians', 2),\n ('European Scientific Institute, ESI', 2),\n ('NeuroQuantology Journal', 2),\n ('The Korean Mathematical Society', 2),\n ('Japan Antibiotics Research Association', 2),\n ('International University of Sarajevo', 2),\n ('Nordic Council of Ministers', 2),\n ('Data Trace Publishing Company', 2),\n ('European Journal of Science and Technology', 2),\n ('Morressier', 2),\n ('Laser Institute of America', 2),\n ('University of Rhode Island', 2),\n ('Japan Society for Analytical Chemistry', 2),\n ('Botanical Research Institute of Texas', 2),\n ('Modern Language Association (MLA)', 2),\n ('Journal of Artificial Societies and Social Simulation', 2),\n ('Faculty of Engineering, Chulalongkorn University', 2),\n ('Society of American Foresters', 2),\n ('Iron and Steel Institute of Japan', 2),\n ('Journal of Mobile Technology in Medicine', 2),\n ('Russian State University for the Humanities', 2),\n ('INIST-CNRS', 2),\n ('University of Technology', 2),\n ('Wageningen University and Research', 2),\n ('Revista Argentina de Cardiologia', 2),\n ('Psychology and Neuroscience', 2),\n ('rScroll', 2),\n ('The Ohio State University Libraries', 2),\n ('Wildlife Biology', 2),\n ('American Museum of Natural History (BioOne sponsored)', 2),\n ('Italian Society of Sivilculture and Forest Ecology (SISEF)', 2),\n ('Alcohol Research Documentation, Inc.', 2),\n ('American Peanut Research and Education Society', 2),\n ('The Japanese Psychological Association', 2),\n ('Universitatsbibliothek Bamberg', 2),\n ('Scientific Journal Publishers Ltd', 2),\n ('University of Pennsylvania Press', 2),\n ('ALife Robotics Corporation Ltd.', 2),\n ('Korean Nuclear Society', 2),\n ('Izhevsk Institute of Computer Science', 2),\n ('Cleveland Clinic Journal of Medicine', 2),\n ('The Korean Orthopaedic Association', 2),\n ('Medwell Publications', 2),\n ('Instituto Metodista de Ensino Superior', 2),\n ('JVE International Ltd.', 2),\n ('Virtual Worlds Institute, Inc.', 2),\n ('Korean Neuropsychiatric Association', 2),\n ('Universidade Federal do Parana', 2),\n ('IUScholarWorks', 2),\n ('SciPress Ltd', 2),\n ('WikiJournal User Group', 2),\n ('Centro de Innovacion y Desarrollo Tecnologico en Computo', 2),\n ('Soft Computing and Intelligent Information Systems', 2),\n ('World Health Organization Regional Office for the Eastern Mediterranean (WHO/EMRO)',\n  2),\n ('Jyvaskyla University Library', 2),\n ('Editorial CSIC', 2),\n ('Lexxion Verlag', 2),\n ('Journal of Intelligent Systems: Theory and Applications, Harun TASKIN', 2),\n ('Armenian Green Publishing Co.', 2),\n ('Indospace Publications', 2),\n ('Canadian Institute of Geomatics', 2),\n ('American Water Works Association', 2),\n ('S. Hirzel Verlag', 2),\n ('Universidad Militar Nueva Granada', 2),\n ('Western Journal of Emergency Medicine', 2),\n ('ARGESIM Arbeitsgemeinschaft Simulation News', 2),\n ('Paleontological Society', 2),\n ('Polskie Naukowo-Techniczne Towarzystwo Eksploatacyjne', 2),\n ('Oncology Nursing Society (ONS)', 2),\n ('Japanese Society of Fisheries Science', 2),\n ('National Research Nuclear University MEPhI (Moscow Engineering Physics Institute)',\n  2),\n ('Health Promotion and Chronic Disease Prevention Branch (HPCDP) Public Health Agency of Canada',\n  2),\n ('International Community for Auditory Display', 2),\n ('Walden University', 2),\n ('Research Institute of Signal Processing, Japan', 2),\n ...]"
     },
     "execution_count": 17,
     "metadata": {},
     "output_type": "execute_result"
    }
   ],
   "source": [
    "a = sorted(grouped_journals.items(), key=lambda x: x[1], reverse=True)\n",
    "a"
   ],
   "metadata": {
    "collapsed": false
   }
  },
  {
   "cell_type": "code",
   "execution_count": 21,
   "outputs": [],
   "source": [
    "for publisher in grouped_journals:\n",
    "    prefixes = grouped_journal_ids[publisher]\n",
    "    for prefix in prefixes:\n",
    "        cursor.execute(\"update Papers p set p.publisher = %s where p.DOI like %s\",[publisher,prefix + \"/%\"])\n",
    "        cnx.commit()"
   ],
   "metadata": {
    "collapsed": false
   }
  },
  {
   "cell_type": "code",
   "execution_count": 18,
   "outputs": [
    {
     "data": {
      "text/plain": "['10.1109', '10.23919', '10.36227', '10.21629']"
     },
     "execution_count": 18,
     "metadata": {},
     "output_type": "execute_result"
    }
   ],
   "source": [
    "grouped_journal_ids[\"Institute of Electrical and Electronics Engineers (IEEE)\"]"
   ],
   "metadata": {
    "collapsed": false
   }
  },
  {
   "cell_type": "code",
   "execution_count": 9,
   "outputs": [],
   "source": [
    "#grouped_journal_ids['Elsevier BV']\n",
    "springer_prefix = ['10.1093']"
   ],
   "metadata": {
    "collapsed": false
   }
  },
  {
   "cell_type": "code",
   "execution_count": 10,
   "outputs": [],
   "source": [
    "for prefix in springer_prefix:\n",
    "    cursor.execute(\"update Papers p set p.publisher ='Oxford University Press (OUP)' where p.DOI like %s\",[prefix + \"/%\"])\n",
    "    cnx.commit()"
   ],
   "metadata": {
    "collapsed": false
   }
  },
  {
   "cell_type": "code",
   "execution_count": 11,
   "outputs": [],
   "source": [
    "cursor.execute(\"select distinct p.PaperID, p.DOI from Papers p, authoredBy b, Authors a where p.PaperID not like '1111%' and p.publisher = 'Oxford University Press (OUP)' and p.DOI != 'NA' and p.PaperID = b.PaperID and b.AuthoredByID not in (select a.AuthorID from affiliatedTo a) and a.AuthorID = b.AuthoredByID group by p.PaperID, p.Title, p.DOI order by p.PaperID ASC\")\n",
    "cat_papers = cursor.fetchall()"
   ],
   "metadata": {
    "collapsed": false
   }
  },
  {
   "cell_type": "code",
   "execution_count": 12,
   "outputs": [
    {
     "data": {
      "text/plain": "308"
     },
     "execution_count": 12,
     "metadata": {},
     "output_type": "execute_result"
    }
   ],
   "source": [
    "len(cat_papers)"
   ],
   "metadata": {
    "collapsed": false
   }
  },
  {
   "cell_type": "code",
   "execution_count": 14,
   "outputs": [],
   "source": [
    "crawler = Crawler()"
   ],
   "metadata": {
    "collapsed": false
   }
  },
  {
   "cell_type": "code",
   "execution_count": 15,
   "outputs": [
    {
     "name": "stdout",
     "output_type": "stream",
     "text": [
      "0\n",
      "('0d9a2297f9f611039819a3116a5d1537a739210e', '10.1093/ajcl/avac023')\n",
      "[('Mortimer Newlin Stead Sellers', '\\n')]\n",
      "[('118850940', 'C. Leiteizen'), ('92690061', 'Vladimir Il Ich Lenin')]\n",
      "continued\n",
      "continued\n",
      "---------\n",
      "('14c318e9a1ace263200b9a5306e49d1821a36681', '10.1093/PLANKT/FBS094')\n",
      "[('Hongsheng Bi', '\\n'), ('Stuart Cook', ''), ('Hao Yu', ''), ('Mark C. Benfield', ''), ('Edward D. Houde', '')]\n",
      "[('145502614', 'Stuart Cook'), ('2065007344', 'Hongsheng Bi'), ('2110751368', 'Hao Yu'), ('2587455', 'Mark Benfield'), ('93949792', 'Edward Houde')]\n",
      "inserted\n",
      "Stuart Cook: ['']\n",
      "inserted\n",
      "Hongsheng Bi: ['\\n']\n",
      "inserted\n",
      "Hao Yu: ['']\n",
      "inserted\n",
      "Mark Benfield: ['']\n",
      "inserted\n",
      "Edward Houde: ['']\n",
      "---------\n",
      "('15cec157a13dac0b87963f7d6ec358b7863c1435', '10.1093/acprof:oso/9780195327939.001.0001')\n",
      "[('Clancy Martin', ''), ('Robert C. Solomon', ''), ('Harry Frankfurt', ''), ('William Ian Miller', ''), ('Mark A. Wrathall', ''), ('David Sherman', ''), ('Kelly Oliver', ''), ('Paul Ekman', ''), ('Alan Strudler', ''), ('Thomas L. Carson', ''), ('Michael P. Lynch', ''), ('James Edwin Mahon', ''), ('David Sussman', ''), ('Amelie Rorty', ''), ('Alfred R. Mele', '')]\n",
      "[('2108606075', 'Clancy Martin')]\n",
      "inserted\n",
      "Clancy Martin: ['']\n",
      "---------\n",
      "('15eb3a6208d8a30da673166094dad443713255f5', '10.1093/mnras/sts633')\n",
      "[('Boris Häußler', '\\n'), ('Steven P. Bamford', ''), ('Marina Vika', ''), ('Alex L. Rojas', ''), ('Marco Barden', ''), ('Lee S. Kelvin', ''), ('Mehmet Alpaslan', ''), ('Aaron S. G. Robotham', ''), ('Simon P. Driver', ''), ('I. K. Baldry', ''), ('Sarah Brough', ''), ('Andrew M. Hopkins', ''), ('Jochen Liske', ''), ('Robert C. Nichol', ''), ('Cristina C. Popescu', ''), ('Richard J. Tuffs', '')]\n",
      "[('10167979', 'Ivan K Baldry'), ('102313838', 'Marina Vika'), ('102580417', 'Boris Haussler'), ('123273632', 'Sarah Brough'), ('145207473', 'Alex Rojas'), ('145940535', 'Andrew Hopkins'), ('30058007', 'Aaron S G Robotham'), ('31998503', 'Mehmet Alpaslan'), ('3297934', 'Steven Bamford'), ('3549574', 'Simon P Driver'), ('40047634', 'Cristina Carmen Popescu'), ('4090952', 'Robert C Nichol'), ('50826413', 'Marco Barden'), ('5504374', 'Lee Steven Kelvin'), ('6110598', 'Richard Tuffs'), ('6914271', 'Jochen Liske')]\n",
      "inserted\n",
      "Ivan K Baldry: ['']\n",
      "inserted\n",
      "Marina Vika: ['']\n",
      "inserted\n",
      "Boris Haussler: ['\\n']\n",
      "inserted\n",
      "Sarah Brough: ['']\n",
      "inserted\n",
      "Alex Rojas: ['']\n",
      "inserted\n",
      "Andrew Hopkins: ['']\n",
      "inserted\n",
      "Aaron S G Robotham: ['']\n",
      "inserted\n",
      "Mehmet Alpaslan: ['']\n",
      "inserted\n",
      "Steven Bamford: ['']\n",
      "inserted\n",
      "Simon P Driver: ['']\n",
      "inserted\n",
      "Cristina Carmen Popescu: ['']\n",
      "inserted\n",
      "Robert C Nichol: ['']\n",
      "inserted\n",
      "Marco Barden: ['']\n",
      "inserted\n",
      "Lee Steven Kelvin: ['']\n",
      "inserted\n",
      "Richard Tuffs: ['']\n",
      "inserted\n",
      "Jochen Liske: ['']\n",
      "---------\n",
      "('16baa630b1532c83299022ff5da098aaf838e477', '10.1093/cercor/bhm196')\n",
      "[('Hans P. Op de Beeck', ''), ('Jennifer A. Deutsch', ''), ('Wim Vanduffel', ''), ('Nancy G. Kanwisher', ''), ('James J. DiCarlo', '')]\n",
      "[('2086279636', 'Jennifer A Deutsch')]\n",
      "inserted\n",
      "Jennifer A Deutsch: ['']\n",
      "---------\n",
      "('17a5deae6cced2ce89c26fd7d06a04293e65e7b8', '10.1093/MNRAS/181.3.375')\n",
      "[('R. A. Gingold', ''), ('J. J. Monaghan', '\\n')]\n",
      "[('100615723', 'Robert Arthur Gingold'), ('102539496', 'Joe Monaghan')]\n",
      "inserted\n",
      "Robert Arthur Gingold: ['']\n",
      "inserted\n",
      "Joe Monaghan: ['\\n']\n"
     ]
    },
    {
     "ename": "KeyboardInterrupt",
     "evalue": "",
     "output_type": "error",
     "traceback": [
      "\u001B[0;31m---------------------------------------------------------------------------\u001B[0m",
      "\u001B[0;31mKeyboardInterrupt\u001B[0m                         Traceback (most recent call last)",
      "Input \u001B[0;32mIn [15]\u001B[0m, in \u001B[0;36m<cell line: 2>\u001B[0;34m()\u001B[0m\n\u001B[1;32m     91\u001B[0m         time\u001B[38;5;241m.\u001B[39msleep(\u001B[38;5;241m2\u001B[39m \u001B[38;5;241m+\u001B[39m random\u001B[38;5;241m.\u001B[39mrandom())\n\u001B[1;32m     92\u001B[0m         \u001B[38;5;28;01mcontinue\u001B[39;00m\n\u001B[0;32m---> 93\u001B[0m \u001B[43mtime\u001B[49m\u001B[38;5;241;43m.\u001B[39;49m\u001B[43msleep\u001B[49m\u001B[43m(\u001B[49m\u001B[38;5;241;43m2\u001B[39;49m\u001B[43m \u001B[49m\u001B[38;5;241;43m+\u001B[39;49m\u001B[43m \u001B[49m\u001B[43mrandom\u001B[49m\u001B[38;5;241;43m.\u001B[39;49m\u001B[43mrandom\u001B[49m\u001B[43m(\u001B[49m\u001B[43m)\u001B[49m\u001B[43m)\u001B[49m\n\u001B[1;32m     94\u001B[0m cnx\u001B[38;5;241m.\u001B[39mcommit()\n\u001B[1;32m     95\u001B[0m \u001B[38;5;28mprint\u001B[39m(\u001B[38;5;124m\"\u001B[39m\u001B[38;5;124m---------\u001B[39m\u001B[38;5;124m\"\u001B[39m)\n",
      "\u001B[0;31mKeyboardInterrupt\u001B[0m: "
     ]
    }
   ],
   "source": [
    "class Found(Exception): pass\n",
    "for idx, paper in enumerate(cat_papers):\n",
    "\n",
    "    if idx % 10 == 0:\n",
    "        print(idx)\n",
    "\n",
    "    cursor.execute(\"select distinct a.AuthorID, a.Name from Papers p,authoredBy b,Authors a where p.PaperID=%s and p.PaperID = b.PaperID and b.AuthoredByID not in (SELECT a.AuthorID from affiliatedTo a) and b.AuthoredByID = a.AuthorID\",[paper[0]])\n",
    "    authors = cursor.fetchall()\n",
    "\n",
    "    if not authors or authors[0][0] == \"0\":\n",
    "        continue\n",
    "\n",
    "\n",
    "    #author_names = [author[1] for author in authors]\n",
    "    print(paper)\n",
    "    #affiliations = crawler.spie_request(paper[1])\n",
    "    #affiliations = crawler.springer_request(paper[1], scrape=True)\n",
    "    affiliations = crawler.oxford_request(paper[1])\n",
    "    #affiliations = crawler.science_direct_request(paper[1], scrape=True)\n",
    "\n",
    "    if isinstance(affiliations, str):\n",
    "        print(\"Wrong DOI\")\n",
    "        cursor.execute(\"UPDATE Papers p SET p.publisher = %s WHERE p.PaperID=%s\",[affiliations,paper[0]])\n",
    "        cnx.commit()\n",
    "        continue\n",
    "\n",
    "    if not affiliations:\n",
    "        time.sleep(2 + random.random())\n",
    "        continue\n",
    "\n",
    "    print(affiliations)\n",
    "    print(authors)\n",
    "    for author in authors:\n",
    "        try:\n",
    "            affiliation_country = None\n",
    "            found = False\n",
    "            most_similar_index = -1\n",
    "            \"\"\"\n",
    "            author_name_tokens = author[1].lower().split()\n",
    "            author_name_tokens_rev = list(reversed(author[1].lower().split()))\n",
    "            similarity = [similar(author_name_tokens[-1],aff_auth[0].lower().split()[-1]) for aff_auth in affiliations]\n",
    "            similarity_rev = [similar(author_name_tokens_rev[-1],aff_auth[0].lower().split()[-1]) for aff_auth in affiliations]\n",
    "            most_similar_index = similarity.index(max(similarity))\n",
    "            most_similar_index_rev = similarity_rev.index(max(similarity_rev))\n",
    "\n",
    "            if similarity[most_similar_index] < 0.6:\n",
    "                if similarity_rev[most_similar_index_rev] < 0.6:\n",
    "                    print(\"continued\")\n",
    "                    continue\n",
    "                else:\n",
    "                    most_similar_index = most_similar_index_rev\n",
    "                    reversed_name = \" \".join(author_name_tokens_rev)\n",
    "                    cursor.execute(\"UPDATE Authors a SET a.Name=%s WHERE a.AuthorID=%s\", [reversed_name,author[0]])\n",
    "            \"\"\"\n",
    "            try:\n",
    "                author_name_tokens = preprocess_author_name(author[1]).split()\n",
    "                aff_authors = [preprocess_author_name(aff_auth[0]).split() for aff_auth in affiliations]\n",
    "                for author_name_token in author_name_tokens:\n",
    "                    for idx, aff_author in enumerate(aff_authors):\n",
    "                        if any(0.8 <= similar(author_name_token, aff) for aff in aff_author):\n",
    "                            most_similar_index = idx\n",
    "                            found = True\n",
    "                            raise Found\n",
    "            except Found:\n",
    "                pass\n",
    "            if not found:\n",
    "                print(\"continued\")\n",
    "                continue\n",
    "\n",
    "            print(\"inserted\")\n",
    "            all_affiliations = affiliations[most_similar_index][1].split(\";;\")\n",
    "            if len(affiliations[most_similar_index]) == 3:\n",
    "                affiliation_country = affiliations[most_similar_index][2]\n",
    "            print(f\"{author[1]}: {all_affiliations}\")\n",
    "            if not all_affiliations[0]:\n",
    "                cursor.execute(\"INSERT INTO affiliatedTo VALUES (%s,%s)\", [author[0],1])\n",
    "                continue\n",
    "            for affiliation in all_affiliations:\n",
    "                if len(affiliation) > 255:\n",
    "                    affiliation = affiliation[-254:]\n",
    "                cursor.execute(\"SELECT * FROM Affiliations a WHERE a.Name=%s\", [affiliation[:400]])\n",
    "                entry = cursor.fetchone()\n",
    "                if not entry:\n",
    "                    cursor.execute(\"INSERT INTO Affiliations (Name,Country) VALUES (%s,%s)\", [affiliation[:400], affiliation_country])\n",
    "                    lastrowid = cursor.lastrowid\n",
    "                else:\n",
    "                    lastrowid = entry[0]\n",
    "                cursor.execute(\"INSERT INTO affiliatedTo VALUES (%s,%s)\", [author[0],lastrowid])\n",
    "        except (AttributeError, mysql.connector.DatabaseError,  se.common.exceptions.WebDriverException):\n",
    "            print(\"error\")\n",
    "            time.sleep(2 + random.random())\n",
    "            continue\n",
    "    time.sleep(2 + random.random())\n",
    "    cnx.commit()\n",
    "    print(\"---------\")\n",
    "\n",
    "\n",
    "\n"
   ],
   "metadata": {
    "collapsed": false
   }
  },
  {
   "cell_type": "code",
   "execution_count": 14,
   "outputs": [],
   "source": [
    "options = se.webdriver.ChromeOptions()\n",
    "options.add_argument(\"headless\")\n",
    "options.add_argument(\n",
    "    \"user-agent=Mozilla/5.0 (Macintosh; Intel Mac OS X 10_15_5) AppleWebKit/605.1.15 (KHTML, like Gecko) Version/13.1.1 Safari/605.1.15\")\n",
    "browser = se.webdriver.Chrome(options=options)\n"
   ],
   "metadata": {
    "collapsed": false
   }
  },
  {
   "cell_type": "code",
   "execution_count": 17,
   "outputs": [
    {
     "name": "stdout",
     "output_type": "stream",
     "text": [
      "[('2055029893', 'Qing Xue')]\n",
      "07a1aabf83a48768945cee1be7dd7695515517db\n",
      "10.1109/CVPR.2004.158\n",
      "[]\n"
     ]
    },
    {
     "ename": "SyntaxError",
     "evalue": "'return' outside function (546858100.py, line 9)",
     "output_type": "error",
     "traceback": [
      "\u001B[0;36m  Input \u001B[0;32mIn [17]\u001B[0;36m\u001B[0m\n\u001B[0;31m    return\u001B[0m\n\u001B[0m    ^\u001B[0m\n\u001B[0;31mSyntaxError\u001B[0m\u001B[0;31m:\u001B[0m 'return' outside function\n"
     ]
    }
   ],
   "source": [
    "paper = cat_papers[4]\n",
    "cursor.execute(\"select distinct a.AuthorID, a.Name from Papers p,authoredBy b,Authors a where p.PaperID=%s and p.PaperID = b.PaperID and b.AuthoredByID not in (SELECT AuthorID from affiliatedTo) and b.AuthoredByID = a.AuthorID\",[paper[0]])\n",
    "authors = cursor.fetchall()\n",
    "print(authors)\n",
    "print(paper[0])\n",
    "print(paper[1])\n",
    "affiliations = scrape_request(paper[1])\n",
    "print(affiliations)\n",
    "return\n",
    "#print(affiliations)\n",
    "#print(authors)\n",
    "\n",
    "try:\n",
    "    for author in authors:\n",
    "        try:\n",
    "            similarity = [similar(author[1].lower().split()[-1],aff_auth[0].lower().split()[-1]) for aff_auth in affiliations]\n",
    "            most_similar_index = similarity.index(max(similarity))\n",
    "\n",
    "            if similarity[most_similar_index] < 0.6:\n",
    "                print(\"continued\")\n",
    "                continue\n",
    "            print(\"inserted\")\n",
    "            affiliation = affiliations[most_similar_index][1]\n",
    "            if not affiliations[most_similar_index][1]:\n",
    "                cursor.execute(\"INSERT INTO affiliatedTo VALUES (%s,%s)\", [author[0],1])\n",
    "                continue\n",
    "            cursor.execute(\"SELECT * FROM Affiliations a WHERE a.Name=%s\", [affiliation])\n",
    "            entry = cursor.fetchone()\n",
    "            if not entry:\n",
    "                cursor.execute(\"INSERT INTO Affiliations (Name) VALUES (%s)\", [affiliation[:500]])\n",
    "                lastrowid = cursor.lastrowid\n",
    "            else:\n",
    "                lastrowid = entry[0]\n",
    "            cursor.execute(\"INSERT INTO affiliatedTo VALUES (%s,%s)\", [author[0],lastrowid])\n",
    "        except AttributeError:\n",
    "            continue\n",
    "    cnx.commit()\n",
    "    print(\"---------\")\n",
    "except:\n",
    "    print(\"---------\")\n",
    "continue"
   ],
   "metadata": {
    "collapsed": false
   }
  },
  {
   "cell_type": "code",
   "execution_count": 11,
   "outputs": [],
   "source": [
    "def scrape_request(doi):\n",
    "    all_affiliations = []\n",
    "    browser.get(f\"https://doi.org/{doi}\")\n",
    "    time.sleep(1.5 + random.random())\n",
    "    browser.get(f\"{browser.current_url}/authors#authors\")\n",
    "    source = browser.page_source\n",
    "    soup = BeautifulSoup(source, 'html.parser')\n",
    "    for node in soup.find_all(\"div\", {\"class\": \"authors-accordion-container\"}):\n",
    "        all_text = node.findAll(text=True)\n",
    "        all_affiliations.append((all_text[1], parse_affiliation(all_text[7])))\n",
    "    time.sleep(1 + random.random())\n",
    "    return all_affiliations"
   ],
   "metadata": {
    "collapsed": false
   }
  },
  {
   "cell_type": "code",
   "execution_count": 21,
   "outputs": [
    {
     "name": "stdout",
     "output_type": "stream",
     "text": [
      "https://ieeexplore.ieee.org/document/1512408\n",
      "X. Otazu: The Centre de Visio per Computador, Universitat Authnòma de Barcelona, Barcelona, Spain\n",
      "M. Gonzalez-Audicana: Department of Projects and Rural Engineering, Escuela Tecnica Superior de Ingenieros Agronomos, Public University of Navarra, Pamplona, Spain\n",
      "O. Fors: Departament ďAstronomia i Meteorologia, Universitat de Barcelona, Barcelona, Spain\n",
      "J. Nunez: Departament ďAstronomia i Meteorologia, Universitat de Barcelona, Barcelona, Spain\n",
      "-----------------------------\n"
     ]
    }
   ],
   "source": [
    "\n",
    "browser.get(f\"https://doi.org/{cat_papers[1][1]}\")\n",
    "time.sleep(2)\n",
    "url = browser.current_url\n",
    "print(url)\n",
    "browser.get(f\"{url}/authors#authors\")\n",
    "source = browser.page_source\n",
    "soup = BeautifulSoup(source)\n",
    "for node in soup.find_all(\"div\", {\"class\":\"authors-accordion-container\"}):\n",
    "    all_text = node.findAll(text=True)\n",
    "    print(f\"{all_text[1]}: {all_text[7]}\")\n",
    "print(\"-----------------------------\")\n",
    "time.sleep(1.5)\n",
    "#browser.close()"
   ],
   "metadata": {
    "collapsed": false
   }
  },
  {
   "cell_type": "code",
   "execution_count": 22,
   "outputs": [
    {
     "name": "stdout",
     "output_type": "stream",
     "text": [
      "hallo\n"
     ]
    }
   ],
   "source": [],
   "metadata": {
    "collapsed": false
   }
  },
  {
   "cell_type": "code",
   "execution_count": 60,
   "outputs": [],
   "source": [
    "def parse_affiliation(affiliation):\n",
    "    if not affiliation:\n",
    "        return \"None\"\n",
    "    split_affiliation = affiliation.split(\",\")\n",
    "    if len(split_affiliation) == 1:\n",
    "        return affiliation\n",
    "    return \",\".join(split_affiliation[0:-1])"
   ],
   "metadata": {
    "collapsed": false
   }
  },
  {
   "cell_type": "code",
   "execution_count": 63,
   "outputs": [
    {
     "data": {
      "text/plain": "'Germany'"
     },
     "execution_count": 63,
     "metadata": {},
     "output_type": "execute_result"
    }
   ],
   "source": [
    "parse_affiliation(\"Germany\")"
   ],
   "metadata": {
    "collapsed": false
   }
  },
  {
   "cell_type": "code",
   "execution_count": 9,
   "outputs": [
    {
     "data": {
      "text/plain": "b'<!DOCTYPE html\\n\\tPUBLIC \"-//W3C//DTD XHTML 1.0 Transitional//EN\"\\n\\t \"http://www.w3.org/TR/xhtml1/DTD/xhtml1-transitional.dtd\">\\n<html xmlns=\"http://www.w3.org/1999/xhtml\" lang=\"en-US\" xml:lang=\"en-US\">\\n<head>\\n<title>Any ID converter</title>\\n<meta http-equiv=\"Content-Type\" content=\"text/html; charset=iso-8859-1\" />\\n</head>\\n<body bgcolor=\"#F8F8F8\">\\n<h1>Any ID converter</h1><hr /><form method=\"get\" action=\"https://www.ncbi.nlm.nih.gov/pmc/utils/idconv/v1.0/\" enctype=\"multipart/form-data\"><p><textarea name=\"ids\"  rows=\"15\" cols=\"60\"></textarea> <br /> <br /> Convert: <select name=\"idtype\" >\\n<option value=\"pmcid\">pmcid</option>\\n<option selected=\"selected\" value=\"pmid\">pmid</option>\\n<option value=\"mid\">mid</option>\\n<option value=\"doi\">doi</option>\\n</select> <br /> Output:&nbsp;&nbsp; <select name=\"format\" >\\n<option value=\"xml\">xml</option>\\n<option selected=\"selected\" value=\"html\">html</option>\\n<option value=\"json\">json</option>\\n<option value=\"csv\">csv</option>\\n</select> <br /> Show Versions:&nbsp;&nbsp; <select name=\"versions\" >\\n<option selected=\"selected\" value=\"yes\">yes</option>\\n<option value=\"no\">no</option>\\n</select> <br /> Show AIID:&nbsp;&nbsp; <select name=\"showaiid\" >\\n<option value=\"yes\">yes</option>\\n<option selected=\"selected\" value=\"no\">no</option>\\n</select> <br /> Tool:&nbsp;&nbsp; <input type=\"text\" name=\"tool\" value=\"my_tool\" size=\"50\" maxlength=\"80\" /> <br /> E-Mail:&nbsp;&nbsp; <input type=\"text\" name=\"email\" value=\"my_email@example.com\" size=\"50\" maxlength=\"80\" /></p><input type=\"submit\" name=\".submit\" value=\"Submit\" /><p><h2>Examples:</h2> <a href=\"https://www.ncbi.nlm.nih.gov/pmc/utils/idconv/v1.0/?ids=PMC14901,PMC14902&amp;tool=my_tool&amp;email=my_email@example.com\">https://www.ncbi.nlm.nih.gov/pmc/utils/idconv/v1.0/?ids=PMC14901,PMC14902&tool=my_tool&email=my_email@example.com</a> <br /> <a href=\"https://www.ncbi.nlm.nih.gov/pmc/utils/idconv/v1.0/?ids=PMC14901,PMC14902&amp;idtype=pmcid&amp;tool=my_tool&amp;email=my_email@example.com\">https://www.ncbi.nlm.nih.gov/pmc/utils/idconv/v1.0/?ids=PMC14901,PMC14902&idtype=pmcid&tool=my_tool&email=my_email@example.com</a> <br /> <a href=\"https://www.ncbi.nlm.nih.gov/pmc/utils/idconv/v1.0/?ids=10848627,10848628\">https://www.ncbi.nlm.nih.gov/pmc/utils/idconv/v1.0/?ids=10848627,10848628</a> <br /> <a href=\"https://www.ncbi.nlm.nih.gov/pmc/utils/idconv/v1.0/?ids=NIHMS334455&amp;format=json&amp;versions=no&amp;tool=my_tool&amp;email=my_email@example.com\">https://www.ncbi.nlm.nih.gov/pmc/utils/idconv/v1.0/?ids=NIHMS334455&format=json&versions=no&tool=my_tool&email=my_email@example.com</a> <br /> <a href=\"https://www.ncbi.nlm.nih.gov/pmc/utils/idconv/v1.0/?ids=PMC3283037.2&amp;showaiid=yes&amp;tool=my_tool&amp;email=my_email@example.com\">https://www.ncbi.nlm.nih.gov/pmc/utils/idconv/v1.0/?ids=PMC3283037.2&showaiid=yes&tool=my_tool&email=my_email@example.com</a> <br /> <a href=\"https://www.ncbi.nlm.nih.gov/pmc/utils/idconv/v1.0/?ids=PMC3283037.2&amp;format=csv&amp;tool=my_tool&amp;email=my_email@example.com\">https://www.ncbi.nlm.nih.gov/pmc/utils/idconv/v1.0/?ids=PMC3283037.2&format=csv&tool=my_tool&email=my_email@example.com</a> <br /> <a href=\"https://www.ncbi.nlm.nih.gov/pmc/utils/idconv/v1.0/?ids=3283037.2&amp;idtype=pmcid&amp;tool=my_tool\">https://www.ncbi.nlm.nih.gov/pmc/utils/idconv/v1.0/?ids=3283037.2&idtype=pmcid&tool=my_tool</a> <br /> <a href=\"https://www.ncbi.nlm.nih.gov/pmc/utils/idconv/v1.0/?ids=pMc3283037&amp;my_email@example.com\">https://www.ncbi.nlm.nih.gov/pmc/utils/idconv/v1.0/?ids=pMc3283037&my_email@example.com</a> <br /> <a href=\"https://www.ncbi.nlm.nih.gov/pmc/utils/idconv/v1.0/?ids=10.1130/0091-7613(1995)023%3C0004%3ARDDTLD%3E2.3.CO;2\">https://www.ncbi.nlm.nih.gov/pmc/utils/idconv/v1.0/?ids=10.1130/0091-7613(1995)023%3C0004%3ARDDTLD%3E2.3.CO;2</a> <br /></p></form>\\n</body>\\n</html>'"
     },
     "execution_count": 9,
     "metadata": {},
     "output_type": "execute_result"
    }
   ],
   "source": [
    "requests.get(\"https://www.ncbi.nlm.nih.gov/pmc/utils/idconv/v1.0/.\").content"
   ],
   "metadata": {
    "collapsed": false
   }
  },
  {
   "cell_type": "code",
   "execution_count": null,
   "outputs": [],
   "source": [
    "response = requests.get(\"http://list.didsoft.com/get?email=david.le@inovex.de&pass=m75h35&pid=http3000&showcountry=no\").content.decode(\"utf-8\")\n",
    "proxy_list = response.split(\"\\n\")"
   ],
   "metadata": {
    "collapsed": false
   }
  },
  {
   "cell_type": "code",
   "execution_count": 115,
   "outputs": [],
   "source": [
    "contrib_group = a[\"response\"][\"records\"][\"article\"][\"front\"][\"article-meta\"][\"contrib-group\"]\n",
    "all_affiliations = []\n",
    "for x in contrib_group[\"contrib\"]:\n",
    "    name = f\"{x['name']['given-names']} {x['name']['surname']}\"\n",
    "    affiliation = []\n",
    "    for aff in x[\"xref\"]:\n",
    "        if aff[\"@ref-type\"] == \"aff\":\n",
    "            ref_id = int(aff[\"@rid\"][-1])\n",
    "            affiliation.append(contrib_group[\"aff\"][ref_id-1][\"institution-wrap\"][\"institution\"][\"#text\"])\n",
    "\n",
    "    affiliations = \";\".join(affiliation)\n",
    "    all_affiliations.append((name, affiliations))\n"
   ],
   "metadata": {
    "collapsed": false
   }
  },
  {
   "cell_type": "code",
   "execution_count": 5,
   "outputs": [
    {
     "data": {
      "text/plain": "66965"
     },
     "execution_count": 5,
     "metadata": {},
     "output_type": "execute_result"
    }
   ],
   "source": [
    "cursor.execute(\"select p.PaperID, p.Title from Papers p where p.DOI is NULL\")\n",
    "all_papers = cursor.fetchall()\n",
    "len(all_papers)"
   ],
   "metadata": {
    "collapsed": false
   }
  },
  {
   "cell_type": "code",
   "execution_count": null,
   "outputs": [
    {
     "name": "stdout",
     "output_type": "stream",
     "text": [
      "0\n",
      "Acknowledgements\n",
      "Pedestrian Detection Inspired by Appearance Constancy and Shape Symmetry\n",
      "Real Time Fabric Defect Detection System on an Embedded DSP Platform\n",
      "100\n",
      "200\n"
     ]
    }
   ],
   "source": [
    "for idx,paper in enumerate(all_papers):\n",
    "    try:\n",
    "        if idx % 100 == 0:\n",
    "            print(idx)\n",
    "        cursor.execute(\"select distinct a.AuthorID, a.Name from Papers p,authoredBy b,Authors a where p.PaperID=%s and p.PaperID = b.PaperID and b.AuthoredByID = a.AuthorID\",[paper[0]])\n",
    "        authors = cursor.fetchall()\n",
    "\n",
    "        if not authors:\n",
    "            cursor.execute(\"UPDATE Papers p SET p.DOI='None' where p.PaperID=%s\",[paper[0]])\n",
    "            cnx.commit()\n",
    "            continue\n",
    "        first_name = authors[0][1].split()[-1]\n",
    "        doi = research_crawler.extract_doi(paper[1],first_name)\n",
    "        if doi:\n",
    "            cursor.execute(\"UPDATE Papers p SET p.DOI=%s where p.PaperID=%s\",[doi,paper[0]])\n",
    "        else:\n",
    "            cursor.execute(\"UPDATE Papers p SET p.DOI='NA' where p.PaperID=%s\",[paper[0]])\n",
    "        cnx.commit()\n",
    "    except:\n",
    "        print(paper[1])\n",
    "        continue"
   ],
   "metadata": {
    "collapsed": false
   }
  },
  {
   "cell_type": "code",
   "execution_count": null,
   "outputs": [],
   "source": [],
   "metadata": {
    "collapsed": false
   }
  }
 ],
 "metadata": {
  "kernelspec": {
   "display_name": "Python 3",
   "language": "python",
   "name": "python3"
  },
  "language_info": {
   "codemirror_mode": {
    "name": "ipython",
    "version": 2
   },
   "file_extension": ".py",
   "mimetype": "text/x-python",
   "name": "python",
   "nbconvert_exporter": "python",
   "pygments_lexer": "ipython2",
   "version": "2.7.6"
  }
 },
 "nbformat": 4,
 "nbformat_minor": 0
}
