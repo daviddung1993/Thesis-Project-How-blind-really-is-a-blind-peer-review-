{
 "cells": [
  {
   "cell_type": "code",
   "execution_count": 1,
   "metadata": {
    "collapsed": true
   },
   "outputs": [],
   "source": [
    "import requests\n",
    "from bs4 import BeautifulSoup\n",
    "from selenium import webdriver\n",
    "import selenium as se\n",
    "import time\n",
    "from webcrawler.researchgate import IeeeCrawler, ResearchGateCrawler\n",
    "import mysql.connector\n",
    "import textdistance\n",
    "import os"
   ]
  },
  {
   "cell_type": "code",
   "execution_count": 2,
   "outputs": [],
   "source": [
    "cnx = mysql.connector.connect(user='david', password='daviddung1993',\n",
    "                              host='127.0.0.1',\n",
    "                              database='computervision')\n",
    "cursor = cnx.cursor()"
   ],
   "metadata": {
    "collapsed": false
   }
  },
  {
   "cell_type": "code",
   "execution_count": 3,
   "outputs": [],
   "source": [
    "ieee_crawler = IeeeCrawler()\n",
    "research_crawler = ResearchGateCrawler()"
   ],
   "metadata": {
    "collapsed": false
   }
  },
  {
   "cell_type": "code",
   "execution_count": 4,
   "outputs": [
    {
     "data": {
      "text/plain": "65715"
     },
     "execution_count": 4,
     "metadata": {},
     "output_type": "execute_result"
    }
   ],
   "source": [
    "cursor.execute(\"select p.PaperID, p.Title from Papers p where p.DOI is NULL\")\n",
    "all_paper = cursor.fetchall()\n",
    "len(all_paper)"
   ],
   "metadata": {
    "collapsed": false
   }
  },
  {
   "cell_type": "code",
   "execution_count": 6,
   "outputs": [
    {
     "data": {
      "text/plain": "17246"
     },
     "execution_count": 6,
     "metadata": {},
     "output_type": "execute_result"
    }
   ],
   "source": [
    "cursor.execute(\"select distinct p.PaperID, p.Title from Papers p where p.journalName like '%ieee%'\")\n",
    "all_paper2 = cursor.fetchall()\n",
    "len(all_paper2)"
   ],
   "metadata": {
    "collapsed": false
   }
  },
  {
   "cell_type": "code",
   "execution_count": null,
   "outputs": [
    {
     "name": "stdout",
     "output_type": "stream",
     "text": [
      "0\n",
      "10\n",
      "20\n",
      "30\n",
      "40\n",
      "50\n",
      "60\n",
      "70\n",
      "80\n",
      "90\n",
      "100\n",
      "110\n",
      "120\n",
      "130\n",
      "140\n",
      "150\n",
      "160\n",
      "170\n",
      "180\n",
      "190\n",
      "200\n",
      "210\n",
      "220\n",
      "230\n",
      "240\n",
      "250\n",
      "260\n",
      "270\n",
      "280\n",
      "290\n",
      "300\n",
      "310\n",
      "320\n",
      "330\n",
      "06ecb4303b4d7b432c5cbee0341edc3ae3ada586\n",
      "340\n",
      "350\n",
      "360\n",
      "370\n",
      "0730faa8a4c6372e1d42a7b880a42edfcb32b5fe\n",
      "380\n",
      "390\n",
      "400\n",
      "410\n",
      "07993804501ae4df9fe43cf8afb009ae38fe902e\n",
      "420\n",
      "430\n",
      "440\n",
      "450\n",
      "460\n",
      "470\n",
      "480\n",
      "490\n",
      "500\n",
      "510\n",
      "520\n",
      "530\n",
      "540\n",
      "550\n",
      "560\n",
      "570\n",
      "580\n",
      "590\n",
      "600\n",
      "093869a6f8f229a6e2e9ad15cd5e666173e66456\n",
      "610\n",
      "620\n",
      "630\n",
      "640\n",
      "650\n",
      "660\n",
      "670\n",
      "680\n",
      "690\n",
      "700\n",
      "710\n",
      "720\n",
      "730\n",
      "740\n",
      "750\n",
      "760\n",
      "770\n",
      "780\n",
      "790\n",
      "800\n",
      "810\n",
      "820\n",
      "830\n",
      "840\n",
      "850\n",
      "860\n",
      "870\n",
      "880\n",
      "890\n",
      "900\n",
      "910\n",
      "920\n",
      "930\n",
      "940\n",
      "950\n",
      "960\n",
      "970\n",
      "980\n",
      "990\n",
      "1000\n",
      "1010\n",
      "1020\n",
      "1030\n",
      "1040\n",
      "1050\n",
      "1060\n",
      "0b47a063fb29d2688226a289b84120661fcdc216\n",
      "1070\n",
      "1080\n",
      "1090\n",
      "1100\n",
      "1110\n",
      "1120\n",
      "1130\n",
      "1140\n",
      "1150\n",
      "1160\n",
      "1170\n",
      "1180\n",
      "1190\n",
      "1200\n",
      "1210\n",
      "1220\n",
      "1230\n",
      "1240\n",
      "1250\n",
      "1260\n",
      "1270\n",
      "1280\n",
      "1290\n",
      "1300\n",
      "1310\n",
      "1320\n",
      "1330\n",
      "1340\n",
      "1350\n",
      "1360\n",
      "1370\n",
      "1380\n",
      "1390\n",
      "1400\n",
      "1410\n",
      "1420\n",
      "1430\n",
      "1440\n",
      "1450\n",
      "1460\n",
      "1470\n",
      "1480\n",
      "1490\n",
      "1500\n",
      "1510\n",
      "1520\n",
      "1530\n",
      "1540\n",
      "1550\n",
      "1560\n",
      "1570\n",
      "1580\n",
      "1590\n",
      "1600\n",
      "1610\n",
      "1620\n",
      "1630\n",
      "1640\n",
      "1650\n",
      "1660\n",
      "1670\n",
      "1680\n",
      "1690\n",
      "1700\n",
      "1710\n",
      "1720\n",
      "1730\n",
      "1740\n",
      "1750\n",
      "1760\n",
      "1770\n",
      "1780\n",
      "1790\n",
      "1800\n",
      "1810\n",
      "1820\n",
      "1830\n",
      "1840\n",
      "1850\n",
      "1860\n",
      "1870\n",
      "1880\n",
      "1890\n",
      "1900\n",
      "1910\n",
      "1920\n",
      "1930\n",
      "1940\n",
      "1950\n",
      "1960\n",
      "1970\n",
      "1980\n",
      "1990\n",
      "2000\n",
      "2010\n",
      "2020\n",
      "2030\n",
      "2040\n",
      "2050\n",
      "2060\n",
      "2070\n",
      "2080\n",
      "2090\n",
      "2100\n",
      "2110\n",
      "2120\n",
      "2130\n",
      "2140\n",
      "2150\n",
      "2160\n",
      "2170\n",
      "2180\n",
      "2190\n",
      "2200\n",
      "2210\n",
      "2220\n",
      "2230\n",
      "2240\n",
      "2250\n",
      "2260\n",
      "0f9e19446e027b41c58ccf3f38e878d8532662ac\n",
      "2270\n",
      "2280\n",
      "2290\n",
      "2300\n",
      "2310\n",
      "2320\n",
      "2330\n",
      "2340\n",
      "2350\n",
      "2360\n",
      "2370\n",
      "2380\n",
      "2390\n",
      "2400\n",
      "2410\n",
      "2420\n",
      "2430\n",
      "2440\n",
      "2450\n",
      "2460\n",
      "2470\n",
      "2480\n",
      "2490\n",
      "2500\n",
      "2510\n",
      "2520\n",
      "2530\n",
      "2540\n",
      "10b54c7bbf5316934d316fc13f0078547bef2b5e\n",
      "2550\n",
      "2560\n",
      "2570\n",
      "2580\n",
      "2590\n",
      "2600\n",
      "2610\n",
      "2620\n",
      "2630\n",
      "2640\n",
      "2650\n",
      "2660\n",
      "2670\n",
      "2680\n",
      "2690\n",
      "2700\n",
      "2710\n",
      "2720\n",
      "2730\n",
      "2740\n",
      "2750\n",
      "2760\n",
      "2770\n",
      "2780\n",
      "2790\n",
      "2800\n",
      "2810\n",
      "2820\n",
      "2830\n",
      "2840\n",
      "2850\n",
      "2860\n",
      "2870\n",
      "2880\n",
      "2890\n",
      "2900\n",
      "2910\n",
      "2920\n",
      "2930\n",
      "2940\n",
      "2950\n",
      "2960\n",
      "2970\n",
      "2980\n",
      "2990\n",
      "3000\n",
      "3010\n",
      "3020\n",
      "3030\n",
      "3040\n",
      "3050\n",
      "3060\n",
      "3070\n",
      "3080\n",
      "3090\n",
      "3100\n",
      "3110\n",
      "3120\n",
      "3130\n",
      "12bceaaa3cdd78c0eb038a11136755b3a359ef42\n",
      "3140\n",
      "3150\n"
     ]
    }
   ],
   "source": [
    "for idx, paper in enumerate(all_paper):\n",
    "    if idx % 10 == 0:\n",
    "        print(idx)\n",
    "    title = paper[1]\n",
    "\n",
    "    missing_affiliation = False\n",
    "\n",
    "    cursor.execute(\"select distinct a.AuthorID, a.Name from Papers p,authoredBy b,Authors a where p.PaperID=%s and p.PaperID = b.PaperID and b.AuthoredByID not in (SELECT AuthorID from affiliatedTo) and b.AuthoredByID = a.AuthorID\",[paper[0]])\n",
    "    authors = cursor.fetchall()\n",
    "\n",
    "    if not authors or authors[0][0] == \"0\":\n",
    "        continue\n",
    "\n",
    "    try:\n",
    "        first_name = authors[0][1].split()[-1]\n",
    "    except:\n",
    "        print(authors)\n",
    "        raise ValueError\n",
    "\n",
    "    #affiliations = ieee_crawler.make_request(title, first_name)\n",
    "    try:\n",
    "        affiliations, doi = research_crawler.make_request(title,first_name)\n",
    "    except:\n",
    "        print(paper[0])\n",
    "        continue\n",
    "    cursor.execute(\"UPDATE Papers p SET p.DOI=%s where p.PaperID=%s\",[doi,paper[0]])\n",
    "\n",
    "    if not affiliations:\n",
    "        continue\n",
    "\n",
    "    for author in authors:\n",
    "        try:\n",
    "            jaccard_dist = [textdistance.jaccard(author[1].lower().split(), aff_auth[0].lower().split()) for aff_auth in affiliations]\n",
    "            if max(jaccard_dist) == 0:\n",
    "                continue\n",
    "            max_similarity_index = jaccard_dist.index(max(jaccard_dist))\n",
    "\n",
    "            affiliation = affiliations[max_similarity_index][1]\n",
    "            if not affiliations[max_similarity_index][1]:\n",
    "                missing_affiliation = True\n",
    "                continue\n",
    "            cursor.execute(\"SELECT * FROM Affiliations a WHERE a.Name=%s\", [affiliation])\n",
    "            entry = cursor.fetchone()\n",
    "            if not entry:\n",
    "                cursor.execute(\"INSERT INTO Affiliations (Name) VALUES (%s)\", [affiliation[:500]])\n",
    "                lastrowid = cursor.lastrowid\n",
    "            else:\n",
    "                lastrowid = entry[0]\n",
    "            cursor.execute(\"INSERT INTO affiliatedTo VALUES (%s,%s)\", [author[0],lastrowid])\n",
    "        except AttributeError:\n",
    "            continue\n",
    "\n",
    "    #print(f\"DONE\")\n",
    "    #time.sleep(1)\n",
    "\n",
    "    cnx.commit()"
   ],
   "metadata": {
    "collapsed": false,
    "pycharm": {
     "is_executing": true
    }
   }
  },
  {
   "cell_type": "code",
   "execution_count": null,
   "outputs": [],
   "source": [
    "\"david\"[:3]"
   ],
   "metadata": {
    "collapsed": false
   }
  },
  {
   "cell_type": "code",
   "execution_count": null,
   "outputs": [],
   "source": [
    "resp = requests.get(\"https://api.crossref.org/journals?query=Pattern Recognition\").json()\n",
    "resp"
   ],
   "metadata": {
    "collapsed": false
   }
  },
  {
   "cell_type": "code",
   "execution_count": null,
   "outputs": [],
   "source": [
    "resp[\"message\"][\"items\"][2]"
   ],
   "metadata": {
    "collapsed": false
   }
  },
  {
   "cell_type": "code",
   "execution_count": null,
   "outputs": [],
   "source": [
    "soup = BeautifulSoup(requests.get(\"https://ieeexplore.ieee.org/document/9872831/authors#authors\").content, 'html.parser')"
   ],
   "metadata": {
    "collapsed": false
   }
  },
  {
   "cell_type": "code",
   "execution_count": null,
   "outputs": [],
   "source": [
    "print(soup.prettify())"
   ],
   "metadata": {
    "collapsed": false
   }
  },
  {
   "cell_type": "code",
   "execution_count": null,
   "outputs": [],
   "source": [
    "classes = []\n",
    "for element in soup.find_all(class_=True):\n",
    "    classes.extend(element[\"class\"])"
   ],
   "metadata": {
    "collapsed": false
   }
  },
  {
   "cell_type": "code",
   "execution_count": null,
   "outputs": [],
   "source": [
    "soup[\"header\"]"
   ],
   "metadata": {
    "collapsed": false
   }
  },
  {
   "cell_type": "code",
   "execution_count": null,
   "outputs": [],
   "source": [
    "options = se.webdriver.ChromeOptions()\n",
    "#options.add_argument('headless')\n",
    "options.add_argument(\n",
    "    \"user-agent=Mozilla/5.0 (Macintosh; Intel Mac OS X 10_15_5) AppleWebKit/605.1.15 (KHTML, like Gecko) Version/13.1.1 Safari/605.1.15\")\n",
    "browser = se.webdriver.Chrome(options=options)\n",
    "browser.get(\"https://ieeexplore.ieee.org/document/9872831/authors#authors\")\n",
    "source = browser.page_source"
   ],
   "metadata": {
    "collapsed": false
   }
  },
  {
   "cell_type": "code",
   "execution_count": null,
   "outputs": [],
   "source": [
    "soup = BeautifulSoup(source)"
   ],
   "metadata": {
    "collapsed": false
   }
  },
  {
   "cell_type": "code",
   "execution_count": null,
   "outputs": [],
   "source": [
    "for node in soup.find_all(\"div\", {\"class\":\"authors-accordion-container\"}):\n",
    "    #print(node.findAll(Text=True))\n",
    "    print(node.findAll(text=True))"
   ],
   "metadata": {
    "collapsed": false
   }
  },
  {
   "cell_type": "code",
   "execution_count": null,
   "outputs": [],
   "source": [
    "cursor.execute(\"select distinct a.AuthorID, a.Name from Papers p,authoredBy b,Authors a where p.PaperID=%s and p.PaperID = b.PaperID and b.AuthoredByID not in (SELECT AuthorID from affiliatedTo) and b.AuthoredByID = a.AuthorID\",[\"00388ed29b7e6882bdf66b7b963cd8231d69ec75\"])\n",
    "authors = cursor.fetchall()\n",
    "first_name = authors[0][1].split()[-1]\n",
    "affiliations = research_crawler.make_request(\"Evidence for horizontal gene transfer in Escherichia coli speciation.\",first_name)"
   ],
   "metadata": {
    "collapsed": false
   }
  },
  {
   "cell_type": "code",
   "execution_count": null,
   "outputs": [],
   "source": [
    "research_crawler.browser.quit()"
   ],
   "metadata": {
    "collapsed": false
   }
  },
  {
   "cell_type": "code",
   "execution_count": null,
   "outputs": [],
   "source": [
    "cursor.fetchall()"
   ],
   "metadata": {
    "collapsed": false
   }
  },
  {
   "cell_type": "code",
   "execution_count": null,
   "outputs": [],
   "source": [
    "cursor.close()\n",
    "cnx.close()"
   ],
   "metadata": {
    "collapsed": false
   }
  },
  {
   "cell_type": "code",
   "execution_count": null,
   "outputs": [],
   "source": [
    "textdistance.jaccard(\"optimal combinations of pattern classifiers\".split(), \"optimal combination of pattern classifiers\".split())"
   ],
   "metadata": {
    "collapsed": false
   }
  },
  {
   "cell_type": "markdown",
   "source": [],
   "metadata": {
    "collapsed": false
   }
  },
  {
   "cell_type": "code",
   "execution_count": null,
   "outputs": [],
   "source": [
    "options = se.webdriver.ChromeOptions()\n",
    "options.add_argument('headless')\n",
    "\n",
    "options.add_argument(\"user-agent=Mozilla/5.0 (Macintosh; Intel Mac OS X 10_15_5) AppleWebKit/605.1.15 (KHTML, like Gecko) Version/13.1.1 Safari/605.1.15\")\n",
    "browser = se.webdriver.Chrome(options=options)"
   ],
   "metadata": {
    "collapsed": false
   }
  },
  {
   "cell_type": "code",
   "execution_count": null,
   "outputs": [],
   "source": [
    "#url = \"https://ieeexplore.ieee.org/search/searchresult.jsp?action=search&newsearch=true&matchBoolean=true&queryText=(%22All%20Metadata%22:Automatic%20Image%20Segmentation%20by%20Dynamic%20Region%20Merging)%20AND%20(%22Authors%22:Zhang)\"\n",
    "url = \"https://www.researchgate.net/search/publication?q=machine learning\"\n",
    "\n",
    "browser.get(url)\n",
    "#time.sleep(5)\n",
    "html = browser.page_source\n",
    "soup = BeautifulSoup(html)"
   ],
   "metadata": {
    "collapsed": false
   }
  },
  {
   "cell_type": "code",
   "execution_count": null,
   "outputs": [],
   "source": [
    "titles = []\n",
    "authors = []\n",
    "publications = []\n",
    "for node in soup.find_all(\"div\", {\"class\": \"nova-legacy-v-publication-item__title\"}):\n",
    "    titles.append(''.join(node.findAll(text=True)))\n",
    "\n",
    "for node in soup.find_all(\"ul\", {\"class\": \"nova-legacy-v-publication-item__person-list\"}):\n",
    "    authors.append(node.findAll(text=True))\n",
    "\n",
    "for node in soup.find_all(\"a\", {\"class\": \"nova-legacy-e-link--theme-bare\"}):\n",
    "    publications.append(node[\"href\"])"
   ],
   "metadata": {
    "collapsed": false
   }
  },
  {
   "cell_type": "code",
   "execution_count": null,
   "outputs": [],
   "source": [
    "alla = list(zip(titles,authors))\n",
    "alla, publications"
   ],
   "metadata": {
    "collapsed": false
   }
  },
  {
   "cell_type": "code",
   "execution_count": null,
   "outputs": [],
   "source": [
    "link = f\"https://www.researchgate.net/{publications[0]}\"\n",
    "browser.get(link)\n",
    "html = browser.page_source\n",
    "soup_author = BeautifulSoup(html)"
   ],
   "metadata": {
    "collapsed": false
   }
  },
  {
   "cell_type": "code",
   "execution_count": null,
   "outputs": [],
   "source": [
    "link"
   ],
   "metadata": {
    "collapsed": false
   }
  },
  {
   "cell_type": "code",
   "execution_count": null,
   "outputs": [],
   "source": [
    "authors_new = []\n",
    "for node in soup_author.find_all(\"div\", {\"class\": \"nova-legacy-v-person-list-item__body\"}):\n",
    "    author_name = node.find_all(\"div\", {\"class\":\"nova-legacy-v-person-list-item__title\"})[0].find(text=True)\n",
    "    aff_element = node.find_all(\"li\",{\"class\",\"nova-legacy-v-person-list-item__meta-item\"})\n",
    "    if aff_element:\n",
    "        author_aff = aff_element[0].find(text=True)\n",
    "    else:\n",
    "        author_aff = \"\"\n",
    "    authors_new.append((author_name, author_aff))\n"
   ],
   "metadata": {
    "collapsed": false
   }
  },
  {
   "cell_type": "code",
   "execution_count": null,
   "outputs": [],
   "source": [
    "authors_new"
   ],
   "metadata": {
    "collapsed": false
   }
  },
  {
   "cell_type": "code",
   "execution_count": null,
   "outputs": [],
   "source": [
    "authors_new"
   ],
   "metadata": {
    "collapsed": false
   }
  },
  {
   "cell_type": "code",
   "execution_count": null,
   "outputs": [],
   "source": [
    "import random\n",
    "random.random() + 1"
   ],
   "metadata": {
    "collapsed": false
   }
  },
  {
   "cell_type": "code",
   "execution_count": null,
   "outputs": [],
   "source": [
    "jaccard_dista = [textdistance.jaccard(\"David Haeger\".lower().split(), aff_auth.lower().split()) for aff_auth in [\"David J. Fleet\", \"Hermann Wagner\", \"David J. Haeger\"]]"
   ],
   "metadata": {
    "collapsed": false
   }
  },
  {
   "cell_type": "code",
   "execution_count": null,
   "outputs": [],
   "source": [
    "jaccard_dista"
   ],
   "metadata": {
    "collapsed": false
   }
  },
  {
   "cell_type": "code",
   "execution_count": null,
   "outputs": [],
   "source": [],
   "metadata": {
    "collapsed": false
   }
  }
 ],
 "metadata": {
  "kernelspec": {
   "display_name": "Python 3",
   "language": "python",
   "name": "python3"
  },
  "language_info": {
   "codemirror_mode": {
    "name": "ipython",
    "version": 2
   },
   "file_extension": ".py",
   "mimetype": "text/x-python",
   "name": "python",
   "nbconvert_exporter": "python",
   "pygments_lexer": "ipython2",
   "version": "2.7.6"
  }
 },
 "nbformat": 4,
 "nbformat_minor": 0
}
