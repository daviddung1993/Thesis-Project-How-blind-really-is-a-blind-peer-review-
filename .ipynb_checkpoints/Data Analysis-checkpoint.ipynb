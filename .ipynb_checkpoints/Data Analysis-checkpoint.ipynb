{
 "cells": [
  {
   "cell_type": "markdown",
   "metadata": {},
   "source": [
    "## Simple Count Approach\n",
    "We assume that the most-cited author is the author them self.\n",
    "The accuracy might improve using the discriminative approach: a seldom-cited paper might give a better hint about the author\n",
    "\n",
    "### Features:\n",
    "- papers of which authors have published > 1 papers\n",
    "- aggregate and count number of authors' names\n",
    "- Discrimative: references' citation count / maybe h-index\n",
    "\n",
    "### Labels:\n",
    "- authors' name\n",
    "\n",
    "### Open Questions:\n",
    "- What does \"largest number of citations\" mean?\n",
    "\n",
    "## Characteristic Vector Classifier\n",
    "Given a depth d, we could create a characteristic vector for each paper/author, perform a graph traversal for a new input and classify it using the cosine similarity\n",
    "\n",
    "### Features:\n",
    "- depht d references' authors/papers as vectors\n",
    "- (discriminative approach e.g. referenceCount, h-index)?\n",
    "\n",
    "### Labels:\n",
    "- author\n",
    "\n",
    "## Random Walk Classifier\n",
    "Assuming that authors write about similar topics, this could motivate the Random Walk as probabilistic approach\n",
    "\n",
    "1. Repeat the following 10, 000 times:\n",
    "2. Pick a random paper r that P cites.\n",
    "3. Pick a random paper s that cites r (excluding P).\n",
    "4. Let r = s. With probability 2/3, HALT and add probability mass to each author\n",
    "of r. with probability 1/3, go to step 3.\n",
    "\n",
    "### (Distributed) Graph Neural Network\n",
    "\n",
    "### Features:\n",
    "- Vector of authors\n",
    "- Vector of papers\n",
    "- (h - index as weight?)\n",
    "\n",
    "### Labels:\n",
    "- author\n",
    "\n",
    "### General Questions:\n",
    "- Is it feasible to extract the institution/country/gender?\n",
    "\n"
   ]
  },
  {
   "cell_type": "code",
   "execution_count": 5,
   "metadata": {},
   "outputs": [],
   "source": [
    "import matplotlib.pyplot as plt\n",
    "import mysql.connector"
   ]
  },
  {
   "cell_type": "code",
   "execution_count": 6,
   "metadata": {},
   "outputs": [],
   "source": [
    "# Establish database connection\n",
    "cnx = mysql.connector.connect(user='david', password='daviddung1993',\n",
    "                              host='127.0.0.1',\n",
    "                              database='computervision')\n",
    "cursor = cnx.cursor()"
   ]
  },
  {
   "cell_type": "code",
   "execution_count": 13,
   "metadata": {},
   "outputs": [
    {
     "data": {
      "text/plain": [
       "(182791, 173788, 9003)"
      ]
     },
     "execution_count": 13,
     "metadata": {},
     "output_type": "execute_result"
    }
   ],
   "source": [
    "# Return Number of Papers\n",
    "cursor.execute(\"SELECT count(*) FROM Papers p WHERE p.Leaf = TRUE\")\n",
    "total_paper_without_references = cursor.fetchone()[0]\n",
    "cursor.execute(\"SELECT count(*) FROM Papers p WHERE p.Leaf = FALSE\")\n",
    "total_paper_with_references = cursor.fetchone()[0]\n",
    "total_paper_without_references + total_paper_with_references, total_paper_without_references, total_paper_with_references"
   ]
  },
  {
   "cell_type": "code",
   "execution_count": 16,
   "metadata": {},
   "outputs": [
    {
     "data": {
      "text/plain": [
       "8915"
      ]
     },
     "execution_count": 16,
     "metadata": {},
     "output_type": "execute_result"
    }
   ],
   "source": [
    "# Return number of Papers with atleast one reference\n",
    "cursor.execute(\"SELECT count(*) FROM Papers p WHERE p.Leaf = FALSE AND p.ReferenceCount > 0\")\n",
    "total_paper_atleast_one = cursor.fetchone()[0]\n",
    "total_paper_atleast_one"
   ]
  },
  {
   "cell_type": "code",
   "execution_count": 24,
   "metadata": {},
   "outputs": [
    {
     "data": {
      "text/plain": [
       "36.4916"
      ]
     },
     "execution_count": 24,
     "metadata": {},
     "output_type": "execute_result"
    }
   ],
   "source": [
    "cursor.execute(\"SELECT AVG(p.ReferenceCount) FROM Papers p WHERE p.Leaf = FALSE AND p.ReferenceCount > 0 \")\n",
    "float(cursor.fetchall()[0][0])"
   ]
  },
  {
   "cell_type": "code",
   "execution_count": 56,
   "metadata": {},
   "outputs": [
    {
     "data": {
      "text/plain": [
       "[<matplotlib.lines.Line2D at 0x7f90dd33ebc0>]"
      ]
     },
     "execution_count": 56,
     "metadata": {},
     "output_type": "execute_result"
    },
    {
     "data": {
      "image/png": "[encoded data removed]",
      "text/plain": [
       "<Figure size 432x288 with 1 Axes>"
      ]
     },
     "metadata": {
      "needs_background": "light"
     },
     "output_type": "display_data"
    }
   ],
   "source": [
    "cursor.execute(\"SELECT p.Pub_Year,COUNT(*)  FROM Papers p  GROUP BY p.Pub_Year\")\n",
    "year_distribution = cursor.fetchall()\n",
    "year_distribution_sorted = sorted(year_distribution, key=lambda tup: tup[1])\n",
    "year = []\n",
    "year_amount = []\n",
    "for el in year_distribution_sorted:\n",
    "    if el[0]:\n",
    "        if 1900 < el[0] < 2022:\n",
    "            year.append(el[0])\n",
    "            year_amount.append(el[1])\n",
    "plt.plot(sorted(year), year_amount)"
   ]
  },
  {
   "cell_type": "code",
   "execution_count": 64,
   "metadata": {},
   "outputs": [
    {
     "data": {
      "text/plain": [
       "(array([59., 22.,  8.,  5.,  4.,  5.,  2.,  0.,  2.,  2.,  4.,  0.,  0.,\n",
       "         3.,  0.,  2.,  1.,  1.,  2.,  1.,  0.,  1.,  1.,  1.,  0.,  2.,\n",
       "         0.,  0.,  0.,  1.,  1.,  0.,  0.,  1.,  0.,  0.,  2.,  1.,  0.,\n",
       "         0.,  1.,  0.,  0.,  0.,  0.,  0.,  0.,  2.,  0.,  0.,  1.,  0.,\n",
       "         1.,  0.,  0.,  0.,  2.,  0.,  1.,  1.,  0.,  0.,  0.,  0.,  1.,\n",
       "         2.,  0.,  0.,  0.,  0.,  1.,  0.,  0.,  1.,  0.,  0.,  0.,  1.,\n",
       "         0.,  0.,  2.,  0.,  0.,  0.,  1.,  0.,  0.,  0.,  0.,  1.,  0.,\n",
       "         0.,  0.,  0.,  0.,  0.,  0.,  1.,  1.,  0.,  0.,  0.,  0.,  0.,\n",
       "         1.,  0.,  0.,  0.,  1.,  0.,  0.,  0.,  0.,  0.,  1.,  0.,  0.,\n",
       "         0.,  0.,  1.,  1.,  1.,  1.,  0.,  0.,  0.,  0.,  1.,  0.,  1.,\n",
       "         0.,  1.,  0.,  0.,  0.,  0.,  1.,  0.,  0.,  1.,  0.,  0.,  0.,\n",
       "         0.,  4.,  0.,  3.,  1.,  0.,  0.,  0.,  2.,  0.,  1.,  3.,  1.,\n",
       "         1.,  2.,  0.,  1.,  2.,  3.,  2.,  1.,  0.,  0.,  0.,  0.,  1.,\n",
       "         0.,  1.,  0.,  0.,  0.,  0.,  0.,  0.,  0.,  0.,  0.,  0.,  0.,\n",
       "         0.,  0.,  0.,  0.,  0.,  0.,  0.,  0.,  0.,  0.,  0.,  0.,  0.]),\n",
       " array([  1,   2,   3,   4,   5,   6,   7,   8,   9,  10,  11,  12,  13,\n",
       "         14,  15,  16,  17,  18,  19,  20,  21,  22,  23,  24,  25,  26,\n",
       "         27,  28,  29,  30,  31,  32,  33,  34,  35,  36,  37,  38,  39,\n",
       "         40,  41,  42,  43,  44,  45,  46,  47,  48,  49,  50,  51,  52,\n",
       "         53,  54,  55,  56,  57,  58,  59,  60,  61,  62,  63,  64,  65,\n",
       "         66,  67,  68,  69,  70,  71,  72,  73,  74,  75,  76,  77,  78,\n",
       "         79,  80,  81,  82,  83,  84,  85,  86,  87,  88,  89,  90,  91,\n",
       "         92,  93,  94,  95,  96,  97,  98,  99, 100, 101, 102, 103, 104,\n",
       "        105, 106, 107, 108, 109, 110, 112, 113, 115, 116, 117, 118, 119,\n",
       "        120, 121, 122, 123, 124, 125, 126, 127, 128, 130, 131, 132, 133,\n",
       "        134, 135, 136, 137, 138, 139, 140, 141, 142, 143, 144, 145, 146,\n",
       "        147, 148, 152, 154, 164, 165, 167, 168, 169, 171, 172, 174, 178,\n",
       "        181, 185, 188, 190, 191, 192, 195, 200, 204, 205, 206, 207, 210,\n",
       "        215, 217, 223, 224, 225, 226, 228, 234, 235, 244, 250, 261, 268,\n",
       "        271, 273, 277, 278, 280, 282, 283, 297, 300, 312, 330, 343, 426,\n",
       "        647]),\n",
       " <BarContainer object of 195 artists>)"
      ]
     },
     "execution_count": 64,
     "metadata": {},
     "output_type": "execute_result"
    },
    {
     "data": {
      "image/png": "[encoded data removed]",
      "text/plain": [
       "<Figure size 432x288 with 1 Axes>"
      ]
     },
     "metadata": {
      "needs_background": "light"
     },
     "output_type": "display_data"
    }
   ],
   "source": [
    "cursor.execute(\"SELECT p.ReferenceCount,COUNT(*) FROM Papers p WHERE p.ReferenceCount > 0 AND p.Leaf = FALSE GROUP BY p.ReferenceCount\")\n",
    "ref_distribution = cursor.fetchall()\n",
    "ref_distribution_sorted = sorted(ref_distribution, key=lambda tup: tup[1])\n",
    "ref = []\n",
    "ref_amount = []\n",
    "for el in ref_distribution_sorted:\n",
    "    if el[0]:\n",
    "        if el[0] < 1400:\n",
    "            ref.append(el[0])\n",
    "            ref_amount.append(el[1])\n",
    "plt.hist(ref_amount, sorted(ref))"
   ]
  },
  {
   "cell_type": "code",
   "execution_count": null,
   "metadata": {},
   "outputs": [],
   "source": []
  }
 ],
 "metadata": {
  "kernelspec": {
   "display_name": "Python 3 (ipykernel)",
   "language": "python",
   "name": "python3"
  },
  "language_info": {
   "codemirror_mode": {
    "name": "ipython",
    "version": 3
   },
   "file_extension": ".py",
   "mimetype": "text/x-python",
   "name": "python",
   "nbconvert_exporter": "python",
   "pygments_lexer": "ipython3",
   "version": "3.10.6"
  }
 },
 "nbformat": 4,
 "nbformat_minor": 1
}
